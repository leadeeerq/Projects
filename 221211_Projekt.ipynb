{
  "nbformat": 4,
  "nbformat_minor": 0,
  "metadata": {
    "colab": {
      "provenance": [],
      "mount_file_id": "1kX7eK4N8FhhCQnn5NkCU5VD05FTa2P4m",
      "authorship_tag": "ABX9TyO/3yCUuco6OA84WirMRYXV",
      "include_colab_link": true
    },
    "kernelspec": {
      "name": "python3",
      "display_name": "Python 3"
    },
    "language_info": {
      "name": "python"
    }
  },
  "cells": [
    {
      "cell_type": "markdown",
      "metadata": {
        "id": "view-in-github",
        "colab_type": "text"
      },
      "source": [
        "<a href=\"https://colab.research.google.com/github/leadeeerq/Projects/blob/main/221211_Projekt.ipynb\" target=\"_parent\"><img src=\"https://colab.research.google.com/assets/colab-badge.svg\" alt=\"Open In Colab\"/></a>"
      ]
    },
    {
      "cell_type": "markdown",
      "source": [
        "---\n",
        "Sentiment analysis of the Top 50 rap songs over last years\n",
        "\n",
        "\n",
        "---\n",
        "\n"
      ],
      "metadata": {
        "id": "7fMFMyKhcTw_"
      }
    },
    {
      "cell_type": "markdown",
      "source": [
        "![image.png](data:image/png;base64,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)"
      ],
      "metadata": {
        "id": "4h5aIWOrlZlT"
      }
    },
    {
      "cell_type": "markdown",
      "source": [
        "Zmiany 07.12.2022\n",
        "* rozdzielenie funkcji scraping na scraping_to_dict (obsolete) i scraping_to_list, aby nie zagnieżdżać słownika: rok: artrysta: tytuł -> rok: artysta tytuł\n",
        "* scraping z google - działa, ale należy rozszerzyć wynik (kliknięcie \"pełny tekst\")\n",
        "* policzona częstotliwość występowania słów w dict_2013\n",
        "---\n",
        "- naprawić stop_words (głównie apostrofy)\n",
        "- pełny tekst piosenek z google - OK\n",
        "- do chmury słów wybrać tylko rzeczowniki i ew. czasowniki!\n",
        "\n",
        "Zmiany 08.12.2022\n",
        "* Import selenium do kliknięcia na przycisk \"Full lyrics\" (jeśl występuje) - edycja funkcji scraping_google (z warunkiem na wystąpienie przycisku)\n",
        "\n",
        "Zmiany 11.12.2022\n",
        "* Scrapowanie googla przez PyCharm - dict zapisany jako pickle, który należy zaimporować do colaba"
      ],
      "metadata": {
        "id": "KA-dRwh_y0Iq"
      }
    },
    {
      "cell_type": "markdown",
      "source": [
        "#Libraries"
      ],
      "metadata": {
        "id": "xxlKAD2RcZj0"
      }
    },
    {
      "cell_type": "code",
      "execution_count": 151,
      "metadata": {
        "id": "B0TKCwh9cMtN"
      },
      "outputs": [],
      "source": [
        "from bs4 import BeautifulSoup as bs\n",
        "import requests\n",
        "import pickle\n",
        "import nltk\n",
        "from nltk.tokenize import word_tokenize\n",
        "from nltk.stem import WordNetLemmatizer\n",
        "from nltk.corpus import stopwords\n",
        "import numpy as np\n",
        "from PIL import Image\n",
        "import matplotlib.pyplot as plt\n",
        "from wordcloud import WordCloud, STOPWORDS\n",
        "from textblob import TextBlob, Word\n",
        "import time"
      ]
    },
    {
      "cell_type": "code",
      "source": [
        "nltk.download('wordnet')\n",
        "nltk.download('stopwords')\n",
        "nltk.download('punkt')\n",
        "nltk.download('omw-1.4')\n",
        "nltk.download('averaged_perceptron_tagger')\n",
        "nltk.download('brown')"
      ],
      "metadata": {
        "id": "3jMGdqkJw7_Q"
      },
      "execution_count": null,
      "outputs": []
    },
    {
      "cell_type": "markdown",
      "source": [
        "#Scraping the billboard"
      ],
      "metadata": {
        "id": "dwyMihICcz1b"
      }
    },
    {
      "cell_type": "markdown",
      "source": [
        "##Loading the webpage (2013)"
      ],
      "metadata": {
        "id": "NI9kRgtpc89x"
      }
    },
    {
      "cell_type": "code",
      "source": [
        "r = requests.get('https://www.billboard.com/charts/year-end/2013/hot-rap-songs/')"
      ],
      "metadata": {
        "id": "Sy4ZLpoTc1so"
      },
      "execution_count": 52,
      "outputs": []
    },
    {
      "cell_type": "markdown",
      "source": [
        "##Converting to the beautiful soup object"
      ],
      "metadata": {
        "id": "-s2rHMVMc_es"
      }
    },
    {
      "cell_type": "code",
      "source": [
        "soup = bs(r.content, 'html.parser')"
      ],
      "metadata": {
        "id": "dkApJbaldDb9"
      },
      "execution_count": 53,
      "outputs": []
    },
    {
      "cell_type": "markdown",
      "source": [
        "##Printing out the HTML code"
      ],
      "metadata": {
        "id": "nv_382GYdGDe"
      }
    },
    {
      "cell_type": "code",
      "source": [
        "contents = soup.prettify()\n",
        "print(contents[:100])"
      ],
      "metadata": {
        "colab": {
          "base_uri": "https://localhost:8080/"
        },
        "id": "yt219hl2dFYy",
        "outputId": "eb620122-ee41-43f1-f4ce-f08744439862"
      },
      "execution_count": 54,
      "outputs": [
        {
          "output_type": "stream",
          "name": "stdout",
          "text": [
            "<!DOCTYPE html>\n",
            "<!--[if IE 6]>\n",
            "<html id=\"ie6\" lang=\"en-US\">\n",
            "<![endif]-->\n",
            "<!--[if IE 7]>\n",
            "<html id=\"ie\n"
          ]
        }
      ]
    },
    {
      "cell_type": "markdown",
      "source": [
        "##Finding the tags"
      ],
      "metadata": {
        "id": "XzF0my6PdWXM"
      }
    },
    {
      "cell_type": "markdown",
      "source": [
        "![image.png](data:image/png;base64,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)"
      ],
      "metadata": {
        "id": "1nExsl49dqf5"
      }
    },
    {
      "cell_type": "markdown",
      "source": [
        "##Titles of the songs"
      ],
      "metadata": {
        "id": "kvCHtlAZeQ-Z"
      }
    },
    {
      "cell_type": "code",
      "source": [
        "titles = []\n",
        "\n",
        "for h3_tag in soup.find_all('h3')[:50]:\n",
        "    titles.append(h3_tag.get_text(' ', strip = True))\n",
        "    # print(h3_tag.get_text(' ', strip = True)) "
      ],
      "metadata": {
        "id": "QvxWEH3DdYIE"
      },
      "execution_count": 78,
      "outputs": []
    },
    {
      "cell_type": "code",
      "source": [
        "titles[:3]"
      ],
      "metadata": {
        "colab": {
          "base_uri": "https://localhost:8080/"
        },
        "id": "VDrDZH4lennZ",
        "outputId": "9bf4c15f-9ea3-4883-c2e6-03de76a48ed3"
      },
      "execution_count": 69,
      "outputs": [
        {
          "output_type": "execute_result",
          "data": {
            "text/plain": [
              "['Thrift Shop', \"Can't Hold Us\", 'Holy Grail']"
            ]
          },
          "metadata": {},
          "execution_count": 69
        }
      ]
    },
    {
      "cell_type": "markdown",
      "source": [
        "##Artists"
      ],
      "metadata": {
        "id": "Uy_InXO5gu1W"
      }
    },
    {
      "cell_type": "code",
      "source": [
        "artists = []\n",
        "\n",
        "div_tag = soup.find('div', {'class': 'chart-results-list // u-padding-b-250'})\n",
        "for li_tag in div_tag.find_all('li', {'class': 'lrv-u-width-100p'}):\n",
        "  for span_tag in li_tag.find_all('span'):\n",
        "    artists.append(span_tag.get_text(' ', strip = True))\n",
        "    # print(span_tag.get_text(' ', strip = True))"
      ],
      "metadata": {
        "id": "YvMbjohrgyav"
      },
      "execution_count": 79,
      "outputs": []
    },
    {
      "cell_type": "code",
      "source": [
        "artists[:3]"
      ],
      "metadata": {
        "colab": {
          "base_uri": "https://localhost:8080/"
        },
        "id": "vuZBT-pgkhuY",
        "outputId": "35d7af67-929d-4d0b-cf7f-ec6a4cc2c627"
      },
      "execution_count": 70,
      "outputs": [
        {
          "output_type": "execute_result",
          "data": {
            "text/plain": [
              "['Macklemore & Ryan Lewis Featuring Wanz',\n",
              " 'Macklemore & Ryan Lewis Featuring Ray Dalton',\n",
              " 'Jay Z Featuring Justin Timberlake']"
            ]
          },
          "metadata": {},
          "execution_count": 70
        }
      ]
    },
    {
      "cell_type": "markdown",
      "source": [
        "##Dict of artists and their songs"
      ],
      "metadata": {
        "id": "MH8lHah9kq4z"
      }
    },
    {
      "cell_type": "code",
      "source": [
        "songs_2013 = {}\n",
        "\n",
        "for artist in artists:\n",
        "  for song in titles:\n",
        "    songs_2013[artist] = song\n",
        "    # titles.remove(song)\n",
        "    # break"
      ],
      "metadata": {
        "id": "iVOG_E-bkuZM"
      },
      "execution_count": 80,
      "outputs": []
    },
    {
      "cell_type": "code",
      "source": [
        "list(songs_2013.items())[:3]"
      ],
      "metadata": {
        "colab": {
          "base_uri": "https://localhost:8080/"
        },
        "id": "EJFp_mWhe1cY",
        "outputId": "e4b43cc7-0b8d-4eb1-821e-3dc7cd8a5c19"
      },
      "execution_count": 85,
      "outputs": [
        {
          "output_type": "execute_result",
          "data": {
            "text/plain": [
              "[('Macklemore & Ryan Lewis Featuring Wanz', 'Pop That'),\n",
              " ('Macklemore & Ryan Lewis Featuring Ray Dalton', 'Pop That'),\n",
              " ('Jay Z Featuring Justin Timberlake', 'Pop That')]"
            ]
          },
          "metadata": {},
          "execution_count": 85
        }
      ]
    },
    {
      "cell_type": "markdown",
      "source": [
        "#Scraping function"
      ],
      "metadata": {
        "id": "dEdz2LVgl8Qk"
      }
    },
    {
      "cell_type": "markdown",
      "source": [
        "##Definition of the function"
      ],
      "metadata": {
        "id": "JGe0IA0pnNQN"
      }
    },
    {
      "cell_type": "code",
      "source": [
        "def scraping_to_dict(url):\n",
        "  r = requests.get(url)\n",
        "  soup = bs(r.content)\n",
        "\n",
        "  titles = []\n",
        "  artists = []\n",
        "  songs_dict = {}\n",
        "\n",
        "  for h3_tag in soup.find_all('h3')[:50]:\n",
        "    titles.append(h3_tag.get_text(' ', strip = True))\n",
        "\n",
        "  div_tag = soup.find('div', {'class': 'chart-results-list // u-padding-b-250'})\n",
        "  for li_tag in div_tag.find_all('li', {'class': 'lrv-u-width-100p'}):\n",
        "    for span_tag in li_tag.find_all('span'):\n",
        "      artists.append(span_tag.get_text(' ', strip = True))\n",
        "\n",
        "  for artist in artists:\n",
        "    for song in titles:\n",
        "      songs_dict[artist] = song\n",
        "      titles.remove(song)\n",
        "      break\n",
        "\n",
        "  return songs_dict"
      ],
      "metadata": {
        "id": "0VIRFpAal-Eo"
      },
      "execution_count": 86,
      "outputs": []
    },
    {
      "cell_type": "code",
      "source": [
        "def scraping_to_list(url):\n",
        "  r = requests.get(url)\n",
        "  soup = bs(r.content)\n",
        "\n",
        "  titles = []\n",
        "  artists = []\n",
        "  songs_list = []\n",
        "\n",
        "  #Titles\n",
        "  for h3_tag in soup.find_all('h3')[:50]:\n",
        "    titles.append(h3_tag.get_text(' ', strip = True))\n",
        "\n",
        "  #Artists\n",
        "  div_tag = soup.find('div', {'class': 'chart-results-list // u-padding-b-250'})\n",
        "  for li_tag in div_tag.find_all('li', {'class': 'lrv-u-width-100p'}):\n",
        "    for span_tag in li_tag.find_all('span'):\n",
        "      artists.append(span_tag.get_text(' ', strip = True))\n",
        "\n",
        "  songs_list = [x + ' ' + y for x, y in zip(artists, titles)]\n",
        "\n",
        "  return songs_list"
      ],
      "metadata": {
        "id": "cy9QTUKNzJvj"
      },
      "execution_count": 87,
      "outputs": []
    },
    {
      "cell_type": "code",
      "source": [
        "# songs_2014 = scraping_to_list('https://www.billboard.com/charts/year-end/2014/hot-rap-songs/')\n",
        "# songs_2014"
      ],
      "metadata": {
        "id": "0ZWuTHGx1Zrh"
      },
      "execution_count": null,
      "outputs": []
    },
    {
      "cell_type": "markdown",
      "source": [
        "##List of urls"
      ],
      "metadata": {
        "id": "srmvppLCnQkb"
      }
    },
    {
      "cell_type": "code",
      "source": [
        "years = list(range(2013, 2023, 1))\n",
        "\n",
        "base_url = 'https://www.billboard.com/charts/year-end/' #+year + end_url\n",
        "end_url = '/hot-rap-songs/'\n",
        "\n",
        "list_of_urls = []\n",
        "\n",
        "for year in years:\n",
        "  url = str(base_url + str(year) + end_url)\n",
        "  list_of_urls.append(url)"
      ],
      "metadata": {
        "id": "0XC4LVSInR_d"
      },
      "execution_count": 88,
      "outputs": []
    },
    {
      "cell_type": "code",
      "source": [
        "list_of_urls"
      ],
      "metadata": {
        "colab": {
          "base_uri": "https://localhost:8080/"
        },
        "id": "pvmQuaxnn4HU",
        "outputId": "5ec2e6f4-08c6-443b-8e32-0d83e9d00c24"
      },
      "execution_count": 89,
      "outputs": [
        {
          "output_type": "execute_result",
          "data": {
            "text/plain": [
              "['https://www.billboard.com/charts/year-end/2013/hot-rap-songs/',\n",
              " 'https://www.billboard.com/charts/year-end/2014/hot-rap-songs/',\n",
              " 'https://www.billboard.com/charts/year-end/2015/hot-rap-songs/',\n",
              " 'https://www.billboard.com/charts/year-end/2016/hot-rap-songs/',\n",
              " 'https://www.billboard.com/charts/year-end/2017/hot-rap-songs/',\n",
              " 'https://www.billboard.com/charts/year-end/2018/hot-rap-songs/',\n",
              " 'https://www.billboard.com/charts/year-end/2019/hot-rap-songs/',\n",
              " 'https://www.billboard.com/charts/year-end/2020/hot-rap-songs/',\n",
              " 'https://www.billboard.com/charts/year-end/2021/hot-rap-songs/',\n",
              " 'https://www.billboard.com/charts/year-end/2022/hot-rap-songs/']"
            ]
          },
          "metadata": {},
          "execution_count": 89
        }
      ]
    },
    {
      "cell_type": "markdown",
      "source": [
        "##Dict of songs of the last 9 years"
      ],
      "metadata": {
        "id": "5yrqV0ansgWl"
      }
    },
    {
      "cell_type": "code",
      "source": [
        "dict_of_years = {}\n",
        "\n",
        "for i in range(len(list_of_urls)):\n",
        "  for year in years:\n",
        "    dict_of_years[year] = scraping_to_dict(list_of_urls[i])\n",
        "    # dict_of_years[year] = scraping_to_list(list_of_urls[i])"
      ],
      "metadata": {
        "id": "dPkRHQ7cnDUF"
      },
      "execution_count": 90,
      "outputs": []
    },
    {
      "cell_type": "code",
      "source": [
        "songs_dict = {}\n",
        "songs = {}\n",
        "\n",
        "for year in years:\n",
        "    songs_dict[year] = scraping_to_dict(list_of_urls[year - 2013])\n",
        "    songs[year] = scraping_to_list(list_of_urls[year - 2013])"
      ],
      "metadata": {
        "id": "AYovGSaO3iof"
      },
      "execution_count": 112,
      "outputs": []
    },
    {
      "cell_type": "code",
      "source": [
        "list(songs.items())[-1]"
      ],
      "metadata": {
        "id": "2MsmiGW7sKcl",
        "colab": {
          "base_uri": "https://localhost:8080/"
        },
        "outputId": "8b696cd6-0ec6-4b64-c72f-98daf1d6a58f"
      },
      "execution_count": 113,
      "outputs": [
        {
          "output_type": "execute_result",
          "data": {
            "text/plain": [
              "(2022,\n",
              " ['Jack Harlow First Class',\n",
              "  'Future Featuring Drake & Tems Wait For U',\n",
              "  'Latto Big Energy',\n",
              "  'Kodak Black Super Gremlin',\n",
              "  'Lil Nas X & Jack Harlow Industry Baby',\n",
              "  'Drake Featuring 21 Savage Jimmy Cooks',\n",
              "  'Doja Cat Vegas',\n",
              "  'Lil Baby In A Minute',\n",
              "  'Gunna & Future Featuring Young Thug Pushin P',\n",
              "  'Megan Thee Stallion & Dua Lipa Sweetest Pie',\n",
              "  'Nicki Minaj Super Freaky Girl',\n",
              "  'Drake Featuring 21 Savage & Project Pat Knife Talk',\n",
              "  'Drake Featuring Future & Young Thug Way 2 Sexy',\n",
              "  'Lil Durk Featuring Morgan Wallen Broadway Girls',\n",
              "  'Lil Durk Featuring Gunna What Happened To Virgil',\n",
              "  'Future Puffin On Zootiez',\n",
              "  'Drake Featuring Lil Baby Girls Want Girls',\n",
              "  'JNR CHOI & Sam Tompkins To The Moon!',\n",
              "  'Drake Sticky',\n",
              "  'Nardo Wick Featuring G Herbo, Lil Durk & 21 Savage Who Want Smoke??',\n",
              "  'Yung Gravy Betty (Get Money)',\n",
              "  'Post Malone Featuring Roddy Ricch Cooped Up',\n",
              "  \"Hitkidd & GloRilla F.N.F. (Let's Go)\",\n",
              "  'DJ Khaled Featuring Drake & Lil Baby Staying Alive',\n",
              "  'SleazyWorld Go Featuring Lil Baby Sleazy Flow',\n",
              "  'Lil Baby Right On',\n",
              "  'Doja Cat Get Into It (Yuh)',\n",
              "  'Rod Wave By Your Side',\n",
              "  'Nicki Minaj X Lil Baby Do We Have A Problem?',\n",
              "  'Cardi B, Ye & Lil Durk Hot Shit',\n",
              "  'Kendrick Lamar & Kodak Black Silent Hill',\n",
              "  'Tyga X Doja Cat Freaky Deaky',\n",
              "  'Nardo Wick, Lil Baby & Future Me Or Sum',\n",
              "  'Lil Durk Ahhh Ha',\n",
              "  'Gunna Featuring Drake P Power',\n",
              "  'Jack Harlow Nail Tech',\n",
              "  'Moneybagg Yo Scorpio',\n",
              "  'GloRilla & Cardi B Tomorrow 2',\n",
              "  'Quavo & Takeoff Hotel Lobby (Unc And Phew)',\n",
              "  'Gunna & Future Too Easy',\n",
              "  'Kendrick Lamar N95',\n",
              "  'Gucci Mane Featuring Lil Durk Rumors',\n",
              "  'Blxst & Tyga Featuring Ty Dolla $ign Chosen',\n",
              "  'Nardo Wick Dah Dah DahDah',\n",
              "  'Russ Featuring Ktlyn Handsomer',\n",
              "  'Juice WRLD Already Dead',\n",
              "  'Baby Keem & Kendrick Lamar Family Ties',\n",
              "  'Rod Wave Alone',\n",
              "  'Megan Thee Stallion Plan B',\n",
              "  'Armani White Billie Eilish.'])"
            ]
          },
          "metadata": {},
          "execution_count": 113
        }
      ]
    },
    {
      "cell_type": "markdown",
      "source": [
        "##Saving a dict with the pickle"
      ],
      "metadata": {
        "id": "P9RaDNmc4Qk3"
      }
    },
    {
      "cell_type": "code",
      "source": [
        "def to_pickle(file, filename):\n",
        "  base_url = '/content/drive/MyDrive/Projekty/PROJEKT/'\n",
        "  with open (base_url+filename, 'wb') as handle:\n",
        "    pickle.dump(file, handle, protocol = pickle.HIGHEST_PROTOCOL)"
      ],
      "metadata": {
        "id": "DAURyA9S5K_6"
      },
      "execution_count": 100,
      "outputs": []
    },
    {
      "cell_type": "code",
      "source": [
        "#Pickling the dict where key is the year and value is the list with songs\n",
        "to_pickle(songs, 'songs.pickle')"
      ],
      "metadata": {
        "id": "EKAw3RSf5fBV"
      },
      "execution_count": 114,
      "outputs": []
    },
    {
      "cell_type": "code",
      "source": [
        "#Pickling the dict where key is the year and value is the dict with artist:song\n",
        "# to_pickle(songs_dict, 'songs_dict.pickle')"
      ],
      "metadata": {
        "id": "pzGVsTsQ8OZh"
      },
      "execution_count": null,
      "outputs": []
    },
    {
      "cell_type": "code",
      "source": [
        "with open('/content/drive/MyDrive/Projekty/PROJEKT/songs.pickle', 'rb') as handle:\n",
        "  songs = pickle.load(handle)"
      ],
      "metadata": {
        "id": "3cb9hwRA46yO"
      },
      "execution_count": 115,
      "outputs": []
    },
    {
      "cell_type": "markdown",
      "source": [
        "#Handling a specific year"
      ],
      "metadata": {
        "id": "1XcYgY1IujLc"
      }
    },
    {
      "cell_type": "code",
      "source": [
        "#Show songs from year 2013\n",
        "songs[2022]"
      ],
      "metadata": {
        "colab": {
          "base_uri": "https://localhost:8080/"
        },
        "id": "vdwaGbcJuG_W",
        "outputId": "a861ae1a-87fc-4b80-db2f-1f5a8418632d"
      },
      "execution_count": 116,
      "outputs": [
        {
          "output_type": "execute_result",
          "data": {
            "text/plain": [
              "['Jack Harlow First Class',\n",
              " 'Future Featuring Drake & Tems Wait For U',\n",
              " 'Latto Big Energy',\n",
              " 'Kodak Black Super Gremlin',\n",
              " 'Lil Nas X & Jack Harlow Industry Baby',\n",
              " 'Drake Featuring 21 Savage Jimmy Cooks',\n",
              " 'Doja Cat Vegas',\n",
              " 'Lil Baby In A Minute',\n",
              " 'Gunna & Future Featuring Young Thug Pushin P',\n",
              " 'Megan Thee Stallion & Dua Lipa Sweetest Pie',\n",
              " 'Nicki Minaj Super Freaky Girl',\n",
              " 'Drake Featuring 21 Savage & Project Pat Knife Talk',\n",
              " 'Drake Featuring Future & Young Thug Way 2 Sexy',\n",
              " 'Lil Durk Featuring Morgan Wallen Broadway Girls',\n",
              " 'Lil Durk Featuring Gunna What Happened To Virgil',\n",
              " 'Future Puffin On Zootiez',\n",
              " 'Drake Featuring Lil Baby Girls Want Girls',\n",
              " 'JNR CHOI & Sam Tompkins To The Moon!',\n",
              " 'Drake Sticky',\n",
              " 'Nardo Wick Featuring G Herbo, Lil Durk & 21 Savage Who Want Smoke??',\n",
              " 'Yung Gravy Betty (Get Money)',\n",
              " 'Post Malone Featuring Roddy Ricch Cooped Up',\n",
              " \"Hitkidd & GloRilla F.N.F. (Let's Go)\",\n",
              " 'DJ Khaled Featuring Drake & Lil Baby Staying Alive',\n",
              " 'SleazyWorld Go Featuring Lil Baby Sleazy Flow',\n",
              " 'Lil Baby Right On',\n",
              " 'Doja Cat Get Into It (Yuh)',\n",
              " 'Rod Wave By Your Side',\n",
              " 'Nicki Minaj X Lil Baby Do We Have A Problem?',\n",
              " 'Cardi B, Ye & Lil Durk Hot Shit',\n",
              " 'Kendrick Lamar & Kodak Black Silent Hill',\n",
              " 'Tyga X Doja Cat Freaky Deaky',\n",
              " 'Nardo Wick, Lil Baby & Future Me Or Sum',\n",
              " 'Lil Durk Ahhh Ha',\n",
              " 'Gunna Featuring Drake P Power',\n",
              " 'Jack Harlow Nail Tech',\n",
              " 'Moneybagg Yo Scorpio',\n",
              " 'GloRilla & Cardi B Tomorrow 2',\n",
              " 'Quavo & Takeoff Hotel Lobby (Unc And Phew)',\n",
              " 'Gunna & Future Too Easy',\n",
              " 'Kendrick Lamar N95',\n",
              " 'Gucci Mane Featuring Lil Durk Rumors',\n",
              " 'Blxst & Tyga Featuring Ty Dolla $ign Chosen',\n",
              " 'Nardo Wick Dah Dah DahDah',\n",
              " 'Russ Featuring Ktlyn Handsomer',\n",
              " 'Juice WRLD Already Dead',\n",
              " 'Baby Keem & Kendrick Lamar Family Ties',\n",
              " 'Rod Wave Alone',\n",
              " 'Megan Thee Stallion Plan B',\n",
              " 'Armani White Billie Eilish.']"
            ]
          },
          "metadata": {},
          "execution_count": 116
        }
      ]
    },
    {
      "cell_type": "code",
      "source": [
        "print(len(songs[2022]))"
      ],
      "metadata": {
        "colab": {
          "base_uri": "https://localhost:8080/"
        },
        "id": "UFXu6pa52z_w",
        "outputId": "1ba1951e-6774-4c41-b92d-5c49e26bd841"
      },
      "execution_count": 117,
      "outputs": [
        {
          "output_type": "stream",
          "name": "stdout",
          "text": [
            "50\n"
          ]
        }
      ]
    },
    {
      "cell_type": "code",
      "source": [
        "#Dict_dict_of_years\n",
        "# first_song = list(dict_dict_of_years[2013].items())[0]\n",
        "\n",
        "#Dict_list_of_years\n",
        "first_song = songs[2022][0]\n",
        "first_song"
      ],
      "metadata": {
        "colab": {
          "base_uri": "https://localhost:8080/",
          "height": 35
        },
        "id": "oimtkk81uegg",
        "outputId": "f6d750bc-aaf7-474f-8000-da3daedc66c7"
      },
      "execution_count": 118,
      "outputs": [
        {
          "output_type": "execute_result",
          "data": {
            "text/plain": [
              "'Jack Harlow First Class'"
            ],
            "application/vnd.google.colaboratory.intrinsic+json": {
              "type": "string"
            }
          },
          "metadata": {},
          "execution_count": 118
        }
      ]
    },
    {
      "cell_type": "code",
      "source": [
        "#Necessary if dict_dict_of_years was used\n",
        "# def tuple_to_str(row):\n",
        "#   str = ' '.join(row)\n",
        "#   return str\n",
        "\n",
        "# first_song = tuple_to_str(first_song)\n",
        "# first_song"
      ],
      "metadata": {
        "id": "m8hlIdu7vHJH"
      },
      "execution_count": null,
      "outputs": []
    },
    {
      "cell_type": "markdown",
      "source": [
        "###Exporting songs list to a pickle file to process it with PyCharm"
      ],
      "metadata": {
        "id": "sH6Ad5QLlLmk"
      }
    },
    {
      "cell_type": "code",
      "source": [
        "to_pickle(songs[2013], 'songs_2013.pickle')"
      ],
      "metadata": {
        "id": "EJ94Jwy9ljB4"
      },
      "execution_count": 119,
      "outputs": []
    },
    {
      "cell_type": "code",
      "source": [
        "for year in years:\n",
        "  to_pickle(songs[year], f'songs_{year}.pickle')"
      ],
      "metadata": {
        "id": "JMOu7ki9hXvC"
      },
      "execution_count": 120,
      "outputs": []
    },
    {
      "cell_type": "markdown",
      "source": [
        "##Lyrics from google - need to unwind entire lyrics :("
      ],
      "metadata": {
        "id": "xaCnZ84pv7TF"
      }
    },
    {
      "cell_type": "code",
      "source": [
        "def scraping_google(text):\n",
        "  base_url = 'https://google.com/search?q='\n",
        "  url = base_url + str(text) + 'lyrics'\n",
        "  # url = text\n",
        "  # http://myhttpheader.com #to get the header, mine is for opera\n",
        "  headers = {\n",
        "      'User-agent':\n",
        "      'Mozilla/5.0 (Windows NT 10.0; Win64; x64) AppleWebKit/537.36 (KHTML, like Gecko) Chrome/107.0.0.0 Safari/537.36 OPR/93.0.0.0'\n",
        "  }\n",
        "  r = requests.get(url, headers = headers)\n",
        "  soup = bs(r.content)\n",
        "  div_tags = soup.find_all('div', {'class': 'xaAUmb'})\n",
        "  lyrics = []\n",
        "\n",
        "  for div_tag in div_tags:\n",
        "    lyrics.append(div_tag.get_text(' ', strip = True))\n",
        "\n",
        "  # print(lyrics) #for debugging\n",
        "  return(lyrics)"
      ],
      "metadata": {
        "id": "Bzf5tUHLwAB6"
      },
      "execution_count": 121,
      "outputs": []
    },
    {
      "cell_type": "code",
      "source": [
        "print(songs[2013][5])"
      ],
      "metadata": {
        "colab": {
          "base_uri": "https://localhost:8080/"
        },
        "id": "RGZFZEZzc0L4",
        "outputId": "d0402dcf-4813-471f-ed3d-450bd2862d3c"
      },
      "execution_count": 122,
      "outputs": [
        {
          "output_type": "stream",
          "name": "stdout",
          "text": [
            "A$AP Rocky Featuring Drake, 2 Chainz & Kendrick Lamar F**kin Problems\n"
          ]
        }
      ]
    },
    {
      "cell_type": "code",
      "source": [
        "scraping_google(songs[2013][5])"
      ],
      "metadata": {
        "colab": {
          "base_uri": "https://localhost:8080/"
        },
        "id": "hjIAIR4Nxx4W",
        "outputId": "d9e4e0af-23d5-4dbf-e765-7e39938bf3d4"
      },
      "execution_count": 123,
      "outputs": [
        {
          "output_type": "execute_result",
          "data": {
            "text/plain": [
              "[\"I love bad bitches that's my fuckin problem And yeah I like to fuck I got a fuckin problem I love bad bitches that's my fuckin problem And yeah I like to fuck I got a fuckin problem … Full lyrics\"]"
            ]
          },
          "metadata": {},
          "execution_count": 123
        }
      ]
    },
    {
      "cell_type": "markdown",
      "source": [
        "##Dict of year of 2013 with lyrics"
      ],
      "metadata": {
        "id": "b8EHA0dmEFCg"
      }
    },
    {
      "cell_type": "code",
      "source": [
        "dict_2013 = {}\n",
        "keys = songs[2013]\n",
        "\n",
        "for i in range(len(songs[2013])):\n",
        "  dict_2013[keys[i]] = scraping_google(songs[2013][i])"
      ],
      "metadata": {
        "id": "_HafsXEnCaP-"
      },
      "execution_count": 124,
      "outputs": []
    },
    {
      "cell_type": "code",
      "source": [
        "to_pickle(dict_2013, 'dict_2013.pickle')"
      ],
      "metadata": {
        "id": "vFxVEc_ixMDL"
      },
      "execution_count": null,
      "outputs": []
    },
    {
      "cell_type": "code",
      "source": [
        "dict_2013"
      ],
      "metadata": {
        "id": "alMzuo7s-_at"
      },
      "execution_count": null,
      "outputs": []
    },
    {
      "cell_type": "markdown",
      "source": [
        "#Natural Language Processing"
      ],
      "metadata": {
        "id": "i4ARxnzQG_DK"
      }
    },
    {
      "cell_type": "markdown",
      "source": [
        "---\n",
        "\n",
        "##Loading the pickle created with PyCharm (dict of songs) to combine all lyrics in one list\n",
        "---"
      ],
      "metadata": {
        "id": "9jFKeIuPzErZ"
      }
    },
    {
      "cell_type": "code",
      "source": [
        "with open('/content/drive/MyDrive/Projekty/PROJEKT/PyCharm_songs_2013.pickle', 'rb') as handle:\n",
        "  songs_2013 = pickle.load(handle)"
      ],
      "metadata": {
        "id": "xqn6wUU5y_il"
      },
      "execution_count": 130,
      "outputs": []
    },
    {
      "cell_type": "code",
      "source": [
        "list(songs_2013.values())"
      ],
      "metadata": {
        "id": "RXBz2WoCIGmb"
      },
      "execution_count": null,
      "outputs": []
    },
    {
      "cell_type": "code",
      "source": [
        "list_of_words_2013 = ''.join(str(list(songs_2013.values())))\n",
        "list_of_words_2013"
      ],
      "metadata": {
        "id": "Po0OmTthHB6T"
      },
      "execution_count": null,
      "outputs": []
    },
    {
      "cell_type": "markdown",
      "source": [
        "##Removing special characters"
      ],
      "metadata": {
        "id": "j_S_Q0VEJtMl"
      }
    },
    {
      "cell_type": "code",
      "source": [
        "#Removing characters: [],\"\\ etc.\n",
        "list_of_words_2013 = list_of_words_2013.translate({ord(i): None for i in '[],\".\\\\()!?…'})\n",
        "list_of_words_2013 = list_of_words_2013.replace(\"'\", \"\",)\n",
        "list_of_words_2013 = list_of_words_2013.replace(\"Coś się nie udało Spróbuj jeszcze raz Przetłumacz na: polski\", \" \")"
      ],
      "metadata": {
        "id": "8sKnWI8RIg8b"
      },
      "execution_count": 138,
      "outputs": []
    },
    {
      "cell_type": "markdown",
      "source": [
        "##Uppercase to lowercase"
      ],
      "metadata": {
        "id": "RtJjdMbVPoNe"
      }
    },
    {
      "cell_type": "code",
      "source": [
        "list_of_words_2013 = list_of_words_2013.lower()"
      ],
      "metadata": {
        "id": "mM0Xf8H6PqNE"
      },
      "execution_count": 141,
      "outputs": []
    },
    {
      "cell_type": "markdown",
      "source": [
        "##Removing stopwords"
      ],
      "metadata": {
        "id": "AUK254ebJrKe"
      }
    },
    {
      "cell_type": "code",
      "source": [
        "stop_words = STOPWORDS #Removing unnecessary words\n",
        "stop_words.update([\"you'd\", \"i'd\", \"'ll\", \"'til\", \"'s\", \"ca n't\", \"n't\", \"'m\", \"'re\", \"y'all\"])\n",
        "\n",
        "print(stop_words)"
      ],
      "metadata": {
        "id": "CYKvhU9uJs0b",
        "colab": {
          "base_uri": "https://localhost:8080/"
        },
        "outputId": "196f481d-a3f3-4293-b9bb-0620c0f2a82c"
      },
      "execution_count": 142,
      "outputs": [
        {
          "output_type": "stream",
          "name": "stdout",
          "text": [
            "{'because', 'from', 'those', 'there', 'few', 'further', 'until', 'against', 'does', 'itself', 'we', 'after', \"there's\", 'between', 'each', 'have', 'whom', \"she'd\", \"didn't\", 'no', 'why', 'your', \"when's\", 'through', 'our', 'can', \"he'll\", 'hence', 'too', \"he'd\", 'during', \"she's\", 'also', 'with', 'its', 'all', 'that', 'you', 'them', 'it', 'since', 'like', \"they'll\", 'yours', \"can't\", 'therefore', 'which', 'off', \"mustn't\", \"isn't\", 'than', 'however', \"who's\", 'such', 'by', 'into', 'she', 'under', \"couldn't\", 'am', \"she'll\", 'ourselves', 'her', \"where's\", 'do', 'most', \"they've\", 'r', 'ought', 'only', \"we'd\", 'being', 'had', \"wouldn't\", 'should', 'myself', 'as', \"ca n't\", 'here', \"i'd\", \"that's\", \"doesn't\", \"'re\", 'my', 'about', 'for', \"we're\", 'were', 'up', \"we'll\", 'yourself', 'same', 'herself', 'would', 'so', 'did', 'while', \"why's\", 'how', \"let's\", 'cannot', 'otherwise', 'i', 'where', 'both', 'then', \"they're\", \"here's\", \"shouldn't\", 'if', 'is', \"'m\", \"he's\", 'this', 'other', 'an', 'are', 'com', 'ours', 'yourselves', 'some', 'to', \"you'll\", \"you've\", 'below', 'theirs', 'their', 'doing', \"it's\", \"you're\", 'more', 'has', 'own', \"you'd\", 'what', 'again', 'him', 'these', 'k', \"y'all\", 'very', 'me', \"i've\", 'in', 'themselves', \"'til\", \"hadn't\", \"don't\", 'get', \"what's\", 'be', 'down', 'the', 'over', 'a', \"how's\", 'www', 'above', \"i'm\", \"weren't\", 'when', \"'ll\", 'else', 'been', 'out', 'not', 'his', \"they'd\", \"'s\", 'he', 'was', 'before', 'any', 'ever', 'having', 'once', 'himself', 'could', 'who', 'nor', 'and', 'they', \"shan't\", \"wasn't\", 'at', 'but', \"we've\", 'hers', \"hasn't\", 'of', \"n't\", \"won't\", \"haven't\", 'http', 'or', 'shall', 'just', \"i'll\", 'on', \"aren't\"}\n"
          ]
        }
      ]
    },
    {
      "cell_type": "code",
      "source": [
        "words = word_tokenize(list_of_words_2013)\n",
        "stripped_words = []\n",
        "for word in words:\n",
        "  if word not in stop_words:\n",
        "    stripped_words.append(word)\n",
        "\n",
        "print(\" \".join(stripped_words))\n",
        "\n",
        "stripped_words_str = \" \".join(stripped_words)"
      ],
      "metadata": {
        "id": "UXCIl1QsKLmn",
        "colab": {
          "base_uri": "https://localhost:8080/"
        },
        "outputId": "e9f60d8f-360d-43c8-a991-a6e22e54fce8"
      },
      "execution_count": 143,
      "outputs": [
        {
          "output_type": "stream",
          "name": "stdout",
          "text": [
            "hey macklemore go thrift shopping bada bada bada doo da bada bada bada doo da bada bada bada doo da bada bada bada doo da oh oh bada bada bada doo da bada bada bada doo da ow im gon na pop tags got twenty dollars pocket im hunting looking come-up fucking awesome nah walk club got big cock im pumped bought shit thrift shop oh ice fringe damn frosty people damn thats cold ass honkey rollin hella deep headin mezzanine dressed pink cept gator shoes green draped leopard mink girls standin next probably shoulda washed smells kellys sheets piss shit ninety-nine cents bag coppin washin bout go compliments passin moccasins someone elses walkin bummy grungy fuck man stuntin flossin savin money im hella happy thats bargain bitch ima take grandpas style ima take grandpas style real ask grandpa hand-me-downs thank velour jumpsuit house slippers dookie brown leather jacket found diggin broken keyboard bought broken keyboard bought skeet blanket bought kneeboard hello hello ace man mellow john wayne aint got nothing fringe game hell take pro wings make cool sell sneaker heads aw got velcros im gon na pop tags got twenty dollars pocket im hunting looking come-up fucking awesome im gon na pop tags got twenty dollars pocket im hunting looking come-up fucking awesome know rockin wolf noggin knowin wearin fur fox skin im digging im digging im searching right luggage one mans trash thats another mans come thank grandad donating plaid button-up shirt cause right now im stuntin im goodwill find bins im im sucker searchin section mens grammy aunty momma mammy ill take flannel zebra jammies second-hand rock motherfucker built-in onesie socks motherfucker hit party stop motherfucker oh gucci thats hella tight im yo thats fifty dollars t-shirt limited edition lets simple addition fifty dollars t-shirt thats ignorant bitch shit call getting swindled pimped shit call getting tricked business shirts hella dope one six people club hella dont peep game come take look telescope trying girls brand hella wont hella wont im gon na pop tags got twenty dollars pocket im hunting looking come-up fucking awesome wear grandads clothes look incredible im big ass coat thrift shop road wear grandads clothes damn right look incredible oh cmon man im big ass coat big ass coat thrift shop road lets go im gon na pop tags got twenty dollars pocket im hunting looking come-up fucking awesome grandmas coat ay ay ay good see come lets go yeah lets go hahaha alright alright okay uh alright okay alright okay return mack em isnt lookin better way bed instead gettin internet checkin hit thrift-shop pimp strut walkin little bit humble little bit cautious somewhere rocky cosby sweater game nope nope yall cant copy yup bad moonwalkin party posses broadway way grown music shed skin put bones everything record yet im let stage light go shine got bob barker suit game plinko style money stay craft stick around pounds pass torch put town trust i-n-d-e-p-e-n-d-e-n-t shit hustlin chasing dreams 14 four-track bussin halfway cross city back pack fat cat crushin labels now cant tell nothin hey hey hey give people spread across country hey hey hey oh labels now cant tell nothin hey hey hey give people spread across country hey hey hey oh go back moment tonight night well fight til put hands ceiling cant hold us ceiling cant hold us go back moment tonight night well fight til put hands ceiling cant hold us ceiling cant hold us now kick thank yeah im damn grateful grew really wanting gold fronts thats wu-tang raised yall cant stop go hard got 808 heart beat im eating beat gave little speed great white shark shark week raw time go im gone deuces goodbye ive got world see girl wan na see rome caesarll make believer nah never throne validation comes giving back people now sing song goes raise hands party hey hey hey came live life nobody watching hey hey hey oh got city right behind fall got hey hey hey learn failure gain humility hey hey hey keep marching said go back moment tonight night well fight til put hands ceiling cant hold us ceiling cant hold us go back moment tonight night well fight til put hands ceiling cant hold us ceiling cant hold us put hands put hands whoa-oh-oh-oh whoa-oh-oh-oh whoa-oh-oh-oh lets go na na na na na na-na na hey people say na na na na na na-na na hey people say na na na na na na-na na oh-oh-oh-oh people say na na na na na na-na na mack-le-e-e-e-e-more go back moment tonight night well fight til put hands ceiling cant hold us ceiling cant hold us go back moment tonight night well fight til put hands ceiling cant hold us ceiling cant hold us youd take clothes back id let youd steal food right mouth id watch eat still dont know love much oh curse name spite put shame hang laundry streets dirty clean give fame still dont know dont know love much yeah baby amazing im maze cant crack code one day youre screaming love loud next day youre cold one day youre one day youre one day care youre unfair sipping cup til runneth holy grail uh blue told remind niggas uh fuck shit yall talkin im nigga uh caught lights cameras uh look shit hammer uh goddammit bright lights enticing look tyson money one night thirty mill one fight soon money blows pigeons take flight fuck fame keep cheatin took back fool twice thats bad cant even blame nough make wan na murder mama please bail know nobody blame kurt cobain uh entertainers stupid contagious know entertainers baby amazing im maze cant crack code one day youre screaming love loud next day youre cold one day youre one day youre one day care youre unfair sipping cup til runneth holy grail now got tattoos body psycho bitches lobby got haters paper photo shoots paparazzi cant even take daughter walk see em corner store feel im cornered enough enough im calling fuck im kidding though im getting high sittin low sliding big body curtains window fame hurt chain worse think back asked person deal nigga deal shit aint work light work camera snapping eyes hurt niggas dying back birthed fuck iris irs hell high horse got shit niggas die dry mad take good bad dont throw baby bath water youre still alive still nigga nigga survived still getting bigger nigga living life vanilla wafers villa illest nigga alive michael jackson thriller baby amazing im maze cant crack code one day youre screaming love loud next day youre cold one day youre one day youre one day care youre unfair sipping cup til runneth holy grail air lungs whenever need take blade right heart watch bleeding still dont know dont know love much yeah play game spite drive insane got tattooed sleeve forever ink guess whose name still dont know love much yeah baby amazing im maze cant crack code one day youre screaming love loud next day youre cold one day youre one day youre one day care youre unfair sipping cup til runneth holy grail dont know started zombie track started bottom now started bottom now whole team fuckin started bottom now started bottom now whole team nigga started bottom now started bottom now whole team nigga started bottom now started bottom now whole team fuckin done kept real jump living mama house wed argue every month nigga tryna workin night traffic way home uncle calling ya gave keys told bring right back nigga think funny goes now im road half million show started bottom now started bottom now whole team fuckin started bottom now started bottom now whole team nigga started bottom now started bottom now whole team fuckin started bottom now started bottom now whole team nigga boys tell stories bout man say never struggled wasnt hungry yeah doubt nigga turn boy man aint really much hear thats poppin without us nigga want credit due ima worry bout give fuck nigga reminder wear every single chain even im house cause started bottom now started bottom now whole team fuckin started bottom now started bottom now whole team nigga new niggas nigga dont feel fuck fake friend real friends dont much explainin story stay never changed new niggas nigga dont feel fuck fake friend real friends dont much explainin story stay money fame cause started bottom now started bottom now whole team fuckin started bottom now started bottom now whole team nigga started bottom now started bottom now whole team nigga started bottom now started bottom now whole team nigga love bad bitches thats fuckin problem yeah fuck got fuckin problem love bad bitches thats fuckin problem yeah fuck got fuckin problem love bad bitches thats fuckin problem yeah fuck got fuckin problem finding somebody real fuckin problem bring ya girls crib maybe solve hold bitches simmer takin hella long bitch give now make thing pop semi nine oh baby raw shimmy shimmy ya huh asap never met motherfucker fresh motherfuckers wan na dress put chrome dome make sweat keith cause im nigga nigga nigga figure getting figures fuckin bitches rollin swishers bitches bought niggas getting bent liquor love licorice let lick say money make nigga act nigger-ish least nigga nigga rich fuckin broads fuckin bored turn dyke bitch fuckin boys beast love bad bitches thats fuckin problem yeah fuck got fuckin problem love bad bitches thats fuckin problem yeah fuck got fuckin problem love bad bitches thats fuckin problem yeah fuck got fuckin problem finding somebody real fuckin problem bring ya girls crib maybe solve know love beat make think niggas youve leading make think rappers ive feeding got feeling thats dudes speakin oh word aint heard album sleepin print lyrics fucking read-along aint fucking sing-along unless brought weed along ju- okay okay okay drop yo eagle stare stars put beatles shit talkin bout discussion will pay make bigger dont pay reduction comin nigga dont know dont trust comin head motherfucker bustin yes lord dont really say often long dick nigga aint long talkin beast love bad bitches thats fuckin problem yeah fuck got fuckin problem love bad bitches thats fuckin problem yeah fuck got fuckin problem love bad bitches thats fuckin problem yeah fuck got fuckin problem finding somebody real fuckin problem bring ya girls crib maybe solve yeah ho finale pep talk turn pep rally say shes hood live inside valley now vacate atlanta going back cali got girl line world line irony fuck em damn time eyeing nigga dont exist girl know want dick girl im kendrick lamar aka benz car mean friends need par see standards pampered threesomes tomorrow kill em dead bodies hallway dont involved listen crystal ball say halle berry hallelujah holla back ill ya beast love bad bitches thats fuckin problem yeah fuck got fuckin problem love bad bitches thats fuckin problem yeah fuck got fuckin problem love bad bitches thats fuckin problem yeah fuck got fuckin problem finding somebody real fuckin problem bring ya girls crib maybe solve im good kush alcohol mike will made-it got bitches call whats happenin dont know without yall ima ball til day fall ball ball ball ball yeah long bitches love yeah yeah yeah yeah give fuck bout hater long bitches love yeah yeah yeah yeah yeah yeah yeah give fuck bout nigga long bitches love uh pussy ass nigga stop hating lil tunechi got fire hoes love satan man yeah fuck bodied eat dick shes strict diet thats baby makeup ten best head even better karrine dont want money want time spend said cause really need somebody tell youre somebody girl fuck want fuck dont got a1 credit fillet mignon said never wan na make mad wan na make proud said baby make cum dont make sound im good kush alcohol yeah got bitches call whats happenin dont know without yall ima ball til day fall ball ball ball ball yeah long bitches love bitches love yeah yeah yeah yeah give fuck bout hater long bitches love bitches love yeah yeah yeah yeah yeah give fuck bout niggas long bitches love uh real nigga fuck haters hoes got pussies craters cant treat hoes ladies man pussy money weed codeine say dick feel morphine hope name taste sardines niggas wake eat dick call breakfast bed 69 96 feel heartbeat chest chest bitch now turn around face im arrestin bitch yeah bitches love love bitches soon cum come senses say hoes names snitching haters try knock cant knock hinges man tunechi im good kush alcohol yeah got bitches call whats happenin dont know without yall dont know without yall ima ball til day fall ima ball yeah long bitches love bitches love yeah yeah yeah yeah give fuck bout hater long bitches love bitches love yeah yeah yeah yeah yeah give fuck bout lost good bitches met bad bitches schooling niggas pose class picture now kiss ass hatin im getting ass im skating yeah lost good bitches met bad bitches schooling niggas pose class picture now kiss ass hatin im getting ass im skating bitch im good kush alcohol tunechi got bitches call whats happenin dont know without yall ima ball til day fall yeah long bitches love bitches love yeah yeah yeah yeah give fuck bout hater long bitches love bitches love yeah yeah yeah yeah yeah give fuck bout niggas long bitches love got night im singin love songs got night constant drinkin love songs got night love songs got night drownin love songs got night yeah im singin love songs got night yeah constant drinkin love songs got night yeah love songs got open night uh-huh got open night hey okay back sleeping mama crib even back mohammed crib paying seventeen hundred rent money well-spent heater nigga made heat may vent thing ya even wrote song dreams ya cause dreams ya thoughts ring ya childish shit know child shit anonymous flowers sent know coward shit now nigga signed hov took power trip back home im grown now citys throne now huh clubs used tossed life got kriss krossed totally crossed cause now im bitch im totally bossed old chicks crying cause know lost im still im still drink spill fill im sayin believe said im love baby want want believe said im love baby want ya got night im singin love songs got night got got well got longest crush fuck itd longest bust love drug strongest stuff fuck im one feel power trip got want nigga wifeing club man homies gon disown nigga give 20 dollars dollars ass stupid college college im city im wonderin youre home now went found man im hopin youre alone now cant help feeling dropped ball cliché used pop mall day now typically kick game east bay got nigga freeze-framed yelling please play petes sake homie pull together fuck one time forever believe said im love baby want want believe said im love baby want ya yeah got night im singin love songs got night got got got night night im singin love songs got night night constant drinkin love songs got night night love songs got night night drownin love songs got night yeah im singin love songs got night yeah constant drinkin love songs got night yeah love songs got open night uh-huh got open night hey back sleeping mama crib 3rd grade thought gay cause draw uncle kept room straight told mom tears rushing face shes ben youve loved girls pre-k trippin yeah guess point didnt bunch stereotypes head remember math yeah im good little league pre-conceived idea meant sex characteristics right-wing conservatives think decision cured treatment religion man-made rewiring pre-disposition playing god ahh nah go america brave still fears dont know god loves children somehow forgotten paraphrase book written 3 500 hundred years ago dont know cant change even tried even wanted cant change even tried even wanted love love love keeps warm keeps warm keeps warm keeps warm gay think hip-hop hates read youtube comments lately man thats gay gets dropped daily weve become numb sayin culture founded oppression yeah dont acceptance em call faggots behind keys message board word routed hate yet genre still ignores gay synonymous lesser hate thats caused wars religion gender skin color complexion pigment fight lead people walk-outs sit-ins human rights everybody difference live church taught something preach hate service words arent anointed holy water soak poisoned everyone comfortable remaining voiceless rather fighting humans rights stolen might thats important freedom til equal damn right support dont know cant change even tried even wanted love love love keeps warm keeps warm keeps warm keeps warm press play dont press pause progress march veil eyes turn back cause till day uncles united law kids walkin around hallway plagued pain heart world hateful rather die certificate paper isnt gon na solve damn good place start laws gon na change us change us whatever god believe come one strip away fear underneath love time raised cant change even tried even wanted cant change even tried even wanted love love love keeps warm keeps warm keeps warm keeps warm love patient love kind love patient love kind crying sundays love patient crying sundays love kind im crying sundays love patient crying sundays love kind im crying sundays love patient crying sundays love kind im crying sundays love patient love kind monogamy whatever call im starting think aint everybody us rushing anyways know im saying aint rushing love aint judge lets neglect ifs make lets bad never made love never sure know fuck ill bad girl ill prove cant promise ill good cause issues wont commit least admit ill bad yeah ill good bed ill bad bad never made love never sure know fuck lets bad girls aint good good girls aint fun hood girls want smart nigga college girls want thug seems fiend dont need got thing queen know leave im bout judge dont judge aint got ta really sing rap sheet cause heard bad literal sense mean rough sex saying love yeah kiss saying mean know calling mean ass oh irony got bomb indeed problem probably deep past still im feeling something need bad thinking need dont need emotions open deep sea conceive ocean going legs beg nope bed floor dope go couch now slow motion around put lord knows going morn hold bad never made love never sure know fuck ill bad girl ill prove cant promise ill good cause issues wont commit least admit ill bad yeah ill good bed ill bad let tell look hurt feelings break hearts stay quiet play smart take pride going getting hollered saying nah saint dont pose dont wear make boat load riding lake shore nose dont really date much slows got haters heard winter time cold shawty fall baby look approach court minds games never mind cause lose physical sense mean aint tryna kiss suck feed gas aint nigga sucking teeth nope play big trust ill humble mean ass look shawty actually prevent cause one front working deep threat yep bed floor couch shower lord perm done love nah called morning cell number wasnt goddamn bad never made love never sure know fuck ill bad girl ill prove cant promise ill good cause issues wont commit least admit ill bad yeah ill good bed ill bad bad never made love never sure know fuck 오빤 강남스타일 강남스타일 낮에는 따사로운 인간적인 여자 커피 한잔의 여유를 아는 품격 있는 여자 밤이 오면 심장이 뜨거워지는 여자 그런 반전 있는 여자 나는 사나이 낮에는 너만큼 따사로운 그런 사나이 커피 식기도 전에 원샷 때리는 사나이 밤이 오면 심장이 터져버리는 사나이 그런 사나이 아름다워 사랑스러워 그래 너 hey 그래 바로 너 hey 아름다워 사랑스러워 그래 너 hey 그래 바로 너 hey 지금부터 갈 때까지 가볼까 오빤 강남스타일 강남스타일 오-오-오-오 오빤강남스타일 강남스타일 오-오-오-오 오빤강남스타일 eh sexy lady 오-오-오-오 오빤 강남스타일 eh sexy lady 오-오-오-오 정숙해 보이지만 놀 땐 노는 여자 이때다 싶으면 묶었던 머리 푸는 여자 가렸지만 웬만한 노출보다 야한 여자 그런 감각적인 여자 나는 사나이 점잖아 보이지만 놀 땐 노는 사나이 때가 되면 완전 미쳐버리는 사나이 근육보다 사상이 울퉁불퉁한 사나이 그런 사나이 아름다워 사랑스러워 그래 너 hey 그래 바로 너 hey 아름다워 사랑스러워 그래 너 hey 그래 바로 너 hey 지금부터 갈 데까지 가볼까 오빤 강남 스타일 강남스타일 오-오-오-오 오빤 강남스타일 강남스타일 오-오-오-오 오빤 강남스타일 eh sexy lady 오-오-오-오 오빤 강남스타일 eh sexy lady 오-오-오-오 뛰는 놈 그 위에 나는 놈 baby baby 나는 뭘 좀 아는 놈 뛰는 놈 그 위에 나는 놈 baby baby 나는 뭘 좀 아는 놈 know im sayin 오빤 강남스타일 eh sexy lady 오-오-오-오 오빤 강남스타일 eh sexy lady 오-오-오-오 오빤 강남스타일 오빤 강남스타일 know caught middle cry little think letting go oh gave riddle cry little think letting go know wan na behind wheel one rida eyes shut still got swimming diver cant let go got fans okinawa heart japan quake losers survivors norway didnt flowers way say better killer coward face showers minute hour heard news whole day went sour bitter moments got feeling lemon-head put box poisonous cigarettes go regards regardless arrested aint worried killers young restless mad cause quarter million necklace dui never said driving reckless know jealously impressive oh cant stop destined know caught middle cry little think letting go oh gave riddle cry little think letting go know caught middle cry little think letting go oh gave riddle cry little think letting go champagne buckets still got two tears put tattoo jimi hendrix pressed leather outfit cause press tell meal ticket clean next call lil visit sacrifice make hit still vivid reality see youre blessed kill critics bugatti never meant im rich god fearing look steering got blogs staring got ta good feeling mr mike caren tell billie jeans im another planet thank e-class big chuck lee prince perries buy mama chandeliers im tears dammit thirty years youd thought emotions vanish tryna live tryna figure sister vanish cheers know wouldnt panic know caught middle cry little think letting go oh gave riddle cry little think letting go know caught middle cry little think letting go oh gave riddle cry little think letting go need healing look ceiling see sun coming know better now need healing look ceiling see sun coming know better now need healing look ceiling see sun coming know better now need healing look ceiling see sun coming know better now know know know know think letting go go go know caught middle cry little think letting go oh gave riddle cry little think letting go know caught middle cry little think letting go oh gave riddle cry little think letting go pour drank head shot drank sit drank stand drank pass drank wake drank faded drank faded drank now done grew round people livin life bottles granddaddy golden flask backstroke every day chicago people way feels people wan na kill sorrows people wan na fit popular problem dark room loud tunes lookin make vow soon ima fucked fillin cup see crowd mood changin minute record repeat took sip another sip somebody said nigga babysittin two three shots ima show turn notch first swimming pool full liquor dive pool full liquor dive wave bottles watch em flock girls wan na play baywatch got swimming pool full liquor dive po-pool full liquor ima dive pour drank head shot drank sit drank stand drank pass drank wake drank faded drank faded drank okay now open mind listen kendrick im conscience hear will history kendrick know youre nauseous right now im hopin lead victory kendrick take another one ima drown poison abusin limit think im feelin vibe see love eyes see feelin freedom granted soon damage vodka arrive capitalize parental advice apparently im over-influenced doin thought doin someone said nigga babysittin two three shots ima show turn notch first swimming pool full liquor dive pool full liquor dive wave bottles watch em flock girls wan na play baywatch got swimming pool full liquor dive po-pool full liquor ima dive pour drank head shot drank sit drank stand drank pass drank wake drank faded drank faded drank ride ride bang one chopper 100 shots bang hop bang two chopper 200 shots bang ride ride bang one chopper 100 shots bang hop bang two chopper 200 shots bang nigga babysittin two three shots ima show turn notch first swimming pool full liquor dive pool full liquor dive wave bottles watch em flock girls wan na play baywatch got swimming pool full liquor dive po-pool full liquor ima dive pour drank head shot drank sit drank stand drank pass drank wake drank faded drank faded drank sherane sherane pool full kendricks lies w-watch em flock aw man takin takin pool full liquor ima die life new appetite failure got hunger pain grow insane tell sound familiar youre making excuse relief bottom bottle greenest indo leaf window open release everything corrode inside see joking laugh dont feel bad probably sleep never wake never wake never wake god trust thought enough stomped homie bitch k-dot good blood now drop ye drop back niggas straight man nigga aint trippin gon ol shit ima pop shots gon run gon run opposite ways fall right -s lap gon tear ass simple hope bitch set gon pop bitch wait hold ayy see someone aha got niggas k-dot good l- good yeah blood im good dave good dave dave say somethin dave bitch ass niggas killed brother now shits kick party looks wack lets take back straight hip-hop start scratch im bout bloody track everybody back thats pen needs pad cause rhymes rag addiction im bout kick magician critics turn crickets got em still fence whether pick quick impaled tell em stick sick im looking pale well thats pigment bout go ham ya bish shout kendrick lets bring back vintage slim bitch art mcing mixed da vinci mc ren dont mean stimpys friend bitch public enemy thought pe gym bitch kick shoes let hair go berzerk night long grow beard weird go berzerk night long gon na rock house knock turn volume loud cause mayhem til baby make k-fed let go let go say fuck kick bucket lifes short go broke everybody everybody go berzerk grab vial yeah guess way im dressed aint khakis pressed nike shoes crispy fresh laced guess aint aftershave cologne made em faint plus showed coat fresher wet paint love chess game check mate girl bodys banging jump gang bang bang yessiree bob thinking thing come kids rock ba-wit-da-ba dang-dang p-p-p pow-pow chicka-bow chicka-bow-wow got gal blowin valve v-v-valve-valve aint slowin throw towel t-t-towel-towel dumb dont know huh-huh how-how least know dont know question bozos smart enough feel stupid hope now ho kick shoes let hair go berzerk night long grow beard weird go berzerk night long gon na rock house knock turn volume loud cause mayhem til crank bass crazy let go let go say fuck kick bucket lifes short go broke everybody everybody go berzerk grab vi- everybody say love powerful cough syrup styrofoam know fell asleep woke monte carlo ugly kardashian lamar oh sorry yo done set bar low far hard drugs though thats past done enough codeine knock future tomorrow girl aint got money borrow tryin find way alone car note oh marshall mathers shithead potty mouth bar soap lathered kangols carheartless cargos girl youre fixin heart broke dont absurd maam birdbrain baby aint called anybody baby birdman unless youre swallow ha-ha word rick word man heard dont discouraged girl jam unless got toe jam kick shoes let hair go berzerk night long grow beard weird go berzerk night long gon na rock house knock turn volume loud cause mayhem til baby make k-fed let go let go say fuck kick bucket lifes short go broke everybody everybody go berzerk grab vial yeah gon na rock house knock turn volume loud cause mayhem til crank bass crazy let go let go say fuck kick bucket lifes short go broke everybody everybody go berzerk grab vial ye- uoeno ol high class niggas shit sound crazy fly shit know im sayin thousand dollar pair shoes dont even know thousand dollar cup lean dont even know half million dollar car dont even know came bottom dont even know niggas ride dont even know got killers right now dont even know million dollar watch nigga dont even know got million dollar crib nigga dont even know ay monster truck sit tall fuck big cant even tow dont snakes keep grass cut low cant even mow sip dom perri little high glow dont moet aint pj rose ho dont even pour specks tom ford button-down michael kors always refrigerator im plugged ho know ap pk wear breitling im bored got master piece 41 millimeter aint even know keep 45 pocket aint gone show till pop gone know damn shot dont even know hawks game fuckin floor tv seat front row rocko da don ceo aint got ta rap know thousand dollar pair shoes dont even know thousand dollar cup lean dont even know half million dollar car dont even know came bottom dont even know niggas ride dont even know got killers right now dont even know million dollar watch nigga dont even know got million dollar crib nigga dont even know nigga sold re-rock aint even know die reeboks aint even know put molly champagne aint even know took home enjoyed aint even know got hundred acres live aint even know got hundred rounds ar aint even know got bag bitches play cloud 9 spaceship zoned stay fresh zone 1 zone 6 bricks blood birds dreams boats yard lemon pepper wings im bout fuck niggas wacked aint even know main nigga bout turn back aint even know thousand dollar pair shoes dont even know thousand dollar cup lean dont even know half million dollar car dont even know came bottom dont even know niggas ride dont even know got killers right now dont even know million dollar watch nigga dont even know got million dollar crib nigga dont even know im turned every day dont even know got bitch right now dont even know turn club dont even know got hundred bottles comin dont even know eh came nothin dont even know drive half million dollar car dont even know thousand dollar pair shoes dont even know got bitch speak english dont even know thousand dollar pair shoes dont even know thousand dollar cup lean dont even know half million dollar car dont even know came bottom dont even know niggas ride dont even know got killers right now dont even know million dollar watch nigga dont even know got million dollar crib nigga dont even know every second every minute man swear say bad bitch put hands high hands high hands high tell em dim lights right now put mood im talking bout dark room perfume go go recognize fragrance hol aint never got ta say shit woo know taste little bit mmm high maintenance ooh everybody basic live life everyday basis poetic justice poetic justice told flower bloomed dark room trust mean write poems songs dedicated youre mood empathy theres blood pen better yet friends really wan na know really wan na show fuck pour plenty champagne cold nights curse name called girlfriends yall curled little bitty range heard wan na go party wan na go party nigga dont approach atari nigga aint good game homie sorry say conversation rule nation tell never right wrongs less write real ps know know know know know want poetic justice put song know know know know know want poetic justice put song really hope play cause ol girl test patience seductive photographs one vacations youve taken clearly lot take dont make sense young east african girl busy fucking man trying put game put plane take mama motherland maybe one day figure youre gon na need someone figure right city dont run come sound poetic justice poetic justice new life god damn got adjusted mean write poems songs dedicated fun sex natural hair soft skin big ass sundress ooh good god walk see thing move wish fight less talk say communication save relations tell never right wrongs unless write real ps know know know know know want poetic justice put song every time write words become taboo making sure punctuation curve every letter heres true living life margin metaphor proof im talking poetic justice poetic justice told flower bloomed dark room trust mean need hear love verb looking mirror love verb looking maybe call crazy insane fatal attraction common common pain mean need hear love verb see power steering sex drive swerve want interference coherent hear mmhm thats heartbeat either caught called mmhm breathe slow youll find gold mines lines sincerely truly right go blind ps know know know know know want poetic justice put song im gon ask one time homie problem ask sherane ayy sherane homie dont care nigga dont tell wrap im sorry hol hol hol gon okay ima tell im okay gon tell okay grandma stay mama stay daddy stay okay fuck talkin matter fact van homie car snatch motherfucker homie sinner whos probably gon na sin lord forgive lord forgive things dont understand sometimes need alone bitch dont kill vibe bitch dont kill vibe feel energy two planets away got drink got music share today im yelling bitch dont kill vibe bitch dont kill vibe bitch dont kill vibe bitch dont kill vibe look inside soul find gold maybe rich look inside soul find never exist feel changes feel new life always knew life dangerous say challenge tell painless dont know pain paint picture color blind hanging ya fell face woke scar another mistake living deep heart wear top sleeve flick admit look resent every making tell purpose petty even small lighter burn bridge even small lighter burn bridge feel changes feel new people round want famous see city found put stages thats amazing thats quick check disrespect let say sinner whos probably gon na sin lord forgive lord forgive things dont understand sometimes need alone bitch dont kill vibe bitch dont kill vibe feel energy two planets away got drink got music share today im yelling bitch dont kill vibe bitch dont kill vibe bitch dont kill vibe bitch dont kill vibe im trying keep alive compromise feeling love trying keep deprived co-sign radio im looking right past ya live world live world two different axles live world living behind mirror know scared feeling feeling emotions inferior shit vital know shit vital know die pitiful vain tell watch chain way believable give feasible gain rather seasonal name ill let people know something blame remain stuck box ima break hide every lock ima break hide every lock feel changes feel new people around want famous see city found put stages thats amazing thats quick check disrespect let say sinner whos probably gon na sin lord forgive lord forgive things dont understand sometimes need alone bitch dont kill vibe bitch dont kill vibe feel energy two planets away got drink got music share today im yelling bitch dont kill vibe bitch dont kill vibe bitch dont kill vibe bitch dont kill vibe aint heard coast long time dont see long line waiting kendrick first fifteenth 3s air see sync hide feelings hide feelings now better ill take girlfriend put pussy pedestal bitch dont kill vibe bitch dont kill vibe walk door scream alive new years resolution stop pollution talk motherfucking much got drink got music say bitch dont kill vibe bitch dont kill vibe bitch dont kill vibe bitch dont kill vibe even though i- way way way way way way one trying keep way sun know know found way back round tell fix grill cause got money now aint gon sit around front aint thought perfect smile appealing funny shit crooked look far done got without keep twisted grill show kids real aint picture perfect worth picture still got smart got rich got bitches still look eyebrows thick hell love girl nobody will though woman dont know deal pressure look impressive go heels feel killing find man thatll kill wake put makeup stare mirror clear cant face whats wrong need fix god already put paint brush roommate yelling got ta take long crooked smile way way way way way way crooked smile one trying keep way sun know know found way back round women flaws know hard darlin wonder youre lonely mans callin keep fallin victim cause youre insecure tell youre beautiful cant sure cause dont seem want back got askin see lackin packin take man loves got baby girl youre star dont let em tell youre now real eyebrows fingernails hair real girl dont care cause whats real something eyes cant see hands cant touch broads cant thats never let em see frown need friend pick ill around ride windows music loud tell aint laughed wan na see crooked smile way way way way way way one trying keep way sun know know found way back round crooked smile style em back round crooked smile style em youre one tryin keep way sun know know found way back round dont look nothing people screen know movie stars picture perfect beauty queens got dreams got right chase em look nation thats crooked smile braces couldnt even straighten seem half race either probation jail wonder inhale cause hell already asked skin pale sell eminem adele one time ville fuck beef shit nigga lets make mill hey officer man dont want nobody getting killed open cell let brother jail got money bail now well now askin will tell now ayy hell nah aint snitchin cause man niggas stitches now around wouldnt need witness now crooked smile way way way way way way crooked smile one trying keep way sun know know found way back round crooked smile style em back round crooked smile style em one trying keep way sun know know found way back round la-la la-la la-la-la la-la la-la la-la-la la-la la-la la-la-la la-la la-la la-la-la way way way way way way one trying keep way sun know know found way back round back round one trying keep way sun know know found way back round back round one trying keep way sun know know found way back round round motherfucking best nigga ace hood future come looking haitians stay smoking good jamaican fuck bitches different races money started hating turn woke new bugatti woke new bugatti woke new bugatti woke new bugatti woke new bugatti ok niggas hating im rich bitch one hundred spent wrist two hundred dollars spent bitch model put list oh go foreign killing scene bring coroner murder wrote swallow choke hit go wont call woke early morning crib big college smoke pound loudest whipping shit mileage diamonds cost fortune horses porsches pussies cant hardly afford forty two hundred mortgage balling niggas kobe fuck haters bore real piece plate repping city im running state give pistol run ks niggas want beef visit place bang come looking haitians stay smoking good jamaican fuck bitches different races money started hating turn woke new bugatti woke new bugatti woke new bugatti woke new bugatti woke new bugatti yeah im go flow bringing tragedy copped chain salary spent niggas sweet bring cavities counting money hourly trend rolling skinny olsen twins niggas squares cabin pens neck full gold olympian shit niggas blowing checks gear fall pussy hop leer shot choppers back rear sak pase killers woke early morning mind telling money paper mula pockets fat tumor millionaire nigga rumor living life tuna wanted deliver beef real niggas enjoying feast pull seat bon appetite louboutins put red sleeves bang come looking haitians stay smoking good jamaican fuck bitches different races money started hating turn woke new bugatti woke new bugatti woke new bugatti woke new bugatti woke new bugatti photographs dope boys take finger prints rolls royce hating push button broke boys detonation walk road riches bare feet watch mama struggle now living carefree thats hustle half ki thats 12 gs > im tryin bubble every summer new lp got ta love got shooters d-league > signin bonus hit man thats thirty feet left puddle finger prints hundred mill ricky rose ace hood hella trill yeah come looking haitians stay smoking good jamaican fuck bitches different races money started hating turn woke new bugatti woke new bugatti woke new bugatti woke new bugatti woke new bugatti dont girls loose loose dont world loose loose dont money move move dont girls loose loose dont world loose loose dont money move move said yall good time yeah yeah yeah que pare la fiesta dont stop party yeah yeah yeah que pare la fiesta dont stop party im running world running back scarface worlds mine running back 30 000 people know 80 000 people london wembley 90 000 people morocco im getting warmed papo catch red one stockholm beirut cafe getting drink voli wow pretty women hookah sweet azucar azucar dale disfruta cant wont never will stop party cant wont never will stop party said yall good time yeah yeah yeah que pare la fiesta dont stop party yeah yeah yeah que pare la fiesta dont stop party im city stress ya sling keys now im shows helsinki finland know yall thinking youre thinking out-think cant frankly im benjis frankies c-notes cause aint dont hate matter fact thank even dont youre welcome yankees zig-a-zig-a-zig-a-zig-a-zow got keys world now truly blow cant wont never will stop party cant wont never will stop party said yall good time yeah yeah yeah que pare la fiesta dont stop party yeah yeah yeah que pare la fiesta dont stop party ima give ya ah ah now give ah ah ima give ya ah ah now give ah ah ima give ya ah ah now give ah ah funky funky now stop said yall good time yeah yeah yeah que pare la fiesta dont stop party yeah yeah yeah que pare la fiesta dont stop party yeah yeah yeah que pare la fiesta dont stop party yeah yeah yeah que pare la fiesta dont stop party yeah yeah yeah que pare la fiesta dont stop party yeah yeah yeah que pare la fiesta dont stop party dollar murdered one fighting soul brothers one youre running got money fuck cause want big fuckin oh god whoa ok aint nobody fucking clique clique clique clique clique aint nobody fresher mothafuckin clique clique clique clique clique look around dont clique clique clique clique clique bad bitches man want want want tell bad bitch whatever say block behind im coming driveway grind day friday next friday straight nine days need spa day spa day yup trying poo-tang might let crew bang crew deeper wu-tang im rolling fuck im saying girl know crew name know 2 chainz scrr im pulling bruce wayne im fucking villain man kneeling im walking building freaky women feeling bank accounts im filling feeling ah man got ta young player d thats killing everything see aint nobody fucking clique clique clique clique clique aint nobody fresher mothafuckin clique clique clique clique clique look around dont clique clique clique clique clique bad bitches man want want want yeah im talking ye yeah im talking rih yeah im talking b nigga im talking yeah im talking bossy aint talking kelis money short cant talking yeah im talking lebron ball family tree good music drug-dealing cousin aint nothing fuckin turn 62 125 125 250 250 half million aint nothin nobody now ¡vámonos call hov jefe translation im shit least neck say least check say lost homie decade nigga 12 years aint hug son second grade never told gon tell top totem pole dream team meets supreme team eyes green means one thing aint fucking clique aint nobody fucking clique clique clique clique clique aint nobody fresher mothafuckin clique clique clique clique clique look around dont clique clique clique clique clique bad bitches man want want want break records louie ate breakfast gucci girl superstar home movie bow arrival un-american idols niggas paris got em hanging eiffel yeah im talking business talking cia im talking george tenet seen day asked maybach think except mine tinted might rented know white people money dont spend maybe money buy business rather buy 80 gold chains go ignant know spike lee gon kill let finish blame pigment living limits gold master p ceilings figment imagination mtv cribs now im looking crib right next tc lives thats tom cruise whatever accuse wasnt really drunk brews pass refreshments cool cool beverage everything need news crews presence speedboat swerve homie watch waves im way black burn sun rays meditate home pompeii build new rome one day every time im vegas screaming hes elvis wan na design hotels nail shit real got feeling israelian bar refaeli gisele nah thats brazilian went deep depression momma passed suicide kinda talk talking god long look life guess hes talking back fucking clique aint nobody fresher mothafuckin clique look around dont clique bad bitches man want want want slow grab wall wiggle tryna make yo ass fall hella thick wan na smash em now speed gas pedal now speed gas pedal black money let hoes say amen im tryna make clear boy ray-bans im great man woah say friend play hole every night dj amen room full boppers tell give topper beat beat one hit coppers im s-a-g-e know fee-fi fo-fum large yo throat west-side baby got tail well shit pretty nigga mobbin way go steppin club make em drop shoe mad cause spoon dont give fork silverware nigga actin poor spork yous boy grab girl yank-in got booty coupes im tryna make-it woah slow grab wall wiggle tryna make yo ass fall hella thick wan na smash em now speed gas pedal now speed gas pedal trick dolla bill boyfriend bitch call tyler perry eugh im black bat lookin scary way cake bake gary oops bakeries never fake-amies lead bathroom askin takin uh tell slow baby im turned finna go baby hit stage people 180 hit stage man club wan na pay uh niggaz fugazzi got white bitch call hoe slim shady uh nigga su crazy got two hoes make old bitch hate uh payment say gettin money thats understatement uh slow grab wall wiggle tryna make yo ass fall hella thick wan na smash em now speed gas pedal now speed gas pedal lil mama got sex appeal make sing wan na record deal shit finna real got booty big ferris wheel lil mama got sex appeal make sing wan na record deal shit finna real got booty big ferris wheel slow grab wall wiggle tryna make yo ass fall hella thick wan na smash em now speed gas pedal now speed gas pedal 알랑가 몰라 왜 화끈해야 하는건지 알랑가 몰라 왜 말끔해야 하는건지 알랑가 몰라 아리까리하면 까리해 알랑가 몰라 we-we-we party hey 있잖아 말이야 이 사람으로 말씀드리자면 말이야 용기 패기 똘끼 멋쟁이 말이야 너가 듣고픈 말 하고픈 게 난데 말이야 damn girl freaking sexy i-i-i-i-im i-i-i-i-im i-i-i-i-im mother father gentleman im i-im im mother father gentleman im i-i-im im mother father gentleman 알랑가 몰라 왜 미끈해야 하는건지 알랑가 몰라 왜 쌔끈해야 하는건지 알랑가 몰라 빨리 빨리 와서 난리 내 알랑가 몰라 난리 난리 났어 빨리 해 있잖아 말이야 너의 머리 허리 다리 종아리 말이야 good feeling feeling good 부드럽게 말이야 아주 그냥 헉 소리나게 악 소리나게 말이야 damn girl im party mafia i-i-i-i-im i-i-i-i-im i-i-i-i-im mother father gentleman im i-im im mother father gentleman im i-i-im im mother father gentleman gon na make sweat gon na make wet know wet psy gon na make sweat gon na make wet know wet psy wet psy wet psy wet psy psy psy psy i-i-i-i-i-i-i-i-i-i-i-i-im mother father gentleman im i-im im mother father gentleman im i-im im mother father gentleman mother father gentleman mother father gentleman ah-ha im fresh man eardrummers man yall scared tahahaha mike will made-it im club high purp shades tatted mini skirt js know club high purp shades tatted mini skirt js js feet know js feet know js feet know mm-hmm js feet know js feet trippy js feet trippy mm-hmm club club standin couch couch wolf greys house im home drinkin bottle got respect ayy lookin model got check change back cause dont give fuck dont youre lame thats shame cant hang us uh-uh im mc hammer fly fresh cant touch nope js fly work flight club put js dance whole night away im naughty nature im hip-hop hooray hands sky wave em side side feet floor im bout turn now im club high purp shades tatted mini skirt js know club high purp shades tatted mini skirt js trippy js feet know js feet know js feet know mm-hmm js feet know tahahaha js feet trippy js feet trippy uh mm-hmm rockin js rockin taylors got lots flavors kick game major kicks players call im scorin hit free throw tongue im jordan smiley miley miley miley come swing thing right got joint wan na stoned got choppers wan try wan try pro athlete im wannabe wannabe waitress asked many bottles said 23 put js dance whole night away tahahaha im naughty nature im hip-hop hooray uh hands sky wave em side side feet floor im bout turn now im club high purp shades tatted mini skirt js know club high purp shades tatted mini skirt js js feet know js feet know js feet know mm-hmm js feet know js feet trippy js feet trippy mike will- yes-sir mm-hmm stay showin mm-hmm kick game beast mm-hmm got 30 pairs js aint never released know flu game 12 ho space jam 11 bitch hype beast sick gon need paramedic case turn turn turn turn trippy stay live ho purple cup match grape five sippy im high got three bitches go bi pussy im fly im gettin head blow dryer put js dance whole night away im naughty nature im hip-hop hooray hands sky wave em side side feet floor im bout turn now im club high purp shades tatted mini skirt js know club high purp shades tatted mini skirt js js feet know js feet know js feet know mm-hmm js feet know js feet trippy js feet trippy mike will- mm-hmm look face aint got worries aint got worries aint got worries see shrooms keep aint got worries aint got worries aint got worries see money right yeah thats tunechi right turn yeah thats mack maine right aint got worries see pussy right redbone mangos right see shroomies right aint got worries tunechi bitch erybody worried pussy niggas purring bitches digging feel buried make dick hard woke sleeping giant man bitch speak tongues every time speak private hope barber shop open cause got hair triggers smoke much smokey bear bear us jeep doors means bitch sleek bitch think theyre shit sent shits creek see tunechi right give brain ideas ok turn dont turn light years know im smoking grew blood gang piru rats got ta die even stewart private jet stewardess bitch nigga bitch nigga know gold-diggers ditch-diggers dont dissed disfigured say sorry didnt shave pussy little furry put pussy face aint got worries tunechi look face aint got worries aint got worries aint got worries see shrooms keep aint got worries aint got worries aint got worries see money right yeah thats tunechi right turn yeah thats mack maine right aint got worries see pussy right redbone mangos right see shroomies right aint got worries aint got worries bad hooker aint got worries want eat sugar say hurry say asking questions say bitch tryna funny now take fucking clothes let see donkey kong swing ass back forth back forth monkey bars camel toe camel toe worries panty-hose niggas falling baggy clothes smoke magic show swear saw ho swear ho know fuck sore pussy sore throat bitch tunechi im chea worries worries talk dick man shit long story look face aint got worries aint got worries aint got worries see shrooms keep aint got worries aint got worries aint got worries see money right yeah thats tunechi right turn yeah thats mack maine right aint got worries see pussy right redbone mangos right see shroomies right yeah shit explainsound 007 n64 shit yeah yeah yeah yeah yeah yeah james gold chain gold ring gold watch dont believe watch nigga nigga nigga dont believe watch dont believe watch nigga nigga nigga dont believe watch dont believe watch gold chain gold ring gold watch dont believe watch aint fuck nigga real nigga fuck one hood niggas hipster bitches shop lenox dark skinned light skinned asian white women hypebeasts know aboutchea dont buy shoes unless popula hoes nigga thats pussy popping magic city got strong nigga come match shit smoking mid nigga dont pass shit one niggas bitches bout money cash got ta love chesire bridge bad hoes onyx dont fuck snitches dont tell telling one colleges bad hoes spelman shout freshmen instagram straight flexin popped molly im sweating woo popped molly im sweating woo momma always told boy count blessings god trust kept counting franklins im fly know lem give ass checklist one gold watch two gold chains six gold rings nothing god dayum og jordans high socks shirt im stunting okay song fuck niggas hating summer fuck em talk shit behind back wont say shit public fuck em gold chain gold ring gold watch dont believe watch nigga nigga nigga dont believe watch dont believe watch nigga nigga nigga dont believe watch dont believe watch gold chain gold ring gold watch dont believe watch yeah stay day one niggas club screaming new friends new friends new friends new dj khaled still day one niggas hear say new friends new friends new friends new still ride day one niggas dont really need new friends new friends new friends new stay day one say fuck yall niggas except niggas fuck yall niggas except niggas one time fuck yall niggas except niggas fuck yall niggas stay day one say fuck fake friend real friends started uh man shit ill restart h-town second home im james harden money counter go burr sellin garden four car garage porn star ménage birdman go brrr cause know shit retarded fuck floor make bed thats ass really call started bottom yes lord o-v-o sound man im proud niggas knew make never doubted niggas bitches love baby mama probably richer lot niggas aye thats luxury dog day one niggas ya stuck dawg youtube niggas calling leader new school fuck dog yeah new friends new friends new friends new still day one niggas hear say new friends new friends new friends new lets ride still ride day one niggas dont really need new friends new friends new friends new stay day one say fuck yall niggas except niggas fuck yall niggas except niggas one time fuck yall niggas except niggas fuck yall niggas stay day one say bitch photographs ho niggas got hate big homies certified nothing niggas gon take follow codes study game feed fam nigga fuck fame black whip foreign bad hoes keep tiptoeing turks caicos dope boy thats dress code hug blood nigga khaled thats flesh tho want love nigga money bring stress though smoke good love life strip club erry night erry night niggas day one straight menace rosé new friends new friends new friends new still day one niggas hear say new friends new friends new friends new lets ride still ride day one niggas dont really need new friends new friends new friends new stay day one say fuck yall niggas except niggas lets go fuck yall niggas except niggas one time fuck yall niggas except niggas fuck yall niggas stay day one say fuck fake friend real friends started ugh im niggas im high friendly throw dirt name well thats still dig im tired hating thank god patience thank god homies wish trade places bitch good-fellas boy niggas pall bearers ball catch us remember sip slow live fast young money stay young cash money day one tunechi new friends new friends new friends new still day one niggas hear say new friends new friends new friends new lets ride still ride day one niggas dont really need new friends new friends new friends new stay day one say fuck yall niggas except niggas fuck yall niggas except niggas one time fuck yall niggas except niggas fuck yall niggas stay day one say fuck yall niggas except niggas fuck yall niggas except niggas fuck yall niggas except niggas fuck yall niggas fuck niggas cause im niggas fuck niggas cause im niggas fuck niggas cause im niggas fuck bitches cause im bitches ear drummers strippers mike will made-it bands make dance bands make dance bands make dance bands make dance bands make dance bands make dance bands make dance dance bands make dance dance chicks popping pussy im popping bands bands bands make dance dance bands make dance dance chicks clappin aint using hands hands bands make dance dance bands make dance dance chicks popping pussy im popping bands bands bands make dance dance bands make dance dance chicks clappin aint using hands hands short hair nia long loose one dont need loan start twerking hear song stripper pole income trippy nasty rolling put ass hands remote control give dome roof gone kod leave got friends bring three got drugs got drinks bend juicy j gone poke wet paint say ratchet pussy juicy j cant racks erywhere theyre showing racks im throwing racks vip rubber im stretching rich niggas tipping broke niggas looking aint strip club aint showing pussy bands make dance dance bands make dance dance chicks popping pussy im popping bands bands bands make dance dance bands make dance dance chicks clappin aint using hands hands bands make dance dance bands make dance dance chicks popping pussy im popping bands bands make dance dance bands make dance dance chicks clappin aint using hands hands uh pop pussy real nigga pull black card thats lil nigga make movie bitch steven spiel nigga smokin keysh cole give chills nigga whats real name stripper name make rain ya windowpane bands make dance tunechi make cum hit side motherfuckin bass drum two hoes one fuckin pole two hoes fuckin pole dont tip pay bills bitches call buffalo stomach ass im flyer ones pass money grow trees branched im waitin bitch cash bands make dance dance bands make dance dance chicks popping pussy im popping bands bands bands make dance dance bands make dance dance chicks clappin aint using hands hands bands make dance dance bands make dance dance chicks popping pussy im popping bands bands bands make dance dance bands make dance dance chicks clappin aint using hands hands 2 chainz four bracelets let see ass clap standing ovation girl dont swallow kids man hoe basic got two bitches take shot one hoe using friend chaser tell em bands make buss buss let see touch touch money talk aint got none end discussion bands make pocket full money money young nigga getting head engines runnin laughing bank giggle uh balling coupe coupe call sports car drop top freak treat bitch porn star bands make dance dance bands make dance dance chicks popping pussy im popping bands bands bands make dance dance bands make dance dance chicks clappin aint using hands hands bands make dance dance bands make dance dance chicks popping pussy im popping bands bands bands make dance dance bands make dance dance chicks clappin aint using hands hands hatin need pussy fucked gave pussy said fuck better nigga say tune im bout cum say im comin wit ya dont pretty niggas sidity niggas ride dick titties jiggle thats pillows thats sleep ho hit wake tell pigs say assalaam alaikum ugh bitch choosy lover never fuck without rubber sweet yellow bone thing call honey mustard pussy sea shell dick v-12 say drive crazy say keep seat belt bend bust open baby bend bust open yeah say love loves dick come put million dollar pussy make rich tunechi got million dollar million dollar oow oow got million dollar million dollar oow oow want touch oow oow make tapout tapout tapout tapout tapout im gon make tapout tapout tapout tapout tapout crib made tapout sauna made tapout jet made tapout pilot map million diamonds million kitchen millions maybach glass top ceilings million dollar pussy sleepin versace sleeping fendi sleepin cavalli married money millions bank alexander mcqueen rich paint got fuck love nigga shit got million dollar seven figure nigga rich switch positions doin yoga bitch shakin stiff got million dollar million dollar oow oow got million dollar million dollar oow oow want touch oow oow make tapout tapout tapout tapout tapout im gon make tapout tapout tapout tapout tapout million dollar pussy million dollar pussy six inch pumps play balls dunks bald head yep dont want forrest gumps dont let tell ya twice already told eat pussy got baddest pussy planet d-boyz love dont understand ooh deep throat million dollar pussy might pounce ass threw hundreds lose count ass max accounts ass million dollar checks dont bounce ass pull cant afford rap bitch forbes list pussy jewelry make em say burr man rubs hands birdman got million dollar million dollar oow oow got million dollar million dollar oow oow want touch touch touch touch touch touch im gon make tapout tapout tapout tapout tapo im gon make tapout tapout tapout tapout tapout im love egyptian skin talk religion im prison pussy im ballin cushion im friends monster thats bed along voices inside head youre tryin save stop holding breath think im crazy yeah think im crazy crazy wanted fame cover newsweek oh well guess beggars cant choosey wanted receive attention music wanted left alone public excuse wantin cake eat wantin ways fame made balloon cause ego inflated blew see confusing cause wanted dos bruce lee loose leaf abused ink used tool blew steam ooh hit lottery ooh-wee gave bittersweet winnin used mink ironic cause think im gettin huge need shrink im beginnin lose sleep one sheep two sheep going coo-coo kooky kool keith im actually weirder think cause im im friends monster thats bed along voices inside head youre tryin save stop holdin breath think im crazy yeah think im crazy well thats nothin ooh-ooh-ooh-ooh ooh-ooh-ooh-ooh ooh-ooh-ooh-ooh well thats nothin ooh-ooh-ooh-ooh ooh-ooh-ooh-ooh ooh-ooh-ooh-ooh ooh-ooh-ooh-ooh now aint much poet know somebody told seize moment dont squander cause never know tomorrow keep conjurin sometimes wonder thoughts spawn yeah ponderinll wonders wonder youre losing mind way wanders yodel-odel-ay-hee-hoo think went wanderin yonder stumbled onto jeff vanvonderen cause need interventionist intervene monster save conflict cause thing loves killing cant conquer ocd conkin head keep knockin nobodys home im sleepwalkin im relayin voice heads sayin dont shoot messenger im friends im friends monster thats bed along voices inside head youre tryin save stop holdin breath think im crazy yeah think im crazy well thats nothin ooh-ooh-ooh-ooh ooh-ooh-ooh-ooh ooh-ooh-ooh-ooh well thats nothin ooh-ooh-ooh-ooh ooh-ooh-ooh-ooh ooh-ooh-ooh-ooh ooh-ooh-ooh-ooh call crazy vision one day ill walk amongst regular civilian drums killed im comin straight mcs blood gets spilled ill take back days id dre track give every kid got played pumped-up feelin shit say back kids played aint save fuckin children one kid hundred million going struggle feels relates thats great payback russell wilson falling way back draft turn nothin somethin still make straw gold chump will spin rumpelstiltskin haystack maybe need straight jacket face facts nuts real im okay nothin im still friends im friends monster thats bed along voices inside head youre tryin save stop holdin breath think im crazy yeah think im crazy im friends monster thats bed along voices inside head youre tryin save stop holdin breath think im crazy yeah think im crazy well thats nothin ooh-ooh-ooh-ooh ooh-ooh-ooh-ooh ooh-ooh-ooh-ooh well thats nothin ooh-ooh-ooh-ooh ooh-ooh-ooh-ooh ooh-ooh-ooh-ooh ooh-ooh-ooh-ooh said shot right heart let hoes tear right apart ooh mad shouldve seen coming right start beware beware beware woman broken heart praying sky black looking stars finna talk back looking phone finna call back last night feel probably ended cause now woulda sent text caps another one tryna take back saying fuck miss hate much cause girls say hate guys love know know know highs lows comes goes say real try dont cause take anything make everything kept phone silent got ring funny right never cheated mean maybe twice one time dont change everything ask dont feel im still shes still insane now shes saying said shot right heart let hoes tear right apart ooh mad shouldve seen coming right start beware beware beware woman broken heart okay skeet smoke sleep call miss text woke spoke lie feel lisa ew time kill months still got somebody baby mama calling daddy yup drank much please call cabby swerve penthouse afterparty hoes want addy swerve fuck ride us crawl caddy third row call hit cancel really hit answer fuck hate happens phone pocket whole night heard bitches screamin til phone dies text still talk mama fuck run around condoms make tattoo man fuck tattoo reason wasnt single college nigga dont even suppose past called next guy spillin real shit now problems got deal said shot right heart let hoes tear right apart ooh mad shouldve seen coming right start beware beware beware woman broken heart girl dont believe hoes cause dont wan na see us together already know youre fly baby dont hair caught propellers tryna tell hoes jealous know never never say never long hair red bone pussy hairless mwah french kiss paris screaming aint woman one got always worrying one fucked said gon na damn make one-eyed fuck mad damn used ride nigga moped players fuck bad keep crying laughed said shot right heart tunechi let hoes tear right apart ooh mad shouldve seen coming right start damn beware beware beware woman broken heart baby last time calling baby last time calling crazy crazy crazy baby last time calling baby last time calling crazy crazy crazy im zone im feeling stop blowing buzz quit killing buy another round try shut us bout hour ago still bitch still still bitch still turn shit loud buy another round try shut us bout hour ago still bitch pull pull pull automatic cook b rich pull rooster til wake fuckin hood got pounds ganja work im doin kush-ups bobby bands building pop pussy throw foot air one time nigga squad team strong flow cold aint nothin bad bitches clique whats eastside bitch think seein aint seen shit girls pole yeah make rich girls shows wan na take pic yeah night cant tell nothin cant tell shit zone open pack rollin strong still wont turn wont go home im zone im feeling stop blowing buzz quit killing buy another round try shut us bout hour ago still bitch still still bitch still turn shit loud buy another round try shut us bout hour ago still bitch got big wheels ride spent bout six mills ride catch swervin side town bumpin bitch dont kill vibe dont blow hide blow guy im paid im fly baby daddy disrespect black eye thats lie im square blowin circles air purple ima boss worker listen boy dont make hurt want trouble got plenty want full semi im rich fuck boy shit kickin dont offend dont killed bitch spit mills shit boy 11 years shit look now still bitch stand tall cant fall pussy ass niggas cant touch g see dont speak aint nothin g im zone nigga dont fuck aye im zone im feeling stop blowing buzz quit killing buy another round try shut us bout hour ago still bitch still still bitch still turn shit loud buy another round try shut us bout hour ago still bitch juicy j stay club niggas bad bitches free liquor surrounded many women one hoes might wife lookin nigga thats ballin tonight might night know stay stuntin low key threw tuition onyx flip money fast lil sonny rich nigga speak ebonics got ta new car paid cash got ta new crib weed lab crisp bills need fuck team freaks hundred deep vip niggas always hatin came bunch goons im leavin lady got boo bugatti bout swallow babies system loud weed loud hair clippers im faded trippy im zone im feeling stop blowing buzz quit killing buy another round try shut us bout hour ago still bitch still still bitch still turn shit loud buy another round try shut us bout hour ago still bitch money come take g tryna naked naked gon shake red nose li-li-li-li-like red nose gon shake red nose red nose gon shake red nose li-li-li-li-like red nose gon shake red nose red nose booty talkin shit say shake dojo im sensei wobble song replay almost got er house kingsway told shake red nose pitbull imma keep throwin money til bank full cake-cake-cake-cake birthday suit damn little imma forget age soon whoa ok now lets way dont go crazy walkin highway dont believe tell bitch try bet shakin club back place whoa money come take g tryna naked naked gon shake red nose li-li-li-li-like red nose gon shake red nose red nose gon shake red nose li-li-li-li-like red nose gon shake red nose red nose told time go work clock go open im locksmith west side tell people stop im fly thats headed cockpit black money sage whoadie imma winner play em game dont press enter im hella raw listen way er er nigga makin dinner uh money start movin imma throw choosin got lookin hm ok black money take em quit shake em nothin ok part hard party hard wit party fouls couple girls back wit party mouths caver back turn party shake red nose time let em whoa money come take g tryna naked naked gon shake red nose li-li-li-li-like red nose gon shake red nose red nose gon shake red nose li-li-li-li-like red nose gon shake red nose red nose money tryna naked naked naked naked red nose li-li-li-li-like red nose red nose red nose red nose li-li-li-li-like red nose red nose red nose clap nigga rapping ass blow stack niggas trapping ass clap nigga rapping ass blow stack niggas trapping ass tom ford tom ford tom ford coming coming riding clean fix hair crown bad bitch h town keep trill yall know yall cant fuck around paris pard parisian hov time time fuck yall season piss bordeaux burgundies flush riesling hovs hoes yall put yall weaves clap nigga rapping ass blow stack niggas trapping ass spent euros tuxes weird clothes party weirdoes yeah hov yeah hov dont pop molly rock tom ford international bring back concorde numbers dont lie check scoreboard tom ford tom ford tom ford hands got best flow sound im special sound boy burial wayne perry flow yall know nothing wayne perry though district columbia guns yall tumblrs fuck hashtags retweets nigga 140 characters streets nigga pardon laughing yall flagging beats nigga pardon laughing happen think sweet dont pop molly rock tom ford international bring back concorde numbers dont lie check scoreboard tom ford tom ford tom ford tom ford oh man homie throwed coming coming riding clean fix hair crown bad bitch h town keep trill yall know yall cant fuck around coming coming riding clean fix hair crown bad bitch h town keep trill yall know yall cant fuck around hold dont pop molly rock tom ford rich homie quan niggas hustlin trying make something aint telling hell paper aint tellin soufflé im straight stake plate sade im smooth operator car im driving make feel type way know custom breitling make feel type way im shinin ho bitch im got feeln type way okay okay cause homies rich feel type way type way make feel type way type way heard wan na fuck know feel type way type way mr ceo title say rich homie baby homies ho feel type way ok now lets real know feel type way know biting ear make tyson face dont look drop knees thankful life today thank lord naps long sleep hibernate lets go lets go tell 12 right away dont fuck go hell cause care move far away drop late know feel type way fuck nigga got hoes golf trynna make tiger made wood baby got hide away go sometimes give mind break see find way still struggle im tryna say aint lying today tell love niggas hustlin trying make something aint telling hell paper aint tellin soufflé im straight stake plate sade im smooth operator car im driving make feel type way know custom breitling make feel type way im shinin ho bitch im got feeln type way okay okay cause homies rich feel type way type way make feel type way type way heard wan na fuck know feel type way type way mr ceo title say rich homie baby homies ho feel type way got georgia peach rear end licence plate tryna fuck wit rookie girl scout cookie got high today smoke good probably make money six months whats papas safe im serious look robbed bank okay okay set queen latifah cause im living single im feeling cautious aint scream served subpoena cant go back jail heard leader come follow tribe today come fucked now heated feel type way dont give fuck dont know say aint hardest man working know attention pay theres always man lurking keep eyes open man perfect god head nod rich homie ugh niggas hustlin trying make something aint telling hell paper aint tellin soufflé im straight stake plate sade im smooth operator car im driving make feel type way know custom breitling make feel type way im shinin ho bitch im got feeln type way okay okay cause homies rich feel type way type way make feel type way type way heard wan na fuck know feel type way type way mr ceo title say rich homie baby homies ho feel type way know dont look thank lord lets go lets go dont want dont want dont want neva end dont want dont want neva end dont want dont want neva end dont want neva dont want neva end life begin walkin comin back cause became best friends got questions know answers took heart girl holding ransom dont want neva end dont want dont want neva end dont want tell instant chemistry reflect memory ride die ill go war dont give fuck showing know shorty forever lil shawty long im swimmin benjamins shop limited youll see reminisce every session know youll come back know cant breath without gon need oxygen damn near gave overdose medicine took sip tea aint right think whatd heaven sent lets put past behind us go far away nobody find us dont want neva end life begin walkin comin back cause became best friends got questions know answers took heart girl holding ransom dont want neva end dont want dont want neva end dont want leave today bet youll come back tomorrow see haters comin mile preparin us got comin come way feel runnin run direction dont run cause anytime together gon stunt im applyin major pressure feel stomach lightnin thunderin striking got wonderin butterfly butterfly gon leave time leave side know comin back know comin back dont want neva end life begin walkin comin back cause became best friends got questions know answers took heart girl holding ransom dont want neva end dont want dont want neva end dont want anything wan na know place rather walk feet sore bet walking back bet walking back actually thats guarantee friendship guaranteed got ego another league aint tryna cocky got heart pocket dont want neva end life begin walkin comin back cause became best friends got questions know answers took heart girl holding ransom dont want neva end dont want dont want neva end dont want yeah ay okay walk bitch ballin bitch hoppin lambos ferraris bitch poppin bottles thick red super model bitch may talking lot cant alot ay rico told turn lights grab audemar threw ice ima big dawg got em pissed lot niggas rapping aint none raw ay look ti ballin vi bunch bad bitches looking aaliyah pull hop go show buy whole bar pop bottles go hard club packed hoes drunk club packed hoes drunk club packed hoes drunk got ta bottle got ta model got ta molly got ta blunt ball ball ball ball ball ball ball ball ball ball ball ball club packed hoes drunk got bottle got model got molly got blunt club full bad bitches came play okay must ass cause aint face now looking bottles stacks girl make way section girl okay now wan na kick nigga meal ticket broke nigga looking mad got ta deal right ho roll dice ho aint got ta dike cause hoes everyday step behind wall big ride fly stunt shine ball got bunch money come bucket full bottles bust open wan na drunk club packed hoes drunk club packed hoes drunk club packed hoes drunk got ta bottle got ta model got ta molly got ta blunt ball ball ball ball ball ball ball ball ball ball ball ball club packed hoes drunk got bottle got model got molly got blunt aint nigga young money nigga pop pussy gun pull trigger shake ass salt shaker keep l lit elevator bitch shake dog hop frog ride horse throw dick darts drink muddy flag bloody im killin hoes nigga ted bundy im good looking rapper aint tryna stunt ima fire blunt donald trump ho ho nigga stick key ya back door turn lights club packed hoes drunk club packed hoes drunk club packed hoes drunk got ta bottle got ta model got ta molly got ta blunt ya thing slow motion soulja slim come around wipe boosie dem thang show love really much bring couple buddies everyday thang big stones chains let drill mouth novacane broke niggas told ya thangs ya g4 show ya thangs women fat ass pretty toes thing long hair dont care long none manicured fun take whatever club throw money air club packed hoes drunk club packed hoes drunk club packed hoes drunk got ta bottle got ta bottle got ta molly got ta blunt ball ball ball ball ball ball ball ball ball ball ball ball club packed hoes drunk got bottle got model got molly got blunt rip killed club drank patron bottle almost killed thug right now im high cant feel drugs many haters dont feel love rip rip rip rip rip killed club took patron head almost killed thug im brand new drop top rari three bitches tired middle trial three snitches hit every club city niggas every club hood niggas pull jump stuntin baby cocaine cowboy shit 80s nigga think slick rick dana dane think rakim somethin look chain head toe im dougie fresh looking came play mitchell ness nigga watch need attention man dont ball need bench rip rip rip rip rip killed club took patron head almost killed thug rip rip rip rip rip killed club took patron head almost killed thug im gone dont know im going pockets extra big samoan got bad bitches section let every nigga came mell kick door roll pass around jamaican whole pounds strapped bitch hatians got good head good brains good education im drunker motherfucker heres situation : 1:45 nights broken time nigga crib mall open man nerve high-ass bitch molly said want call ms berry think halle rip rip rip rip rip killed club took patron head almost killed thug rip rip rip rip rip killed club took patron head almost killed thug got pocket full dead prez attached girl jpeg party scene turn murder scene keep shittin niggas need potty train turn collard green im gasoline im promethazine life aint nothin g thing switch lanes brain hand g-string im type nigga thats built last fuck ill put foot ass got million stash stack money tall might need giraffe countin cash nigga rip rip rip rip rip killed club took patron head almost killed thug rip rip rip rip rip killed club took patron head almost killed thug already got one rolled left hand pussy mind tighter headband kush lungs got ganja sweat glands shit im better next strand next strand better next strand head booty poppin handstand shine bright ill give girl slight tan make pussy whistle old spice man dont even understand shed want man throw id catch cornerback cornerback thats interception think give fuck thats misconception oh night oh night roof fire im high said oh night oh night yeah bad bitch jokes aside hey look baby whats little mama come started talking really couldnt hear started dancing mirror whoa mirror mirror whoa broke started moving shakira mirror chop one chop two chop ass chop ass chop chop ass want drop ass drop drop ass now look back whistling dixie middle school getting head ten speed jiggalo blood line pimpin hereditary black 28s remind february bet fuck neveruary dead ass rapper came cemetery cold nigga ben & jerry fill nigga deal nigga kill nigga obituary vision blurry bitches flirtin ive drinking night think kidneys hurtin closed curtains 62 ass knock ass better stick move true chain hang ding-a-ling chain hang chain hang ding-a-ling threesome got ta intervene legs sexy im in-between hey look baby whats little mama come started talking really couldnt hear started dancing mirror whoa mirror mirrorwhoa broke started moving shakira mirror chop one chop two chop ass chop ass chop chop ass want drop ass drop drop ass now look back mirror cautious booty bigger appears speed slow shes switching gears im looking baddest one tell got ta stretch girl move bend touch toes toot hut one hut two girl back back im back take step back sip cognac picture perfect body thats kodak now make nigga feel welcome doormats im oh night oh night roof fire im high im oh night oh night thats bad bitch jokes aside go hey look baby whats little mama come started talking really couldnt hear started dancing mirror whoa mirror mirror whoa broke started moving shakira mirror chop one chop two chop ass chop ass chop chop ass want drop ass drop drop ass now look back look gon na go easy hurt feelings im going one chance six minutes- six minutes- somethings wrong feel six minutes slim shady youre feeling ive got somethings happen dont know means think means trouble big trouble bananas say im taking chances doc ordered im beginnin feel rap god rap god people front back nod back nod now thinks arms long enough slap box slap box said rap robot call rap-bot rap computer must genes got laptop back pocket penll go half-cock got fat knot rap profit made livin killin bill clinton still office monica lewinsky feelin nutsack im mc still honest rude indecent hell syllables skill-a-holic kill em flippity dippity-hippity hip-hop dont really wan na pissin match rappity brat packin mac back ac backpack rap crap yap-yap yackety-yack exact time attempt lyrical acrobat stunts im practicin ill still able break motherfuckin table back couple faggots crack half realized ironic signed aftermath fact blow drop f-bombs feel wrath attack rappers havin rough time period heres maxi pad actually disastrously bad wack im masterfully constructing masterpièce cause im beginnin feel rap god rap god people front back nod back nod now thinks arms long enough slap box slap box let show maintainin shit aint hard hard everybody want key secret rap immortality ι got well truthful blueprints simply rage youthful exuberance everybody loves root nuisance hit earth asteroid nothing shoot moon pew mcs taken school music cause use vehicle bus rhyme now lead new school full students im product rakim lakim shabazz 2pac nwa cube hey doc ren yella eazy thank got slim inspired enough one day grow blow position meet run-dmc induct motherfuckin rock roll hall fame even though ill walk church burst ball flames hall fame ill inducted alcohol fame wall shame fags think game til walk flock flames plank tell fuck thinkin little gay-lookin boy gay barely say straight face lookin boy ha-ha youre witnessin mass-occur youre watching church gathering take place lookin boy oy vey boys gay thats say lookin boy thumbs pat back way go label every day lookin boy hey lookin boy say lookin boy hell yeah dre lookin boy ima work everything never asked nobody shit outta face lookin boy basically boy youre never gon na capable keepin pace lookin boy cause- im beginnin feel rap god rap god people front back nod back nod way im racin around track call nascar nascar dale earnhardt trailer park white trash god kneel general zod planets krypton- asgard asgard youll thor ill odin rodent im omnipotent let im reloadin immediately bombs im totin woken im walkin dead im talkin head zombie floatin got mom deep-throatin im ramen noodle nothin common poodle im doberman pinch arm pay homage pupil honestys brutal honestly futile dont utilize though good least wan na make sure somewhere chicken scratch scribble doodle enough rhymes maybe try help people tough times got ta keep punchlines case cause even unsigned rappers hungry lookin lunchtime know time king underground still rap im pharoahe monch grind crunch rhymes sometimes combine appeal skin color mine big come tryin censor one line said im back mathers lp 1 tried say ill take seven kids columbine put em line add ak-47 revolver 9 see away now aint big im morphin immortal comin portal youre stuck time warp 2004 though dont know fuck rhyme youre pointless rapunzel fuckin cornrows write normal fuck normal bought new raygun future come shoot ya fabolous made ray j mad cause fab said looked fag mayweathers pad singin man played piano man oh man 24-7 special cable channel ray j went straight radio station next day hey fab ima kill lyrics comin supersonic speed jj fad uh summa-lumma dooma-lumma assumin im human got ta im superhuman innovative im made rubber anything say ricochetin itll glue im devastating demonstrating give motherfuckin audience feeling levitating never fading know haters forever waiting day say fell theyll celebrating cause know way em motivated make elevating music make elevator music oh hes mainstream well thats jealous confuse hip-hop pop cause found hella way fuse rock shock rap doc throw lose make em lose dont know make songs dont know words use let know occurs im rippin one verses versus curtains im inadvertently hurtin many verses got ta murder prove half nice songs sacrifice virgins ugh school flunky pill junkie look accolades skills brung full still hungry bully cause make put mind im million leagues ill speak tongues still tongue-in-cheek fuck im drunk satan take fucking wheel ima sleep front seat bumpin heavy d boyz still chunky funky head theres something feel tugging struggling angels fight devils heres want theyre askin eliminate women hate take consideration bitter hatred may little patient sympathetic situation understand discrimination fuck lifes handin lemons make lemonade cant batter women fuck supposed bake cake dont mistake satan ; fatal mistake think need overseas take vacation trip broad make fall face dont retard king think king god going im yelling timber better move better dance lets make night wont remember ill one wont forget bigger harder fall biggity boys diggity dog em miley cyrus clothes twerking bras thongs timber face booty timber thats way timber im slicker oil spill say wont bet will timber swing partner round round end night going one shot another round end night going swing partner round round end night going one shot another round end night going going im yelling timber better move better dance lets make night wont remember ill one wont forget going im yelling timber better move better dance lets make night wont remember ill one wont forget look sky bird plane nah aint damn thing changed live hotels swing plane blessed say money aint thing club jumping lebron now voli order another round homie climb wild cause go swing partner round round end night going one shot another round end night going swing partner round round end night going one shot another round end night going going im yelling timber better move better dance lets make night wont remember ill one wont forget going im yelling timber better move better dance lets make night wont remember ill one wont forget said imma ride motherfuckin hitta likely imma die finger trigger ive grindin outside day hittas aint goin unless im hittas hitta hitta hitta hitta hitta hitta motherfuckin hittas hitta hitta hitta hitta hitta hitta duh first things first love hittas rap shit cracked involve hittas lookin lean lem call hitta sell high need mines hitta hittas smoke smoke hittas drink drank got hittas block glock dont think thats hitta back bucket lapped got act right hittas wan na act talkin snitch aint hitta trippin bitch aint hitta take hitta case yeah thats hitta know eight yeah thats hitta fucked first bitch passed hitta hit first lick passed hitta fuck hittas cause im hittas ride hittas fuck hittas snitch said imma ride motherfuckin hitta likely imma die finger trigger ive grindin outside day hittas aint goin unless im hittas hitta hitta dope boys hittas hitta hitta yg hitta hitta hitta rich homie hitta hitta hitta motherfuckin world know im hittas got 2 words love loyalty hitta trippin half b used hit mall buy everything see ass hitta gettin twisted hitta trippin knock gravy biscuit know fucked long way hitta see im hey hitta drink act right case hittas drink act right straight hittas hitta ridin dirty trynna chase figures got yopper got yola dont matter go figure said imma ride motherfuckin hitta likely imma die finger trigger ive grindin outside day hittas aint goin unless im hittas hitta hitta motherfuckin world hitta hitta yg hitta hitta hitta rich homie hitta hitta hitta hitta hittas got money got weight hitta fronted reason im straight hitta got house hitta got lake hitta eatin hitta plate still hittin licks hitta hitta runnin hitta shit hitta hitta fucked hitta bitch hitta hitta hitta talkin shit aint hitta hitta hitta hitta hitta yg hitta aint goin aint trynna leave hittas shawty seein want leave hitta wasnt enough room cause came hittas hittas hittas need set wings cause im fly hitta im business suit tie hitta ride hittas believe said imma ride motherfuckin hitta likely imma die finger trigger ive grindin outside day hittas aint goin unless im hittas hitta hitta hitta hitta motherfuckin hittas hitta hitta hitta hitta hitta hitta uh hitta hitta hitta hitta hitta hitta uh wound heals never thats cuz youre war love youre war love yeah battle scars dont look theyre fading dont look theyre going away aint never gon na change battle never let wound ruin feel ruins ruin arrow holes never close cupid shooting spree feeling stupid cuz know aint youre trying beat odds trying keep nods know know let go fear unknown holding another lover strong sends back zone tom hanks bring home another night fighting frontline poem trying write rightful maybe chopping song fight tank syndromes alone wish never looked wish never touched wish stop loving much cuz im one thats trying keep us together signs say forget wish werent best best wish good outweighed bad cuz itll never tell battle scars dont look theyre fading dont look theyre going away aint never gon na change battle scars dont look theyre fading dont look theyre going away aint never gon na change battle shouldnt said hope never comeback shouldnt happened let now youre ground screaming medic thing comes post-traumatic stresses shields body armors vests dont properly work thats youre locker full hurt enemy within fires friends best medicine probably let win wish couldnt feel wish couldnt love wish stop cuz hurts much im one thats trying keep us together signs say forget wish werent best best wish good outweighed bad cuz itll never never tell tell battle scars dont look theyre fading dont look theyre going away aint gon na change battle scars dont look theyre fading dont look theyre going away aint gon na change battle cuz youve set fire ive never felt alive yeah now hoping wounds heal never thats becuz youre war love im point breaking impossible shake owh see hoped wound heals never thats cuz youre war love hope heals never thats cuz youre war love battle scars dont look theyre fading ahha dont look theyre going away aint gon na change battle scars dont look theyre fading dont look theyre going away aint never gon na change battle scars dont look theyre fading dont look theyre going away aint never gon na change battle know im saying hollan mothafuckin boy french montana digs list know im saying nigga put work yall ready know aint worried bout nothin nothin nigga aint worried bout nothin nothin nigga aint worried bout nothin nothin nigga aint worried bout nothin nothin aint worried bout nothin nothin nigga aint worried bout nothin nothin nigga aint worried bout nothin nothin nigga aint worried bout nothin nothin riding round work work strapped nina got 2 bad bitches aye aye molly aquafina aye aye money dont mean nothing niggas dont feel see aye aye whole hood love now nigga wan na touch aint worried bout nothin nigga aint worried bout nothin nothin nigga aint worried bout nothin nothin nigga aint worried bout nothin nothin aint worried bout nothin nothin nigga aint worried bout nothin nothin nigga aint worried bout nothin nothin nigga aint worried bout nothin nothin nigga aint worried bout nothin ridin round east tremont nigga aint worried bout nothin im ridin round nina im ridin round ak hk sk beam scope window blowin smoke niggas front broke try round gon smoked gun automatic car automatic aint worried bout nothin nigga aint worried bout nothin nothin nigga aint worried bout nothin nothin nigga aint worried bout nothin nothin aint worried bout nothin nothin nigga aint worried bout nothin nothin nigga aint worried bout nothin nothin nigga aint worried bout nothin nothin ridin round work work strapped nina nina got 2 bad bitches molly aquafina fina money dont mean nothing niggas dont feel see see whole hood love now nigga wan na touch aint worried bout nothin nothin nigga aint worried bout nothin nothin nigga aint worried bout nothin nothin nigga aint worried bout nothin nothin aint worried bout nothin nothin nigga aint worried bout nothin nothin nigga aint worried bout nothin nothin nigga aint worried bout nothin nothin money dont mean nothin nada bitches dont mean nothin naada come hair nigga dont owe nothin nada im ridin round work work maxwell schreiber im hurt im hurt ill ride mount haven mount haven ill ride castle hill huh know coupe half million fuck niggas feel huh cause aint really worried bout nothin niggas aint worried bout nothin aint worried bout nothin nigga aint worried bout nothin nothin nigga aint worried bout nothin nothin nigga aint worried bout nothin nothin aint worried bout nothin nothin nigga aint worried bout nothin nothin nigga aint worried bout nothin nothin nigga aint worried bout nothin nothin ridin round work work strapped nina nina got 2 bad bitches molly aquafina fina money dont mean nothing nothin niggas dont feel see see whole hood love love now nigga wan na touch aint worried bout nothin nothin nigga aint worried bout nothin nothin nigga aint worried bout nothin nothin nigga aint worried bout nothin nothin aint worried bout nothin nothin nigga aint worried bout nothin nothin nigga aint worried bout nothin nothin nigga aint worried bout nothin nothin montana aint worried bout mothafuckin thang nigga see niggasll shaking mothafuckin boots ya boy empire dream team huh cant forget whole crew nigga juice evil empire jesus flips fleece brock nigga destroy got everything got everything complain dont even know much really made forgot lot fuck never mind got nigga dont watch cause came thats stay true thats yeah help thats real came thats stay true thats 2 chainz help thats real money mind think js pinky ring dogging hoes need quarantine league dont ball ah want fame want fame hear shit time time said love said baby girl fall line okay made million dinner fork watch switch walked ill nigga alert ill nigga alert need work got work got bitches condo bought shirt cost mercedes-benz car note toronto let metal go dick hard make metal detector go sauce dressing givenchy nigga god bless bad bitch crime id arrested tru got everything got everything complain dont even know much really made forgot lot fuck never mind got nigga dont watch cause came thats stay true thats help thats real came thats stay true thats help thats real touched 86 knew man age 6 even fucked girl used babysit years later crazy shit heard new shit nigga hated damon wayans homie dont play shit paid lot paid bit latest shit greatest hits goddamn aint wishing side yall dont fuck us dont fuck yall different side goddamn listen everybody cause told youre motherfucking man dont need help cashing checks im bigging chest yall keep talking bout next im big gets swear yall wasting yall breath im light skinned keith sweat ima make last forever turn cause aint done yet look understand im roll cottonelle made shit im road box office sales im getting paid shit ask please excuse table manners making room table dancers cause judging advances got paid eight advances goddamn got everything got everything complain dont even know much really made forgot lot fuck never mind got nigga dont watch cause came thats stay true thats help thats real came thats stay true thats hoe shut fuck got way much mental learn ive im finna didnt still waking rents due complicated simple got sexy ladies whole benz-full hoes im everything everything gentle still take time man guess im old fashioned wearing retro shit thats old fashion nigga see im saying closed caption paint pics see shit good sex need hit keep broad floor year round season tickets plead fifth drink fifth load nine leave split half smoke half need zip new girl glee shit probably making money shit swear god got 99 problems bitch aint one got 99 problems getting rich aint one got trust issues im sorry people ive pushed im type bullet-proof condom still got ta pull thats aint perfect aint saint worth one thing worth niggas still hating aint working lil bitch dont drop thun thun aayyy dont drop thun thun dont drop thun thun aayyy dont drop thun thun dont drop thun thun dont drop thun thun dont drop thun thun aayyy dont drop thun thun dont drop thun thun dont drop thun thun t-kruger ; young moola bitch drop shake hoola hoopa hoova king koopa im shit poopa scoopa drunker mothafucka night lookin eyes sayin aint right shit aint right bitch aint wrong faded going dumb thun thun song fuckin house party fuckin somebody 2 step ricky bobby drop top summer im sorry pull tomorrow two days follow ready em girl waitin nigga takin nigga fast car fast car braking nigga tastes skittles tongue middle dont dont dont drop thun thun aayyy dont drop thun thun dont drop thun thun aayyy dont drop thun thun dont drop thun thun dont drop thun thun dont drop thun thun aayyy dont drop thun thun dont drop thun thun dont drop thun thun alright oh goodness im turnt got bottle got cup hit dougie 2 step youre inc rep ha make chick us know whole crew know song ratchet boys shit finnattic gang ho now fuck im easy im never turnt thizz face girl aint frown sippin lean somebodys girl goin 3 2 1 girl now 3 pills thats wouldnt song didnt say eeeiii dont drop thun thun girl turn function gon keep goin hook come back along dont drop thun thun aayyy dont drop thun thun dont drop thun thun aayyy dont drop thun thun dont drop thun thun dont drop thun thun dont drop thun thun aayyy dont drop thun thun dont drop thun thun dont drop thun thun say drop pick grab bad bitch head cut say drop pick grab bad bitch head cut say freak youre freak cause im f-r-e-a-k yeah thats dont drop thun thun aayyy dont drop thun thun dont drop thun thun aayyy dont drop thun thun dont drop thun thun dont drop thun thun dont drop thun thun aayyy dont drop thun thun dont drop thun thun dont drop thun thun drop pussy bitch ya twerkin wit im young papi champagne know face know name drop pussy bitch twerkin work work work work bounce work work work work bounce ya twerkin wit work work work work bounce work work work work bounce ya twerkin wit dont stop pop dont stop pop pop pop ya twerkin wit dont stop pop dont stop pop pop pop ya twerkin wit dont stop pop dont stop pop pop pop ya twerkin wit dont stop pop dont stop montanna work work work work work work twerkin wit throw bust open show twerk wit ass fat need lap dance im white ghost chasin pac-man hundred lot leaning ciroc hundred large bring mop cars tinted barack got brinks truck pocket thirty chains collar two drops mileage top wallace im hella smoke bitch know filthy rich rap new deal throw three beans im huah pop molly huah bus open huah seen gatti huah pussy soaking dont stop pop dont stop pop pop pop dont stop pop dont stop pop pop pop ya twerkin wit dont stop pop dont stop pop pop pop dont stop pop dont stop pop pop pop ya twerkin wit love big booty bitches life godfather picture local club city fell love stripper bitches know im nigga talkin four door bugatti im life party lets hoes molly know came stunt drop pussy bitch got want drop pussy bitch film film bitch want film ballin ballin play new england spend spend spend stack every minute thats fifty one hundred see fucking limits shout uncle luke shout bitches 2 live crew 2 2 woo feed bitches carrots fuck em rabbit sorry thats habit smoke spliff vanish dont stop pop dont stop pop pop pop dont stop pop dont stop pop pop pop ya twerkin wit dont stop pop dont stop pop pop pop dont stop pop dont stop pop pop pop ya twerkin wit im single seeing double making triple hope pussy niggas hating never make nickel good make better people make wit cha money coming money going aint take wit cha hit right now fuck back shit right now dropped take care bought mothafuckin crib im pickin keys bitch right now ovo thats major shit toronto thats mayor shit gettin cheddar packs kd okc thats player shit dont dress alike dont rap alike shine different rhyme different thing got years man fuck time difference im young papi champagne know face know name got one watch probably pay chains youd owe change ah greystone twenty bottles thats couch wildin yelling free niggas til free one closest dawgs got three kids three always type crew good without plan b dont stop pop dont stop pop pop pop dont stop pop dont stop pop pop pop ya twerkin wit dont stop pop dont stop pop pop pop dont stop pop dont stop pop pop pop ya twerkin wit bitch stop talkin shit suck nigga dick trukfit okay fuck bitch im gone thats gangsta al capone make pussy spit bone im talkin bout bone bone bone bone im fuckin french excuse french lose mind lose bitch money aint thing chicken wing bitch ball two eyelids ymcm beat pussy stop playin make ass scream holla rock bands im beast im leash rich bitch proactiv shit pop pussy zit go name lil tunechi girl groupie nigga yous square will twist rubix motherfucker im skateboard watch trick ho im 55 six nine beat pussy klitschko french montana fuck joe weezy f fuck hoes truck world truck yo girl trukfit truck load biatch dont stop pop dont stop pop pop pop dont stop pop dont stop pop pop pop ya twerkin wit dont stop pop dont stop pop pop pop dont stop pop dont stop pop pop pop ya twerkin wit\n"
          ]
        }
      ]
    },
    {
      "cell_type": "markdown",
      "source": [
        "##Spell correction (TextBlob)"
      ],
      "metadata": {
        "id": "Brbd6_i3O_PF"
      }
    },
    {
      "cell_type": "code",
      "source": [
        "corrected_words_str = TextBlob(stripped_words_str)\n",
        "corrected_words_str = corrected_words_str.correct()"
      ],
      "metadata": {
        "id": "wmU63KdkPBsp"
      },
      "execution_count": 155,
      "outputs": []
    },
    {
      "cell_type": "code",
      "source": [
        "corrected_words_str.sentiment"
      ],
      "metadata": {
        "id": "Z-ox1CLTQp4y",
        "colab": {
          "base_uri": "https://localhost:8080/"
        },
        "outputId": "d922bc5a-86a4-45b6-c002-76050f2e91b5"
      },
      "execution_count": 157,
      "outputs": [
        {
          "output_type": "execute_result",
          "data": {
            "text/plain": [
              "Sentiment(polarity=-5.7910384511129506e-05, subjectivity=0.5094516631484827)"
            ]
          },
          "metadata": {},
          "execution_count": 157
        }
      ]
    },
    {
      "cell_type": "markdown",
      "source": [
        "##Noun pharases"
      ],
      "metadata": {
        "id": "qyyJ9bBORSwU"
      }
    },
    {
      "cell_type": "code",
      "source": [
        "corrected_words_str.noun_phrases"
      ],
      "metadata": {
        "id": "FEgkWYJ8Q_Vh"
      },
      "execution_count": null,
      "outputs": []
    },
    {
      "cell_type": "markdown",
      "source": [
        "##Lemmatization"
      ],
      "metadata": {
        "id": "L5ipcSC7ZeaO"
      }
    },
    {
      "cell_type": "code",
      "source": [
        "lemmatized_words = TextBlob(str(corrected_words_str))\n",
        "lemmatized_words = \" \". join([w.lemmatize() for w in lemmatized_words.words])"
      ],
      "metadata": {
        "id": "WBe1RrUIZbRY"
      },
      "execution_count": 169,
      "outputs": []
    },
    {
      "cell_type": "code",
      "source": [
        "lemmatized_words = lemmatized_words.split()"
      ],
      "metadata": {
        "id": "Y7JlcMzcuKQk"
      },
      "execution_count": 173,
      "outputs": []
    },
    {
      "cell_type": "code",
      "source": [
        "corrected_words_str == lemmatized_words"
      ],
      "metadata": {
        "colab": {
          "base_uri": "https://localhost:8080/"
        },
        "id": "wv21JwSWqila",
        "outputId": "7c71e127-eb76-4e46-cb9e-8acffe0461ef"
      },
      "execution_count": 178,
      "outputs": [
        {
          "output_type": "execute_result",
          "data": {
            "text/plain": [
              "False"
            ]
          },
          "metadata": {},
          "execution_count": 178
        }
      ]
    },
    {
      "cell_type": "markdown",
      "source": [
        "---\n",
        "##Words processing function\n",
        "---"
      ],
      "metadata": {
        "id": "zghtWE6RmZLi"
      }
    },
    {
      "cell_type": "code",
      "source": [
        "def words_processing(pickled_list):\n",
        "  list_of_words = ''.join(str(list(pickled_list.values())))\n",
        "  #Removing special characters and removing phrase with polish words (last paragraph)\n",
        "  list_of_words = list_of_words.translate({ord(i): None for i in '[],\".\\\\()!?…'})\n",
        "  list_of_words = list_of_words.replace(\"'\", \"\",)\n",
        "  list_of_words = list_of_words.replace(\"Coś się nie udało Spróbuj jeszcze raz Przetłumacz na: polski\", \" \")\n",
        "\n",
        "  #Changing all to lowercase\n",
        "  list_of_words = list_of_words.lower()\n",
        "\n",
        "  #Removing stopwords\n",
        "  stop_words = STOPWORDS #Removing necessary words\n",
        "  stop_words.update([\"you'd\", \"i'd\", \"'ll\", \"'til\", \"'s\", \"ca n't\", \"n't\", \"'m\", \"'re\", \"y'all\"])\n",
        "  words = word_tokenize(list_of_words)\n",
        "  stripped_words = []\n",
        "  for word in words:\n",
        "    if word not in stop_words:\n",
        "      stripped_words.append(word)\n",
        "  stripped_words_str = \" \".join(stripped_words)\n",
        "\n",
        "  #Spell correction with TextBlob / optionally\n",
        "  # corrected_words = TextBlob(stripped_words_str)\n",
        "  # corrected_words = corrected_words.correct()\n",
        "\n",
        "  #Lemmatization\n",
        "  lemmatized_words = TextBlob(str(stripped_words_str))\n",
        "  lemmatized_words = \" \". join([w.lemmatize() for w in lemmatized_words.words])\n",
        "  lemmatized_words = lemmatized_words.split() #Back to list\n",
        "\n",
        "  return lemmatized_words"
      ],
      "metadata": {
        "id": "CgcCoPu-mcOB"
      },
      "execution_count": 194,
      "outputs": []
    },
    {
      "cell_type": "code",
      "source": [
        "with open('/content/drive/MyDrive/Projekty/PROJEKT/PyCharm_songs_2014.pickle', 'rb') as handle:\n",
        "  songs_2014 = pickle.load(handle)"
      ],
      "metadata": {
        "id": "Kn_QvbbF70rS"
      },
      "execution_count": 197,
      "outputs": []
    },
    {
      "cell_type": "code",
      "source": [
        "words_2014 = words_processing(songs_2014)\n",
        "words_2014"
      ],
      "metadata": {
        "id": "l0OE5FOl7n_N"
      },
      "execution_count": null,
      "outputs": []
    },
    {
      "cell_type": "markdown",
      "source": [
        "##Count frequency of words"
      ],
      "metadata": {
        "id": "_SkTqzfMMDYE"
      }
    },
    {
      "cell_type": "code",
      "source": [
        "def count(word):\n",
        "  # Check if the '.' is the last character of the word, if so, igore it\n",
        "  if word[-1] == '.':\n",
        "      word = word[0:len(word) - 1]\n",
        "  # If the word already exists in dict, increment the value\n",
        "  if word in dictionary:\n",
        "      dictionary[word] += 1\n",
        "  # If the word doesn't apprear in the dict, create the key and assign value of 1\n",
        "  else:\n",
        "      dictionary.update({word: 1})"
      ],
      "metadata": {
        "id": "uVcHMijmMfMt"
      },
      "execution_count": 175,
      "outputs": []
    },
    {
      "cell_type": "code",
      "source": [
        "dictionary = {}\n",
        "\n",
        "for word in words_2014:\n",
        "    count(word)\n",
        " \n",
        "for all_words in dictionary:\n",
        "  if dictionary[all_words] >= 100:\n",
        "    print (\"Frequency of\", all_words, end = \" \")\n",
        "    print (\":\", end = \" \")\n",
        "    print (dictionary[all_words], end = \" \")\n",
        "    print()"
      ],
      "metadata": {
        "id": "6rnqc2vuMFNv",
        "colab": {
          "base_uri": "https://localhost:8080/"
        },
        "outputId": "c8f18663-141d-45a3-9ce7-e5af34cf7a1e"
      },
      "execution_count": 199,
      "outputs": [
        {
          "output_type": "stream",
          "name": "stdout",
          "text": [
            "Frequency of im : 444 \n",
            "Frequency of still : 128 \n",
            "Frequency of bitch : 137 \n",
            "Frequency of know : 217 \n",
            "Frequency of la : 153 \n",
            "Frequency of baby : 120 \n",
            "Frequency of got : 245 \n",
            "Frequency of now : 114 \n",
            "Frequency of dont : 203 \n",
            "Frequency of love : 198 \n",
            "Frequency of aint : 154 \n",
            "Frequency of shit : 116 \n",
            "Frequency of nigga : 263 \n",
            "Frequency of hol : 142 \n"
          ]
        }
      ]
    },
    {
      "cell_type": "code",
      "source": [
        "dict(sorted(dictionary.items(), key=lambda item: item[1], reverse=True))"
      ],
      "metadata": {
        "id": "qTFg2fWSNvTq",
        "colab": {
          "base_uri": "https://localhost:8080/"
        },
        "outputId": "cc0ce066-4edd-4236-9281-161249ec13dc"
      },
      "execution_count": 200,
      "outputs": [
        {
          "output_type": "execute_result",
          "data": {
            "text/plain": [
              "{'im': 444,\n",
              " 'nigga': 263,\n",
              " 'got': 245,\n",
              " 'know': 217,\n",
              " 'dont': 203,\n",
              " 'love': 198,\n",
              " 'aint': 154,\n",
              " 'la': 153,\n",
              " 'hol': 142,\n",
              " 'bitch': 137,\n",
              " 'still': 128,\n",
              " 'baby': 120,\n",
              " 'shit': 116,\n",
              " 'now': 114,\n",
              " 'girl': 99,\n",
              " 'hitta': 92,\n",
              " 'cause': 90,\n",
              " 'fuck': 86,\n",
              " 'one': 85,\n",
              " 'yeah': 81,\n",
              " 'thats': 79,\n",
              " 'na': 78,\n",
              " 'back': 77,\n",
              " 'go': 76,\n",
              " 'make': 71,\n",
              " 'man': 69,\n",
              " 'want': 67,\n",
              " 'youre': 66,\n",
              " 'em': 65,\n",
              " 'let': 64,\n",
              " 'money': 63,\n",
              " 'say': 62,\n",
              " 'cant': 59,\n",
              " 'see': 59,\n",
              " 'ill': 56,\n",
              " 'night': 55,\n",
              " 'real': 55,\n",
              " 'never': 53,\n",
              " 'take': 53,\n",
              " 'uh': 53,\n",
              " 'right': 52,\n",
              " 'gon': 52,\n",
              " 'wan': 50,\n",
              " 'feel': 48,\n",
              " 'time': 47,\n",
              " 'better': 47,\n",
              " 'said': 46,\n",
              " 'hoe': 46,\n",
              " 'way': 45,\n",
              " 'walk': 45,\n",
              " 'mediocre': 45,\n",
              " 'tell': 44,\n",
              " 'look': 44,\n",
              " 'hit': 44,\n",
              " 'day': 44,\n",
              " 'every': 44,\n",
              " 'come': 44,\n",
              " 'work': 43,\n",
              " 'j': 43,\n",
              " 'tryna': 42,\n",
              " 'pas': 42,\n",
              " 'think': 41,\n",
              " 'saying': 41,\n",
              " 'watch': 41,\n",
              " 'give': 40,\n",
              " 'ta': 39,\n",
              " 'boy': 39,\n",
              " 'ima': 39,\n",
              " 'trophy': 39,\n",
              " 'put': 38,\n",
              " 'wild': 38,\n",
              " 'came': 38,\n",
              " 'stoner': 38,\n",
              " 'need': 37,\n",
              " 'even': 37,\n",
              " 'bring': 36,\n",
              " 'oh': 36,\n",
              " 'as': 36,\n",
              " 'done': 35,\n",
              " 'name': 34,\n",
              " 'foot': 34,\n",
              " 'something': 33,\n",
              " 'though': 33,\n",
              " 'pussy': 33,\n",
              " 'til': 32,\n",
              " 'hookah': 32,\n",
              " 'bad': 31,\n",
              " 'show': 31,\n",
              " 'big': 31,\n",
              " 'taking': 31,\n",
              " 'remind': 30,\n",
              " 'hittas': 30,\n",
              " 'bout': 29,\n",
              " 'crazy': 29,\n",
              " 'ho': 29,\n",
              " 'bounce': 29,\n",
              " 'nothing': 28,\n",
              " 'won': 28,\n",
              " 'beat': 27,\n",
              " 'well': 27,\n",
              " 'made': 27,\n",
              " 'high': 26,\n",
              " 'wont': 26,\n",
              " 'live': 26,\n",
              " 'club': 26,\n",
              " 'game': 26,\n",
              " 'life': 26,\n",
              " '24': 26,\n",
              " 'hour': 26,\n",
              " 'keep': 25,\n",
              " 'song': 25,\n",
              " 'ya': 25,\n",
              " 'people': 25,\n",
              " 'whole': 24,\n",
              " 'ive': 24,\n",
              " 'rich': 24,\n",
              " 'year': 24,\n",
              " 'hand': 23,\n",
              " 'head': 23,\n",
              " 'hey': 23,\n",
              " 'turn': 22,\n",
              " 'round': 22,\n",
              " 'u': 22,\n",
              " 'long': 22,\n",
              " 'knock': 22,\n",
              " 'straight': 21,\n",
              " 'stay': 21,\n",
              " 'ooh-ooh-ooh-ooh': 21,\n",
              " 'fuckin': 21,\n",
              " 'side': 21,\n",
              " 'imma': 21,\n",
              " 'around': 21,\n",
              " 'hold': 20,\n",
              " 'fall': 20,\n",
              " 'left': 20,\n",
              " 'told': 20,\n",
              " 'believe': 20,\n",
              " 'little': 20,\n",
              " 'yall': 20,\n",
              " 'care': 20,\n",
              " 'first': 19,\n",
              " 'thing': 19,\n",
              " 'call': 19,\n",
              " 'going': 19,\n",
              " 'nobody': 19,\n",
              " 'talking': 19,\n",
              " 'god': 19,\n",
              " 'rap': 19,\n",
              " 'took': 19,\n",
              " 'heard': 19,\n",
              " 'good': 18,\n",
              " 'air': 18,\n",
              " 'butt': 18,\n",
              " 'top': 18,\n",
              " 'everybody': 18,\n",
              " 'lookin': 18,\n",
              " 'city': 18,\n",
              " 'fight': 18,\n",
              " 'fire': 18,\n",
              " 'ma-man': 18,\n",
              " 'friend': 17,\n",
              " 'really': 17,\n",
              " 'quick': 17,\n",
              " 'catch': 17,\n",
              " 'run': 17,\n",
              " 'house': 17,\n",
              " 'mama': 17,\n",
              " 'lil': 17,\n",
              " 'die': 17,\n",
              " 'enough': 17,\n",
              " 'boyz': 17,\n",
              " 'stand': 16,\n",
              " 'much': 16,\n",
              " 'throw': 16,\n",
              " 'stop': 16,\n",
              " 'broke': 16,\n",
              " 'la-da-da': 16,\n",
              " 'full': 16,\n",
              " 'dem': 16,\n",
              " 'cut': 16,\n",
              " 'gold': 15,\n",
              " 'nothin': 15,\n",
              " 'gas': 15,\n",
              " 'type': 15,\n",
              " 'motherfuckin': 15,\n",
              " 'yo': 15,\n",
              " 'drive': 15,\n",
              " 'light': 15,\n",
              " 'lot': 15,\n",
              " 'bound': 15,\n",
              " 'line': 14,\n",
              " 'will': 14,\n",
              " 'damn': 14,\n",
              " 'guess': 14,\n",
              " 'lose': 14,\n",
              " 'maybe': 14,\n",
              " 'hate': 14,\n",
              " 'always': 14,\n",
              " 'singing': 14,\n",
              " 'everywhere': 14,\n",
              " 'anaconda': 14,\n",
              " 'grab': 14,\n",
              " 'hard': 14,\n",
              " 'car': 14,\n",
              " 'leave': 14,\n",
              " 'young': 14,\n",
              " 'smoke': 14,\n",
              " 'rip': 14,\n",
              " 'new': 14,\n",
              " 'pay': 14,\n",
              " 'kick': 14,\n",
              " 'fabo': 14,\n",
              " 'shot': 13,\n",
              " 'id': 13,\n",
              " 'play': 13,\n",
              " 'mean': 13,\n",
              " 'ride': 13,\n",
              " 'old': 13,\n",
              " 'pedal': 13,\n",
              " 'woo': 13,\n",
              " 'shower': 13,\n",
              " 'far': 13,\n",
              " 'away': 13,\n",
              " 'studio': 13,\n",
              " 'miami': 13,\n",
              " 'party': 13,\n",
              " 'drop': 12,\n",
              " 'world': 12,\n",
              " 'remember': 12,\n",
              " 'swear': 12,\n",
              " 'face': 12,\n",
              " 'booty': 12,\n",
              " 'inside': 12,\n",
              " 'used': 12,\n",
              " 'gettin': 12,\n",
              " 'beginnin': 12,\n",
              " 'black': 12,\n",
              " 'free': 12,\n",
              " 'unless': 12,\n",
              " 'looking': 12,\n",
              " 'everything': 12,\n",
              " 'mom': 12,\n",
              " 'sittin': 12,\n",
              " 'ready': 12,\n",
              " 'pop': 12,\n",
              " 'flex': 12,\n",
              " 'zone': 12,\n",
              " 'chick': 12,\n",
              " 'thought': 11,\n",
              " 'getting': 11,\n",
              " 'harder': 11,\n",
              " 'another': 11,\n",
              " 'mind': 11,\n",
              " 'home': 11,\n",
              " 'youve': 11,\n",
              " 'check': 11,\n",
              " 'fly': 11,\n",
              " 'middle': 11,\n",
              " 'fat': 11,\n",
              " 'speed': 11,\n",
              " 'slow': 11,\n",
              " 'fucking': 11,\n",
              " 'word': 11,\n",
              " 'goin': 11,\n",
              " 'matter': 11,\n",
              " 'band': 11,\n",
              " 'white': 11,\n",
              " 'aye': 11,\n",
              " 'floor': 11,\n",
              " 'shoe': 11,\n",
              " 'job': 11,\n",
              " 'rock': 11,\n",
              " 'loud': 11,\n",
              " 'bruh': 11,\n",
              " 'cup': 10,\n",
              " 'already': 10,\n",
              " 'move': 10,\n",
              " 'end': 10,\n",
              " 'nah': 10,\n",
              " 'homie': 10,\n",
              " 'bed': 10,\n",
              " 'save': 10,\n",
              " 'fame': 10,\n",
              " 'shoot': 10,\n",
              " 'whats': 10,\n",
              " 'forever': 10,\n",
              " 'none': 10,\n",
              " 'hell': 10,\n",
              " 'sex': 10,\n",
              " 'gosh': 10,\n",
              " 'bang': 10,\n",
              " 'alright': 10,\n",
              " 'feeling': 10,\n",
              " 'pull': 10,\n",
              " 'try': 10,\n",
              " 'hair': 10,\n",
              " 'mm-hmm': 10,\n",
              " 'trippy': 10,\n",
              " 'roof': 10,\n",
              " 'street': 10,\n",
              " 'hear': 10,\n",
              " 'deal': 10,\n",
              " 'perfect': 10,\n",
              " 'main': 10,\n",
              " 'a-huh': 10,\n",
              " 'berzerk': 10,\n",
              " 'truth': 9,\n",
              " 'timber': 9,\n",
              " 'dance': 9,\n",
              " 'dog': 9,\n",
              " 'tryin': 9,\n",
              " 'cover': 9,\n",
              " 'two': 9,\n",
              " 'wasnt': 9,\n",
              " 'set': 9,\n",
              " 'doin': 9,\n",
              " 'dumb': 9,\n",
              " 'country': 9,\n",
              " 'next': 9,\n",
              " 'talk': 9,\n",
              " 'body': 9,\n",
              " 'without': 9,\n",
              " 'drink': 9,\n",
              " 'talkin': 9,\n",
              " 'lifestyle': 9,\n",
              " 'stunt': 9,\n",
              " 'paid': 9,\n",
              " 'shade': 9,\n",
              " 'skirt': 9,\n",
              " 'blow': 9,\n",
              " 'wall': 9,\n",
              " 'school': 9,\n",
              " 'ont': 9,\n",
              " 'bos': 9,\n",
              " 'front': 9,\n",
              " 'woman': 9,\n",
              " 'wit': 9,\n",
              " 'state': 9,\n",
              " 'ay': 9,\n",
              " 'workin': 9,\n",
              " 'boston': 9,\n",
              " 'titty': 9,\n",
              " 'shake': 9,\n",
              " 'language': 9,\n",
              " 'somethin': 8,\n",
              " 'worth': 8,\n",
              " 'half': 8,\n",
              " 'gun': 8,\n",
              " 'forget': 8,\n",
              " 'sky': 8,\n",
              " 'breath': 8,\n",
              " 'gave': 8,\n",
              " 'went': 8,\n",
              " 'kid': 8,\n",
              " 'place': 8,\n",
              " 'last': 8,\n",
              " 'rest': 8,\n",
              " 'peace': 8,\n",
              " 'dressed': 8,\n",
              " 'b': 8,\n",
              " 'crack': 8,\n",
              " 'ask': 8,\n",
              " 'la-da-di': 8,\n",
              " 'case': 8,\n",
              " 'might': 8,\n",
              " 'gone': 8,\n",
              " 'mouth': 8,\n",
              " 'lay': 8,\n",
              " 'thick': 8,\n",
              " 'purp': 8,\n",
              " 'tatted': 8,\n",
              " 'mini': 8,\n",
              " 'paint': 8,\n",
              " 'mad': 8,\n",
              " 'looked': 8,\n",
              " 'verse': 8,\n",
              " 'miss': 8,\n",
              " 'help': 8,\n",
              " 'pill': 8,\n",
              " 'lo-o-ove': 8,\n",
              " 'makin': 8,\n",
              " 'roll': 8,\n",
              " 'pocket': 8,\n",
              " 'understand': 8,\n",
              " 'chain': 8,\n",
              " 'bust': 8,\n",
              " 'tamed': 8,\n",
              " 'loving': 8,\n",
              " 'sixteen': 8,\n",
              " 'hope': 8,\n",
              " 'sliding': 8,\n",
              " 'cliché': 8,\n",
              " 'low': 7,\n",
              " 'wrist': 7,\n",
              " 'lane': 7,\n",
              " 'hater': 7,\n",
              " 'i-g-g-y': 7,\n",
              " 'phone': 7,\n",
              " 'hot': 7,\n",
              " 'bet': 7,\n",
              " 'trigger': 7,\n",
              " 'voice': 7,\n",
              " 'wanted': 7,\n",
              " 'music': 7,\n",
              " 'alone': 7,\n",
              " 'eat': 7,\n",
              " 'sleep': 7,\n",
              " 'okay': 7,\n",
              " 'stuck': 7,\n",
              " 'wake': 7,\n",
              " 'there': 7,\n",
              " 'bun': 7,\n",
              " 'weed': 7,\n",
              " 'wait': 7,\n",
              " 'table': 7,\n",
              " 'five': 7,\n",
              " 'lady': 7,\n",
              " 'cash': 7,\n",
              " 'squad': 7,\n",
              " 'heart': 7,\n",
              " 'grindin': 7,\n",
              " 'act': 7,\n",
              " 'fucked': 7,\n",
              " 'dope': 7,\n",
              " 'figure': 7,\n",
              " 'bottom': 7,\n",
              " 'bank': 7,\n",
              " 'thugger': 7,\n",
              " 'asked': 7,\n",
              " 'find': 7,\n",
              " '11': 7,\n",
              " 'minute': 7,\n",
              " 'rather': 7,\n",
              " 'dad': 7,\n",
              " 'slim': 7,\n",
              " 'tip': 7,\n",
              " 'best': 7,\n",
              " 'cold': 7,\n",
              " '100': 7,\n",
              " 'past': 7,\n",
              " 'fireball': 7,\n",
              " 'nod': 7,\n",
              " 'box': 7,\n",
              " 'packin': 7,\n",
              " 'use': 7,\n",
              " 'finna': 7,\n",
              " 'curse': 7,\n",
              " 'ayee': 7,\n",
              " 'uh-huh': 7,\n",
              " 'honey': 7,\n",
              " 'takin': 6,\n",
              " 'taste': 6,\n",
              " 'fancy': 6,\n",
              " 'knew': 6,\n",
              " 'touch': 6,\n",
              " 'swing': 6,\n",
              " 'monster': 6,\n",
              " 'along': 6,\n",
              " 'track': 6,\n",
              " 'start': 6,\n",
              " 'hurt': 6,\n",
              " 'meet': 6,\n",
              " 'youd': 6,\n",
              " 'hang': 6,\n",
              " 'f': 6,\n",
              " 'mustard': 6,\n",
              " 'rolling': 6,\n",
              " 'record': 6,\n",
              " 'dancing': 6,\n",
              " 'special': 6,\n",
              " 'turned': 6,\n",
              " 'red': 6,\n",
              " 'outside': 6,\n",
              " 'block': 6,\n",
              " 'running': 6,\n",
              " 'shorty': 6,\n",
              " 'cop': 6,\n",
              " 'send': 6,\n",
              " 'problem': 6,\n",
              " 'week': 6,\n",
              " 'someone': 6,\n",
              " 'chance': 6,\n",
              " 'finger': 6,\n",
              " 'mine': 6,\n",
              " 'livin': 6,\n",
              " 'sure': 6,\n",
              " 'hop': 6,\n",
              " 'toe': 6,\n",
              " 'dick': 6,\n",
              " 'pretty': 6,\n",
              " 'hip-hop': 6,\n",
              " 'wave': 6,\n",
              " 'many': 6,\n",
              " 'three': 6,\n",
              " 'cadillac': 6,\n",
              " 'hella': 6,\n",
              " 'found': 6,\n",
              " 'rhyme': 6,\n",
              " 'wish': 6,\n",
              " 'booth': 6,\n",
              " 'must': 6,\n",
              " 'grow': 6,\n",
              " 'listen': 6,\n",
              " 'theyre': 6,\n",
              " 'whoever': 6,\n",
              " 'yet': 6,\n",
              " 'potion': 6,\n",
              " 'overdosin': 6,\n",
              " 'noise': 6,\n",
              " 'six': 6,\n",
              " 'ten': 6,\n",
              " 'ring': 6,\n",
              " 'true': 6,\n",
              " 'worse': 6,\n",
              " 'guy': 6,\n",
              " 'reverend': 6,\n",
              " 'store': 6,\n",
              " 'family': 6,\n",
              " 'hondle': 6,\n",
              " '3005': 6,\n",
              " 'dark': 6,\n",
              " 'close': 6,\n",
              " 'headlight': 6,\n",
              " 'all-all': 6,\n",
              " 'champagne': 5,\n",
              " 'fast': 5,\n",
              " 'blow-oh-oh-oh': 5,\n",
              " 'flow': 5,\n",
              " 'paper': 5,\n",
              " 'huh': 5,\n",
              " 'he': 5,\n",
              " 'yelling': 5,\n",
              " 'partner': 5,\n",
              " 'bird': 5,\n",
              " 'plane': 5,\n",
              " 'lottery': 5,\n",
              " 'holdin': 5,\n",
              " 'comin': 5,\n",
              " 'mc': 5,\n",
              " 'million': 5,\n",
              " 'known': 5,\n",
              " 'widow': 5,\n",
              " 'sing': 5,\n",
              " 'thirsty': 5,\n",
              " 'web': 5,\n",
              " 'dream': 5,\n",
              " 'lean': 5,\n",
              " 'hun': 5,\n",
              " 'bought': 5,\n",
              " 'kill': 5,\n",
              " 'appeal': 5,\n",
              " 'buy': 5,\n",
              " 'm': 5,\n",
              " 'west': 5,\n",
              " 'picture': 5,\n",
              " 'couple': 5,\n",
              " 'key': 5,\n",
              " 'wrong': 5,\n",
              " 'shawty': 5,\n",
              " 'winner': 5,\n",
              " 'lie': 5,\n",
              " 'ball': 5,\n",
              " 'caught': 5,\n",
              " 'reason': 5,\n",
              " 'bucket': 5,\n",
              " 'room': 5,\n",
              " 'chest': 5,\n",
              " 'trouble': 5,\n",
              " 'blowin': 5,\n",
              " 'stuntin': 5,\n",
              " 'bi': 5,\n",
              " 'don': 5,\n",
              " 'yea': 5,\n",
              " 'bottle': 5,\n",
              " 'shame': 5,\n",
              " 'player': 5,\n",
              " 'sick': 5,\n",
              " 'shine': 5,\n",
              " 'window': 5,\n",
              " 'slap': 5,\n",
              " 'blaze': 5,\n",
              " 'blazin': 5,\n",
              " 'goddamn': 5,\n",
              " 'lord': 5,\n",
              " 'dead': 5,\n",
              " 'thug': 5,\n",
              " 'award': 5,\n",
              " 'step': 5,\n",
              " '0': 5,\n",
              " 'droppin': 5,\n",
              " 'fine': 5,\n",
              " 'amazing': 5,\n",
              " 'wiggle': 5,\n",
              " 'metal': 5,\n",
              " 'crew': 5,\n",
              " 'heat': 5,\n",
              " 'south': 5,\n",
              " 'please': 5,\n",
              " 'making': 5,\n",
              " 'blessing': 5,\n",
              " 'thousand': 5,\n",
              " 'ysl': 5,\n",
              " 'screaming': 5,\n",
              " 'coming': 5,\n",
              " 'jet': 5,\n",
              " 'tired': 5,\n",
              " 'survival': 5,\n",
              " 'heel': 4,\n",
              " 'ticket': 4,\n",
              " 'tokyo': 4,\n",
              " 'stupid': 4,\n",
              " 'change': 4,\n",
              " 'stunting': 4,\n",
              " 'bigger': 4,\n",
              " 'miley': 4,\n",
              " 'clothes': 4,\n",
              " 'lee': 4,\n",
              " 'ink': 4,\n",
              " 'somebody': 4,\n",
              " 'moment': 4,\n",
              " 'blood': 4,\n",
              " 'feelin': 4,\n",
              " 'hundred': 4,\n",
              " 'youll': 4,\n",
              " 'itll': 4,\n",
              " 'different': 4,\n",
              " 'named': 4,\n",
              " 'chill': 4,\n",
              " 'pulled': 4,\n",
              " 'a': 4,\n",
              " 'mami': 4,\n",
              " 'playing': 4,\n",
              " 'kinda': 4,\n",
              " 'camera': 4,\n",
              " 'angel': 4,\n",
              " 'dinner': 4,\n",
              " 'foreign': 4,\n",
              " 'pac': 4,\n",
              " 'four': 4,\n",
              " 'fifth': 4,\n",
              " 'easy': 4,\n",
              " 'g': 4,\n",
              " 'hole': 4,\n",
              " 'whenever': 4,\n",
              " 'smile': 4,\n",
              " 'giving': 4,\n",
              " 'likely': 4,\n",
              " 'trippin': 4,\n",
              " 'eight': 4,\n",
              " 'passed': 4,\n",
              " '2': 4,\n",
              " 'dirty': 4,\n",
              " 'mountain': 4,\n",
              " 'puffin': 4,\n",
              " 'cloud': 4,\n",
              " 'forty': 4,\n",
              " 'brother': 4,\n",
              " 'volcano': 4,\n",
              " '7': 4,\n",
              " 'twice': 4,\n",
              " 'mike': 4,\n",
              " '6': 4,\n",
              " 'fresh': 4,\n",
              " 'standin': 4,\n",
              " 'ayy': 4,\n",
              " 'flight': 4,\n",
              " 'rockin': 4,\n",
              " 'wet': 4,\n",
              " 'whip': 4,\n",
              " 'off-black': 4,\n",
              " 'midnight': 4,\n",
              " 'leaning': 4,\n",
              " 'letting': 4,\n",
              " 'keepin': 4,\n",
              " 'poppin': 4,\n",
              " 'wheel': 4,\n",
              " 'eye': 4,\n",
              " 'door': 4,\n",
              " 'blame': 4,\n",
              " 'road': 4,\n",
              " 'number': 4,\n",
              " 'stunna': 4,\n",
              " 'tape': 4,\n",
              " 'shout': 4,\n",
              " 'happy': 4,\n",
              " 'yes': 4,\n",
              " 'king': 4,\n",
              " 'bill': 4,\n",
              " 'thinkin': 4,\n",
              " 'forrest': 4,\n",
              " 'angry': 4,\n",
              " 'memory': 4,\n",
              " 'saw': 4,\n",
              " 'flame': 4,\n",
              " 'stone': 4,\n",
              " 'may': 4,\n",
              " 'here': 4,\n",
              " 'bomb': 4,\n",
              " 'least': 4,\n",
              " 'future': 4,\n",
              " 'jealous': 4,\n",
              " 'heavy': 4,\n",
              " 'treat': 4,\n",
              " 'freak': 4,\n",
              " 'trendsetter': 4,\n",
              " 'gang': 4,\n",
              " 'fool': 4,\n",
              " 'met': 4,\n",
              " 'l': 4,\n",
              " 'alive': 4,\n",
              " 'open': 4,\n",
              " 'homies': 4,\n",
              " 'account': 4,\n",
              " 'hood': 4,\n",
              " 'motherfucking': 4,\n",
              " 'sorry': 4,\n",
              " 'globe': 4,\n",
              " 'tonight': 4,\n",
              " 'dip': 4,\n",
              " 'pant': 4,\n",
              " 'bail': 4,\n",
              " 'corner': 4,\n",
              " 'glass': 4,\n",
              " 'town': 4,\n",
              " 'maze': 4,\n",
              " 'code': 4,\n",
              " 'unfair': 4,\n",
              " 'sipping': 4,\n",
              " 'runneth': 4,\n",
              " 'holy': 4,\n",
              " 'grail': 4,\n",
              " 'nate': 4,\n",
              " 'anyway': 4,\n",
              " 'till': 4,\n",
              " 'smash': 4,\n",
              " 'hoo-kah': 4,\n",
              " 'shining': 4,\n",
              " 'ma': 4,\n",
              " 'christmas': 4,\n",
              " 'afraid': 4,\n",
              " 'reputation': 4,\n",
              " 'volume': 4,\n",
              " 'mayhem': 4,\n",
              " 'short': 4,\n",
              " 'jump': 4,\n",
              " 'champion': 4,\n",
              " 'fittest': 4,\n",
              " 'hide': 4,\n",
              " 'provide': 4,\n",
              " 'nuttn': 4,\n",
              " 'realest': 3,\n",
              " 'chase': 3,\n",
              " 'bass': 3,\n",
              " 'honest': 3,\n",
              " 'meant': 3,\n",
              " 'grind': 3,\n",
              " 'drunk': 3,\n",
              " 'wishing': 3,\n",
              " 'public': 3,\n",
              " 'cake': 3,\n",
              " 'tool': 3,\n",
              " 'ooh': 3,\n",
              " 'mink': 3,\n",
              " 'ironic': 3,\n",
              " 'wonder': 3,\n",
              " 'killed': 3,\n",
              " 'played': 3,\n",
              " 'child': 3,\n",
              " 'struggle': 3,\n",
              " 'great': 3,\n",
              " 'nut': 3,\n",
              " 'shouldve': 3,\n",
              " 'mess': 3,\n",
              " 'cat': 3,\n",
              " 'couldnt': 3,\n",
              " 'weave': 3,\n",
              " 'whatever': 3,\n",
              " 'thatll': 3,\n",
              " 'jesus': 3,\n",
              " 'breathe': 3,\n",
              " 'forward': 3,\n",
              " 'quit': 3,\n",
              " 'sh': 3,\n",
              " 'missing': 3,\n",
              " 'grill': 3,\n",
              " 'telling': 3,\n",
              " 'jag': 3,\n",
              " 'michael': 3,\n",
              " 'skinny': 3,\n",
              " 'panty': 3,\n",
              " 'remix': 3,\n",
              " 'coast': 3,\n",
              " 'trying': 3,\n",
              " 'platinum': 3,\n",
              " 'devil': 3,\n",
              " 'whoa': 3,\n",
              " 'seat': 3,\n",
              " 'attached': 3,\n",
              " 'sign': 3,\n",
              " 'realized': 3,\n",
              " 'shmurda': 3,\n",
              " 'wrote': 3,\n",
              " 'seen': 3,\n",
              " 'neck': 3,\n",
              " 'trap': 3,\n",
              " 'thang': 3,\n",
              " 'pound': 3,\n",
              " 'broad': 3,\n",
              " 'ago': 3,\n",
              " 'bullet': 3,\n",
              " 'bully': 3,\n",
              " 'ayo': 3,\n",
              " 'fourth': 3,\n",
              " 'july': 3,\n",
              " 'seem': 3,\n",
              " 'mirror': 3,\n",
              " 'rough': 3,\n",
              " 'others': 3,\n",
              " 'snitch': 3,\n",
              " 'yg': 3,\n",
              " 'ridin': 3,\n",
              " 'runnin': 3,\n",
              " 'business': 3,\n",
              " 'rollie': 3,\n",
              " 'daughter': 3,\n",
              " 'stack': 3,\n",
              " 'league': 3,\n",
              " 'finish': 3,\n",
              " 'super': 3,\n",
              " 'gim': 3,\n",
              " 'space': 3,\n",
              " '12': 3,\n",
              " 'brazil': 3,\n",
              " 'split': 3,\n",
              " 'write': 3,\n",
              " 'brain': 3,\n",
              " 'sit': 3,\n",
              " 'scared': 3,\n",
              " 'tahahaha': 3,\n",
              " 'couch': 3,\n",
              " 'wolf': 3,\n",
              " 'respect': 3,\n",
              " 'naughty': 3,\n",
              " 'nature': 3,\n",
              " 'hooray': 3,\n",
              " 'tongue': 3,\n",
              " 'jordan': 3,\n",
              " 'athlete': 3,\n",
              " 'jam': 3,\n",
              " 'match': 3,\n",
              " 'heaven': 3,\n",
              " 'either': 3,\n",
              " 'park': 3,\n",
              " 'sight': 3,\n",
              " 'gangsta': 3,\n",
              " 'bright': 3,\n",
              " 'map': 3,\n",
              " 'swag': 3,\n",
              " 'anybody': 3,\n",
              " 'trip': 3,\n",
              " 'doesnt': 3,\n",
              " 'summer': 3,\n",
              " 'later': 3,\n",
              " 'diamond': 3,\n",
              " 'advance': 3,\n",
              " 'motherfuck': 3,\n",
              " 'slidin': 3,\n",
              " 'cross': 3,\n",
              " 'bein': 3,\n",
              " 'action': 3,\n",
              " 'late': 3,\n",
              " 'lavish': 3,\n",
              " 'lost': 3,\n",
              " 'movin': 3,\n",
              " 'askin': 3,\n",
              " 'learned': 3,\n",
              " 'death': 3,\n",
              " 'soon': 3,\n",
              " 'due': 3,\n",
              " 'suck': 3,\n",
              " 'bus': 3,\n",
              " 'sexy': 3,\n",
              " 'playin': 3,\n",
              " 'actin': 3,\n",
              " 'shady': 3,\n",
              " 'nice': 3,\n",
              " 'pat': 3,\n",
              " 'doc': 3,\n",
              " 'arm': 3,\n",
              " 'rapper': 3,\n",
              " 'pad': 3,\n",
              " 'hall': 3,\n",
              " 'church': 3,\n",
              " 'mathers': 3,\n",
              " 'ray': 3,\n",
              " 'radio': 3,\n",
              " 'anything': 3,\n",
              " 'fell': 3,\n",
              " 'murder': 3,\n",
              " 'prove': 3,\n",
              " 'speak': 3,\n",
              " 'medal': 3,\n",
              " 'bezel': 3,\n",
              " 'several': 3,\n",
              " 'go-getter': 3,\n",
              " 'sound': 3,\n",
              " 'bless': 3,\n",
              " 'simple': 3,\n",
              " 'fake': 3,\n",
              " 'drug': 3,\n",
              " 'america': 3,\n",
              " '4hunnid': 3,\n",
              " 'pinky': 3,\n",
              " 'complain': 3,\n",
              " 'forgot': 3,\n",
              " 'mental': 3,\n",
              " 'trust': 3,\n",
              " 'hating': 3,\n",
              " 'represent': 3,\n",
              " 'beautiful': 3,\n",
              " 'bustin': 3,\n",
              " 'smart': 3,\n",
              " 'ringin': 3,\n",
              " 'wastin': 3,\n",
              " 'gator': 3,\n",
              " 'guiseppe': 3,\n",
              " 'slime': 3,\n",
              " 'grocery': 3,\n",
              " 'lettuce': 3,\n",
              " 'extra': 3,\n",
              " 'neighborhood': 3,\n",
              " 'dough': 3,\n",
              " 'tree': 3,\n",
              " 'thinking': 3,\n",
              " 'blind': 3,\n",
              " 'bar': 3,\n",
              " 'art': 3,\n",
              " 'mattress': 3,\n",
              " 'service': 3,\n",
              " 'outlaw': 3,\n",
              " 'momma': 3,\n",
              " 'beyond': 3,\n",
              " 'closet': 3,\n",
              " 'beard': 3,\n",
              " 'weird': 3,\n",
              " 'vial': 3,\n",
              " 'mic': 3,\n",
              " 'staring': 3,\n",
              " 'jamaica': 3,\n",
              " 'lesson': 2,\n",
              " 'pick': 2,\n",
              " 'liquor': 2,\n",
              " 'decline': 2,\n",
              " 'worry': 2,\n",
              " 'working': 2,\n",
              " 'trash': 2,\n",
              " 'hotel': 2,\n",
              " 'star': 2,\n",
              " 'classic': 2,\n",
              " 'ow': 2,\n",
              " 'bra': 2,\n",
              " 'thong': 2,\n",
              " 'oil': 2,\n",
              " 'spill': 2,\n",
              " 'changed': 2,\n",
              " 'attention': 2,\n",
              " 'excuse': 2,\n",
              " 'wantin': 2,\n",
              " 'ego': 2,\n",
              " 'blew': 2,\n",
              " 'winnin': 2,\n",
              " 'sheep': 2,\n",
              " 'kool': 2,\n",
              " 'keith': 2,\n",
              " 'actually': 2,\n",
              " 'tomorrow': 2,\n",
              " 'sometimes': 2,\n",
              " 'knockin': 2,\n",
              " 'regular': 2,\n",
              " 'get': 2,\n",
              " 'dre': 2,\n",
              " 'fact': 2,\n",
              " 'twisted': 2,\n",
              " 'mouse': 2,\n",
              " 'lovin': 2,\n",
              " 'plead': 2,\n",
              " 'fatal': 2,\n",
              " 'coin': 2,\n",
              " 'keeping': 2,\n",
              " 'stylish': 2,\n",
              " 'meal': 2,\n",
              " 'automobile': 2,\n",
              " 'tellin': 2,\n",
              " 'boney': 2,\n",
              " 'jab': 2,\n",
              " 'dun-d-d-dun-dun-d-d-dun-dun': 2,\n",
              " 'calling': 2,\n",
              " 'balmain': 2,\n",
              " 'haha': 2,\n",
              " 'hype': 2,\n",
              " ...}"
            ]
          },
          "metadata": {},
          "execution_count": 200
        }
      ]
    }
  ]
}