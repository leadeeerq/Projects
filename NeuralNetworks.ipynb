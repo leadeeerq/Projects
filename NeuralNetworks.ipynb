{
  "nbformat": 4,
  "nbformat_minor": 0,
  "metadata": {
    "colab": {
      "provenance": [],
      "collapsed_sections": [],
      "toc_visible": true,
      "mount_file_id": "1yWNXkryG-gDGD-_KMCPsNASU0XbwZH1h",
      "authorship_tag": "ABX9TyOTerl7H3yJgiL9ts1k2wxq",
      "include_colab_link": true
    },
    "kernelspec": {
      "name": "python3",
      "display_name": "Python 3"
    },
    "language_info": {
      "name": "python"
    },
    "accelerator": "GPU"
  },
  "cells": [
    {
      "cell_type": "markdown",
      "metadata": {
        "id": "view-in-github",
        "colab_type": "text"
      },
      "source": [
        "<a href=\"https://colab.research.google.com/github/leadeeerq/Projects/blob/main/NeuralNetworks.ipynb\" target=\"_parent\"><img src=\"https://colab.research.google.com/assets/colab-badge.svg\" alt=\"Open In Colab\"/></a>"
      ]
    },
    {
      "cell_type": "markdown",
      "source": [
        "#Neural Nets"
      ],
      "metadata": {
        "id": "yXSp7fZXbQFj"
      }
    },
    {
      "cell_type": "markdown",
      "source": [
        "##Linear data"
      ],
      "metadata": {
        "id": "9i8GqHij87F8"
      }
    },
    {
      "cell_type": "code",
      "execution_count": null,
      "metadata": {
        "id": "5j0sKxTxTHQH"
      },
      "outputs": [],
      "source": [
        "import tensorflow as tf\n",
        "from tensorflow import keras\n",
        "import numpy as np\n",
        "import pandas as pd"
      ]
    },
    {
      "cell_type": "code",
      "source": [
        "train_df = pd.read_csv('/content/drive/MyDrive/Projekty/Neural Networks/examples/linear/data/train.csv')\n",
        "np.random.shuffle(train_df.values) #inplace, pomieszanie df"
      ],
      "metadata": {
        "id": "0_L3t1VrvjL6"
      },
      "execution_count": null,
      "outputs": []
    },
    {
      "cell_type": "code",
      "source": [
        "train_df.head()"
      ],
      "metadata": {
        "colab": {
          "base_uri": "https://localhost:8080/",
          "height": 206
        },
        "id": "IbBBwAV8v0LR",
        "outputId": "2c590f73-7b74-4c78-d100-7e3ad3d9ea23"
      },
      "execution_count": null,
      "outputs": [
        {
          "output_type": "execute_result",
          "data": {
            "text/plain": [
              "          x         y  color\n",
              "0  3.505082  2.208255    1.0\n",
              "1  3.912028  3.061294    1.0\n",
              "2  0.102991  1.099949    0.0\n",
              "3  4.156436  3.284223    1.0\n",
              "4  4.099440  3.435531    1.0"
            ],
            "text/html": [
              "\n",
              "  <div id=\"df-f45d605e-ef69-4b72-898a-1ba9bfef6172\">\n",
              "    <div class=\"colab-df-container\">\n",
              "      <div>\n",
              "<style scoped>\n",
              "    .dataframe tbody tr th:only-of-type {\n",
              "        vertical-align: middle;\n",
              "    }\n",
              "\n",
              "    .dataframe tbody tr th {\n",
              "        vertical-align: top;\n",
              "    }\n",
              "\n",
              "    .dataframe thead th {\n",
              "        text-align: right;\n",
              "    }\n",
              "</style>\n",
              "<table border=\"1\" class=\"dataframe\">\n",
              "  <thead>\n",
              "    <tr style=\"text-align: right;\">\n",
              "      <th></th>\n",
              "      <th>x</th>\n",
              "      <th>y</th>\n",
              "      <th>color</th>\n",
              "    </tr>\n",
              "  </thead>\n",
              "  <tbody>\n",
              "    <tr>\n",
              "      <th>0</th>\n",
              "      <td>3.505082</td>\n",
              "      <td>2.208255</td>\n",
              "      <td>1.0</td>\n",
              "    </tr>\n",
              "    <tr>\n",
              "      <th>1</th>\n",
              "      <td>3.912028</td>\n",
              "      <td>3.061294</td>\n",
              "      <td>1.0</td>\n",
              "    </tr>\n",
              "    <tr>\n",
              "      <th>2</th>\n",
              "      <td>0.102991</td>\n",
              "      <td>1.099949</td>\n",
              "      <td>0.0</td>\n",
              "    </tr>\n",
              "    <tr>\n",
              "      <th>3</th>\n",
              "      <td>4.156436</td>\n",
              "      <td>3.284223</td>\n",
              "      <td>1.0</td>\n",
              "    </tr>\n",
              "    <tr>\n",
              "      <th>4</th>\n",
              "      <td>4.099440</td>\n",
              "      <td>3.435531</td>\n",
              "      <td>1.0</td>\n",
              "    </tr>\n",
              "  </tbody>\n",
              "</table>\n",
              "</div>\n",
              "      <button class=\"colab-df-convert\" onclick=\"convertToInteractive('df-f45d605e-ef69-4b72-898a-1ba9bfef6172')\"\n",
              "              title=\"Convert this dataframe to an interactive table.\"\n",
              "              style=\"display:none;\">\n",
              "        \n",
              "  <svg xmlns=\"http://www.w3.org/2000/svg\" height=\"24px\"viewBox=\"0 0 24 24\"\n",
              "       width=\"24px\">\n",
              "    <path d=\"M0 0h24v24H0V0z\" fill=\"none\"/>\n",
              "    <path d=\"M18.56 5.44l.94 2.06.94-2.06 2.06-.94-2.06-.94-.94-2.06-.94 2.06-2.06.94zm-11 1L8.5 8.5l.94-2.06 2.06-.94-2.06-.94L8.5 2.5l-.94 2.06-2.06.94zm10 10l.94 2.06.94-2.06 2.06-.94-2.06-.94-.94-2.06-.94 2.06-2.06.94z\"/><path d=\"M17.41 7.96l-1.37-1.37c-.4-.4-.92-.59-1.43-.59-.52 0-1.04.2-1.43.59L10.3 9.45l-7.72 7.72c-.78.78-.78 2.05 0 2.83L4 21.41c.39.39.9.59 1.41.59.51 0 1.02-.2 1.41-.59l7.78-7.78 2.81-2.81c.8-.78.8-2.07 0-2.86zM5.41 20L4 18.59l7.72-7.72 1.47 1.35L5.41 20z\"/>\n",
              "  </svg>\n",
              "      </button>\n",
              "      \n",
              "  <style>\n",
              "    .colab-df-container {\n",
              "      display:flex;\n",
              "      flex-wrap:wrap;\n",
              "      gap: 12px;\n",
              "    }\n",
              "\n",
              "    .colab-df-convert {\n",
              "      background-color: #E8F0FE;\n",
              "      border: none;\n",
              "      border-radius: 50%;\n",
              "      cursor: pointer;\n",
              "      display: none;\n",
              "      fill: #1967D2;\n",
              "      height: 32px;\n",
              "      padding: 0 0 0 0;\n",
              "      width: 32px;\n",
              "    }\n",
              "\n",
              "    .colab-df-convert:hover {\n",
              "      background-color: #E2EBFA;\n",
              "      box-shadow: 0px 1px 2px rgba(60, 64, 67, 0.3), 0px 1px 3px 1px rgba(60, 64, 67, 0.15);\n",
              "      fill: #174EA6;\n",
              "    }\n",
              "\n",
              "    [theme=dark] .colab-df-convert {\n",
              "      background-color: #3B4455;\n",
              "      fill: #D2E3FC;\n",
              "    }\n",
              "\n",
              "    [theme=dark] .colab-df-convert:hover {\n",
              "      background-color: #434B5C;\n",
              "      box-shadow: 0px 1px 3px 1px rgba(0, 0, 0, 0.15);\n",
              "      filter: drop-shadow(0px 1px 2px rgba(0, 0, 0, 0.3));\n",
              "      fill: #FFFFFF;\n",
              "    }\n",
              "  </style>\n",
              "\n",
              "      <script>\n",
              "        const buttonEl =\n",
              "          document.querySelector('#df-f45d605e-ef69-4b72-898a-1ba9bfef6172 button.colab-df-convert');\n",
              "        buttonEl.style.display =\n",
              "          google.colab.kernel.accessAllowed ? 'block' : 'none';\n",
              "\n",
              "        async function convertToInteractive(key) {\n",
              "          const element = document.querySelector('#df-f45d605e-ef69-4b72-898a-1ba9bfef6172');\n",
              "          const dataTable =\n",
              "            await google.colab.kernel.invokeFunction('convertToInteractive',\n",
              "                                                     [key], {});\n",
              "          if (!dataTable) return;\n",
              "\n",
              "          const docLinkHtml = 'Like what you see? Visit the ' +\n",
              "            '<a target=\"_blank\" href=https://colab.research.google.com/notebooks/data_table.ipynb>data table notebook</a>'\n",
              "            + ' to learn more about interactive tables.';\n",
              "          element.innerHTML = '';\n",
              "          dataTable['output_type'] = 'display_data';\n",
              "          await google.colab.output.renderOutput(dataTable, element);\n",
              "          const docLink = document.createElement('div');\n",
              "          docLink.innerHTML = docLinkHtml;\n",
              "          element.appendChild(docLink);\n",
              "        }\n",
              "      </script>\n",
              "    </div>\n",
              "  </div>\n",
              "  "
            ]
          },
          "metadata": {},
          "execution_count": 92
        }
      ]
    },
    {
      "cell_type": "code",
      "source": [
        "train_df.x.values[0:5] #poprzez x.values uzyskuję typ numpy.ndarray"
      ],
      "metadata": {
        "colab": {
          "base_uri": "https://localhost:8080/"
        },
        "id": "KEIa182k6gVi",
        "outputId": "1a7684ec-e3f6-45cd-fb1d-a82ed8d1d2c1"
      },
      "execution_count": null,
      "outputs": [
        {
          "output_type": "execute_result",
          "data": {
            "text/plain": [
              "array([3.50508177, 3.9120278 , 0.10299125, 4.1564359 , 4.09944049])"
            ]
          },
          "metadata": {},
          "execution_count": 93
        }
      ]
    },
    {
      "cell_type": "markdown",
      "source": [
        "###Model"
      ],
      "metadata": {
        "id": "-xjJOXnnv5XJ"
      }
    },
    {
      "cell_type": "code",
      "source": [
        "model = keras.Sequential(\n",
        "    [keras.layers.Dense(4, input_shape = (2,), activation = 'relu'), #4 neurony w wartstwie ukrytej\n",
        "     keras.layers.Dense(2, activation = 'sigmoid')] #Dwa neurony warstwy wyjściowej (kolor = 1 lub = 0)\n",
        ")\n",
        "model.compile(optimizer = 'adam',\n",
        "              loss = keras.losses.SparseCategoricalCrossentropy(from_logits = True),\n",
        "              metrics = ['accuracy'])"
      ],
      "metadata": {
        "id": "g3aOBiE4v48h"
      },
      "execution_count": null,
      "outputs": []
    },
    {
      "cell_type": "code",
      "source": [
        "x = np.column_stack((train_df.x.values, train_df.y.values)) #Złączenie kolumn x i y z df_train do jednej (nazwanej 'x')\n",
        "model.fit(x, train_df.color.values, batch_size = 4, epochs = 5) #Batch_size - liczba elementów, na których sieć uczy się podczas jednej iteracji"
      ],
      "metadata": {
        "colab": {
          "base_uri": "https://localhost:8080/"
        },
        "id": "HzSYbOIK6NtU",
        "outputId": "64af1f7c-263b-4335-cb63-6b64cc439c1a"
      },
      "execution_count": null,
      "outputs": [
        {
          "output_type": "stream",
          "name": "stdout",
          "text": [
            "Epoch 1/5\n"
          ]
        },
        {
          "output_type": "stream",
          "name": "stderr",
          "text": [
            "/usr/local/lib/python3.7/dist-packages/tensorflow/python/util/dispatch.py:1082: UserWarning: \"`sparse_categorical_crossentropy` received `from_logits=True`, but the `output` argument was produced by a sigmoid or softmax activation and thus does not represent logits. Was this intended?\"\n",
            "  return dispatch_target(*args, **kwargs)\n"
          ]
        },
        {
          "output_type": "stream",
          "name": "stdout",
          "text": [
            "1000/1000 [==============================] - 2s 1ms/step - loss: 0.3944 - accuracy: 0.8700\n",
            "Epoch 2/5\n",
            "1000/1000 [==============================] - 1s 1ms/step - loss: 0.0656 - accuracy: 1.0000\n",
            "Epoch 3/5\n",
            "1000/1000 [==============================] - 1s 1ms/step - loss: 0.0253 - accuracy: 1.0000\n",
            "Epoch 4/5\n",
            "1000/1000 [==============================] - 1s 1ms/step - loss: 0.0119 - accuracy: 1.0000\n",
            "Epoch 5/5\n",
            "1000/1000 [==============================] - 1s 1ms/step - loss: 0.0063 - accuracy: 1.0000\n"
          ]
        },
        {
          "output_type": "execute_result",
          "data": {
            "text/plain": [
              "<keras.callbacks.History at 0x7f494264fad0>"
            ]
          },
          "metadata": {},
          "execution_count": 95
        }
      ]
    },
    {
      "cell_type": "markdown",
      "source": [
        "###Evaluation on the test data"
      ],
      "metadata": {
        "id": "pNl1hmfL8cya"
      }
    },
    {
      "cell_type": "code",
      "source": [
        "test_df = pd.read_csv('/content/drive/MyDrive/Projekty/Neural Networks/examples/linear/data/test.csv')\n",
        "test_x = np.column_stack((test_df.x.values, test_df.y.values))"
      ],
      "metadata": {
        "id": "0cOa-LKj8erz"
      },
      "execution_count": null,
      "outputs": []
    },
    {
      "cell_type": "code",
      "source": [
        "model.evaluate(test_x, test_df.color.values)"
      ],
      "metadata": {
        "colab": {
          "base_uri": "https://localhost:8080/"
        },
        "id": "s6Eqwqqv8rsA",
        "outputId": "3da6db95-0c62-4994-9256-4e3be6f2cdb4"
      },
      "execution_count": null,
      "outputs": [
        {
          "output_type": "stream",
          "name": "stdout",
          "text": [
            "32/32 [==============================] - 0s 1ms/step - loss: 0.0046 - accuracy: 1.0000\n"
          ]
        },
        {
          "output_type": "execute_result",
          "data": {
            "text/plain": [
              "[0.004632028751075268, 1.0]"
            ]
          },
          "metadata": {},
          "execution_count": 97
        }
      ]
    },
    {
      "cell_type": "markdown",
      "source": [
        "##Quadratic data"
      ],
      "metadata": {
        "id": "W5R4_Vp79HwQ"
      }
    },
    {
      "cell_type": "code",
      "source": [
        "train_df = pd.read_csv('/content/drive/MyDrive/Projekty/Neural Networks/examples/quadratic/data/train.csv')\n",
        "np.random.shuffle(train_df.values) #inplace, pomieszanie df\n",
        "train_x = np.column_stack((train_df.x.values, train_df.y.values)) #Złączenie kolumn x i y z df_train do jednej (nazwanej 'train_x')"
      ],
      "metadata": {
        "id": "s6kzuEGc9I0j"
      },
      "execution_count": null,
      "outputs": []
    },
    {
      "cell_type": "markdown",
      "source": [
        "###Model"
      ],
      "metadata": {
        "id": "IDPNXJig9ccM"
      }
    },
    {
      "cell_type": "code",
      "source": [
        "model = keras.Sequential(\n",
        "    [keras.layers.Dense(32, input_shape = (2,), activation = 'relu'), #pierwszy int - neurony w wartstwie ukrytej\n",
        "     keras.layers.Dropout(0.2), #Wyłączanie 20% neuronów z warstwy ukrytej\n",
        "     keras.layers.Dense(2, activation = 'sigmoid')] #Dwa neurony warstwy wyjściowej (kolor = 1 lub = 0)\n",
        ")\n",
        "model.compile(optimizer = 'adam',\n",
        "              loss = keras.losses.SparseCategoricalCrossentropy(from_logits = True),\n",
        "              metrics = ['accuracy'])\n",
        "\n",
        "model.fit(train_x, train_df.color.values, batch_size = 4, epochs = 5) #Batch_size - liczba elementów, na których sieć uczy się podczas jednej iteracji"
      ],
      "metadata": {
        "colab": {
          "base_uri": "https://localhost:8080/"
        },
        "id": "epwQqWCS9dHD",
        "outputId": "50df9309-2e30-46be-d57c-7b88af0d2d38"
      },
      "execution_count": null,
      "outputs": [
        {
          "output_type": "stream",
          "name": "stdout",
          "text": [
            "Epoch 1/5\n",
            "1000/1000 [==============================] - 2s 2ms/step - loss: 0.6684 - accuracy: 0.6332\n",
            "Epoch 2/5\n",
            "1000/1000 [==============================] - 1s 1ms/step - loss: 0.5041 - accuracy: 0.7523\n",
            "Epoch 3/5\n",
            "1000/1000 [==============================] - 2s 2ms/step - loss: 0.4177 - accuracy: 0.8188\n",
            "Epoch 4/5\n",
            "1000/1000 [==============================] - 2s 2ms/step - loss: 0.3609 - accuracy: 0.8475\n",
            "Epoch 5/5\n",
            "1000/1000 [==============================] - 1s 1ms/step - loss: 0.3160 - accuracy: 0.8840\n"
          ]
        },
        {
          "output_type": "execute_result",
          "data": {
            "text/plain": [
              "<keras.callbacks.History at 0x7f4942547ad0>"
            ]
          },
          "metadata": {},
          "execution_count": 99
        }
      ]
    },
    {
      "cell_type": "markdown",
      "source": [
        "###Evaluation"
      ],
      "metadata": {
        "id": "VDZeU50Q9ozf"
      }
    },
    {
      "cell_type": "code",
      "source": [
        "test_df = pd.read_csv('/content/drive/MyDrive/Projekty/Neural Networks/examples/quadratic/data/test.csv')\n",
        "test_x = np.column_stack((test_df.x.values, test_df.y.values))\n",
        "\n",
        "model.evaluate(test_x, test_df.color.values)"
      ],
      "metadata": {
        "colab": {
          "base_uri": "https://localhost:8080/"
        },
        "id": "Hivf56VH9p44",
        "outputId": "a47357f8-1cd6-4daa-ccb1-619867e56141"
      },
      "execution_count": null,
      "outputs": [
        {
          "output_type": "stream",
          "name": "stdout",
          "text": [
            "32/32 [==============================] - 0s 2ms/step - loss: 0.2477 - accuracy: 0.9480\n"
          ]
        },
        {
          "output_type": "execute_result",
          "data": {
            "text/plain": [
              "[0.24766743183135986, 0.9480000138282776]"
            ]
          },
          "metadata": {},
          "execution_count": 100
        }
      ]
    },
    {
      "cell_type": "markdown",
      "source": [
        "##Clusters classifying"
      ],
      "metadata": {
        "id": "ktq-0LZ9-wlF"
      }
    },
    {
      "cell_type": "code",
      "source": [
        "train_df = pd.read_csv('/content/drive/MyDrive/Projekty/Neural Networks/examples/clusters/data/train.csv')\n",
        "np.random.shuffle(train_df.values) #inplace, pomieszanie df\n",
        "train_x = np.column_stack((train_df.x.values, train_df.y.values)) #Złączenie kolumn x i y z df_train do jednej (nazwanej 'train_x')"
      ],
      "metadata": {
        "id": "Mj22qu1D-1cn"
      },
      "execution_count": null,
      "outputs": []
    },
    {
      "cell_type": "code",
      "source": [
        "train_df.head()"
      ],
      "metadata": {
        "colab": {
          "base_uri": "https://localhost:8080/",
          "height": 206
        },
        "id": "dSOFMi0N_ACA",
        "outputId": "556d75bd-40bc-43d9-98d5-7f6615424b83"
      },
      "execution_count": null,
      "outputs": [
        {
          "output_type": "execute_result",
          "data": {
            "text/plain": [
              "          x         y color\n",
              "0  0.129270  1.979720   red\n",
              "1 -0.380831  1.693519   red\n",
              "2  0.718693  1.791793   red\n",
              "3  0.722922  0.620655   red\n",
              "4 -0.432689  0.541550   red"
            ],
            "text/html": [
              "\n",
              "  <div id=\"df-f4b91ca6-a88c-45ba-bd53-b1f906993ef1\">\n",
              "    <div class=\"colab-df-container\">\n",
              "      <div>\n",
              "<style scoped>\n",
              "    .dataframe tbody tr th:only-of-type {\n",
              "        vertical-align: middle;\n",
              "    }\n",
              "\n",
              "    .dataframe tbody tr th {\n",
              "        vertical-align: top;\n",
              "    }\n",
              "\n",
              "    .dataframe thead th {\n",
              "        text-align: right;\n",
              "    }\n",
              "</style>\n",
              "<table border=\"1\" class=\"dataframe\">\n",
              "  <thead>\n",
              "    <tr style=\"text-align: right;\">\n",
              "      <th></th>\n",
              "      <th>x</th>\n",
              "      <th>y</th>\n",
              "      <th>color</th>\n",
              "    </tr>\n",
              "  </thead>\n",
              "  <tbody>\n",
              "    <tr>\n",
              "      <th>0</th>\n",
              "      <td>0.129270</td>\n",
              "      <td>1.979720</td>\n",
              "      <td>red</td>\n",
              "    </tr>\n",
              "    <tr>\n",
              "      <th>1</th>\n",
              "      <td>-0.380831</td>\n",
              "      <td>1.693519</td>\n",
              "      <td>red</td>\n",
              "    </tr>\n",
              "    <tr>\n",
              "      <th>2</th>\n",
              "      <td>0.718693</td>\n",
              "      <td>1.791793</td>\n",
              "      <td>red</td>\n",
              "    </tr>\n",
              "    <tr>\n",
              "      <th>3</th>\n",
              "      <td>0.722922</td>\n",
              "      <td>0.620655</td>\n",
              "      <td>red</td>\n",
              "    </tr>\n",
              "    <tr>\n",
              "      <th>4</th>\n",
              "      <td>-0.432689</td>\n",
              "      <td>0.541550</td>\n",
              "      <td>red</td>\n",
              "    </tr>\n",
              "  </tbody>\n",
              "</table>\n",
              "</div>\n",
              "      <button class=\"colab-df-convert\" onclick=\"convertToInteractive('df-f4b91ca6-a88c-45ba-bd53-b1f906993ef1')\"\n",
              "              title=\"Convert this dataframe to an interactive table.\"\n",
              "              style=\"display:none;\">\n",
              "        \n",
              "  <svg xmlns=\"http://www.w3.org/2000/svg\" height=\"24px\"viewBox=\"0 0 24 24\"\n",
              "       width=\"24px\">\n",
              "    <path d=\"M0 0h24v24H0V0z\" fill=\"none\"/>\n",
              "    <path d=\"M18.56 5.44l.94 2.06.94-2.06 2.06-.94-2.06-.94-.94-2.06-.94 2.06-2.06.94zm-11 1L8.5 8.5l.94-2.06 2.06-.94-2.06-.94L8.5 2.5l-.94 2.06-2.06.94zm10 10l.94 2.06.94-2.06 2.06-.94-2.06-.94-.94-2.06-.94 2.06-2.06.94z\"/><path d=\"M17.41 7.96l-1.37-1.37c-.4-.4-.92-.59-1.43-.59-.52 0-1.04.2-1.43.59L10.3 9.45l-7.72 7.72c-.78.78-.78 2.05 0 2.83L4 21.41c.39.39.9.59 1.41.59.51 0 1.02-.2 1.41-.59l7.78-7.78 2.81-2.81c.8-.78.8-2.07 0-2.86zM5.41 20L4 18.59l7.72-7.72 1.47 1.35L5.41 20z\"/>\n",
              "  </svg>\n",
              "      </button>\n",
              "      \n",
              "  <style>\n",
              "    .colab-df-container {\n",
              "      display:flex;\n",
              "      flex-wrap:wrap;\n",
              "      gap: 12px;\n",
              "    }\n",
              "\n",
              "    .colab-df-convert {\n",
              "      background-color: #E8F0FE;\n",
              "      border: none;\n",
              "      border-radius: 50%;\n",
              "      cursor: pointer;\n",
              "      display: none;\n",
              "      fill: #1967D2;\n",
              "      height: 32px;\n",
              "      padding: 0 0 0 0;\n",
              "      width: 32px;\n",
              "    }\n",
              "\n",
              "    .colab-df-convert:hover {\n",
              "      background-color: #E2EBFA;\n",
              "      box-shadow: 0px 1px 2px rgba(60, 64, 67, 0.3), 0px 1px 3px 1px rgba(60, 64, 67, 0.15);\n",
              "      fill: #174EA6;\n",
              "    }\n",
              "\n",
              "    [theme=dark] .colab-df-convert {\n",
              "      background-color: #3B4455;\n",
              "      fill: #D2E3FC;\n",
              "    }\n",
              "\n",
              "    [theme=dark] .colab-df-convert:hover {\n",
              "      background-color: #434B5C;\n",
              "      box-shadow: 0px 1px 3px 1px rgba(0, 0, 0, 0.15);\n",
              "      filter: drop-shadow(0px 1px 2px rgba(0, 0, 0, 0.3));\n",
              "      fill: #FFFFFF;\n",
              "    }\n",
              "  </style>\n",
              "\n",
              "      <script>\n",
              "        const buttonEl =\n",
              "          document.querySelector('#df-f4b91ca6-a88c-45ba-bd53-b1f906993ef1 button.colab-df-convert');\n",
              "        buttonEl.style.display =\n",
              "          google.colab.kernel.accessAllowed ? 'block' : 'none';\n",
              "\n",
              "        async function convertToInteractive(key) {\n",
              "          const element = document.querySelector('#df-f4b91ca6-a88c-45ba-bd53-b1f906993ef1');\n",
              "          const dataTable =\n",
              "            await google.colab.kernel.invokeFunction('convertToInteractive',\n",
              "                                                     [key], {});\n",
              "          if (!dataTable) return;\n",
              "\n",
              "          const docLinkHtml = 'Like what you see? Visit the ' +\n",
              "            '<a target=\"_blank\" href=https://colab.research.google.com/notebooks/data_table.ipynb>data table notebook</a>'\n",
              "            + ' to learn more about interactive tables.';\n",
              "          element.innerHTML = '';\n",
              "          dataTable['output_type'] = 'display_data';\n",
              "          await google.colab.output.renderOutput(dataTable, element);\n",
              "          const docLink = document.createElement('div');\n",
              "          docLink.innerHTML = docLinkHtml;\n",
              "          element.appendChild(docLink);\n",
              "        }\n",
              "      </script>\n",
              "    </div>\n",
              "  </div>\n",
              "  "
            ]
          },
          "metadata": {},
          "execution_count": 102
        }
      ]
    },
    {
      "cell_type": "markdown",
      "source": [
        "###Mapping the color with a dict"
      ],
      "metadata": {
        "id": "bHGDhm6dH8J8"
      }
    },
    {
      "cell_type": "code",
      "source": [
        "keys = (train_df['color'].unique())\n",
        "print(keys)"
      ],
      "metadata": {
        "colab": {
          "base_uri": "https://localhost:8080/"
        },
        "id": "uJ9tU2Vo_Jwo",
        "outputId": "a204ee4b-88fb-409d-b141-0ddaa21b38a3"
      },
      "execution_count": null,
      "outputs": [
        {
          "output_type": "stream",
          "name": "stdout",
          "text": [
            "['red' 'blue' 'green' 'teal' 'orange' 'purple']\n"
          ]
        }
      ]
    },
    {
      "cell_type": "code",
      "source": [
        "values = list(range(0, len(keys)))\n",
        "colors = dict(zip(keys, values))  #=> {'a': 1, 'b': 2}\n",
        "colors"
      ],
      "metadata": {
        "colab": {
          "base_uri": "https://localhost:8080/"
        },
        "id": "WJQZKZ05_jJA",
        "outputId": "f7800c38-9336-424d-a355-6c3b1bc7844a"
      },
      "execution_count": null,
      "outputs": [
        {
          "output_type": "execute_result",
          "data": {
            "text/plain": [
              "{'red': 0, 'blue': 1, 'green': 2, 'teal': 3, 'orange': 4, 'purple': 5}"
            ]
          },
          "metadata": {},
          "execution_count": 104
        }
      ]
    },
    {
      "cell_type": "code",
      "source": [
        "train_df['color'] = train_df['color'].map(colors)"
      ],
      "metadata": {
        "id": "RBXuMyZtAmWq"
      },
      "execution_count": null,
      "outputs": []
    },
    {
      "cell_type": "code",
      "source": [
        "train_df "
      ],
      "metadata": {
        "colab": {
          "base_uri": "https://localhost:8080/",
          "height": 424
        },
        "id": "AREP940CFL1o",
        "outputId": "437b905d-6d03-40d7-d736-dc642a2e004f"
      },
      "execution_count": null,
      "outputs": [
        {
          "output_type": "execute_result",
          "data": {
            "text/plain": [
              "             x         y  color\n",
              "0     0.129270  1.979720      0\n",
              "1    -0.380831  1.693519      0\n",
              "2     0.718693  1.791793      0\n",
              "3     0.722922  0.620655      0\n",
              "4    -0.432689  0.541550      0\n",
              "...        ...       ...    ...\n",
              "5995  0.973060  3.174358      5\n",
              "5996 -0.894536  2.964002      5\n",
              "5997  0.426649  3.511122      5\n",
              "5998 -0.414503  2.712347      5\n",
              "5999 -0.248018  2.501135      5\n",
              "\n",
              "[6000 rows x 3 columns]"
            ],
            "text/html": [
              "\n",
              "  <div id=\"df-90233302-130d-409f-83e5-92f03e6a4f1d\">\n",
              "    <div class=\"colab-df-container\">\n",
              "      <div>\n",
              "<style scoped>\n",
              "    .dataframe tbody tr th:only-of-type {\n",
              "        vertical-align: middle;\n",
              "    }\n",
              "\n",
              "    .dataframe tbody tr th {\n",
              "        vertical-align: top;\n",
              "    }\n",
              "\n",
              "    .dataframe thead th {\n",
              "        text-align: right;\n",
              "    }\n",
              "</style>\n",
              "<table border=\"1\" class=\"dataframe\">\n",
              "  <thead>\n",
              "    <tr style=\"text-align: right;\">\n",
              "      <th></th>\n",
              "      <th>x</th>\n",
              "      <th>y</th>\n",
              "      <th>color</th>\n",
              "    </tr>\n",
              "  </thead>\n",
              "  <tbody>\n",
              "    <tr>\n",
              "      <th>0</th>\n",
              "      <td>0.129270</td>\n",
              "      <td>1.979720</td>\n",
              "      <td>0</td>\n",
              "    </tr>\n",
              "    <tr>\n",
              "      <th>1</th>\n",
              "      <td>-0.380831</td>\n",
              "      <td>1.693519</td>\n",
              "      <td>0</td>\n",
              "    </tr>\n",
              "    <tr>\n",
              "      <th>2</th>\n",
              "      <td>0.718693</td>\n",
              "      <td>1.791793</td>\n",
              "      <td>0</td>\n",
              "    </tr>\n",
              "    <tr>\n",
              "      <th>3</th>\n",
              "      <td>0.722922</td>\n",
              "      <td>0.620655</td>\n",
              "      <td>0</td>\n",
              "    </tr>\n",
              "    <tr>\n",
              "      <th>4</th>\n",
              "      <td>-0.432689</td>\n",
              "      <td>0.541550</td>\n",
              "      <td>0</td>\n",
              "    </tr>\n",
              "    <tr>\n",
              "      <th>...</th>\n",
              "      <td>...</td>\n",
              "      <td>...</td>\n",
              "      <td>...</td>\n",
              "    </tr>\n",
              "    <tr>\n",
              "      <th>5995</th>\n",
              "      <td>0.973060</td>\n",
              "      <td>3.174358</td>\n",
              "      <td>5</td>\n",
              "    </tr>\n",
              "    <tr>\n",
              "      <th>5996</th>\n",
              "      <td>-0.894536</td>\n",
              "      <td>2.964002</td>\n",
              "      <td>5</td>\n",
              "    </tr>\n",
              "    <tr>\n",
              "      <th>5997</th>\n",
              "      <td>0.426649</td>\n",
              "      <td>3.511122</td>\n",
              "      <td>5</td>\n",
              "    </tr>\n",
              "    <tr>\n",
              "      <th>5998</th>\n",
              "      <td>-0.414503</td>\n",
              "      <td>2.712347</td>\n",
              "      <td>5</td>\n",
              "    </tr>\n",
              "    <tr>\n",
              "      <th>5999</th>\n",
              "      <td>-0.248018</td>\n",
              "      <td>2.501135</td>\n",
              "      <td>5</td>\n",
              "    </tr>\n",
              "  </tbody>\n",
              "</table>\n",
              "<p>6000 rows × 3 columns</p>\n",
              "</div>\n",
              "      <button class=\"colab-df-convert\" onclick=\"convertToInteractive('df-90233302-130d-409f-83e5-92f03e6a4f1d')\"\n",
              "              title=\"Convert this dataframe to an interactive table.\"\n",
              "              style=\"display:none;\">\n",
              "        \n",
              "  <svg xmlns=\"http://www.w3.org/2000/svg\" height=\"24px\"viewBox=\"0 0 24 24\"\n",
              "       width=\"24px\">\n",
              "    <path d=\"M0 0h24v24H0V0z\" fill=\"none\"/>\n",
              "    <path d=\"M18.56 5.44l.94 2.06.94-2.06 2.06-.94-2.06-.94-.94-2.06-.94 2.06-2.06.94zm-11 1L8.5 8.5l.94-2.06 2.06-.94-2.06-.94L8.5 2.5l-.94 2.06-2.06.94zm10 10l.94 2.06.94-2.06 2.06-.94-2.06-.94-.94-2.06-.94 2.06-2.06.94z\"/><path d=\"M17.41 7.96l-1.37-1.37c-.4-.4-.92-.59-1.43-.59-.52 0-1.04.2-1.43.59L10.3 9.45l-7.72 7.72c-.78.78-.78 2.05 0 2.83L4 21.41c.39.39.9.59 1.41.59.51 0 1.02-.2 1.41-.59l7.78-7.78 2.81-2.81c.8-.78.8-2.07 0-2.86zM5.41 20L4 18.59l7.72-7.72 1.47 1.35L5.41 20z\"/>\n",
              "  </svg>\n",
              "      </button>\n",
              "      \n",
              "  <style>\n",
              "    .colab-df-container {\n",
              "      display:flex;\n",
              "      flex-wrap:wrap;\n",
              "      gap: 12px;\n",
              "    }\n",
              "\n",
              "    .colab-df-convert {\n",
              "      background-color: #E8F0FE;\n",
              "      border: none;\n",
              "      border-radius: 50%;\n",
              "      cursor: pointer;\n",
              "      display: none;\n",
              "      fill: #1967D2;\n",
              "      height: 32px;\n",
              "      padding: 0 0 0 0;\n",
              "      width: 32px;\n",
              "    }\n",
              "\n",
              "    .colab-df-convert:hover {\n",
              "      background-color: #E2EBFA;\n",
              "      box-shadow: 0px 1px 2px rgba(60, 64, 67, 0.3), 0px 1px 3px 1px rgba(60, 64, 67, 0.15);\n",
              "      fill: #174EA6;\n",
              "    }\n",
              "\n",
              "    [theme=dark] .colab-df-convert {\n",
              "      background-color: #3B4455;\n",
              "      fill: #D2E3FC;\n",
              "    }\n",
              "\n",
              "    [theme=dark] .colab-df-convert:hover {\n",
              "      background-color: #434B5C;\n",
              "      box-shadow: 0px 1px 3px 1px rgba(0, 0, 0, 0.15);\n",
              "      filter: drop-shadow(0px 1px 2px rgba(0, 0, 0, 0.3));\n",
              "      fill: #FFFFFF;\n",
              "    }\n",
              "  </style>\n",
              "\n",
              "      <script>\n",
              "        const buttonEl =\n",
              "          document.querySelector('#df-90233302-130d-409f-83e5-92f03e6a4f1d button.colab-df-convert');\n",
              "        buttonEl.style.display =\n",
              "          google.colab.kernel.accessAllowed ? 'block' : 'none';\n",
              "\n",
              "        async function convertToInteractive(key) {\n",
              "          const element = document.querySelector('#df-90233302-130d-409f-83e5-92f03e6a4f1d');\n",
              "          const dataTable =\n",
              "            await google.colab.kernel.invokeFunction('convertToInteractive',\n",
              "                                                     [key], {});\n",
              "          if (!dataTable) return;\n",
              "\n",
              "          const docLinkHtml = 'Like what you see? Visit the ' +\n",
              "            '<a target=\"_blank\" href=https://colab.research.google.com/notebooks/data_table.ipynb>data table notebook</a>'\n",
              "            + ' to learn more about interactive tables.';\n",
              "          element.innerHTML = '';\n",
              "          dataTable['output_type'] = 'display_data';\n",
              "          await google.colab.output.renderOutput(dataTable, element);\n",
              "          const docLink = document.createElement('div');\n",
              "          docLink.innerHTML = docLinkHtml;\n",
              "          element.appendChild(docLink);\n",
              "        }\n",
              "      </script>\n",
              "    </div>\n",
              "  </div>\n",
              "  "
            ]
          },
          "metadata": {},
          "execution_count": 106
        }
      ]
    },
    {
      "cell_type": "markdown",
      "source": [
        "###2 different ways to map the color columns"
      ],
      "metadata": {
        "id": "iX07OAVOH0XL"
      }
    },
    {
      "cell_type": "code",
      "source": [
        "# train_df['color'] = pd.factorize(train_df.color)[0]"
      ],
      "metadata": {
        "id": "LkC2tgDBHhmh"
      },
      "execution_count": null,
      "outputs": []
    },
    {
      "cell_type": "code",
      "source": [
        "# train_df['color'] = train_df.color.apply(lambda x: colors[x])"
      ],
      "metadata": {
        "id": "61fjNCCyH_4u"
      },
      "execution_count": null,
      "outputs": []
    },
    {
      "cell_type": "markdown",
      "source": [
        "###Model"
      ],
      "metadata": {
        "id": "Uei3RbSNCOcj"
      }
    },
    {
      "cell_type": "code",
      "source": [
        "model = keras.Sequential(\n",
        "    [keras.layers.Dense(32, input_shape = (2,), activation = 'relu'), #pierwszy int - neurony w wartstwie ukrytej\n",
        "     keras.layers.Dense(32, activation = 'relu'),\n",
        "     keras.layers.Dense(6, activation = 'sigmoid')] #6 etykiet klustrów\n",
        ")\n",
        "model.compile(optimizer = 'adam',\n",
        "              loss = keras.losses.SparseCategoricalCrossentropy(from_logits = True),\n",
        "              metrics = ['accuracy'])\n",
        "\n",
        "model.fit(train_x, train_df.color.values, batch_size = 4, epochs = 5) #Batch_size - liczba elementów, na których sieć uczy się podczas jednej iteracji"
      ],
      "metadata": {
        "colab": {
          "base_uri": "https://localhost:8080/"
        },
        "id": "j9CUvyrsCPLM",
        "outputId": "61dee88f-9b3d-4873-b68d-ec7d20e08536"
      },
      "execution_count": null,
      "outputs": [
        {
          "output_type": "stream",
          "name": "stdout",
          "text": [
            "Epoch 1/5\n"
          ]
        },
        {
          "output_type": "stream",
          "name": "stderr",
          "text": [
            "/usr/local/lib/python3.7/dist-packages/tensorflow/python/util/dispatch.py:1082: UserWarning: \"`sparse_categorical_crossentropy` received `from_logits=True`, but the `output` argument was produced by a sigmoid or softmax activation and thus does not represent logits. Was this intended?\"\n",
            "  return dispatch_target(*args, **kwargs)\n"
          ]
        },
        {
          "output_type": "stream",
          "name": "stdout",
          "text": [
            "1500/1500 [==============================] - 3s 2ms/step - loss: 0.6075 - accuracy: 0.7722\n",
            "Epoch 2/5\n",
            "1500/1500 [==============================] - 3s 2ms/step - loss: 0.1707 - accuracy: 0.9477\n",
            "Epoch 3/5\n",
            "1500/1500 [==============================] - 3s 2ms/step - loss: 0.1237 - accuracy: 0.9622\n",
            "Epoch 4/5\n",
            "1500/1500 [==============================] - 3s 2ms/step - loss: 0.1025 - accuracy: 0.9655\n",
            "Epoch 5/5\n",
            "1500/1500 [==============================] - 3s 2ms/step - loss: 0.0911 - accuracy: 0.9677\n"
          ]
        },
        {
          "output_type": "execute_result",
          "data": {
            "text/plain": [
              "<keras.callbacks.History at 0x7f4939bffcd0>"
            ]
          },
          "metadata": {},
          "execution_count": 107
        }
      ]
    },
    {
      "cell_type": "markdown",
      "source": [
        "###Evaluation"
      ],
      "metadata": {
        "id": "fusX5pbPC2U6"
      }
    },
    {
      "cell_type": "code",
      "source": [
        "test_df = pd.read_csv('/content/drive/MyDrive/Projekty/Neural Networks/examples/clusters/data/test.csv')\n",
        "test_x = np.column_stack((test_df.x.values, test_df.y.values))\n",
        "test_df['color'] = test_df['color'].map(colors)\n",
        "\n",
        "model.evaluate(test_x, test_df.color.values)"
      ],
      "metadata": {
        "colab": {
          "base_uri": "https://localhost:8080/"
        },
        "id": "1qvaQy-LC3J9",
        "outputId": "a954c295-4ca2-4ee4-ff91-4c47020f5c29"
      },
      "execution_count": null,
      "outputs": [
        {
          "output_type": "stream",
          "name": "stdout",
          "text": [
            "38/38 [==============================] - 0s 1ms/step - loss: 0.1048 - accuracy: 0.9542\n"
          ]
        },
        {
          "output_type": "execute_result",
          "data": {
            "text/plain": [
              "[0.10480944067239761, 0.9541666507720947]"
            ]
          },
          "metadata": {},
          "execution_count": 108
        }
      ]
    },
    {
      "cell_type": "markdown",
      "source": [
        "###Prediction"
      ],
      "metadata": {
        "id": "WzjERJzkDKTV"
      }
    },
    {
      "cell_type": "code",
      "source": [
        "model.predict(np.array([[0,3]]))"
      ],
      "metadata": {
        "colab": {
          "base_uri": "https://localhost:8080/"
        },
        "id": "b_4rP4xCDqmj",
        "outputId": "39b46a27-b3c3-45a2-d179-e4de09dd59e2"
      },
      "execution_count": null,
      "outputs": [
        {
          "output_type": "stream",
          "name": "stdout",
          "text": [
            "1/1 [==============================] - 0s 55ms/step\n"
          ]
        },
        {
          "output_type": "execute_result",
          "data": {
            "text/plain": [
              "array([[1.1330723e-03, 6.4696915e-02, 1.1424996e-08, 2.5279614e-09,\n",
              "        1.2059400e-05, 9.9852628e-01]], dtype=float32)"
            ]
          },
          "metadata": {},
          "execution_count": 109
        }
      ]
    },
    {
      "cell_type": "code",
      "source": [
        "print(f'Prediction: ', np.round(model.predict(np.array([[0,3]]))))"
      ],
      "metadata": {
        "colab": {
          "base_uri": "https://localhost:8080/"
        },
        "id": "ZxoY30yzDLjI",
        "outputId": "707de0ac-a5c6-4e89-87f2-71cd233a94e6"
      },
      "execution_count": null,
      "outputs": [
        {
          "output_type": "stream",
          "name": "stdout",
          "text": [
            "1/1 [==============================] - 0s 21ms/step\n",
            "Prediction:  [[0. 0. 0. 0. 0. 1.]]\n"
          ]
        }
      ]
    },
    {
      "cell_type": "markdown",
      "source": [
        "##Complex case classification"
      ],
      "metadata": {
        "id": "73sh2vkrLL7Z"
      }
    },
    {
      "cell_type": "markdown",
      "source": [
        "![figure.png](data:image/png;base64,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)"
      ],
      "metadata": {
        "id": "QeYjwKzUL94f"
      }
    },
    {
      "cell_type": "code",
      "source": [
        "train_df = pd.read_csv('/content/drive/MyDrive/Projekty/Neural Networks/examples/complex/data/train.csv')\n",
        "np.random.shuffle(train_df.values) #inplace, pomieszanie df\n",
        "train_x = np.column_stack((train_df.x.values, train_df.y.values)) #Złączenie kolumn x i y z df_train do jednej (nazwanej 'train_x')"
      ],
      "metadata": {
        "id": "0IffDzTILRWp"
      },
      "execution_count": null,
      "outputs": []
    },
    {
      "cell_type": "code",
      "source": [
        "train_df"
      ],
      "metadata": {
        "colab": {
          "base_uri": "https://localhost:8080/",
          "height": 424
        },
        "id": "p43xSIu8MNWw",
        "outputId": "c2df5727-f663-4923-af91-2d9e80b86248"
      },
      "execution_count": null,
      "outputs": [
        {
          "output_type": "execute_result",
          "data": {
            "text/plain": [
              "              x         y  color\n",
              "0     -3.529067 -1.072599    1.0\n",
              "1     -3.739934 -2.102559    1.0\n",
              "2     -2.187437 -4.475526    1.0\n",
              "3     -2.291865 -0.020283    1.0\n",
              "4      3.809626 -4.677126    0.0\n",
              "...         ...       ...    ...\n",
              "19995  0.987387 -1.242272    1.0\n",
              "19996 -0.096193  3.835872    0.0\n",
              "19997 -2.881219 -2.430065    1.0\n",
              "19998 -0.035318  0.708324    1.0\n",
              "19999  3.989955  4.083318    0.0\n",
              "\n",
              "[20000 rows x 3 columns]"
            ],
            "text/html": [
              "\n",
              "  <div id=\"df-d04d03d5-a2d9-45c1-b925-e11a6c5a271e\">\n",
              "    <div class=\"colab-df-container\">\n",
              "      <div>\n",
              "<style scoped>\n",
              "    .dataframe tbody tr th:only-of-type {\n",
              "        vertical-align: middle;\n",
              "    }\n",
              "\n",
              "    .dataframe tbody tr th {\n",
              "        vertical-align: top;\n",
              "    }\n",
              "\n",
              "    .dataframe thead th {\n",
              "        text-align: right;\n",
              "    }\n",
              "</style>\n",
              "<table border=\"1\" class=\"dataframe\">\n",
              "  <thead>\n",
              "    <tr style=\"text-align: right;\">\n",
              "      <th></th>\n",
              "      <th>x</th>\n",
              "      <th>y</th>\n",
              "      <th>color</th>\n",
              "    </tr>\n",
              "  </thead>\n",
              "  <tbody>\n",
              "    <tr>\n",
              "      <th>0</th>\n",
              "      <td>-3.529067</td>\n",
              "      <td>-1.072599</td>\n",
              "      <td>1.0</td>\n",
              "    </tr>\n",
              "    <tr>\n",
              "      <th>1</th>\n",
              "      <td>-3.739934</td>\n",
              "      <td>-2.102559</td>\n",
              "      <td>1.0</td>\n",
              "    </tr>\n",
              "    <tr>\n",
              "      <th>2</th>\n",
              "      <td>-2.187437</td>\n",
              "      <td>-4.475526</td>\n",
              "      <td>1.0</td>\n",
              "    </tr>\n",
              "    <tr>\n",
              "      <th>3</th>\n",
              "      <td>-2.291865</td>\n",
              "      <td>-0.020283</td>\n",
              "      <td>1.0</td>\n",
              "    </tr>\n",
              "    <tr>\n",
              "      <th>4</th>\n",
              "      <td>3.809626</td>\n",
              "      <td>-4.677126</td>\n",
              "      <td>0.0</td>\n",
              "    </tr>\n",
              "    <tr>\n",
              "      <th>...</th>\n",
              "      <td>...</td>\n",
              "      <td>...</td>\n",
              "      <td>...</td>\n",
              "    </tr>\n",
              "    <tr>\n",
              "      <th>19995</th>\n",
              "      <td>0.987387</td>\n",
              "      <td>-1.242272</td>\n",
              "      <td>1.0</td>\n",
              "    </tr>\n",
              "    <tr>\n",
              "      <th>19996</th>\n",
              "      <td>-0.096193</td>\n",
              "      <td>3.835872</td>\n",
              "      <td>0.0</td>\n",
              "    </tr>\n",
              "    <tr>\n",
              "      <th>19997</th>\n",
              "      <td>-2.881219</td>\n",
              "      <td>-2.430065</td>\n",
              "      <td>1.0</td>\n",
              "    </tr>\n",
              "    <tr>\n",
              "      <th>19998</th>\n",
              "      <td>-0.035318</td>\n",
              "      <td>0.708324</td>\n",
              "      <td>1.0</td>\n",
              "    </tr>\n",
              "    <tr>\n",
              "      <th>19999</th>\n",
              "      <td>3.989955</td>\n",
              "      <td>4.083318</td>\n",
              "      <td>0.0</td>\n",
              "    </tr>\n",
              "  </tbody>\n",
              "</table>\n",
              "<p>20000 rows × 3 columns</p>\n",
              "</div>\n",
              "      <button class=\"colab-df-convert\" onclick=\"convertToInteractive('df-d04d03d5-a2d9-45c1-b925-e11a6c5a271e')\"\n",
              "              title=\"Convert this dataframe to an interactive table.\"\n",
              "              style=\"display:none;\">\n",
              "        \n",
              "  <svg xmlns=\"http://www.w3.org/2000/svg\" height=\"24px\"viewBox=\"0 0 24 24\"\n",
              "       width=\"24px\">\n",
              "    <path d=\"M0 0h24v24H0V0z\" fill=\"none\"/>\n",
              "    <path d=\"M18.56 5.44l.94 2.06.94-2.06 2.06-.94-2.06-.94-.94-2.06-.94 2.06-2.06.94zm-11 1L8.5 8.5l.94-2.06 2.06-.94-2.06-.94L8.5 2.5l-.94 2.06-2.06.94zm10 10l.94 2.06.94-2.06 2.06-.94-2.06-.94-.94-2.06-.94 2.06-2.06.94z\"/><path d=\"M17.41 7.96l-1.37-1.37c-.4-.4-.92-.59-1.43-.59-.52 0-1.04.2-1.43.59L10.3 9.45l-7.72 7.72c-.78.78-.78 2.05 0 2.83L4 21.41c.39.39.9.59 1.41.59.51 0 1.02-.2 1.41-.59l7.78-7.78 2.81-2.81c.8-.78.8-2.07 0-2.86zM5.41 20L4 18.59l7.72-7.72 1.47 1.35L5.41 20z\"/>\n",
              "  </svg>\n",
              "      </button>\n",
              "      \n",
              "  <style>\n",
              "    .colab-df-container {\n",
              "      display:flex;\n",
              "      flex-wrap:wrap;\n",
              "      gap: 12px;\n",
              "    }\n",
              "\n",
              "    .colab-df-convert {\n",
              "      background-color: #E8F0FE;\n",
              "      border: none;\n",
              "      border-radius: 50%;\n",
              "      cursor: pointer;\n",
              "      display: none;\n",
              "      fill: #1967D2;\n",
              "      height: 32px;\n",
              "      padding: 0 0 0 0;\n",
              "      width: 32px;\n",
              "    }\n",
              "\n",
              "    .colab-df-convert:hover {\n",
              "      background-color: #E2EBFA;\n",
              "      box-shadow: 0px 1px 2px rgba(60, 64, 67, 0.3), 0px 1px 3px 1px rgba(60, 64, 67, 0.15);\n",
              "      fill: #174EA6;\n",
              "    }\n",
              "\n",
              "    [theme=dark] .colab-df-convert {\n",
              "      background-color: #3B4455;\n",
              "      fill: #D2E3FC;\n",
              "    }\n",
              "\n",
              "    [theme=dark] .colab-df-convert:hover {\n",
              "      background-color: #434B5C;\n",
              "      box-shadow: 0px 1px 3px 1px rgba(0, 0, 0, 0.15);\n",
              "      filter: drop-shadow(0px 1px 2px rgba(0, 0, 0, 0.3));\n",
              "      fill: #FFFFFF;\n",
              "    }\n",
              "  </style>\n",
              "\n",
              "      <script>\n",
              "        const buttonEl =\n",
              "          document.querySelector('#df-d04d03d5-a2d9-45c1-b925-e11a6c5a271e button.colab-df-convert');\n",
              "        buttonEl.style.display =\n",
              "          google.colab.kernel.accessAllowed ? 'block' : 'none';\n",
              "\n",
              "        async function convertToInteractive(key) {\n",
              "          const element = document.querySelector('#df-d04d03d5-a2d9-45c1-b925-e11a6c5a271e');\n",
              "          const dataTable =\n",
              "            await google.colab.kernel.invokeFunction('convertToInteractive',\n",
              "                                                     [key], {});\n",
              "          if (!dataTable) return;\n",
              "\n",
              "          const docLinkHtml = 'Like what you see? Visit the ' +\n",
              "            '<a target=\"_blank\" href=https://colab.research.google.com/notebooks/data_table.ipynb>data table notebook</a>'\n",
              "            + ' to learn more about interactive tables.';\n",
              "          element.innerHTML = '';\n",
              "          dataTable['output_type'] = 'display_data';\n",
              "          await google.colab.output.renderOutput(dataTable, element);\n",
              "          const docLink = document.createElement('div');\n",
              "          docLink.innerHTML = docLinkHtml;\n",
              "          element.appendChild(docLink);\n",
              "        }\n",
              "      </script>\n",
              "    </div>\n",
              "  </div>\n",
              "  "
            ]
          },
          "metadata": {},
          "execution_count": 112
        }
      ]
    },
    {
      "cell_type": "code",
      "source": [
        "model = keras.Sequential(\n",
        "    [keras.layers.Dense(256, input_shape = (2,), activation = 'relu'), #pierwszy int - neurony w wartstwie ukrytej\n",
        "     keras.layers.Dropout(0.4),\n",
        "     keras.layers.Dense(128, activation = 'relu'),\n",
        "     keras.layers.Dropout(0.4),\n",
        "     keras.layers.Dense(128, activation = 'relu'),\n",
        "     keras.layers.Dense(2, activation = 'sigmoid')] #2 etykiety klustrów\n",
        ")\n",
        "model.compile(optimizer = 'adam',\n",
        "              loss = keras.losses.SparseCategoricalCrossentropy(from_logits = True),\n",
        "              metrics = ['accuracy'])\n",
        "\n",
        "model.fit(train_x, train_df.color.values, batch_size = 4, epochs = 5) #Batch_size - liczba elementów, na których sieć uczy się podczas jednej iteracji"
      ],
      "metadata": {
        "colab": {
          "base_uri": "https://localhost:8080/"
        },
        "id": "pQ62UxluMVZk",
        "outputId": "a675e7fb-a9f8-4242-9e46-b367863c0256"
      },
      "execution_count": null,
      "outputs": [
        {
          "output_type": "stream",
          "name": "stdout",
          "text": [
            "Epoch 1/5\n"
          ]
        },
        {
          "output_type": "stream",
          "name": "stderr",
          "text": [
            "/usr/local/lib/python3.7/dist-packages/tensorflow/python/util/dispatch.py:1082: UserWarning: \"`sparse_categorical_crossentropy` received `from_logits=True`, but the `output` argument was produced by a sigmoid or softmax activation and thus does not represent logits. Was this intended?\"\n",
            "  return dispatch_target(*args, **kwargs)\n"
          ]
        },
        {
          "output_type": "stream",
          "name": "stdout",
          "text": [
            "5000/5000 [==============================] - 11s 2ms/step - loss: 0.6193 - accuracy: 0.6492\n",
            "Epoch 2/5\n",
            "5000/5000 [==============================] - 11s 2ms/step - loss: 0.5497 - accuracy: 0.7265\n",
            "Epoch 3/5\n",
            "5000/5000 [==============================] - 12s 2ms/step - loss: 0.5164 - accuracy: 0.7444\n",
            "Epoch 4/5\n",
            "5000/5000 [==============================] - 11s 2ms/step - loss: 0.4931 - accuracy: 0.7608\n",
            "Epoch 5/5\n",
            "5000/5000 [==============================] - 11s 2ms/step - loss: 0.4807 - accuracy: 0.7683\n"
          ]
        },
        {
          "output_type": "execute_result",
          "data": {
            "text/plain": [
              "<keras.callbacks.History at 0x7f4939b5c150>"
            ]
          },
          "metadata": {},
          "execution_count": 113
        }
      ]
    },
    {
      "cell_type": "code",
      "source": [
        "test_df = pd.read_csv('/content/drive/MyDrive/Projekty/Neural Networks/examples/complex/data/test.csv')\n",
        "test_x = np.column_stack((test_df.x.values, test_df.y.values))\n",
        "\n",
        "model.evaluate(test_x, test_df.color.values)"
      ],
      "metadata": {
        "colab": {
          "base_uri": "https://localhost:8080/"
        },
        "id": "J6xAZihCMpeC",
        "outputId": "5b1069e0-5606-4a62-edc7-0de263944376"
      },
      "execution_count": null,
      "outputs": [
        {
          "output_type": "stream",
          "name": "stdout",
          "text": [
            "157/157 [==============================] - 0s 2ms/step - loss: 0.4251 - accuracy: 0.7978\n"
          ]
        },
        {
          "output_type": "execute_result",
          "data": {
            "text/plain": [
              "[0.4251158833503723, 0.7978000044822693]"
            ]
          },
          "metadata": {},
          "execution_count": 114
        }
      ]
    },
    {
      "cell_type": "markdown",
      "source": [
        "#Examples for neural networks"
      ],
      "metadata": {
        "id": "jyHBJxO7g6gY"
      }
    },
    {
      "cell_type": "code",
      "source": [
        "pip install -q tensorflow tensorflow-datasets"
      ],
      "metadata": {
        "id": "TLsovGNNg-jH"
      },
      "execution_count": 1,
      "outputs": []
    },
    {
      "cell_type": "code",
      "source": [
        "import matplotlib.pyplot as plt\n",
        "import numpy as np\n",
        "import tensorflow as tf\n",
        "import tensorflow_datasets as tfds\n",
        "from tensorflow import keras"
      ],
      "metadata": {
        "id": "JkV0MSM8hN1Y"
      },
      "execution_count": 2,
      "outputs": []
    },
    {
      "cell_type": "markdown",
      "source": [
        "##Tensorflow datasets"
      ],
      "metadata": {
        "id": "kxTxWdxxhTSB"
      }
    },
    {
      "cell_type": "code",
      "source": [
        "tfds.list_builders()"
      ],
      "metadata": {
        "colab": {
          "base_uri": "https://localhost:8080/"
        },
        "id": "Qb6DaooHhVKI",
        "outputId": "7cd9396f-bbd0-4a8a-c5fa-14fea5fe1c9e"
      },
      "execution_count": 3,
      "outputs": [
        {
          "output_type": "execute_result",
          "data": {
            "text/plain": [
              "['abstract_reasoning',\n",
              " 'accentdb',\n",
              " 'aeslc',\n",
              " 'aflw2k3d',\n",
              " 'ag_news_subset',\n",
              " 'ai2_arc',\n",
              " 'ai2_arc_with_ir',\n",
              " 'amazon_us_reviews',\n",
              " 'anli',\n",
              " 'answer_equivalence',\n",
              " 'arc',\n",
              " 'asqa',\n",
              " 'asset',\n",
              " 'assin2',\n",
              " 'bair_robot_pushing_small',\n",
              " 'bccd',\n",
              " 'beans',\n",
              " 'bee_dataset',\n",
              " 'beir',\n",
              " 'big_patent',\n",
              " 'bigearthnet',\n",
              " 'billsum',\n",
              " 'binarized_mnist',\n",
              " 'binary_alpha_digits',\n",
              " 'ble_wind_field',\n",
              " 'blimp',\n",
              " 'booksum',\n",
              " 'bool_q',\n",
              " 'c4',\n",
              " 'caltech101',\n",
              " 'caltech_birds2010',\n",
              " 'caltech_birds2011',\n",
              " 'cardiotox',\n",
              " 'cars196',\n",
              " 'cassava',\n",
              " 'cats_vs_dogs',\n",
              " 'celeb_a',\n",
              " 'celeb_a_hq',\n",
              " 'cfq',\n",
              " 'cherry_blossoms',\n",
              " 'chexpert',\n",
              " 'cifar10',\n",
              " 'cifar100',\n",
              " 'cifar10_1',\n",
              " 'cifar10_corrupted',\n",
              " 'citrus_leaves',\n",
              " 'cityscapes',\n",
              " 'civil_comments',\n",
              " 'clevr',\n",
              " 'clic',\n",
              " 'clinc_oos',\n",
              " 'cmaterdb',\n",
              " 'cnn_dailymail',\n",
              " 'coco',\n",
              " 'coco_captions',\n",
              " 'coil100',\n",
              " 'colorectal_histology',\n",
              " 'colorectal_histology_large',\n",
              " 'common_voice',\n",
              " 'coqa',\n",
              " 'cos_e',\n",
              " 'cosmos_qa',\n",
              " 'covid19',\n",
              " 'covid19sum',\n",
              " 'crema_d',\n",
              " 'criteo',\n",
              " 'cs_restaurants',\n",
              " 'curated_breast_imaging_ddsm',\n",
              " 'cycle_gan',\n",
              " 'd4rl_adroit_door',\n",
              " 'd4rl_adroit_hammer',\n",
              " 'd4rl_adroit_pen',\n",
              " 'd4rl_adroit_relocate',\n",
              " 'd4rl_antmaze',\n",
              " 'd4rl_mujoco_ant',\n",
              " 'd4rl_mujoco_halfcheetah',\n",
              " 'd4rl_mujoco_hopper',\n",
              " 'd4rl_mujoco_walker2d',\n",
              " 'dart',\n",
              " 'davis',\n",
              " 'deep1b',\n",
              " 'deep_weeds',\n",
              " 'definite_pronoun_resolution',\n",
              " 'dementiabank',\n",
              " 'diabetic_retinopathy_detection',\n",
              " 'diamonds',\n",
              " 'div2k',\n",
              " 'dmlab',\n",
              " 'doc_nli',\n",
              " 'dolphin_number_word',\n",
              " 'domainnet',\n",
              " 'downsampled_imagenet',\n",
              " 'drop',\n",
              " 'dsprites',\n",
              " 'dtd',\n",
              " 'duke_ultrasound',\n",
              " 'e2e_cleaned',\n",
              " 'efron_morris75',\n",
              " 'emnist',\n",
              " 'eraser_multi_rc',\n",
              " 'esnli',\n",
              " 'eurosat',\n",
              " 'fashion_mnist',\n",
              " 'flic',\n",
              " 'flores',\n",
              " 'food101',\n",
              " 'forest_fires',\n",
              " 'fuss',\n",
              " 'gap',\n",
              " 'geirhos_conflict_stimuli',\n",
              " 'gem',\n",
              " 'genomics_ood',\n",
              " 'german_credit_numeric',\n",
              " 'gigaword',\n",
              " 'glove100_angular',\n",
              " 'glue',\n",
              " 'goemotions',\n",
              " 'gov_report',\n",
              " 'gpt3',\n",
              " 'gref',\n",
              " 'groove',\n",
              " 'grounded_scan',\n",
              " 'gsm8k',\n",
              " 'gtzan',\n",
              " 'gtzan_music_speech',\n",
              " 'hellaswag',\n",
              " 'higgs',\n",
              " 'hillstrom',\n",
              " 'horses_or_humans',\n",
              " 'howell',\n",
              " 'i_naturalist2017',\n",
              " 'i_naturalist2018',\n",
              " 'imagenet2012',\n",
              " 'imagenet2012_corrupted',\n",
              " 'imagenet2012_fewshot',\n",
              " 'imagenet2012_multilabel',\n",
              " 'imagenet2012_real',\n",
              " 'imagenet2012_subset',\n",
              " 'imagenet_a',\n",
              " 'imagenet_lt',\n",
              " 'imagenet_r',\n",
              " 'imagenet_resized',\n",
              " 'imagenet_sketch',\n",
              " 'imagenet_v2',\n",
              " 'imagenette',\n",
              " 'imagewang',\n",
              " 'imdb_reviews',\n",
              " 'irc_disentanglement',\n",
              " 'iris',\n",
              " 'istella',\n",
              " 'kddcup99',\n",
              " 'kitti',\n",
              " 'kmnist',\n",
              " 'lambada',\n",
              " 'lfw',\n",
              " 'librispeech',\n",
              " 'librispeech_lm',\n",
              " 'libritts',\n",
              " 'ljspeech',\n",
              " 'lm1b',\n",
              " 'locomotion',\n",
              " 'lost_and_found',\n",
              " 'lsun',\n",
              " 'lvis',\n",
              " 'malaria',\n",
              " 'math_dataset',\n",
              " 'math_qa',\n",
              " 'mctaco',\n",
              " 'media_sum',\n",
              " 'mlqa',\n",
              " 'mnist',\n",
              " 'mnist_corrupted',\n",
              " 'movie_lens',\n",
              " 'movie_rationales',\n",
              " 'movielens',\n",
              " 'moving_mnist',\n",
              " 'mrqa',\n",
              " 'mslr_web',\n",
              " 'mt_opt',\n",
              " 'multi_news',\n",
              " 'multi_nli',\n",
              " 'multi_nli_mismatch',\n",
              " 'natural_questions',\n",
              " 'natural_questions_open',\n",
              " 'newsroom',\n",
              " 'nsynth',\n",
              " 'nyu_depth_v2',\n",
              " 'ogbg_molpcba',\n",
              " 'omniglot',\n",
              " 'open_images_challenge2019_detection',\n",
              " 'open_images_v4',\n",
              " 'openbookqa',\n",
              " 'opinion_abstracts',\n",
              " 'opinosis',\n",
              " 'opus',\n",
              " 'oxford_flowers102',\n",
              " 'oxford_iiit_pet',\n",
              " 'para_crawl',\n",
              " 'pass',\n",
              " 'patch_camelyon',\n",
              " 'paws_wiki',\n",
              " 'paws_x_wiki',\n",
              " 'penguins',\n",
              " 'pet_finder',\n",
              " 'pg19',\n",
              " 'piqa',\n",
              " 'places365_small',\n",
              " 'plant_leaves',\n",
              " 'plant_village',\n",
              " 'plantae_k',\n",
              " 'protein_net',\n",
              " 'qa4mre',\n",
              " 'qasc',\n",
              " 'quac',\n",
              " 'quality',\n",
              " 'quickdraw_bitmap',\n",
              " 'race',\n",
              " 'radon',\n",
              " 'reddit',\n",
              " 'reddit_disentanglement',\n",
              " 'reddit_tifu',\n",
              " 'ref_coco',\n",
              " 'resisc45',\n",
              " 'rlu_atari',\n",
              " 'rlu_atari_checkpoints',\n",
              " 'rlu_atari_checkpoints_ordered',\n",
              " 'rlu_control_suite',\n",
              " 'rlu_dmlab_explore_object_rewards_few',\n",
              " 'rlu_dmlab_explore_object_rewards_many',\n",
              " 'rlu_dmlab_rooms_select_nonmatching_object',\n",
              " 'rlu_dmlab_rooms_watermaze',\n",
              " 'rlu_dmlab_seekavoid_arena01',\n",
              " 'rlu_locomotion',\n",
              " 'rlu_rwrl',\n",
              " 'robomimic_ph',\n",
              " 'robonet',\n",
              " 'robosuite_panda_pick_place_can',\n",
              " 'rock_paper_scissors',\n",
              " 'rock_you',\n",
              " 's3o4d',\n",
              " 'salient_span_wikipedia',\n",
              " 'samsum',\n",
              " 'savee',\n",
              " 'scan',\n",
              " 'scene_parse150',\n",
              " 'schema_guided_dialogue',\n",
              " 'sci_tail',\n",
              " 'scicite',\n",
              " 'scientific_papers',\n",
              " 'scrolls',\n",
              " 'sentiment140',\n",
              " 'shapes3d',\n",
              " 'sift1m',\n",
              " 'simpte',\n",
              " 'siscore',\n",
              " 'smallnorb',\n",
              " 'smartwatch_gestures',\n",
              " 'snli',\n",
              " 'so2sat',\n",
              " 'speech_commands',\n",
              " 'spoken_digit',\n",
              " 'squad',\n",
              " 'squad_question_generation',\n",
              " 'stanford_dogs',\n",
              " 'stanford_online_products',\n",
              " 'star_cfq',\n",
              " 'starcraft_video',\n",
              " 'stl10',\n",
              " 'story_cloze',\n",
              " 'summscreen',\n",
              " 'sun397',\n",
              " 'super_glue',\n",
              " 'svhn_cropped',\n",
              " 'symmetric_solids',\n",
              " 'tao',\n",
              " 'ted_hrlr_translate',\n",
              " 'ted_multi_translate',\n",
              " 'tedlium',\n",
              " 'tf_flowers',\n",
              " 'the300w_lp',\n",
              " 'tiny_shakespeare',\n",
              " 'titanic',\n",
              " 'trec',\n",
              " 'trivia_qa',\n",
              " 'tydi_qa',\n",
              " 'uc_merced',\n",
              " 'ucf101',\n",
              " 'unified_qa',\n",
              " 'vctk',\n",
              " 'visual_domain_decathlon',\n",
              " 'voc',\n",
              " 'voxceleb',\n",
              " 'voxforge',\n",
              " 'waymo_open_dataset',\n",
              " 'web_graph',\n",
              " 'web_nlg',\n",
              " 'web_questions',\n",
              " 'wider_face',\n",
              " 'wiki40b',\n",
              " 'wiki_auto',\n",
              " 'wiki_bio',\n",
              " 'wiki_dialog',\n",
              " 'wiki_table_questions',\n",
              " 'wiki_table_text',\n",
              " 'wikiann',\n",
              " 'wikihow',\n",
              " 'wikipedia',\n",
              " 'wikipedia_toxicity_subtypes',\n",
              " 'wine_quality',\n",
              " 'winogrande',\n",
              " 'wit',\n",
              " 'wit_kaggle',\n",
              " 'wmt13_translate',\n",
              " 'wmt14_translate',\n",
              " 'wmt15_translate',\n",
              " 'wmt16_translate',\n",
              " 'wmt17_translate',\n",
              " 'wmt18_translate',\n",
              " 'wmt19_translate',\n",
              " 'wmt_t2t_translate',\n",
              " 'wmt_translate',\n",
              " 'wordnet',\n",
              " 'wsc273',\n",
              " 'xnli',\n",
              " 'xquad',\n",
              " 'xsum',\n",
              " 'xtreme_pawsx',\n",
              " 'xtreme_s',\n",
              " 'xtreme_xnli',\n",
              " 'yelp_polarity_reviews',\n",
              " 'yes_no',\n",
              " 'youtube_vis',\n",
              " 'huggingface:acronym_identification',\n",
              " 'huggingface:ade_corpus_v2',\n",
              " 'huggingface:adv_glue',\n",
              " 'huggingface:adversarial_qa',\n",
              " 'huggingface:aeslc',\n",
              " 'huggingface:afrikaans_ner_corpus',\n",
              " 'huggingface:ag_news',\n",
              " 'huggingface:ai2_arc',\n",
              " 'huggingface:air_dialogue',\n",
              " 'huggingface:ajgt_twitter_ar',\n",
              " 'huggingface:allegro_reviews',\n",
              " 'huggingface:allocine',\n",
              " 'huggingface:alt',\n",
              " 'huggingface:amazon_polarity',\n",
              " 'huggingface:amazon_reviews_multi',\n",
              " 'huggingface:amazon_us_reviews',\n",
              " 'huggingface:ambig_qa',\n",
              " 'huggingface:americas_nli',\n",
              " 'huggingface:ami',\n",
              " 'huggingface:amttl',\n",
              " 'huggingface:anli',\n",
              " 'huggingface:app_reviews',\n",
              " 'huggingface:aqua_rat',\n",
              " 'huggingface:aquamuse',\n",
              " 'huggingface:ar_cov19',\n",
              " 'huggingface:ar_res_reviews',\n",
              " 'huggingface:ar_sarcasm',\n",
              " 'huggingface:arabic_billion_words',\n",
              " 'huggingface:arabic_pos_dialect',\n",
              " 'huggingface:arabic_speech_corpus',\n",
              " 'huggingface:arcd',\n",
              " 'huggingface:arsentd_lev',\n",
              " 'huggingface:art',\n",
              " 'huggingface:arxiv_dataset',\n",
              " 'huggingface:ascent_kb',\n",
              " 'huggingface:aslg_pc12',\n",
              " 'huggingface:asnq',\n",
              " 'huggingface:asset',\n",
              " 'huggingface:assin',\n",
              " 'huggingface:assin2',\n",
              " 'huggingface:atomic',\n",
              " 'huggingface:autshumato',\n",
              " 'huggingface:babi_qa',\n",
              " 'huggingface:banking77',\n",
              " 'huggingface:bbaw_egyptian',\n",
              " 'huggingface:bbc_hindi_nli',\n",
              " 'huggingface:bc2gm_corpus',\n",
              " 'huggingface:beans',\n",
              " 'huggingface:best2009',\n",
              " 'huggingface:bianet',\n",
              " 'huggingface:bible_para',\n",
              " 'huggingface:big_patent',\n",
              " 'huggingface:bigbench',\n",
              " 'huggingface:billsum',\n",
              " 'huggingface:bing_coronavirus_query_set',\n",
              " 'huggingface:biomrc',\n",
              " 'huggingface:biosses',\n",
              " 'huggingface:biwi_kinect_head_pose',\n",
              " 'huggingface:blbooks',\n",
              " 'huggingface:blbooksgenre',\n",
              " 'huggingface:blended_skill_talk',\n",
              " 'huggingface:blimp',\n",
              " 'huggingface:blog_authorship_corpus',\n",
              " 'huggingface:bn_hate_speech',\n",
              " 'huggingface:bnl_newspapers',\n",
              " 'huggingface:bookcorpus',\n",
              " 'huggingface:bookcorpusopen',\n",
              " 'huggingface:boolq',\n",
              " 'huggingface:bprec',\n",
              " 'huggingface:break_data',\n",
              " 'huggingface:brwac',\n",
              " 'huggingface:bsd_ja_en',\n",
              " 'huggingface:bswac',\n",
              " 'huggingface:c3',\n",
              " 'huggingface:c4',\n",
              " 'huggingface:cail2018',\n",
              " 'huggingface:caner',\n",
              " 'huggingface:capes',\n",
              " 'huggingface:casino',\n",
              " 'huggingface:catalonia_independence',\n",
              " 'huggingface:cats_vs_dogs',\n",
              " 'huggingface:cawac',\n",
              " 'huggingface:cbt',\n",
              " 'huggingface:cc100',\n",
              " 'huggingface:cc_news',\n",
              " 'huggingface:ccaligned_multilingual',\n",
              " 'huggingface:cdsc',\n",
              " 'huggingface:cdt',\n",
              " 'huggingface:cedr',\n",
              " 'huggingface:cfq',\n",
              " 'huggingface:chr_en',\n",
              " 'huggingface:cifar10',\n",
              " 'huggingface:cifar100',\n",
              " 'huggingface:circa',\n",
              " 'huggingface:civil_comments',\n",
              " 'huggingface:clickbait_news_bg',\n",
              " 'huggingface:climate_fever',\n",
              " 'huggingface:clinc_oos',\n",
              " 'huggingface:clue',\n",
              " 'huggingface:cmrc2018',\n",
              " 'huggingface:cmu_hinglish_dog',\n",
              " 'huggingface:cnn_dailymail',\n",
              " 'huggingface:coached_conv_pref',\n",
              " 'huggingface:coarse_discourse',\n",
              " 'huggingface:codah',\n",
              " 'huggingface:code_search_net',\n",
              " 'huggingface:code_x_glue_cc_clone_detection_big_clone_bench',\n",
              " 'huggingface:code_x_glue_cc_clone_detection_poj104',\n",
              " 'huggingface:code_x_glue_cc_cloze_testing_all',\n",
              " 'huggingface:code_x_glue_cc_cloze_testing_maxmin',\n",
              " 'huggingface:code_x_glue_cc_code_completion_line',\n",
              " 'huggingface:code_x_glue_cc_code_completion_token',\n",
              " 'huggingface:code_x_glue_cc_code_refinement',\n",
              " 'huggingface:code_x_glue_cc_code_to_code_trans',\n",
              " 'huggingface:code_x_glue_cc_defect_detection',\n",
              " 'huggingface:code_x_glue_ct_code_to_text',\n",
              " 'huggingface:code_x_glue_tc_nl_code_search_adv',\n",
              " 'huggingface:code_x_glue_tc_text_to_code',\n",
              " 'huggingface:code_x_glue_tt_text_to_text',\n",
              " 'huggingface:com_qa',\n",
              " 'huggingface:common_gen',\n",
              " 'huggingface:common_language',\n",
              " 'huggingface:common_voice',\n",
              " 'huggingface:commonsense_qa',\n",
              " 'huggingface:competition_math',\n",
              " 'huggingface:compguesswhat',\n",
              " 'huggingface:conceptnet5',\n",
              " 'huggingface:conceptual_12m',\n",
              " 'huggingface:conceptual_captions',\n",
              " 'huggingface:conll2000',\n",
              " 'huggingface:conll2002',\n",
              " 'huggingface:conll2003',\n",
              " 'huggingface:conll2012_ontonotesv5',\n",
              " 'huggingface:conllpp',\n",
              " 'huggingface:consumer-finance-complaints',\n",
              " 'huggingface:conv_ai',\n",
              " 'huggingface:conv_ai_2',\n",
              " 'huggingface:conv_ai_3',\n",
              " 'huggingface:conv_questions',\n",
              " 'huggingface:coqa',\n",
              " 'huggingface:cord19',\n",
              " 'huggingface:cornell_movie_dialog',\n",
              " 'huggingface:cos_e',\n",
              " 'huggingface:cosmos_qa',\n",
              " 'huggingface:counter',\n",
              " 'huggingface:covid_qa_castorini',\n",
              " 'huggingface:covid_qa_deepset',\n",
              " 'huggingface:covid_qa_ucsd',\n",
              " 'huggingface:covid_tweets_japanese',\n",
              " 'huggingface:covost2',\n",
              " 'huggingface:cppe-5',\n",
              " 'huggingface:craigslist_bargains',\n",
              " 'huggingface:crawl_domain',\n",
              " 'huggingface:crd3',\n",
              " 'huggingface:crime_and_punish',\n",
              " 'huggingface:crows_pairs',\n",
              " 'huggingface:cryptonite',\n",
              " 'huggingface:cs_restaurants',\n",
              " 'huggingface:cuad',\n",
              " 'huggingface:curiosity_dialogs',\n",
              " 'huggingface:daily_dialog',\n",
              " 'huggingface:dane',\n",
              " 'huggingface:danish_political_comments',\n",
              " 'huggingface:dart',\n",
              " 'huggingface:datacommons_factcheck',\n",
              " 'huggingface:dbpedia_14',\n",
              " 'huggingface:dbrd',\n",
              " 'huggingface:deal_or_no_dialog',\n",
              " 'huggingface:definite_pronoun_resolution',\n",
              " 'huggingface:dengue_filipino',\n",
              " 'huggingface:dialog_re',\n",
              " 'huggingface:diplomacy_detection',\n",
              " 'huggingface:disaster_response_messages',\n",
              " 'huggingface:discofuse',\n",
              " 'huggingface:discovery',\n",
              " 'huggingface:disfl_qa',\n",
              " 'huggingface:doc2dial',\n",
              " 'huggingface:docred',\n",
              " 'huggingface:doqa',\n",
              " 'huggingface:dream',\n",
              " 'huggingface:drop',\n",
              " 'huggingface:duorc',\n",
              " 'huggingface:dutch_social',\n",
              " 'huggingface:dyk',\n",
              " 'huggingface:e2e_nlg',\n",
              " 'huggingface:e2e_nlg_cleaned',\n",
              " 'huggingface:ecb',\n",
              " 'huggingface:ecthr_cases',\n",
              " 'huggingface:eduge',\n",
              " 'huggingface:ehealth_kd',\n",
              " 'huggingface:eitb_parcc',\n",
              " 'huggingface:electricity_load_diagrams',\n",
              " 'huggingface:eli5',\n",
              " 'huggingface:eli5_category',\n",
              " 'huggingface:elkarhizketak',\n",
              " 'huggingface:emea',\n",
              " 'huggingface:emo',\n",
              " 'huggingface:emotion',\n",
              " 'huggingface:emotone_ar',\n",
              " 'huggingface:empathetic_dialogues',\n",
              " 'huggingface:enriched_web_nlg',\n",
              " 'huggingface:enwik8',\n",
              " 'huggingface:eraser_multi_rc',\n",
              " 'huggingface:esnli',\n",
              " 'huggingface:eth_py150_open',\n",
              " 'huggingface:ethos',\n",
              " 'huggingface:ett',\n",
              " 'huggingface:eu_regulatory_ir',\n",
              " 'huggingface:eurlex',\n",
              " 'huggingface:euronews',\n",
              " 'huggingface:europa_eac_tm',\n",
              " 'huggingface:europa_ecdc_tm',\n",
              " 'huggingface:europarl_bilingual',\n",
              " 'huggingface:event2Mind',\n",
              " 'huggingface:evidence_infer_treatment',\n",
              " 'huggingface:exams',\n",
              " 'huggingface:factckbr',\n",
              " 'huggingface:fake_news_english',\n",
              " 'huggingface:fake_news_filipino',\n",
              " 'huggingface:farsi_news',\n",
              " 'huggingface:fashion_mnist',\n",
              " 'huggingface:fever',\n",
              " 'huggingface:few_rel',\n",
              " 'huggingface:financial_phrasebank',\n",
              " 'huggingface:finer',\n",
              " 'huggingface:flores',\n",
              " 'huggingface:flue',\n",
              " 'huggingface:food101',\n",
              " 'huggingface:fquad',\n",
              " 'huggingface:freebase_qa',\n",
              " 'huggingface:gap',\n",
              " 'huggingface:gem',\n",
              " 'huggingface:generated_reviews_enth',\n",
              " 'huggingface:generics_kb',\n",
              " 'huggingface:german_legal_entity_recognition',\n",
              " 'huggingface:germaner',\n",
              " 'huggingface:germeval_14',\n",
              " 'huggingface:giga_fren',\n",
              " 'huggingface:gigaword',\n",
              " 'huggingface:glucose',\n",
              " 'huggingface:glue',\n",
              " 'huggingface:gnad10',\n",
              " 'huggingface:go_emotions',\n",
              " 'huggingface:gooaq',\n",
              " 'huggingface:google_wellformed_query',\n",
              " 'huggingface:grail_qa',\n",
              " 'huggingface:great_code',\n",
              " 'huggingface:greek_legal_code',\n",
              " 'huggingface:gsm8k',\n",
              " 'huggingface:guardian_authorship',\n",
              " 'huggingface:gutenberg_time',\n",
              " 'huggingface:hans',\n",
              " 'huggingface:hansards',\n",
              " 'huggingface:hard',\n",
              " 'huggingface:harem',\n",
              " 'huggingface:has_part',\n",
              " 'huggingface:hate_offensive',\n",
              " 'huggingface:hate_speech18',\n",
              " 'huggingface:hate_speech_filipino',\n",
              " 'huggingface:hate_speech_offensive',\n",
              " 'huggingface:hate_speech_pl',\n",
              " 'huggingface:hate_speech_portuguese',\n",
              " 'huggingface:hatexplain',\n",
              " 'huggingface:hausa_voa_ner',\n",
              " 'huggingface:hausa_voa_topics',\n",
              " 'huggingface:hda_nli_hindi',\n",
              " 'huggingface:head_qa',\n",
              " 'huggingface:health_fact',\n",
              " 'huggingface:hebrew_projectbenyehuda',\n",
              " 'huggingface:hebrew_sentiment',\n",
              " 'huggingface:hebrew_this_world',\n",
              " 'huggingface:hellaswag',\n",
              " 'huggingface:hendrycks_test',\n",
              " 'huggingface:hind_encorp',\n",
              " 'huggingface:hindi_discourse',\n",
              " 'huggingface:hippocorpus',\n",
              " 'huggingface:hkcancor',\n",
              " 'huggingface:hlgd',\n",
              " 'huggingface:hope_edi',\n",
              " 'huggingface:hotpot_qa',\n",
              " 'huggingface:hover',\n",
              " 'huggingface:hrenwac_para',\n",
              " 'huggingface:hrwac',\n",
              " 'huggingface:humicroedit',\n",
              " 'huggingface:hybrid_qa',\n",
              " 'huggingface:hyperpartisan_news_detection',\n",
              " 'huggingface:iapp_wiki_qa_squad',\n",
              " 'huggingface:id_clickbait',\n",
              " 'huggingface:id_liputan6',\n",
              " 'huggingface:id_nergrit_corpus',\n",
              " 'huggingface:id_newspapers_2018',\n",
              " 'huggingface:id_panl_bppt',\n",
              " 'huggingface:id_puisi',\n",
              " 'huggingface:igbo_english_machine_translation',\n",
              " 'huggingface:igbo_monolingual',\n",
              " 'huggingface:igbo_ner',\n",
              " 'huggingface:ilist',\n",
              " 'huggingface:imagenet-1k',\n",
              " 'huggingface:imagenet_sketch',\n",
              " 'huggingface:imdb',\n",
              " 'huggingface:imdb_urdu_reviews',\n",
              " 'huggingface:imppres',\n",
              " 'huggingface:indic_glue',\n",
              " 'huggingface:indonli',\n",
              " 'huggingface:indonlu',\n",
              " 'huggingface:inquisitive_qg',\n",
              " 'huggingface:interpress_news_category_tr',\n",
              " 'huggingface:interpress_news_category_tr_lite',\n",
              " 'huggingface:irc_disentangle',\n",
              " 'huggingface:isixhosa_ner_corpus',\n",
              " 'huggingface:isizulu_ner_corpus',\n",
              " 'huggingface:iwslt2017',\n",
              " 'huggingface:jeopardy',\n",
              " 'huggingface:jfleg',\n",
              " 'huggingface:jigsaw_toxicity_pred',\n",
              " 'huggingface:jigsaw_unintended_bias',\n",
              " 'huggingface:jnlpba',\n",
              " 'huggingface:journalists_questions',\n",
              " 'huggingface:kan_hope',\n",
              " 'huggingface:kannada_news',\n",
              " 'huggingface:kd_conv',\n",
              " 'huggingface:kde4',\n",
              " 'huggingface:kelm',\n",
              " 'huggingface:kilt_tasks',\n",
              " 'huggingface:kilt_wikipedia',\n",
              " 'huggingface:kinnews_kirnews',\n",
              " 'huggingface:klue',\n",
              " 'huggingface:kor_3i4k',\n",
              " 'huggingface:kor_hate',\n",
              " 'huggingface:kor_ner',\n",
              " 'huggingface:kor_nli',\n",
              " 'huggingface:kor_nlu',\n",
              " 'huggingface:kor_qpair',\n",
              " 'huggingface:kor_sae',\n",
              " 'huggingface:kor_sarcasm',\n",
              " 'huggingface:labr',\n",
              " 'huggingface:lama',\n",
              " 'huggingface:lambada',\n",
              " 'huggingface:large_spanish_corpus',\n",
              " 'huggingface:laroseda',\n",
              " 'huggingface:lc_quad',\n",
              " 'huggingface:lccc',\n",
              " 'huggingface:lener_br',\n",
              " 'huggingface:lex_glue',\n",
              " 'huggingface:liar',\n",
              " 'huggingface:librispeech_asr',\n",
              " 'huggingface:librispeech_lm',\n",
              " 'huggingface:limit',\n",
              " 'huggingface:lince',\n",
              " 'huggingface:linnaeus',\n",
              " 'huggingface:liveqa',\n",
              " 'huggingface:lj_speech',\n",
              " 'huggingface:lm1b',\n",
              " 'huggingface:lst20',\n",
              " 'huggingface:m_lama',\n",
              " 'huggingface:mac_morpho',\n",
              " 'huggingface:makhzan',\n",
              " 'huggingface:masakhaner',\n",
              " 'huggingface:math_dataset',\n",
              " 'huggingface:math_qa',\n",
              " 'huggingface:matinf',\n",
              " 'huggingface:mbpp',\n",
              " 'huggingface:mc4',\n",
              " 'huggingface:mc_taco',\n",
              " 'huggingface:md_gender_bias',\n",
              " 'huggingface:mdd',\n",
              " 'huggingface:med_hop',\n",
              " 'huggingface:medal',\n",
              " 'huggingface:medical_dialog',\n",
              " 'huggingface:medical_questions_pairs',\n",
              " 'huggingface:medmcqa',\n",
              " 'huggingface:menyo20k_mt',\n",
              " 'huggingface:meta_woz',\n",
              " 'huggingface:metashift',\n",
              " 'huggingface:metooma',\n",
              " 'huggingface:metrec',\n",
              " 'huggingface:miam',\n",
              " 'huggingface:mkb',\n",
              " 'huggingface:mkqa',\n",
              " 'huggingface:mlqa',\n",
              " 'huggingface:mlsum',\n",
              " 'huggingface:mnist',\n",
              " 'huggingface:mocha',\n",
              " 'huggingface:monash_tsf',\n",
              " 'huggingface:moroco',\n",
              " 'huggingface:movie_rationales',\n",
              " 'huggingface:mrqa',\n",
              " 'huggingface:ms_marco',\n",
              " 'huggingface:ms_terms',\n",
              " 'huggingface:msr_genomics_kbcomp',\n",
              " 'huggingface:msr_sqa',\n",
              " 'huggingface:msr_text_compression',\n",
              " 'huggingface:msr_zhen_translation_parity',\n",
              " 'huggingface:msra_ner',\n",
              " 'huggingface:mt_eng_vietnamese',\n",
              " 'huggingface:muchocine',\n",
              " 'huggingface:multi_booked',\n",
              " 'huggingface:multi_eurlex',\n",
              " 'huggingface:multi_news',\n",
              " 'huggingface:multi_nli',\n",
              " 'huggingface:multi_nli_mismatch',\n",
              " 'huggingface:multi_para_crawl',\n",
              " 'huggingface:multi_re_qa',\n",
              " 'huggingface:multi_woz_v22',\n",
              " 'huggingface:multi_x_science_sum',\n",
              " 'huggingface:multidoc2dial',\n",
              " 'huggingface:multilingual_librispeech',\n",
              " 'huggingface:mutual_friends',\n",
              " 'huggingface:mwsc',\n",
              " 'huggingface:myanmar_news',\n",
              " 'huggingface:narrativeqa',\n",
              " 'huggingface:narrativeqa_manual',\n",
              " 'huggingface:natural_questions',\n",
              " 'huggingface:ncbi_disease',\n",
              " 'huggingface:nchlt',\n",
              " 'huggingface:ncslgr',\n",
              " 'huggingface:nell',\n",
              " 'huggingface:neural_code_search',\n",
              " 'huggingface:news_commentary',\n",
              " 'huggingface:newsgroup',\n",
              " 'huggingface:newsph',\n",
              " 'huggingface:newsph_nli',\n",
              " 'huggingface:newspop',\n",
              " 'huggingface:newsqa',\n",
              " 'huggingface:newsroom',\n",
              " 'huggingface:nkjp-ner',\n",
              " 'huggingface:nli_tr',\n",
              " 'huggingface:nlu_evaluation_data',\n",
              " 'huggingface:norec',\n",
              " 'huggingface:norne',\n",
              " 'huggingface:norwegian_ner',\n",
              " 'huggingface:nq_open',\n",
              " 'huggingface:nsmc',\n",
              " 'huggingface:numer_sense',\n",
              " 'huggingface:numeric_fused_head',\n",
              " 'huggingface:oclar',\n",
              " 'huggingface:offcombr',\n",
              " 'huggingface:offenseval2020_tr',\n",
              " 'huggingface:offenseval_dravidian',\n",
              " 'huggingface:ofis_publik',\n",
              " 'huggingface:ohsumed',\n",
              " 'huggingface:ollie',\n",
              " 'huggingface:omp',\n",
              " 'huggingface:onestop_english',\n",
              " 'huggingface:onestop_qa',\n",
              " 'huggingface:open_subtitles',\n",
              " 'huggingface:openai_humaneval',\n",
              " 'huggingface:openbookqa',\n",
              " 'huggingface:openslr',\n",
              " 'huggingface:openwebtext',\n",
              " 'huggingface:opinosis',\n",
              " 'huggingface:opus100',\n",
              " 'huggingface:opus_books',\n",
              " 'huggingface:opus_dgt',\n",
              " 'huggingface:opus_dogc',\n",
              " 'huggingface:opus_elhuyar',\n",
              " 'huggingface:opus_euconst',\n",
              " 'huggingface:opus_finlex',\n",
              " 'huggingface:opus_fiskmo',\n",
              " 'huggingface:opus_gnome',\n",
              " 'huggingface:opus_infopankki',\n",
              " 'huggingface:opus_memat',\n",
              " 'huggingface:opus_montenegrinsubs',\n",
              " 'huggingface:opus_openoffice',\n",
              " 'huggingface:opus_paracrawl',\n",
              " 'huggingface:opus_rf',\n",
              " 'huggingface:opus_tedtalks',\n",
              " 'huggingface:opus_ubuntu',\n",
              " 'huggingface:opus_wikipedia',\n",
              " 'huggingface:opus_xhosanavy',\n",
              " 'huggingface:orange_sum',\n",
              " 'huggingface:oscar',\n",
              " 'huggingface:para_crawl',\n",
              " 'huggingface:para_pat',\n",
              " 'huggingface:parsinlu_reading_comprehension',\n",
              " 'huggingface:pass',\n",
              " 'huggingface:paws',\n",
              " 'huggingface:paws-x',\n",
              " 'huggingface:pec',\n",
              " 'huggingface:peer_read',\n",
              " 'huggingface:peoples_daily_ner',\n",
              " 'huggingface:per_sent',\n",
              " 'huggingface:persian_ner',\n",
              " 'huggingface:pg19',\n",
              " 'huggingface:php',\n",
              " 'huggingface:piaf',\n",
              " 'huggingface:pib',\n",
              " 'huggingface:piqa',\n",
              " 'huggingface:pn_summary',\n",
              " 'huggingface:poem_sentiment',\n",
              " 'huggingface:polemo2',\n",
              " 'huggingface:poleval2019_cyberbullying',\n",
              " 'huggingface:poleval2019_mt',\n",
              " 'huggingface:polsum',\n",
              " 'huggingface:polyglot_ner',\n",
              " 'huggingface:prachathai67k',\n",
              " 'huggingface:pragmeval',\n",
              " 'huggingface:proto_qa',\n",
              " 'huggingface:psc',\n",
              " 'huggingface:ptb_text_only',\n",
              " 'huggingface:pubmed',\n",
              " 'huggingface:pubmed_qa',\n",
              " 'huggingface:py_ast',\n",
              " 'huggingface:qa4mre',\n",
              " 'huggingface:qa_srl',\n",
              " 'huggingface:qa_zre',\n",
              " 'huggingface:qangaroo',\n",
              " 'huggingface:qanta',\n",
              " 'huggingface:qasc',\n",
              " 'huggingface:qasper',\n",
              " 'huggingface:qed',\n",
              " 'huggingface:qed_amara',\n",
              " 'huggingface:quac',\n",
              " 'huggingface:quail',\n",
              " 'huggingface:quarel',\n",
              " 'huggingface:quartz',\n",
              " 'huggingface:quickdraw',\n",
              " 'huggingface:quora',\n",
              " 'huggingface:quoref',\n",
              " 'huggingface:race',\n",
              " 'huggingface:re_dial',\n",
              " 'huggingface:reasoning_bg',\n",
              " 'huggingface:recipe_nlg',\n",
              " 'huggingface:reclor',\n",
              " 'huggingface:red_caps',\n",
              " 'huggingface:reddit',\n",
              " 'huggingface:reddit_tifu',\n",
              " 'huggingface:refresd',\n",
              " 'huggingface:reuters21578',\n",
              " 'huggingface:riddle_sense',\n",
              " 'huggingface:ro_sent',\n",
              " 'huggingface:ro_sts',\n",
              " 'huggingface:ro_sts_parallel',\n",
              " 'huggingface:roman_urdu',\n",
              " 'huggingface:roman_urdu_hate_speech',\n",
              " 'huggingface:ronec',\n",
              " 'huggingface:ropes',\n",
              " 'huggingface:rotten_tomatoes',\n",
              " 'huggingface:russian_super_glue',\n",
              " 'huggingface:rvl_cdip',\n",
              " 'huggingface:s2orc',\n",
              " 'huggingface:samsum',\n",
              " 'huggingface:sanskrit_classic',\n",
              " 'huggingface:saudinewsnet',\n",
              " 'huggingface:sberquad',\n",
              " 'huggingface:sbu_captions',\n",
              " 'huggingface:scan',\n",
              " 'huggingface:scb_mt_enth_2020',\n",
              " 'huggingface:scene_parse_150',\n",
              " 'huggingface:schema_guided_dstc8',\n",
              " 'huggingface:scicite',\n",
              " 'huggingface:scielo',\n",
              " 'huggingface:scientific_papers',\n",
              " 'huggingface:scifact',\n",
              " 'huggingface:sciq',\n",
              " 'huggingface:scitail',\n",
              " 'huggingface:scitldr',\n",
              " 'huggingface:search_qa',\n",
              " 'huggingface:sede',\n",
              " 'huggingface:selqa',\n",
              " 'huggingface:sem_eval_2010_task_8',\n",
              " 'huggingface:sem_eval_2014_task_1',\n",
              " 'huggingface:sem_eval_2018_task_1',\n",
              " 'huggingface:sem_eval_2020_task_11',\n",
              " 'huggingface:sent_comp',\n",
              " 'huggingface:senti_lex',\n",
              " 'huggingface:senti_ws',\n",
              " 'huggingface:sentiment140',\n",
              " 'huggingface:sepedi_ner',\n",
              " 'huggingface:sesotho_ner_corpus',\n",
              " 'huggingface:setimes',\n",
              " 'huggingface:setswana_ner_corpus',\n",
              " 'huggingface:sharc',\n",
              " 'huggingface:sharc_modified',\n",
              " 'huggingface:sick',\n",
              " 'huggingface:silicone',\n",
              " 'huggingface:simple_questions_v2',\n",
              " 'huggingface:siswati_ner_corpus',\n",
              " 'huggingface:smartdata',\n",
              " 'huggingface:sms_spam',\n",
              " 'huggingface:snips_built_in_intents',\n",
              " 'huggingface:snli',\n",
              " 'huggingface:snow_simplified_japanese_corpus',\n",
              " 'huggingface:so_stacksample',\n",
              " 'huggingface:social_bias_frames',\n",
              " 'huggingface:social_i_qa',\n",
              " 'huggingface:sofc_materials_articles',\n",
              " 'huggingface:sogou_news',\n",
              " 'huggingface:spanish_billion_words',\n",
              " 'huggingface:spc',\n",
              " 'huggingface:species_800',\n",
              " 'huggingface:speech_commands',\n",
              " 'huggingface:spider',\n",
              " 'huggingface:squad',\n",
              " 'huggingface:squad_adversarial',\n",
              " 'huggingface:squad_es',\n",
              " 'huggingface:squad_it',\n",
              " 'huggingface:squad_kor_v1',\n",
              " 'huggingface:squad_kor_v2',\n",
              " 'huggingface:squad_v1_pt',\n",
              " 'huggingface:squad_v2',\n",
              " 'huggingface:squadshifts',\n",
              " 'huggingface:srwac',\n",
              " 'huggingface:sst',\n",
              " 'huggingface:stereoset',\n",
              " 'huggingface:story_cloze',\n",
              " 'huggingface:stsb_mt_sv',\n",
              " 'huggingface:stsb_multi_mt',\n",
              " 'huggingface:style_change_detection',\n",
              " 'huggingface:subjqa',\n",
              " 'huggingface:super_glue',\n",
              " 'huggingface:superb',\n",
              " 'huggingface:svhn',\n",
              " 'huggingface:swag',\n",
              " 'huggingface:swahili',\n",
              " 'huggingface:swahili_news',\n",
              " 'huggingface:swda',\n",
              " 'huggingface:swedish_medical_ner',\n",
              " 'huggingface:swedish_ner_corpus',\n",
              " 'huggingface:swedish_reviews',\n",
              " 'huggingface:swiss_judgment_prediction',\n",
              " 'huggingface:tab_fact',\n",
              " 'huggingface:tamilmixsentiment',\n",
              " 'huggingface:tanzil',\n",
              " 'huggingface:tapaco',\n",
              " 'huggingface:tashkeela',\n",
              " 'huggingface:taskmaster1',\n",
              " 'huggingface:taskmaster2',\n",
              " 'huggingface:taskmaster3',\n",
              " 'huggingface:tatoeba',\n",
              " 'huggingface:ted_hrlr',\n",
              " 'huggingface:ted_iwlst2013',\n",
              " 'huggingface:ted_multi',\n",
              " 'huggingface:ted_talks_iwslt',\n",
              " 'huggingface:telugu_books',\n",
              " 'huggingface:telugu_news',\n",
              " 'huggingface:tep_en_fa_para',\n",
              " 'huggingface:text2log',\n",
              " 'huggingface:textvqa',\n",
              " 'huggingface:thai_toxicity_tweet',\n",
              " 'huggingface:thainer',\n",
              " 'huggingface:thaiqa_squad',\n",
              " 'huggingface:thaisum',\n",
              " 'huggingface:the_pile',\n",
              " 'huggingface:the_pile_books3',\n",
              " 'huggingface:the_pile_openwebtext2',\n",
              " 'huggingface:the_pile_stack_exchange',\n",
              " 'huggingface:tilde_model',\n",
              " 'huggingface:time_dial',\n",
              " 'huggingface:times_of_india_news_headlines',\n",
              " 'huggingface:timit_asr',\n",
              " 'huggingface:tiny_shakespeare',\n",
              " 'huggingface:tlc',\n",
              " 'huggingface:tmu_gfm_dataset',\n",
              " 'huggingface:tne',\n",
              " 'huggingface:told-br',\n",
              " 'huggingface:totto',\n",
              " 'huggingface:trec',\n",
              " 'huggingface:trivia_qa',\n",
              " 'huggingface:truthful_qa',\n",
              " 'huggingface:tsac',\n",
              " 'huggingface:ttc4900',\n",
              " 'huggingface:tunizi',\n",
              " 'huggingface:tuple_ie',\n",
              " 'huggingface:turk',\n",
              " 'huggingface:turkic_xwmt',\n",
              " 'huggingface:turkish_movie_sentiment',\n",
              " 'huggingface:turkish_ner',\n",
              " ...]"
            ]
          },
          "metadata": {},
          "execution_count": 3
        }
      ]
    },
    {
      "cell_type": "markdown",
      "source": [
        "##Information about the dataset"
      ],
      "metadata": {
        "id": "8oeQzgffhlmi"
      }
    },
    {
      "cell_type": "code",
      "source": [
        "builder = tfds.builder('rock_paper_scissors')\n",
        "builder.info"
      ],
      "metadata": {
        "colab": {
          "base_uri": "https://localhost:8080/"
        },
        "id": "jxtfD3tghkU0",
        "outputId": "5cde0cb9-54b9-4035-c44f-3b0b0b9c6c78"
      },
      "execution_count": 4,
      "outputs": [
        {
          "output_type": "execute_result",
          "data": {
            "text/plain": [
              "tfds.core.DatasetInfo(\n",
              "    name='rock_paper_scissors',\n",
              "    full_name='rock_paper_scissors/3.0.0',\n",
              "    description=\"\"\"\n",
              "    Images of hands playing rock, paper, scissor game.\n",
              "    \"\"\",\n",
              "    homepage='http://laurencemoroney.com/rock-paper-scissors-dataset',\n",
              "    data_path='~/tensorflow_datasets/rock_paper_scissors/3.0.0',\n",
              "    file_format=tfrecord,\n",
              "    download_size=219.53 MiB,\n",
              "    dataset_size=Unknown size,\n",
              "    features=FeaturesDict({\n",
              "        'image': Image(shape=(300, 300, 3), dtype=tf.uint8),\n",
              "        'label': ClassLabel(shape=(), dtype=tf.int64, num_classes=3),\n",
              "    }),\n",
              "    supervised_keys=('image', 'label'),\n",
              "    disable_shuffling=False,\n",
              "    splits={\n",
              "        'test': <SplitInfo num_examples=372, num_shards=1>,\n",
              "        'train': <SplitInfo num_examples=2520, num_shards=2>,\n",
              "    },\n",
              "    citation=\"\"\"@ONLINE {rps,\n",
              "    author = \"Laurence Moroney\",\n",
              "    title = \"Rock, Paper, Scissors Dataset\",\n",
              "    month = \"feb\",\n",
              "    year = \"2019\",\n",
              "    url = \"http://laurencemoroney.com/rock-paper-scissors-dataset\"\n",
              "    }\"\"\",\n",
              ")"
            ]
          },
          "metadata": {},
          "execution_count": 4
        }
      ]
    },
    {
      "cell_type": "markdown",
      "source": [
        "##Preparation of the rock, paper, scissors data"
      ],
      "metadata": {
        "id": "drVoq9IpiDzm"
      }
    },
    {
      "cell_type": "code",
      "source": [
        "tfds.disable_progress_bar() #Wyłączenie paska postępu ładowania danych"
      ],
      "metadata": {
        "id": "_KBcku5Aifrv"
      },
      "execution_count": 5,
      "outputs": []
    },
    {
      "cell_type": "code",
      "source": [
        "ds_train = tfds.load(name = 'rock_paper_scissors', split = 'train')\n",
        "ds_test = tfds.load(name = 'rock_paper_scissors', split = 'test')"
      ],
      "metadata": {
        "id": "LkqyosKhiHMS",
        "colab": {
          "base_uri": "https://localhost:8080/"
        },
        "outputId": "af24645d-a99b-46c3-e821-7bc148c921b2"
      },
      "execution_count": 6,
      "outputs": [
        {
          "output_type": "stream",
          "name": "stdout",
          "text": [
            "\u001b[1mDownloading and preparing dataset 219.53 MiB (download: 219.53 MiB, generated: Unknown size, total: 219.53 MiB) to ~/tensorflow_datasets/rock_paper_scissors/3.0.0...\u001b[0m\n",
            "\u001b[1mDataset rock_paper_scissors downloaded and prepared to ~/tensorflow_datasets/rock_paper_scissors/3.0.0. Subsequent calls will reuse this data.\u001b[0m\n"
          ]
        }
      ]
    },
    {
      "cell_type": "markdown",
      "source": [
        "##Examples"
      ],
      "metadata": {
        "id": "DOC-pB1OixTp"
      }
    },
    {
      "cell_type": "code",
      "source": [
        "info = builder.info\n",
        "fig = tfds.show_examples(ds_train, info)"
      ],
      "metadata": {
        "colab": {
          "base_uri": "https://localhost:8080/",
          "height": 534
        },
        "id": "bkmVfgY7iyy4",
        "outputId": "3660b5ae-5fd9-431d-cb2e-95956fde4798"
      },
      "execution_count": 7,
      "outputs": [
        {
          "output_type": "display_data",
          "data": {
            "text/plain": [
              "<Figure size 648x648 with 9 Axes>"
            ],
            "image/png": "[encoded data removed]"
          },
          "metadata": {}
        }
      ]
    },
    {
      "cell_type": "markdown",
      "source": [
        "###Converting tensorflow object to numpy format"
      ],
      "metadata": {
        "id": "mqOEYMimjZpq"
      }
    },
    {
      "cell_type": "code",
      "source": [
        "train_images = np.array([example['image'].numpy() for example in ds_train])"
      ],
      "metadata": {
        "id": "4qW13nSCjpel"
      },
      "execution_count": 8,
      "outputs": []
    },
    {
      "cell_type": "code",
      "source": [
        "type(train_images[0])"
      ],
      "metadata": {
        "colab": {
          "base_uri": "https://localhost:8080/"
        },
        "id": "vTZGO9tAjyoU",
        "outputId": "b4be0146-7eae-4a14-cfef-aef3d716c112"
      },
      "execution_count": 9,
      "outputs": [
        {
          "output_type": "execute_result",
          "data": {
            "text/plain": [
              "numpy.ndarray"
            ]
          },
          "metadata": {},
          "execution_count": 9
        }
      ]
    },
    {
      "cell_type": "code",
      "source": [
        "train_images.shape #Obrazy RGB"
      ],
      "metadata": {
        "colab": {
          "base_uri": "https://localhost:8080/"
        },
        "id": "q1_NxXuSkBza",
        "outputId": "2dee0612-2932-4a7f-de2b-3093409f6b15"
      },
      "execution_count": 10,
      "outputs": [
        {
          "output_type": "execute_result",
          "data": {
            "text/plain": [
              "(2520, 300, 300, 3)"
            ]
          },
          "metadata": {},
          "execution_count": 10
        }
      ]
    },
    {
      "cell_type": "markdown",
      "source": [
        "###Grayscale"
      ],
      "metadata": {
        "id": "H5q8Zx7lkLL6"
      }
    },
    {
      "cell_type": "code",
      "source": [
        "train_images = np.array([example['image'].numpy()[:,:,0] for example in ds_train])\n",
        "test_images = np.array([example['image'].numpy()[:,:,0] for example in ds_test])\n",
        "\n",
        "train_labels = np.array([example['label'] for example in ds_train])\n",
        "test_labels = np.array([example['label'] for example in ds_test])"
      ],
      "metadata": {
        "id": "tcfWMFRmkNTE"
      },
      "execution_count": 11,
      "outputs": []
    },
    {
      "cell_type": "code",
      "source": [
        "train_images.shape #Obrazy w odcieniach szarości"
      ],
      "metadata": {
        "colab": {
          "base_uri": "https://localhost:8080/"
        },
        "id": "pa1JnLfFkWjC",
        "outputId": "3a725aaf-3130-48db-f6f4-3ec1d0490911"
      },
      "execution_count": 12,
      "outputs": [
        {
          "output_type": "execute_result",
          "data": {
            "text/plain": [
              "(2520, 300, 300)"
            ]
          },
          "metadata": {},
          "execution_count": 12
        }
      ]
    },
    {
      "cell_type": "code",
      "source": [
        "test_images.shape"
      ],
      "metadata": {
        "colab": {
          "base_uri": "https://localhost:8080/"
        },
        "id": "lHbXxYFmkg7V",
        "outputId": "ece03f76-0335-4cdb-8908-66db8bd6f34b"
      },
      "execution_count": 13,
      "outputs": [
        {
          "output_type": "execute_result",
          "data": {
            "text/plain": [
              "(372, 300, 300)"
            ]
          },
          "metadata": {},
          "execution_count": 13
        }
      ]
    },
    {
      "cell_type": "markdown",
      "source": [
        "###Reshape -> additional 'axis' for grayscale"
      ],
      "metadata": {
        "id": "oP61y-VRlKHu"
      }
    },
    {
      "cell_type": "code",
      "source": [
        "train_images = train_images.reshape(2520, 300, 300, 1)\n",
        "test_images = test_images.reshape(372, 300, 300, 1)\n",
        "\n",
        "train_images.dtype"
      ],
      "metadata": {
        "colab": {
          "base_uri": "https://localhost:8080/"
        },
        "id": "yxni4PZFlFpB",
        "outputId": "3b755540-3465-4dcb-fb3e-e3ddd8cb759b"
      },
      "execution_count": 14,
      "outputs": [
        {
          "output_type": "execute_result",
          "data": {
            "text/plain": [
              "dtype('uint8')"
            ]
          },
          "metadata": {},
          "execution_count": 14
        }
      ]
    },
    {
      "cell_type": "markdown",
      "source": [
        "###Change of the data type uint8 -> float and normalization to get a better performance of the classification"
      ],
      "metadata": {
        "id": "tA_pRYwyl6JC"
      }
    },
    {
      "cell_type": "code",
      "source": [
        "train_images = train_images.astype('float32')\n",
        "train_images /= 255\n",
        "\n",
        "test_images = test_images.astype('float32')\n",
        "test_images /= 255"
      ],
      "metadata": {
        "id": "iGjjn6yymBqz"
      },
      "execution_count": 15,
      "outputs": []
    },
    {
      "cell_type": "code",
      "source": [
        "train_images.dtype"
      ],
      "metadata": {
        "colab": {
          "base_uri": "https://localhost:8080/"
        },
        "id": "rt6FWbJImqxu",
        "outputId": "4981db86-5024-4398-a3ae-84780d0ddcaf"
      },
      "execution_count": 16,
      "outputs": [
        {
          "output_type": "execute_result",
          "data": {
            "text/plain": [
              "dtype('float32')"
            ]
          },
          "metadata": {},
          "execution_count": 16
        }
      ]
    },
    {
      "cell_type": "code",
      "source": [
        "train_images[0][0][0]"
      ],
      "metadata": {
        "colab": {
          "base_uri": "https://localhost:8080/"
        },
        "id": "f4o4HM0dmtA7",
        "outputId": "171109bd-0e9d-440b-deab-6c9d9e557f68"
      },
      "execution_count": 17,
      "outputs": [
        {
          "output_type": "execute_result",
          "data": {
            "text/plain": [
              "array([0.99607843], dtype=float32)"
            ]
          },
          "metadata": {},
          "execution_count": 17
        }
      ]
    },
    {
      "cell_type": "markdown",
      "source": [
        "##Training the network"
      ],
      "metadata": {
        "id": "NouVDiNunAjb"
      }
    },
    {
      "cell_type": "code",
      "source": [
        "model = keras.Sequential([\n",
        "    keras.layers.Flatten(),\n",
        "    keras.layers.Dense(512, activation = 'relu'),\n",
        "    keras.layers.Dense(256, activation = 'relu'),\n",
        "    keras.layers.Dense(3, activation = 'softmax')\n",
        "])\n",
        "\n",
        "model.compile(optimizer = 'adam',\n",
        "              loss = keras.losses.SparseCategoricalCrossentropy(),\n",
        "              metrics = ['accuracy'])\n",
        "\n",
        "model.fit(train_images, train_labels, epochs = 5, batch_size = 32)"
      ],
      "metadata": {
        "colab": {
          "base_uri": "https://localhost:8080/"
        },
        "id": "B3jSGdiJnDEs",
        "outputId": "e186eb2f-e757-4821-d74c-ae2d8681d91d"
      },
      "execution_count": 19,
      "outputs": [
        {
          "output_type": "stream",
          "name": "stdout",
          "text": [
            "Epoch 1/5\n",
            "79/79 [==============================] - 22s 257ms/step - loss: 23.3742 - accuracy: 0.4071\n",
            "Epoch 2/5\n",
            "79/79 [==============================] - 28s 355ms/step - loss: 1.9945 - accuracy: 0.6770\n",
            "Epoch 3/5\n",
            "79/79 [==============================] - 21s 260ms/step - loss: 0.6555 - accuracy: 0.8135\n",
            "Epoch 4/5\n",
            "79/79 [==============================] - 20s 251ms/step - loss: 0.8366 - accuracy: 0.7675\n",
            "Epoch 5/5\n",
            "79/79 [==============================] - 20s 249ms/step - loss: 0.4181 - accuracy: 0.8659\n"
          ]
        },
        {
          "output_type": "execute_result",
          "data": {
            "text/plain": [
              "<keras.callbacks.History at 0x7faeaffaee10>"
            ]
          },
          "metadata": {},
          "execution_count": 19
        }
      ]
    },
    {
      "cell_type": "markdown",
      "source": [
        "##How the model generalizes?"
      ],
      "metadata": {
        "id": "VfhZoxo-owUU"
      }
    },
    {
      "cell_type": "code",
      "source": [
        "model.evaluate(test_images, test_labels)"
      ],
      "metadata": {
        "colab": {
          "base_uri": "https://localhost:8080/"
        },
        "id": "WMrfn3myoyYa",
        "outputId": "76af19ef-24f1-43ff-be61-53bca6d6a295"
      },
      "execution_count": 20,
      "outputs": [
        {
          "output_type": "stream",
          "name": "stdout",
          "text": [
            "12/12 [==============================] - 1s 78ms/step - loss: 2.0451 - accuracy: 0.5108\n"
          ]
        },
        {
          "output_type": "execute_result",
          "data": {
            "text/plain": [
              "[2.0451149940490723, 0.5107526779174805]"
            ]
          },
          "metadata": {},
          "execution_count": 20
        }
      ]
    },
    {
      "cell_type": "markdown",
      "source": [
        "#Convolutional network"
      ],
      "metadata": {
        "id": "B_iJLtfAbaza"
      }
    },
    {
      "cell_type": "code",
      "source": [
        "model = keras.Sequential([\n",
        "    keras.layers.Conv2D(64, kernel_size = 3, activation = 'relu', input_shape = (300, 300, 1)), #Kernel_size to rozmiar \"okienka\" 3x3 px\n",
        "    keras.layers.Conv2D(32, 3, activation = 'relu'),\n",
        "    keras.layers.Flatten(),\n",
        "    keras.layers.Dense(3, activation = 'softmax')\n",
        "])"
      ],
      "metadata": {
        "id": "9RodKdd-bcm8"
      },
      "execution_count": 18,
      "outputs": []
    },
    {
      "cell_type": "code",
      "source": [
        "model.compile(optimizer = 'adam',\n",
        "              loss = keras.losses.SparseCategoricalCrossentropy(),\n",
        "              metrics = ['accuracy'])"
      ],
      "metadata": {
        "id": "Tjnfd8pGdYyj"
      },
      "execution_count": 19,
      "outputs": []
    },
    {
      "cell_type": "code",
      "source": [
        "model.fit(train_images, train_labels, epochs = 5, batch_size = 32)"
      ],
      "metadata": {
        "colab": {
          "base_uri": "https://localhost:8080/"
        },
        "id": "h4xDj6ZKefED",
        "outputId": "99edc49b-0efe-46a4-8a94-95d5b5891041"
      },
      "execution_count": 20,
      "outputs": [
        {
          "output_type": "stream",
          "name": "stdout",
          "text": [
            "Epoch 1/5\n",
            "79/79 [==============================] - 25s 177ms/step - loss: 4.2788 - accuracy: 0.6762\n",
            "Epoch 2/5\n",
            "79/79 [==============================] - 13s 162ms/step - loss: 0.3496 - accuracy: 0.9044\n",
            "Epoch 3/5\n",
            "79/79 [==============================] - 13s 163ms/step - loss: 0.1043 - accuracy: 0.9857\n",
            "Epoch 4/5\n",
            "79/79 [==============================] - 13s 164ms/step - loss: 0.0153 - accuracy: 0.9968\n",
            "Epoch 5/5\n",
            "79/79 [==============================] - 13s 166ms/step - loss: 0.0071 - accuracy: 0.9992\n"
          ]
        },
        {
          "output_type": "execute_result",
          "data": {
            "text/plain": [
              "<keras.callbacks.History at 0x7f4ed76f0d50>"
            ]
          },
          "metadata": {},
          "execution_count": 20
        }
      ]
    },
    {
      "cell_type": "code",
      "source": [
        "model.evaluate(test_images, test_labels)"
      ],
      "metadata": {
        "colab": {
          "base_uri": "https://localhost:8080/"
        },
        "id": "R07Z032_gBZt",
        "outputId": "b33b34c3-85a3-4bbf-f1f9-65f67acc41a1"
      },
      "execution_count": 21,
      "outputs": [
        {
          "output_type": "stream",
          "name": "stdout",
          "text": [
            "12/12 [==============================] - 2s 115ms/step - loss: 1.6483 - accuracy: 0.5215\n"
          ]
        },
        {
          "output_type": "execute_result",
          "data": {
            "text/plain": [
              "[1.6482834815979004, 0.5215053558349609]"
            ]
          },
          "metadata": {},
          "execution_count": 21
        }
      ]
    },
    {
      "cell_type": "markdown",
      "source": [
        "##Overfitting ^ (99,9% of accuracy in the training set and 52,1% in the test set)"
      ],
      "metadata": {
        "id": "stduj9P0gLu1"
      }
    },
    {
      "cell_type": "markdown",
      "source": [
        "##2nd convolutional network"
      ],
      "metadata": {
        "id": "JR5poZHCgVNH"
      }
    },
    {
      "cell_type": "code",
      "source": [
        "model = keras.Sequential([\n",
        "    keras.layers.AveragePooling2D(6, 3, input_shape = (300, 300, 1)), #Uśrednianie pikseli w \"oknie\" o wymiarach 6x6 px i przesuwanie okna o 3 px,\n",
        "                                  #Prowadzi to do \"zmniejszenia\" obrazu do wymiarów 100x100 (z 300x300)\n",
        "    keras.layers.Conv2D(64, kernel_size = 3, activation = 'relu'), #Kernel_size to rozmiar \"okienka\" 3x3 px\n",
        "    keras.layers.Conv2D(32, 3, activation = 'relu'),\n",
        "    keras.layers.MaxPool2D(2,2), #Pobranie maksymalnej wartości piksela z \"okienka\" 2x2 px\n",
        "    keras.layers.Dropout(0.5), #Podczas uczenia 50% połączeń między neuronami jest odcinanych losowo; każde połączenie będzie lepiej uogólniać\n",
        "    keras.layers.Flatten(),\n",
        "    keras.layers.Dense(128, activation = 'relu'),\n",
        "    keras.layers.Dense(3, activation = 'softmax')\n",
        "])\n",
        "\n",
        "model.compile(optimizer = 'adam',\n",
        "              loss = keras.losses.SparseCategoricalCrossentropy(),\n",
        "              metrics = ['accuracy'])\n",
        "\n",
        "model.fit(train_images, train_labels, epochs = 5, batch_size = 32)"
      ],
      "metadata": {
        "colab": {
          "base_uri": "https://localhost:8080/"
        },
        "id": "byMhv-oogTOO",
        "outputId": "de4fb51b-267b-4b22-a4bd-5e5f251ba122"
      },
      "execution_count": 32,
      "outputs": [
        {
          "output_type": "stream",
          "name": "stdout",
          "text": [
            "Epoch 1/5\n",
            "79/79 [==============================] - 3s 29ms/step - loss: 0.7823 - accuracy: 0.6857\n",
            "Epoch 2/5\n",
            "79/79 [==============================] - 2s 28ms/step - loss: 0.1101 - accuracy: 0.9706\n",
            "Epoch 3/5\n",
            "79/79 [==============================] - 2s 29ms/step - loss: 0.0388 - accuracy: 0.9909\n",
            "Epoch 4/5\n",
            "79/79 [==============================] - 2s 29ms/step - loss: 0.0148 - accuracy: 0.9964\n",
            "Epoch 5/5\n",
            "79/79 [==============================] - 2s 28ms/step - loss: 0.0147 - accuracy: 0.9972\n"
          ]
        },
        {
          "output_type": "execute_result",
          "data": {
            "text/plain": [
              "<keras.callbacks.History at 0x7f4ed66d1e90>"
            ]
          },
          "metadata": {},
          "execution_count": 32
        }
      ]
    },
    {
      "cell_type": "code",
      "source": [
        "model.evaluate(test_images, test_labels)"
      ],
      "metadata": {
        "colab": {
          "base_uri": "https://localhost:8080/"
        },
        "id": "AWz9Xyrvhwch",
        "outputId": "e229894d-b32c-40d9-ded7-7ab7df0ab2ff"
      },
      "execution_count": 33,
      "outputs": [
        {
          "output_type": "stream",
          "name": "stdout",
          "text": [
            "12/12 [==============================] - 0s 18ms/step - loss: 1.1911 - accuracy: 0.7070\n"
          ]
        },
        {
          "output_type": "execute_result",
          "data": {
            "text/plain": [
              "[1.1910507678985596, 0.7069892287254333]"
            ]
          },
          "metadata": {},
          "execution_count": 33
        }
      ]
    },
    {
      "cell_type": "markdown",
      "source": [
        "#Kerastuner!"
      ],
      "metadata": {
        "id": "YIsDcLwGjC7O"
      }
    },
    {
      "cell_type": "code",
      "source": [],
      "metadata": {
        "id": "M-TK6Uu8jESW"
      },
      "execution_count": null,
      "outputs": []
    }
  ]
}