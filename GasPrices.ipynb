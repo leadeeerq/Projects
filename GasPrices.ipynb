{
  "nbformat": 4,
  "nbformat_minor": 0,
  "metadata": {
    "colab": {
      "provenance": [],
      "collapsed_sections": [],
      "toc_visible": true,
      "mount_file_id": "1a2t1SqXBLdcvF0IQm796DDqJk0MZAoUV",
      "authorship_tag": "ABX9TyPbLcKN135CN8lNBFY2u3u2",
      "include_colab_link": true
    },
    "kernelspec": {
      "name": "python3",
      "display_name": "Python 3"
    },
    "language_info": {
      "name": "python"
    }
  },
  "cells": [
    {
      "cell_type": "markdown",
      "metadata": {
        "id": "view-in-github",
        "colab_type": "text"
      },
      "source": [
        "<a href=\"https://colab.research.google.com/github/leadeeerq/Projects/blob/main/GasPrices.ipynb\" target=\"_parent\"><img src=\"https://colab.research.google.com/assets/colab-badge.svg\" alt=\"Open In Colab\"/></a>"
      ]
    },
    {
      "cell_type": "markdown",
      "source": [
        "##Libraries"
      ],
      "metadata": {
        "id": "cq3ytHKf9MXP"
      }
    },
    {
      "cell_type": "code",
      "execution_count": 1,
      "metadata": {
        "id": "fWE8o5E79Eac"
      },
      "outputs": [],
      "source": [
        "import matplotlib.pyplot as plt\n",
        "import numpy as np\n",
        "import pandas as pd"
      ]
    },
    {
      "cell_type": "markdown",
      "source": [
        "##Loading the data"
      ],
      "metadata": {
        "id": "bOZf8a2U9c1B"
      }
    },
    {
      "cell_type": "code",
      "source": [
        "df = pd.read_csv('/content/drive/MyDrive/Projekty/Gas prices/gas_prices.csv')"
      ],
      "metadata": {
        "id": "hLNO9Oc_9RuF"
      },
      "execution_count": 4,
      "outputs": []
    },
    {
      "cell_type": "markdown",
      "source": [
        "##Exploring the data"
      ],
      "metadata": {
        "id": "nGC9DF2f98MM"
      }
    },
    {
      "cell_type": "code",
      "source": [
        "# USD per gallon"
      ],
      "metadata": {
        "id": "YxF3oa1j-n2J"
      },
      "execution_count": null,
      "outputs": []
    },
    {
      "cell_type": "code",
      "source": [
        "df.head()"
      ],
      "metadata": {
        "colab": {
          "base_uri": "https://localhost:8080/",
          "height": 206
        },
        "id": "hk74VH-v99pa",
        "outputId": "cb3649f0-327e-4cdd-d0d0-dba65006d3df"
      },
      "execution_count": 5,
      "outputs": [
        {
          "output_type": "execute_result",
          "data": {
            "text/plain": [
              "   Year  Australia  Canada  France  Germany  Italy  Japan  Mexico  \\\n",
              "0  1990        NaN    1.87    3.63     2.65   4.59   3.16    1.00   \n",
              "1  1991       1.96    1.92    3.45     2.90   4.50   3.46    1.30   \n",
              "2  1992       1.89    1.73    3.56     3.27   4.53   3.58    1.50   \n",
              "3  1993       1.73    1.57    3.41     3.07   3.68   4.16    1.56   \n",
              "4  1994       1.84    1.45    3.59     3.52   3.70   4.36    1.48   \n",
              "\n",
              "   South Korea    UK   USA  \n",
              "0         2.05  2.82  1.16  \n",
              "1         2.49  3.01  1.14  \n",
              "2         2.65  3.06  1.13  \n",
              "3         2.88  2.84  1.11  \n",
              "4         2.87  2.99  1.11  "
            ],
            "text/html": [
              "\n",
              "  <div id=\"df-3c3e5a60-7837-4a99-9821-456f6a5b44fe\">\n",
              "    <div class=\"colab-df-container\">\n",
              "      <div>\n",
              "<style scoped>\n",
              "    .dataframe tbody tr th:only-of-type {\n",
              "        vertical-align: middle;\n",
              "    }\n",
              "\n",
              "    .dataframe tbody tr th {\n",
              "        vertical-align: top;\n",
              "    }\n",
              "\n",
              "    .dataframe thead th {\n",
              "        text-align: right;\n",
              "    }\n",
              "</style>\n",
              "<table border=\"1\" class=\"dataframe\">\n",
              "  <thead>\n",
              "    <tr style=\"text-align: right;\">\n",
              "      <th></th>\n",
              "      <th>Year</th>\n",
              "      <th>Australia</th>\n",
              "      <th>Canada</th>\n",
              "      <th>France</th>\n",
              "      <th>Germany</th>\n",
              "      <th>Italy</th>\n",
              "      <th>Japan</th>\n",
              "      <th>Mexico</th>\n",
              "      <th>South Korea</th>\n",
              "      <th>UK</th>\n",
              "      <th>USA</th>\n",
              "    </tr>\n",
              "  </thead>\n",
              "  <tbody>\n",
              "    <tr>\n",
              "      <th>0</th>\n",
              "      <td>1990</td>\n",
              "      <td>NaN</td>\n",
              "      <td>1.87</td>\n",
              "      <td>3.63</td>\n",
              "      <td>2.65</td>\n",
              "      <td>4.59</td>\n",
              "      <td>3.16</td>\n",
              "      <td>1.00</td>\n",
              "      <td>2.05</td>\n",
              "      <td>2.82</td>\n",
              "      <td>1.16</td>\n",
              "    </tr>\n",
              "    <tr>\n",
              "      <th>1</th>\n",
              "      <td>1991</td>\n",
              "      <td>1.96</td>\n",
              "      <td>1.92</td>\n",
              "      <td>3.45</td>\n",
              "      <td>2.90</td>\n",
              "      <td>4.50</td>\n",
              "      <td>3.46</td>\n",
              "      <td>1.30</td>\n",
              "      <td>2.49</td>\n",
              "      <td>3.01</td>\n",
              "      <td>1.14</td>\n",
              "    </tr>\n",
              "    <tr>\n",
              "      <th>2</th>\n",
              "      <td>1992</td>\n",
              "      <td>1.89</td>\n",
              "      <td>1.73</td>\n",
              "      <td>3.56</td>\n",
              "      <td>3.27</td>\n",
              "      <td>4.53</td>\n",
              "      <td>3.58</td>\n",
              "      <td>1.50</td>\n",
              "      <td>2.65</td>\n",
              "      <td>3.06</td>\n",
              "      <td>1.13</td>\n",
              "    </tr>\n",
              "    <tr>\n",
              "      <th>3</th>\n",
              "      <td>1993</td>\n",
              "      <td>1.73</td>\n",
              "      <td>1.57</td>\n",
              "      <td>3.41</td>\n",
              "      <td>3.07</td>\n",
              "      <td>3.68</td>\n",
              "      <td>4.16</td>\n",
              "      <td>1.56</td>\n",
              "      <td>2.88</td>\n",
              "      <td>2.84</td>\n",
              "      <td>1.11</td>\n",
              "    </tr>\n",
              "    <tr>\n",
              "      <th>4</th>\n",
              "      <td>1994</td>\n",
              "      <td>1.84</td>\n",
              "      <td>1.45</td>\n",
              "      <td>3.59</td>\n",
              "      <td>3.52</td>\n",
              "      <td>3.70</td>\n",
              "      <td>4.36</td>\n",
              "      <td>1.48</td>\n",
              "      <td>2.87</td>\n",
              "      <td>2.99</td>\n",
              "      <td>1.11</td>\n",
              "    </tr>\n",
              "  </tbody>\n",
              "</table>\n",
              "</div>\n",
              "      <button class=\"colab-df-convert\" onclick=\"convertToInteractive('df-3c3e5a60-7837-4a99-9821-456f6a5b44fe')\"\n",
              "              title=\"Convert this dataframe to an interactive table.\"\n",
              "              style=\"display:none;\">\n",
              "        \n",
              "  <svg xmlns=\"http://www.w3.org/2000/svg\" height=\"24px\"viewBox=\"0 0 24 24\"\n",
              "       width=\"24px\">\n",
              "    <path d=\"M0 0h24v24H0V0z\" fill=\"none\"/>\n",
              "    <path d=\"M18.56 5.44l.94 2.06.94-2.06 2.06-.94-2.06-.94-.94-2.06-.94 2.06-2.06.94zm-11 1L8.5 8.5l.94-2.06 2.06-.94-2.06-.94L8.5 2.5l-.94 2.06-2.06.94zm10 10l.94 2.06.94-2.06 2.06-.94-2.06-.94-.94-2.06-.94 2.06-2.06.94z\"/><path d=\"M17.41 7.96l-1.37-1.37c-.4-.4-.92-.59-1.43-.59-.52 0-1.04.2-1.43.59L10.3 9.45l-7.72 7.72c-.78.78-.78 2.05 0 2.83L4 21.41c.39.39.9.59 1.41.59.51 0 1.02-.2 1.41-.59l7.78-7.78 2.81-2.81c.8-.78.8-2.07 0-2.86zM5.41 20L4 18.59l7.72-7.72 1.47 1.35L5.41 20z\"/>\n",
              "  </svg>\n",
              "      </button>\n",
              "      \n",
              "  <style>\n",
              "    .colab-df-container {\n",
              "      display:flex;\n",
              "      flex-wrap:wrap;\n",
              "      gap: 12px;\n",
              "    }\n",
              "\n",
              "    .colab-df-convert {\n",
              "      background-color: #E8F0FE;\n",
              "      border: none;\n",
              "      border-radius: 50%;\n",
              "      cursor: pointer;\n",
              "      display: none;\n",
              "      fill: #1967D2;\n",
              "      height: 32px;\n",
              "      padding: 0 0 0 0;\n",
              "      width: 32px;\n",
              "    }\n",
              "\n",
              "    .colab-df-convert:hover {\n",
              "      background-color: #E2EBFA;\n",
              "      box-shadow: 0px 1px 2px rgba(60, 64, 67, 0.3), 0px 1px 3px 1px rgba(60, 64, 67, 0.15);\n",
              "      fill: #174EA6;\n",
              "    }\n",
              "\n",
              "    [theme=dark] .colab-df-convert {\n",
              "      background-color: #3B4455;\n",
              "      fill: #D2E3FC;\n",
              "    }\n",
              "\n",
              "    [theme=dark] .colab-df-convert:hover {\n",
              "      background-color: #434B5C;\n",
              "      box-shadow: 0px 1px 3px 1px rgba(0, 0, 0, 0.15);\n",
              "      filter: drop-shadow(0px 1px 2px rgba(0, 0, 0, 0.3));\n",
              "      fill: #FFFFFF;\n",
              "    }\n",
              "  </style>\n",
              "\n",
              "      <script>\n",
              "        const buttonEl =\n",
              "          document.querySelector('#df-3c3e5a60-7837-4a99-9821-456f6a5b44fe button.colab-df-convert');\n",
              "        buttonEl.style.display =\n",
              "          google.colab.kernel.accessAllowed ? 'block' : 'none';\n",
              "\n",
              "        async function convertToInteractive(key) {\n",
              "          const element = document.querySelector('#df-3c3e5a60-7837-4a99-9821-456f6a5b44fe');\n",
              "          const dataTable =\n",
              "            await google.colab.kernel.invokeFunction('convertToInteractive',\n",
              "                                                     [key], {});\n",
              "          if (!dataTable) return;\n",
              "\n",
              "          const docLinkHtml = 'Like what you see? Visit the ' +\n",
              "            '<a target=\"_blank\" href=https://colab.research.google.com/notebooks/data_table.ipynb>data table notebook</a>'\n",
              "            + ' to learn more about interactive tables.';\n",
              "          element.innerHTML = '';\n",
              "          dataTable['output_type'] = 'display_data';\n",
              "          await google.colab.output.renderOutput(dataTable, element);\n",
              "          const docLink = document.createElement('div');\n",
              "          docLink.innerHTML = docLinkHtml;\n",
              "          element.appendChild(docLink);\n",
              "        }\n",
              "      </script>\n",
              "    </div>\n",
              "  </div>\n",
              "  "
            ]
          },
          "metadata": {},
          "execution_count": 5
        }
      ]
    },
    {
      "cell_type": "code",
      "source": [
        "df.describe()"
      ],
      "metadata": {
        "colab": {
          "base_uri": "https://localhost:8080/",
          "height": 300
        },
        "id": "PLBOWNzb9_i2",
        "outputId": "6ef4a93a-d061-4744-b6f4-43f9e9830c88"
      },
      "execution_count": 6,
      "outputs": [
        {
          "output_type": "execute_result",
          "data": {
            "text/plain": [
              "              Year  Australia     Canada     France    Germany      Italy  \\\n",
              "count    19.000000  18.000000  19.000000  19.000000  19.000000  19.000000   \n",
              "mean   1999.000000   2.348889   2.086842   4.407895   4.224737   4.645789   \n",
              "std       5.627314   0.845931   0.786618   1.167531   1.425749   1.146610   \n",
              "min    1990.000000   1.630000   1.380000   3.410000   2.650000   3.570000   \n",
              "25%    1994.500000   1.780000   1.590000   3.605000   3.370000   3.805000   \n",
              "50%    1999.000000   1.955000   1.730000   3.870000   3.530000   4.390000   \n",
              "75%    2003.500000   2.587500   2.180000   4.700000   4.915000   4.940000   \n",
              "max    2008.000000   4.450000   4.080000   7.510000   7.750000   7.630000   \n",
              "\n",
              "           Japan     Mexico  South Korea         UK        USA  \n",
              "count  19.000000  19.000000    19.000000  19.000000  19.000000  \n",
              "mean    3.820526   1.781579     3.835789   4.392632   1.592105  \n",
              "std     0.696615   0.462148     1.226170   1.455170   0.663355  \n",
              "min     2.820000   1.000000     2.050000   2.820000   1.060000  \n",
              "25%     3.270000   1.475000     2.910000   3.135000   1.145000  \n",
              "50%     3.640000   1.790000     3.760000   4.130000   1.230000  \n",
              "75%     4.320000   2.210000     4.345000   5.130000   1.735000  \n",
              "max     5.740000   2.450000     6.210000   7.420000   3.270000  "
            ],
            "text/html": [
              "\n",
              "  <div id=\"df-4f1f56c1-1f88-4e78-97ac-270f5fa9d694\">\n",
              "    <div class=\"colab-df-container\">\n",
              "      <div>\n",
              "<style scoped>\n",
              "    .dataframe tbody tr th:only-of-type {\n",
              "        vertical-align: middle;\n",
              "    }\n",
              "\n",
              "    .dataframe tbody tr th {\n",
              "        vertical-align: top;\n",
              "    }\n",
              "\n",
              "    .dataframe thead th {\n",
              "        text-align: right;\n",
              "    }\n",
              "</style>\n",
              "<table border=\"1\" class=\"dataframe\">\n",
              "  <thead>\n",
              "    <tr style=\"text-align: right;\">\n",
              "      <th></th>\n",
              "      <th>Year</th>\n",
              "      <th>Australia</th>\n",
              "      <th>Canada</th>\n",
              "      <th>France</th>\n",
              "      <th>Germany</th>\n",
              "      <th>Italy</th>\n",
              "      <th>Japan</th>\n",
              "      <th>Mexico</th>\n",
              "      <th>South Korea</th>\n",
              "      <th>UK</th>\n",
              "      <th>USA</th>\n",
              "    </tr>\n",
              "  </thead>\n",
              "  <tbody>\n",
              "    <tr>\n",
              "      <th>count</th>\n",
              "      <td>19.000000</td>\n",
              "      <td>18.000000</td>\n",
              "      <td>19.000000</td>\n",
              "      <td>19.000000</td>\n",
              "      <td>19.000000</td>\n",
              "      <td>19.000000</td>\n",
              "      <td>19.000000</td>\n",
              "      <td>19.000000</td>\n",
              "      <td>19.000000</td>\n",
              "      <td>19.000000</td>\n",
              "      <td>19.000000</td>\n",
              "    </tr>\n",
              "    <tr>\n",
              "      <th>mean</th>\n",
              "      <td>1999.000000</td>\n",
              "      <td>2.348889</td>\n",
              "      <td>2.086842</td>\n",
              "      <td>4.407895</td>\n",
              "      <td>4.224737</td>\n",
              "      <td>4.645789</td>\n",
              "      <td>3.820526</td>\n",
              "      <td>1.781579</td>\n",
              "      <td>3.835789</td>\n",
              "      <td>4.392632</td>\n",
              "      <td>1.592105</td>\n",
              "    </tr>\n",
              "    <tr>\n",
              "      <th>std</th>\n",
              "      <td>5.627314</td>\n",
              "      <td>0.845931</td>\n",
              "      <td>0.786618</td>\n",
              "      <td>1.167531</td>\n",
              "      <td>1.425749</td>\n",
              "      <td>1.146610</td>\n",
              "      <td>0.696615</td>\n",
              "      <td>0.462148</td>\n",
              "      <td>1.226170</td>\n",
              "      <td>1.455170</td>\n",
              "      <td>0.663355</td>\n",
              "    </tr>\n",
              "    <tr>\n",
              "      <th>min</th>\n",
              "      <td>1990.000000</td>\n",
              "      <td>1.630000</td>\n",
              "      <td>1.380000</td>\n",
              "      <td>3.410000</td>\n",
              "      <td>2.650000</td>\n",
              "      <td>3.570000</td>\n",
              "      <td>2.820000</td>\n",
              "      <td>1.000000</td>\n",
              "      <td>2.050000</td>\n",
              "      <td>2.820000</td>\n",
              "      <td>1.060000</td>\n",
              "    </tr>\n",
              "    <tr>\n",
              "      <th>25%</th>\n",
              "      <td>1994.500000</td>\n",
              "      <td>1.780000</td>\n",
              "      <td>1.590000</td>\n",
              "      <td>3.605000</td>\n",
              "      <td>3.370000</td>\n",
              "      <td>3.805000</td>\n",
              "      <td>3.270000</td>\n",
              "      <td>1.475000</td>\n",
              "      <td>2.910000</td>\n",
              "      <td>3.135000</td>\n",
              "      <td>1.145000</td>\n",
              "    </tr>\n",
              "    <tr>\n",
              "      <th>50%</th>\n",
              "      <td>1999.000000</td>\n",
              "      <td>1.955000</td>\n",
              "      <td>1.730000</td>\n",
              "      <td>3.870000</td>\n",
              "      <td>3.530000</td>\n",
              "      <td>4.390000</td>\n",
              "      <td>3.640000</td>\n",
              "      <td>1.790000</td>\n",
              "      <td>3.760000</td>\n",
              "      <td>4.130000</td>\n",
              "      <td>1.230000</td>\n",
              "    </tr>\n",
              "    <tr>\n",
              "      <th>75%</th>\n",
              "      <td>2003.500000</td>\n",
              "      <td>2.587500</td>\n",
              "      <td>2.180000</td>\n",
              "      <td>4.700000</td>\n",
              "      <td>4.915000</td>\n",
              "      <td>4.940000</td>\n",
              "      <td>4.320000</td>\n",
              "      <td>2.210000</td>\n",
              "      <td>4.345000</td>\n",
              "      <td>5.130000</td>\n",
              "      <td>1.735000</td>\n",
              "    </tr>\n",
              "    <tr>\n",
              "      <th>max</th>\n",
              "      <td>2008.000000</td>\n",
              "      <td>4.450000</td>\n",
              "      <td>4.080000</td>\n",
              "      <td>7.510000</td>\n",
              "      <td>7.750000</td>\n",
              "      <td>7.630000</td>\n",
              "      <td>5.740000</td>\n",
              "      <td>2.450000</td>\n",
              "      <td>6.210000</td>\n",
              "      <td>7.420000</td>\n",
              "      <td>3.270000</td>\n",
              "    </tr>\n",
              "  </tbody>\n",
              "</table>\n",
              "</div>\n",
              "      <button class=\"colab-df-convert\" onclick=\"convertToInteractive('df-4f1f56c1-1f88-4e78-97ac-270f5fa9d694')\"\n",
              "              title=\"Convert this dataframe to an interactive table.\"\n",
              "              style=\"display:none;\">\n",
              "        \n",
              "  <svg xmlns=\"http://www.w3.org/2000/svg\" height=\"24px\"viewBox=\"0 0 24 24\"\n",
              "       width=\"24px\">\n",
              "    <path d=\"M0 0h24v24H0V0z\" fill=\"none\"/>\n",
              "    <path d=\"M18.56 5.44l.94 2.06.94-2.06 2.06-.94-2.06-.94-.94-2.06-.94 2.06-2.06.94zm-11 1L8.5 8.5l.94-2.06 2.06-.94-2.06-.94L8.5 2.5l-.94 2.06-2.06.94zm10 10l.94 2.06.94-2.06 2.06-.94-2.06-.94-.94-2.06-.94 2.06-2.06.94z\"/><path d=\"M17.41 7.96l-1.37-1.37c-.4-.4-.92-.59-1.43-.59-.52 0-1.04.2-1.43.59L10.3 9.45l-7.72 7.72c-.78.78-.78 2.05 0 2.83L4 21.41c.39.39.9.59 1.41.59.51 0 1.02-.2 1.41-.59l7.78-7.78 2.81-2.81c.8-.78.8-2.07 0-2.86zM5.41 20L4 18.59l7.72-7.72 1.47 1.35L5.41 20z\"/>\n",
              "  </svg>\n",
              "      </button>\n",
              "      \n",
              "  <style>\n",
              "    .colab-df-container {\n",
              "      display:flex;\n",
              "      flex-wrap:wrap;\n",
              "      gap: 12px;\n",
              "    }\n",
              "\n",
              "    .colab-df-convert {\n",
              "      background-color: #E8F0FE;\n",
              "      border: none;\n",
              "      border-radius: 50%;\n",
              "      cursor: pointer;\n",
              "      display: none;\n",
              "      fill: #1967D2;\n",
              "      height: 32px;\n",
              "      padding: 0 0 0 0;\n",
              "      width: 32px;\n",
              "    }\n",
              "\n",
              "    .colab-df-convert:hover {\n",
              "      background-color: #E2EBFA;\n",
              "      box-shadow: 0px 1px 2px rgba(60, 64, 67, 0.3), 0px 1px 3px 1px rgba(60, 64, 67, 0.15);\n",
              "      fill: #174EA6;\n",
              "    }\n",
              "\n",
              "    [theme=dark] .colab-df-convert {\n",
              "      background-color: #3B4455;\n",
              "      fill: #D2E3FC;\n",
              "    }\n",
              "\n",
              "    [theme=dark] .colab-df-convert:hover {\n",
              "      background-color: #434B5C;\n",
              "      box-shadow: 0px 1px 3px 1px rgba(0, 0, 0, 0.15);\n",
              "      filter: drop-shadow(0px 1px 2px rgba(0, 0, 0, 0.3));\n",
              "      fill: #FFFFFF;\n",
              "    }\n",
              "  </style>\n",
              "\n",
              "      <script>\n",
              "        const buttonEl =\n",
              "          document.querySelector('#df-4f1f56c1-1f88-4e78-97ac-270f5fa9d694 button.colab-df-convert');\n",
              "        buttonEl.style.display =\n",
              "          google.colab.kernel.accessAllowed ? 'block' : 'none';\n",
              "\n",
              "        async function convertToInteractive(key) {\n",
              "          const element = document.querySelector('#df-4f1f56c1-1f88-4e78-97ac-270f5fa9d694');\n",
              "          const dataTable =\n",
              "            await google.colab.kernel.invokeFunction('convertToInteractive',\n",
              "                                                     [key], {});\n",
              "          if (!dataTable) return;\n",
              "\n",
              "          const docLinkHtml = 'Like what you see? Visit the ' +\n",
              "            '<a target=\"_blank\" href=https://colab.research.google.com/notebooks/data_table.ipynb>data table notebook</a>'\n",
              "            + ' to learn more about interactive tables.';\n",
              "          element.innerHTML = '';\n",
              "          dataTable['output_type'] = 'display_data';\n",
              "          await google.colab.output.renderOutput(dataTable, element);\n",
              "          const docLink = document.createElement('div');\n",
              "          docLink.innerHTML = docLinkHtml;\n",
              "          element.appendChild(docLink);\n",
              "        }\n",
              "      </script>\n",
              "    </div>\n",
              "  </div>\n",
              "  "
            ]
          },
          "metadata": {},
          "execution_count": 6
        }
      ]
    },
    {
      "cell_type": "code",
      "source": [
        "df.info()"
      ],
      "metadata": {
        "colab": {
          "base_uri": "https://localhost:8080/"
        },
        "id": "sfeJn5KC-BYD",
        "outputId": "326ba73c-8afc-4a8f-c932-287b815ac6df"
      },
      "execution_count": 7,
      "outputs": [
        {
          "output_type": "stream",
          "name": "stdout",
          "text": [
            "<class 'pandas.core.frame.DataFrame'>\n",
            "RangeIndex: 19 entries, 0 to 18\n",
            "Data columns (total 11 columns):\n",
            " #   Column       Non-Null Count  Dtype  \n",
            "---  ------       --------------  -----  \n",
            " 0   Year         19 non-null     int64  \n",
            " 1   Australia    18 non-null     float64\n",
            " 2   Canada       19 non-null     float64\n",
            " 3   France       19 non-null     float64\n",
            " 4   Germany      19 non-null     float64\n",
            " 5   Italy        19 non-null     float64\n",
            " 6   Japan        19 non-null     float64\n",
            " 7   Mexico       19 non-null     float64\n",
            " 8   South Korea  19 non-null     float64\n",
            " 9   UK           19 non-null     float64\n",
            " 10  USA          19 non-null     float64\n",
            "dtypes: float64(10), int64(1)\n",
            "memory usage: 1.8 KB\n"
          ]
        }
      ]
    },
    {
      "cell_type": "markdown",
      "source": [
        "#### Basic information from the data"
      ],
      "metadata": {
        "id": "CauMPx8U-Z5a"
      }
    },
    {
      "cell_type": "code",
      "source": [
        "# Countries of the lowest and highest gas prices over the years"
      ],
      "metadata": {
        "id": "v5Ektm2X_v7T"
      },
      "execution_count": null,
      "outputs": []
    },
    {
      "cell_type": "code",
      "source": [
        "df_info = df.copy()\n",
        "df_info['Max'] = df.iloc[:,1:].idxmax(axis=1)\n",
        "df_info['Min'] = df.iloc[:,1:].idxmin(axis=1)\n",
        "\n",
        "df_info.head()"
      ],
      "metadata": {
        "colab": {
          "base_uri": "https://localhost:8080/",
          "height": 206
        },
        "id": "_gbsFfoa-boT",
        "outputId": "154bff19-4e00-47d9-9639-118a6dff5d88"
      },
      "execution_count": 22,
      "outputs": [
        {
          "output_type": "execute_result",
          "data": {
            "text/plain": [
              "   Year  Australia  Canada  France  Germany  Italy  Japan  Mexico  \\\n",
              "0  1990        NaN    1.87    3.63     2.65   4.59   3.16    1.00   \n",
              "1  1991       1.96    1.92    3.45     2.90   4.50   3.46    1.30   \n",
              "2  1992       1.89    1.73    3.56     3.27   4.53   3.58    1.50   \n",
              "3  1993       1.73    1.57    3.41     3.07   3.68   4.16    1.56   \n",
              "4  1994       1.84    1.45    3.59     3.52   3.70   4.36    1.48   \n",
              "\n",
              "   South Korea    UK   USA    Max     Min  \n",
              "0         2.05  2.82  1.16  Italy  Mexico  \n",
              "1         2.49  3.01  1.14  Italy     USA  \n",
              "2         2.65  3.06  1.13  Italy     USA  \n",
              "3         2.88  2.84  1.11  Japan     USA  \n",
              "4         2.87  2.99  1.11  Japan     USA  "
            ],
            "text/html": [
              "\n",
              "  <div id=\"df-6f4e59ed-7000-4a25-ac9e-7ebd7ce5433d\">\n",
              "    <div class=\"colab-df-container\">\n",
              "      <div>\n",
              "<style scoped>\n",
              "    .dataframe tbody tr th:only-of-type {\n",
              "        vertical-align: middle;\n",
              "    }\n",
              "\n",
              "    .dataframe tbody tr th {\n",
              "        vertical-align: top;\n",
              "    }\n",
              "\n",
              "    .dataframe thead th {\n",
              "        text-align: right;\n",
              "    }\n",
              "</style>\n",
              "<table border=\"1\" class=\"dataframe\">\n",
              "  <thead>\n",
              "    <tr style=\"text-align: right;\">\n",
              "      <th></th>\n",
              "      <th>Year</th>\n",
              "      <th>Australia</th>\n",
              "      <th>Canada</th>\n",
              "      <th>France</th>\n",
              "      <th>Germany</th>\n",
              "      <th>Italy</th>\n",
              "      <th>Japan</th>\n",
              "      <th>Mexico</th>\n",
              "      <th>South Korea</th>\n",
              "      <th>UK</th>\n",
              "      <th>USA</th>\n",
              "      <th>Max</th>\n",
              "      <th>Min</th>\n",
              "    </tr>\n",
              "  </thead>\n",
              "  <tbody>\n",
              "    <tr>\n",
              "      <th>0</th>\n",
              "      <td>1990</td>\n",
              "      <td>NaN</td>\n",
              "      <td>1.87</td>\n",
              "      <td>3.63</td>\n",
              "      <td>2.65</td>\n",
              "      <td>4.59</td>\n",
              "      <td>3.16</td>\n",
              "      <td>1.00</td>\n",
              "      <td>2.05</td>\n",
              "      <td>2.82</td>\n",
              "      <td>1.16</td>\n",
              "      <td>Italy</td>\n",
              "      <td>Mexico</td>\n",
              "    </tr>\n",
              "    <tr>\n",
              "      <th>1</th>\n",
              "      <td>1991</td>\n",
              "      <td>1.96</td>\n",
              "      <td>1.92</td>\n",
              "      <td>3.45</td>\n",
              "      <td>2.90</td>\n",
              "      <td>4.50</td>\n",
              "      <td>3.46</td>\n",
              "      <td>1.30</td>\n",
              "      <td>2.49</td>\n",
              "      <td>3.01</td>\n",
              "      <td>1.14</td>\n",
              "      <td>Italy</td>\n",
              "      <td>USA</td>\n",
              "    </tr>\n",
              "    <tr>\n",
              "      <th>2</th>\n",
              "      <td>1992</td>\n",
              "      <td>1.89</td>\n",
              "      <td>1.73</td>\n",
              "      <td>3.56</td>\n",
              "      <td>3.27</td>\n",
              "      <td>4.53</td>\n",
              "      <td>3.58</td>\n",
              "      <td>1.50</td>\n",
              "      <td>2.65</td>\n",
              "      <td>3.06</td>\n",
              "      <td>1.13</td>\n",
              "      <td>Italy</td>\n",
              "      <td>USA</td>\n",
              "    </tr>\n",
              "    <tr>\n",
              "      <th>3</th>\n",
              "      <td>1993</td>\n",
              "      <td>1.73</td>\n",
              "      <td>1.57</td>\n",
              "      <td>3.41</td>\n",
              "      <td>3.07</td>\n",
              "      <td>3.68</td>\n",
              "      <td>4.16</td>\n",
              "      <td>1.56</td>\n",
              "      <td>2.88</td>\n",
              "      <td>2.84</td>\n",
              "      <td>1.11</td>\n",
              "      <td>Japan</td>\n",
              "      <td>USA</td>\n",
              "    </tr>\n",
              "    <tr>\n",
              "      <th>4</th>\n",
              "      <td>1994</td>\n",
              "      <td>1.84</td>\n",
              "      <td>1.45</td>\n",
              "      <td>3.59</td>\n",
              "      <td>3.52</td>\n",
              "      <td>3.70</td>\n",
              "      <td>4.36</td>\n",
              "      <td>1.48</td>\n",
              "      <td>2.87</td>\n",
              "      <td>2.99</td>\n",
              "      <td>1.11</td>\n",
              "      <td>Japan</td>\n",
              "      <td>USA</td>\n",
              "    </tr>\n",
              "  </tbody>\n",
              "</table>\n",
              "</div>\n",
              "      <button class=\"colab-df-convert\" onclick=\"convertToInteractive('df-6f4e59ed-7000-4a25-ac9e-7ebd7ce5433d')\"\n",
              "              title=\"Convert this dataframe to an interactive table.\"\n",
              "              style=\"display:none;\">\n",
              "        \n",
              "  <svg xmlns=\"http://www.w3.org/2000/svg\" height=\"24px\"viewBox=\"0 0 24 24\"\n",
              "       width=\"24px\">\n",
              "    <path d=\"M0 0h24v24H0V0z\" fill=\"none\"/>\n",
              "    <path d=\"M18.56 5.44l.94 2.06.94-2.06 2.06-.94-2.06-.94-.94-2.06-.94 2.06-2.06.94zm-11 1L8.5 8.5l.94-2.06 2.06-.94-2.06-.94L8.5 2.5l-.94 2.06-2.06.94zm10 10l.94 2.06.94-2.06 2.06-.94-2.06-.94-.94-2.06-.94 2.06-2.06.94z\"/><path d=\"M17.41 7.96l-1.37-1.37c-.4-.4-.92-.59-1.43-.59-.52 0-1.04.2-1.43.59L10.3 9.45l-7.72 7.72c-.78.78-.78 2.05 0 2.83L4 21.41c.39.39.9.59 1.41.59.51 0 1.02-.2 1.41-.59l7.78-7.78 2.81-2.81c.8-.78.8-2.07 0-2.86zM5.41 20L4 18.59l7.72-7.72 1.47 1.35L5.41 20z\"/>\n",
              "  </svg>\n",
              "      </button>\n",
              "      \n",
              "  <style>\n",
              "    .colab-df-container {\n",
              "      display:flex;\n",
              "      flex-wrap:wrap;\n",
              "      gap: 12px;\n",
              "    }\n",
              "\n",
              "    .colab-df-convert {\n",
              "      background-color: #E8F0FE;\n",
              "      border: none;\n",
              "      border-radius: 50%;\n",
              "      cursor: pointer;\n",
              "      display: none;\n",
              "      fill: #1967D2;\n",
              "      height: 32px;\n",
              "      padding: 0 0 0 0;\n",
              "      width: 32px;\n",
              "    }\n",
              "\n",
              "    .colab-df-convert:hover {\n",
              "      background-color: #E2EBFA;\n",
              "      box-shadow: 0px 1px 2px rgba(60, 64, 67, 0.3), 0px 1px 3px 1px rgba(60, 64, 67, 0.15);\n",
              "      fill: #174EA6;\n",
              "    }\n",
              "\n",
              "    [theme=dark] .colab-df-convert {\n",
              "      background-color: #3B4455;\n",
              "      fill: #D2E3FC;\n",
              "    }\n",
              "\n",
              "    [theme=dark] .colab-df-convert:hover {\n",
              "      background-color: #434B5C;\n",
              "      box-shadow: 0px 1px 3px 1px rgba(0, 0, 0, 0.15);\n",
              "      filter: drop-shadow(0px 1px 2px rgba(0, 0, 0, 0.3));\n",
              "      fill: #FFFFFF;\n",
              "    }\n",
              "  </style>\n",
              "\n",
              "      <script>\n",
              "        const buttonEl =\n",
              "          document.querySelector('#df-6f4e59ed-7000-4a25-ac9e-7ebd7ce5433d button.colab-df-convert');\n",
              "        buttonEl.style.display =\n",
              "          google.colab.kernel.accessAllowed ? 'block' : 'none';\n",
              "\n",
              "        async function convertToInteractive(key) {\n",
              "          const element = document.querySelector('#df-6f4e59ed-7000-4a25-ac9e-7ebd7ce5433d');\n",
              "          const dataTable =\n",
              "            await google.colab.kernel.invokeFunction('convertToInteractive',\n",
              "                                                     [key], {});\n",
              "          if (!dataTable) return;\n",
              "\n",
              "          const docLinkHtml = 'Like what you see? Visit the ' +\n",
              "            '<a target=\"_blank\" href=https://colab.research.google.com/notebooks/data_table.ipynb>data table notebook</a>'\n",
              "            + ' to learn more about interactive tables.';\n",
              "          element.innerHTML = '';\n",
              "          dataTable['output_type'] = 'display_data';\n",
              "          await google.colab.output.renderOutput(dataTable, element);\n",
              "          const docLink = document.createElement('div');\n",
              "          docLink.innerHTML = docLinkHtml;\n",
              "          element.appendChild(docLink);\n",
              "        }\n",
              "      </script>\n",
              "    </div>\n",
              "  </div>\n",
              "  "
            ]
          },
          "metadata": {},
          "execution_count": 22
        }
      ]
    },
    {
      "cell_type": "markdown",
      "source": [
        "#### Line graph"
      ],
      "metadata": {
        "id": "CSNxJ58RBTvk"
      }
    },
    {
      "cell_type": "code",
      "source": [
        "plt.title('Gas prices in different countries')\n",
        "\n",
        "plt.plot(df.Year, df.USA, label = 'USA')\n",
        "plt.plot(df.Year, df.Mexico, label = 'Mexico')\n",
        "plt.plot(df['Year'], df['South Korea'], label = 'South Korea')\n",
        "plt.xlabel('Year')\n",
        "plt.ylabel('Price per gallon in USD')\n",
        "\n",
        "# start:stop:end\n",
        "plt.xticks(df.Year[::2])\n",
        "\n",
        "plt.legend()\n",
        "\n",
        "plt.show()"
      ],
      "metadata": {
        "colab": {
          "base_uri": "https://localhost:8080/",
          "height": 295
        },
        "id": "rH41F5i_BWMA",
        "outputId": "dd143059-ee7b-4441-f0b5-a4b3a628b47b"
      },
      "execution_count": 38,
      "outputs": [
        {
          "output_type": "display_data",
          "data": {
            "text/plain": [
              "<Figure size 432x288 with 1 Axes>"
            ],
            "image/png": "[encoded data removed]"
          },
          "metadata": {
            "needs_background": "light"
          }
        }
      ]
    },
    {
      "cell_type": "markdown",
      "source": [
        "#### Line graph for all the countries"
      ],
      "metadata": {
        "id": "9nErI8fSFIcI"
      }
    },
    {
      "cell_type": "code",
      "source": [
        "all_countries = df.columns[1:].values.tolist()\n",
        "\n",
        "plt.figure(figsize = (10,7))\n",
        "plt.title('Gas prices in different countries')\n",
        "plt.xlabel('Year')\n",
        "plt.ylabel('Price per gallon in USD')\n",
        "plt.xticks(df.Year[::2])\n",
        "\n",
        "for country in all_countries:\n",
        "  plt.plot(df.Year, df[country], label = str(country))\n",
        "\n",
        "plt.legend(loc='upper left')\n",
        "\n",
        "plt.show()"
      ],
      "metadata": {
        "colab": {
          "base_uri": "https://localhost:8080/",
          "height": 458
        },
        "id": "SaWrTHD5FKq9",
        "outputId": "9e451e1d-fe31-4aa0-c8b3-2128443484fc"
      },
      "execution_count": 53,
      "outputs": [
        {
          "output_type": "display_data",
          "data": {
            "text/plain": [
              "<Figure size 720x504 with 1 Axes>"
            ],
            "image/png": "[encoded data removed]"
          },
          "metadata": {
            "needs_background": "light"
          }
        }
      ]
    },
    {
      "cell_type": "markdown",
      "source": [
        "#### Line graph for Europe"
      ],
      "metadata": {
        "id": "D05ygPI9GvfG"
      }
    },
    {
      "cell_type": "code",
      "source": [
        "all_countries"
      ],
      "metadata": {
        "colab": {
          "base_uri": "https://localhost:8080/"
        },
        "id": "uy_wxT2SG4pG",
        "outputId": "1b637352-0819-4700-89e1-f7e0aad125f1"
      },
      "execution_count": 54,
      "outputs": [
        {
          "output_type": "execute_result",
          "data": {
            "text/plain": [
              "['Australia',\n",
              " 'Canada',\n",
              " 'France',\n",
              " 'Germany',\n",
              " 'Italy',\n",
              " 'Japan',\n",
              " 'Mexico',\n",
              " 'South Korea',\n",
              " 'UK',\n",
              " 'USA']"
            ]
          },
          "metadata": {},
          "execution_count": 54
        }
      ]
    },
    {
      "cell_type": "code",
      "source": [
        "# a = [-2,1,5,3,8,5,6]\n",
        "# b = [1,2,5]\n",
        "# c = [a[i] for i in b]"
      ],
      "metadata": {
        "id": "9ZSSx5HsIJqB"
      },
      "execution_count": null,
      "outputs": []
    },
    {
      "cell_type": "code",
      "source": [
        "europe = [2, 3, 4, 8]\n",
        "europe = [all_countries[i] for i in europe]\n",
        "\n",
        "plt.figure(figsize = (10,7))\n",
        "plt.title('Gas prices in different countries')\n",
        "plt.xlabel('Year')\n",
        "plt.ylabel('Price per gallon in USD')\n",
        "plt.xticks(df.Year[::2])\n",
        "\n",
        "for country in europe:\n",
        "  plt.plot(df.Year, df[country], label = str(country))\n",
        "\n",
        "plt.legend(loc='upper left')\n",
        "\n",
        "plt.show()"
      ],
      "metadata": {
        "colab": {
          "base_uri": "https://localhost:8080/",
          "height": 458
        },
        "id": "VOQslX1SGxjF",
        "outputId": "c51459a3-e38a-4e22-f814-9c9846ae8a7a"
      },
      "execution_count": 63,
      "outputs": [
        {
          "output_type": "display_data",
          "data": {
            "text/plain": [
              "<Figure size 720x504 with 1 Axes>"
            ],
            "image/png": "[encoded data removed]"
          },
          "metadata": {
            "needs_background": "light"
          }
        }
      ]
    }
  ]
}