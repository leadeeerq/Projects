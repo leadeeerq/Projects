{
  "nbformat": 4,
  "nbformat_minor": 0,
  "metadata": {
    "colab": {
      "provenance": [],
      "collapsed_sections": [],
      "toc_visible": true,
      "mount_file_id": "16q_BhTpBGJ9GvdMxKuN2kJLws4DTj7FM",
      "authorship_tag": "ABX9TyOo/B32gNYnE5RioYc7UPCa",
      "include_colab_link": true
    },
    "kernelspec": {
      "name": "python3",
      "display_name": "Python 3"
    },
    "language_info": {
      "name": "python"
    }
  },
  "cells": [
    {
      "cell_type": "markdown",
      "metadata": {
        "id": "view-in-github",
        "colab_type": "text"
      },
      "source": [
        "<a href=\"https://colab.research.google.com/github/leadeeerq/Projects/blob/main/DummyDataGeneration.ipynb\" target=\"_parent\"><img src=\"https://colab.research.google.com/assets/colab-badge.svg\" alt=\"Open In Colab\"/></a>"
      ]
    },
    {
      "cell_type": "markdown",
      "source": [
        "#Mock/dummy data generation"
      ],
      "metadata": {
        "id": "o8hT3dqCtPdt"
      }
    },
    {
      "cell_type": "markdown",
      "source": [
        "##Data preparation"
      ],
      "metadata": {
        "id": "1F92Sun0xDNh"
      }
    },
    {
      "cell_type": "code",
      "execution_count": 3,
      "metadata": {
        "id": "OVLPR62itMLY"
      },
      "outputs": [],
      "source": [
        "import pandas as pd\n",
        "import numpy as np\n",
        "import datetime\n",
        "import random"
      ]
    },
    {
      "cell_type": "code",
      "source": [
        "products = {\n",
        "    #Product to price and weight (occurance) dict\n",
        "    'iPhone': [1300.99, 6],\n",
        "    'Xiaomi Phone': [600, 5],\n",
        "    'Samsung Phone': [820, 3],\n",
        "    'Monitor 24\"': [120.99, 4],\n",
        "    'Monitor 28\"': [299.99, 2],\n",
        "    'Electric brush': [15.99, 5],\n",
        "    'Lenovo Thinkpad': [1300, 2],\n",
        "    'Lenovo G15': [2100.99, 1],\n",
        "    'Razer Deathadder': [17.99, 2],\n",
        "    'Logitech keyboard': [9.99, 3],\n",
        "    'Logitech wireless keyboard and mouse': [49.99, 5],\n",
        "    'Wireless headphones': [12.99, 3],\n",
        "    'USB cable': [4.99, 10],\n",
        "    'Lightning cable': [10.99, 10]\n",
        "}\n",
        "\n",
        "columns = ['Order ID', 'Product', 'Quantity ordered', 'Price each', 'Order date', 'Purchase address']"
      ],
      "metadata": {
        "id": "9D2vdBVdtVv1"
      },
      "execution_count": 36,
      "outputs": []
    },
    {
      "cell_type": "code",
      "source": [
        "df = pd.DataFrame(columns=columns)"
      ],
      "metadata": {
        "id": "qeg70PoxuyQf"
      },
      "execution_count": 5,
      "outputs": []
    },
    {
      "cell_type": "code",
      "source": [
        "for i in range(1000):\n",
        "  #Get random product\n",
        "  product = random.choice(list(products.keys()))\n",
        "  price = products[product]\n",
        "  #Put data to the ith row\n",
        "  df.loc[i] = [i, product, 1, price, 'N/A', 'N/A']"
      ],
      "metadata": {
        "id": "ICAVGjl8u8ND"
      },
      "execution_count": null,
      "outputs": []
    },
    {
      "cell_type": "code",
      "source": [
        "df.to_csv('/content/drive/MyDrive/Projekty/Dummy data generation/test_data.csv')"
      ],
      "metadata": {
        "id": "R9Z6Y-6RvcnU"
      },
      "execution_count": null,
      "outputs": []
    },
    {
      "cell_type": "markdown",
      "source": [
        "##Random choice with weights"
      ],
      "metadata": {
        "id": "6IrrlACXw-lc"
      }
    },
    {
      "cell_type": "code",
      "source": [
        "for i in range(1000):\n",
        "  #Get random product\n",
        "  product_list = [product for product in products]\n",
        "  weights = [products[product][1] for product in products]\n",
        "  product = random.choices(product_list, weights = weights)[0]\n",
        "  price = products[product]\n",
        "  #Put data to the ith row\n",
        "  df.loc[i] = [i, product, 1, price, 'N/A', 'N/A']"
      ],
      "metadata": {
        "id": "kDvS2NUqxAYq"
      },
      "execution_count": null,
      "outputs": []
    },
    {
      "cell_type": "code",
      "source": [
        "df.to_csv('/content/drive/MyDrive/Projekty/Dummy data generation/test_data.csv')"
      ],
      "metadata": {
        "id": "tG8dhehAxiSa"
      },
      "execution_count": null,
      "outputs": []
    },
    {
      "cell_type": "markdown",
      "source": [
        "##Generating multiple files representing months"
      ],
      "metadata": {
        "id": "PrQxUx73yZoW"
      }
    },
    {
      "cell_type": "code",
      "source": [
        "import calendar"
      ],
      "metadata": {
        "id": "jBtkdDW4yyLb"
      },
      "execution_count": 8,
      "outputs": []
    },
    {
      "cell_type": "code",
      "source": [
        "for month_value in range (1,13):\n",
        "  df = pd.DataFrame(columns = columns)\n",
        "  for i in range(1000):\n",
        "    #Get random product\n",
        "    product_list = [product for product in products]\n",
        "    weights = [products[product][1] for product in products]\n",
        "    product = random.choices(product_list, weights = weights)[0]\n",
        "    price = products[product]\n",
        "    df.loc[i] = [i, product, 1, price, 'N/A', 'N/A']\n",
        "  \n",
        "  month_name = calendar.month_name[month_value]\n",
        "  df.to_csv(f'/content/drive/MyDrive/Projekty/Dummy data generation/{month_name}_data.csv')"
      ],
      "metadata": {
        "id": "JPUOIBi6yeZY"
      },
      "execution_count": null,
      "outputs": []
    },
    {
      "cell_type": "markdown",
      "source": [
        "##Generatring files representing months with different amounts of orders"
      ],
      "metadata": {
        "id": "9jee5UP1Z1zs"
      }
    },
    {
      "cell_type": "code",
      "source": [
        "order_id = 123450"
      ],
      "metadata": {
        "id": "qBp1EC1Pa760"
      },
      "execution_count": 6,
      "outputs": []
    },
    {
      "cell_type": "code",
      "source": [
        "product_list = [product for product in products]\n",
        "weights = [products[product][1] for product in products]\n",
        "\n",
        "for month_value in range (1,13):\n",
        "  if month_value <= 10:\n",
        "    orders_amount = int(np.random.normal(loc = 12000, scale = 4000)) #12k zamówień, 4k odchylenia standardowego\n",
        "  \n",
        "  if month_value == 11:\n",
        "    orders_amount = int(np.random.normal(loc = 20000, scale = 3000))\n",
        "\n",
        "  if month_value == 12:\n",
        "    orders_amount = int(np.random.normal(loc = 26000, scale = 3000))\n",
        "   \n",
        "  df = pd.DataFrame(columns = columns)\n",
        "\n",
        "  for i in range(orders_amount):\n",
        "    product = random.choices(product_list, weights = weights)[0]\n",
        "    price = products[product]\n",
        "    df.loc[i] = [order_id, product, 1, price, 'N/A', 'N/A']\n",
        "\n",
        "    order_id += 1\n",
        "  \n",
        "  month_name = calendar.month_name[month_value]\n",
        "  print(month_name + ' finished.')\n",
        "  df.to_csv(f'/content/drive/MyDrive/Projekty/Dummy data generation/{month_name}_data.csv')"
      ],
      "metadata": {
        "id": "kQGIYq2iZ9U2"
      },
      "execution_count": null,
      "outputs": []
    },
    {
      "cell_type": "markdown",
      "source": [
        "##Generate random address"
      ],
      "metadata": {
        "id": "Ar3hG-bdcIpN"
      }
    },
    {
      "cell_type": "code",
      "source": [
        "def generate_random_address():\n",
        "  street_names = ['Główna', 'Polna', 'Leśna', 'Słoneczna', 'Krótka', 'Szkolna', 'Ogrodowa', 'Lipowa', \n",
        "                  'Łąkowa', 'Brzozowa', 'Kwiatowa', '1 Maja', '11 Listopada', 'Akademicka', \n",
        "                  'Bankowa', 'Kamienna', 'Kolejowa', 'Sportowa', 'Obi Wana Kenobiego', 'Nowa', 'Czartoryskiego']\n",
        "  cities = ['Wrocław', 'Kraków', 'Kolno', 'Warszawa', 'Żmigród', 'Milicz', 'Białystok', 'Olsztyn', 'Łomża', 'Elbląg']\n",
        "  weights = [8, 8, 1, 9, 2, 2.5, 6, 5, 1.5, 4]\n",
        "  states = ['dolnośląskie', 'małopolskie', 'podlaskie', 'mazowieckie', 'dolnośląskie', 'dolnośląskie', 'podlaskie', 'warmińsko-mazurskie', 'podlaskie', 'pomorskie']\n",
        "  street = random.choice(street_names)\n",
        "  index = random.choices(range(len(cities)), weights = weights)[0]\n",
        "\n",
        "  return f'Ul. {street} {random.randint(1,100)}, {cities[index]}, woj. {states[index]}'"
      ],
      "metadata": {
        "id": "XYKBaZQ5cKjg"
      },
      "execution_count": 16,
      "outputs": []
    },
    {
      "cell_type": "code",
      "source": [
        "generate_random_address()"
      ],
      "metadata": {
        "colab": {
          "base_uri": "https://localhost:8080/",
          "height": 35
        },
        "id": "YRq-_pche7L7",
        "outputId": "c1e6b085-7cc2-4acd-b593-1c322d89cdeb"
      },
      "execution_count": 17,
      "outputs": [
        {
          "output_type": "execute_result",
          "data": {
            "text/plain": [
              "'Ul. Główna 9, Warszawa, woj. mazowieckie'"
            ],
            "application/vnd.google.colaboratory.intrinsic+json": {
              "type": "string"
            }
          },
          "metadata": {},
          "execution_count": 17
        }
      ]
    },
    {
      "cell_type": "code",
      "source": [
        "order_id = 123450\n",
        "\n",
        "product_list = [product for product in products]\n",
        "weights = [products[product][1] for product in products]\n",
        "\n",
        "for month_value in range (1,13):\n",
        "  if month_value <= 10:\n",
        "    # orders_amount = int(np.random.normal(loc = 12000, scale = 4000)) #12k zamówień, 4k odchylenia standardowego\n",
        "    orders_amount = 100\n",
        "\n",
        "  if month_value == 11:\n",
        "    orders_amount = int(np.random.normal(loc = 20000, scale = 3000))\n",
        "\n",
        "  if month_value == 12:\n",
        "    orders_amount = int(np.random.normal(loc = 26000, scale = 3000))\n",
        "   \n",
        "  df = pd.DataFrame(columns = columns)\n",
        "\n",
        "  for i in range(orders_amount):\n",
        "    address = generate_random_address()\n",
        "\n",
        "    product = random.choices(product_list, weights = weights)[0]\n",
        "    price = products[product][0]\n",
        "    df.loc[i] = [order_id, product, 1, price, 'N/A', address]\n",
        "\n",
        "    order_id += 1\n",
        "  \n",
        "  month_name = calendar.month_name[month_value]\n",
        "  print(month_name + ' finished.')\n",
        "  df.to_csv(f'/content/drive/MyDrive/Projekty/Dummy data generation/{month_name}_data.csv')"
      ],
      "metadata": {
        "id": "3ObR_Z4ZfHqv"
      },
      "execution_count": null,
      "outputs": []
    },
    {
      "cell_type": "markdown",
      "source": [
        "##Generate random order dates"
      ],
      "metadata": {
        "id": "wXl2JEHqf39b"
      }
    },
    {
      "cell_type": "code",
      "source": [
        "def generate_random_time(month_value):\n",
        "  #Generowanie dat w formacie dd/mm/yyyy HH:MM:SS\n",
        "  day_range = calendar.monthrange(2022, month_value)[1]\n",
        "  random_day = random.randint(1, day_range)\n",
        "\n",
        "  #Utworzenie pików o godz. 10 i 18 +/- 3\n",
        "  if random.random() < 0.5:\n",
        "    date = datetime.datetime(2022, month_value, random_day, 10, 0, 0)\n",
        "  else:\n",
        "    date = datetime.datetime(2022, month_value, random_day, 18, 0, 0)\n",
        "\n",
        "  time_offset = np.random.normal(loc = 0, scale = 10800) #timedelta\n",
        "  final_date = date + datetime.timedelta(seconds = time_offset)\n",
        "\n",
        "  return final_date.strftime(\"%d/%m/%Y, %H:%M:%S\")"
      ],
      "metadata": {
        "id": "sX2PZ3fgf3o-"
      },
      "execution_count": 25,
      "outputs": []
    },
    {
      "cell_type": "code",
      "source": [
        "generate_random_time(12)"
      ],
      "metadata": {
        "colab": {
          "base_uri": "https://localhost:8080/",
          "height": 35
        },
        "id": "CqxeCYVtijnC",
        "outputId": "04698e66-87b2-499f-978e-673ee9f10664"
      },
      "execution_count": 26,
      "outputs": [
        {
          "output_type": "execute_result",
          "data": {
            "text/plain": [
              "'08/12/2022, 16:50:34'"
            ],
            "application/vnd.google.colaboratory.intrinsic+json": {
              "type": "string"
            }
          },
          "metadata": {},
          "execution_count": 26
        }
      ]
    },
    {
      "cell_type": "code",
      "source": [
        "order_id = 123450\n",
        "\n",
        "product_list = [product for product in products]\n",
        "weights = [products[product][1] for product in products]\n",
        "\n",
        "for month_value in range (1,13):\n",
        "  if month_value <= 10:\n",
        "    # orders_amount = int(np.random.normal(loc = 12000, scale = 4000)) #12k zamówień, 4k odchylenia standardowego\n",
        "    orders_amount = 100\n",
        "\n",
        "  if month_value == 11:\n",
        "    orders_amount = int(np.random.normal(loc = 20000, scale = 3000))\n",
        "\n",
        "  if month_value == 12:\n",
        "    orders_amount = int(np.random.normal(loc = 26000, scale = 3000))\n",
        "   \n",
        "  df = pd.DataFrame(columns = columns)\n",
        "\n",
        "  for i in range(orders_amount):\n",
        "    address = generate_random_address()\n",
        "    date = generate_random_time(month_value)\n",
        "    product = random.choices(product_list, weights = weights)[0]\n",
        "    price = products[product][0]\n",
        "    df.loc[i] = [order_id, product, 1, price, date, address]\n",
        "\n",
        "    order_id += 1\n",
        "  \n",
        "  month_name = calendar.month_name[month_value]\n",
        "  print(month_name + ' finished.')\n",
        "  df.to_csv(f'/content/drive/MyDrive/Projekty/Dummy data generation/{month_name}_data.csv')"
      ],
      "metadata": {
        "id": "bzLrLFAciv3y"
      },
      "execution_count": null,
      "outputs": []
    },
    {
      "cell_type": "markdown",
      "source": [
        "##Realistic quantity of ordered products"
      ],
      "metadata": {
        "id": "I1CT0xd2mQXC"
      }
    },
    {
      "cell_type": "code",
      "source": [
        "def write_row(order_id, product, order_date, address):\n",
        "  price = products[product][0]\n",
        "  #Rozkład geometryczny\n",
        "  quantity_ordered = np.random.geometric(p=1.0 - (1.0/price), size=1)[0]\n",
        "  return [order_id, product, quantity_ordered, price, date, address]"
      ],
      "metadata": {
        "id": "vwz6WJj9oY7Y"
      },
      "execution_count": 34,
      "outputs": []
    },
    {
      "cell_type": "code",
      "source": [
        "order_id = 123450\n",
        "\n",
        "product_list = [product for product in products]\n",
        "weights = [products[product][1] for product in products]\n",
        "\n",
        "for month_value in range (1,13):\n",
        "  if month_value <= 10:\n",
        "    orders_amount = int(np.random.normal(loc = 12000, scale = 4000)) #12k zamówień, 4k odchylenia standardowego\n",
        "    # orders_amount = 100\n",
        "\n",
        "  if month_value == 11:\n",
        "    orders_amount = int(np.random.normal(loc = 20000, scale = 3000))\n",
        "\n",
        "  if month_value == 12:\n",
        "    orders_amount = int(np.random.normal(loc = 26000, scale = 3000))\n",
        "   \n",
        "  df = pd.DataFrame(columns = columns)\n",
        "\n",
        "  i = 0\n",
        "  while orders_amount > 0:\n",
        "    address = generate_random_address()\n",
        "    date = generate_random_time(month_value)\n",
        "    product = random.choices(product_list, weights = weights)[0]\n",
        "    # price = products[product][0]    \n",
        "\n",
        "    df.loc[i] = write_row(order_id, product, date, address)\n",
        "    i += 1\n",
        "\n",
        "    if product == 'iPhone':\n",
        "      if random.random() < 0.15:\n",
        "        df.loc[i] = write_row(order_id, 'Lightning cable', date, address)\n",
        "        i += 1\n",
        "      if random.random() < 0.1:\n",
        "        df.loc[i] = write_row(order_id, 'Wireless headphones', date, address)\n",
        "        i += 1\n",
        "\n",
        "    elif product == 'Xiaomi Phone' or product == 'Samsung Phone':\n",
        "      if random.random() < 0.1:\n",
        "        df.loc[i] = write_row(order_id, 'Wireless headphones', date, address)\n",
        "        i += 1\n",
        "      if random.random() < 0.3:\n",
        "        df.loc[i] = write_row(order_id, 'USB cable', date, address)\n",
        "        i += 1\n",
        "\n",
        "    elif product == 'Lenovo G15':\n",
        "      if random.random() < 0.2:\n",
        "        df.loc[i] = write_row(order_id, 'Razer Deathadder', date, address)\n",
        "        i += 1\n",
        "      if random.random() < 0.1:\n",
        "        df.loc[i] = write_row(order_id, 'Monitor 28\"', date, address)\n",
        "        i += 1\n",
        "\n",
        "    if random.random() <= 0.02:\n",
        "      product2 = random.choices(product_list, weights = weights)[0]\n",
        "      df.loc[i] = write_row(order_id, product2, date, address)\n",
        "      i += 1\n",
        "\n",
        "    order_id += 1\n",
        "    orders_amount -= 1\n",
        "  \n",
        "  month_name = calendar.month_name[month_value]\n",
        "  print(month_name + ' finished.')\n",
        "  df.to_csv(f'/content/drive/MyDrive/Projekty/Dummy data generation/{month_name}_data.csv')"
      ],
      "metadata": {
        "colab": {
          "base_uri": "https://localhost:8080/"
        },
        "id": "n59xsx7YmTDM",
        "outputId": "52a1c439-6914-440b-ebd2-dab460dbd927"
      },
      "execution_count": 38,
      "outputs": [
        {
          "output_type": "stream",
          "name": "stdout",
          "text": [
            "January finished.\n",
            "February finished.\n",
            "March finished.\n",
            "April finished.\n",
            "May finished.\n",
            "June finished.\n",
            "July finished.\n",
            "August finished.\n",
            "September finished.\n",
            "October finished.\n",
            "November finished.\n",
            "December finished.\n"
          ]
        }
      ]
    },
    {
      "cell_type": "markdown",
      "source": [
        "![image.png](data:image/png;base64,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)"
      ],
      "metadata": {
        "id": "PN8GYkUBxPZG"
      }
    },
    {
      "cell_type": "markdown",
      "source": [
        "![image.png](data:image/png;base64,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)"
      ],
      "metadata": {
        "id": "sViglTP1xtgE"
      }
    }
  ]
}