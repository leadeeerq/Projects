{
  "nbformat": 4,
  "nbformat_minor": 0,
  "metadata": {
    "colab": {
      "provenance": [],
      "collapsed_sections": [],
      "toc_visible": true,
      "mount_file_id": "1ruoDkEdYcNTGcSK_EMdHh-PZLPqvtvsM",
      "authorship_tag": "ABX9TyN/Fhp0f0JFoSM2eyl95Trm",
      "include_colab_link": true
    },
    "kernelspec": {
      "name": "python3",
      "display_name": "Python 3"
    },
    "language_info": {
      "name": "python"
    }
  },
  "cells": [
    {
      "cell_type": "markdown",
      "metadata": {
        "id": "view-in-github",
        "colab_type": "text"
      },
      "source": [
        "<a href=\"https://colab.research.google.com/github/leadeeerq/Projects/blob/main/WaltDisneyMovies.ipynb\" target=\"_parent\"><img src=\"https://colab.research.google.com/assets/colab-badge.svg\" alt=\"Open In Colab\"/></a>"
      ]
    },
    {
      "cell_type": "markdown",
      "source": [
        ">>[Libraries](#scrollTo=XGM-SDkCmijl)\n",
        "\n",
        ">>[Scraping the infobox](#scrollTo=J5I1eaWCmfHX)\n",
        "\n",
        ">>>>[Loading the webpage](#scrollTo=KjA2cebEm6o9)\n",
        "\n",
        ">>>>[Converting to a beautiful soup object](#scrollTo=6sCAyt_kngLm)\n",
        "\n",
        ">>>>[Printing out the HTML code](#scrollTo=z1eli14UnlEd)\n",
        "\n",
        ">>>>[Infobox](#scrollTo=0HkZV_XI07Ua)\n",
        "\n",
        ">>>>[Saving rows to the dictionary](#scrollTo=_0C4hLtY16hE)\n",
        "\n",
        ">>[Scraping all of the infoboxes](#scrollTo=gCH53pzSHqUQ)\n",
        "\n",
        ">>>>[Loading the webpage](#scrollTo=-vy8Vm32IBJi)\n",
        "\n",
        ">>>>[Converting to a beautiful soup object](#scrollTo=mAjmG1f9IDSk)\n",
        "\n",
        ">>>>[Printing the HTML code](#scrollTo=x_ejwipuIP-H)\n",
        "\n",
        ">>>>[Table with movies and the links](#scrollTo=GTt5U61lJH08)\n",
        "\n",
        ">>>>[Get a link for a single movie](#scrollTo=T6bD-0IuLTGB)\n",
        "\n",
        ">>>>[Get a title for a single movie](#scrollTo=gk4A5p_sNLsf)\n",
        "\n",
        ">>>>[get_infobox function](#scrollTo=hJUbbZXfLrTR)\n",
        "\n",
        ">>>>[Creating a list of dictionaries of infoboxes](#scrollTo=HRw8RiHBHw0k)\n",
        "\n",
        ">>[Saving data (json)](#scrollTo=8X1n6eufVIjx)\n",
        "\n",
        ">>[Loading data (json)](#scrollTo=N5rrkfN2RU2C)\n",
        "\n",
        ">>[Cleaning the data](#scrollTo=qEyRL4KpXMv9)\n",
        "\n",
        ">>>>[Removing the references [1]](#scrollTo=by1Q2Tm3YlhR)\n",
        "\n",
        ">>>>[Splitting up the long strings (separated with  tags in Wiki)](#scrollTo=tHCnYhiAdE8n)\n",
        "\n",
        ">>>>[Converting 'Running time' to integer](#scrollTo=XgoEsf6Sssce)\n",
        "\n",
        ">>>>[Money conversion](#scrollTo=SLgqdLURznpz)\n",
        "\n",
        ">>>>>[money_conversion function](#scrollTo=ET9LZd-321jR)\n",
        "\n",
        ">>>>>[Implementation](#scrollTo=0grw4WFbJS6_)\n",
        "\n",
        ">>>>>[Tests](#scrollTo=DO0XFXxjJOG6)\n",
        "\n",
        ">>>>[Converting dates into datetime objects](#scrollTo=E_Ruj5PvR24w)\n",
        "\n",
        ">>>>>[Date conversion function](#scrollTo=Hdkol4bHSvTZ)\n",
        "\n",
        ">>>>>[Implementation](#scrollTo=hu8t5c5qXnnU)\n",
        "\n",
        ">>[Saving the cleaned data](#scrollTo=aYoHZchKYg-j)\n",
        "\n",
        ">>>>[Json doesn't work for datatime objects - using pickle instead](#scrollTo=0QqW21LdY4tl)\n",
        "\n",
        ">>>>[Saving data (Pickle)](#scrollTo=ehvKVtOfZDIg)\n",
        "\n",
        ">>>>[Loading data (Pickle)](#scrollTo=1xhh8za1aAwz)\n",
        "\n",
        ">>[Attaching movie scores from IMDb, etc.](#scrollTo=KxnzwCvNdfAQ)\n",
        "\n",
        ">>>>[Functions](#scrollTo=PeZh6HjWkPnK)\n",
        "\n",
        ">>>>[Implementation](#scrollTo=i1eLcMvwkR-2)\n",
        "\n",
        ">>>>[itemgetter lib to get multiple keys](#scrollTo=3u5cTnEIoaGR)\n",
        "\n",
        ">>[Creating a copy of the dataset (json and CSV)](#scrollTo=4gied4fVm8WR)\n",
        "\n",
        ">>>>[Reversing the datatime object to string](#scrollTo=AyR6t_mFo-F_)\n",
        "\n",
        ">>>>[Saving data (pandas, CSV)](#scrollTo=10uDNeP8rC_8)\n",
        "\n",
        ">>>>[Remove columns with NaNs](#scrollTo=lJSNgKm1ulDs)\n",
        "\n"
      ],
      "metadata": {
        "colab_type": "toc",
        "id": "G8AlL6dBNnN6"
      }
    },
    {
      "cell_type": "markdown",
      "source": [
        "##Libraries"
      ],
      "metadata": {
        "id": "XGM-SDkCmijl"
      }
    },
    {
      "cell_type": "code",
      "execution_count": null,
      "metadata": {
        "id": "4jXJtXJRlltl"
      },
      "outputs": [],
      "source": [
        "from bs4 import BeautifulSoup as bs\n",
        "import requests"
      ]
    },
    {
      "cell_type": "markdown",
      "source": [
        "##Scraping the infobox"
      ],
      "metadata": {
        "id": "J5I1eaWCmfHX"
      }
    },
    {
      "cell_type": "markdown",
      "source": [
        "####Loading the webpage"
      ],
      "metadata": {
        "id": "KjA2cebEm6o9"
      }
    },
    {
      "cell_type": "code",
      "source": [
        "r = requests.get('https://en.wikipedia.org/wiki/Toy_Story_3')"
      ],
      "metadata": {
        "id": "Vqs4vPzhm79K"
      },
      "execution_count": null,
      "outputs": []
    },
    {
      "cell_type": "markdown",
      "source": [
        "#### Converting to a beautiful soup object"
      ],
      "metadata": {
        "id": "6sCAyt_kngLm"
      }
    },
    {
      "cell_type": "code",
      "source": [
        "soup = bs(r.content)"
      ],
      "metadata": {
        "id": "YoFMtW0xnjY9"
      },
      "execution_count": null,
      "outputs": []
    },
    {
      "cell_type": "markdown",
      "source": [
        "####Printing out the HTML code"
      ],
      "metadata": {
        "id": "z1eli14UnlEd"
      }
    },
    {
      "cell_type": "code",
      "source": [
        "contents = soup.prettify()\n",
        "# print(contents)"
      ],
      "metadata": {
        "id": "_dqBlvABnnHi"
      },
      "execution_count": null,
      "outputs": []
    },
    {
      "cell_type": "markdown",
      "source": [
        "####Infobox"
      ],
      "metadata": {
        "id": "0HkZV_XI07Ua"
      }
    },
    {
      "cell_type": "markdown",
      "source": [
        "![image_2022-10-08_144645121.png](data:image/png;base64,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)"
      ],
      "metadata": {
        "id": "ppWHrb1woiXg"
      }
    },
    {
      "cell_type": "code",
      "source": [
        "infobox = soup.find(class_ = 'infobox vevent')\n",
        "# print(infobox.prettify())"
      ],
      "metadata": {
        "id": "vb1P_ppuolse"
      },
      "execution_count": null,
      "outputs": []
    },
    {
      "cell_type": "code",
      "source": [
        "infobox_rows = infobox.find_all('tr')\n",
        "# for row in infobox_rows:\n",
        "#   print(row.prettify())"
      ],
      "metadata": {
        "id": "7KC6fban1f66"
      },
      "execution_count": null,
      "outputs": []
    },
    {
      "cell_type": "markdown",
      "source": [
        "####Saving rows to the dictionary"
      ],
      "metadata": {
        "id": "_0C4hLtY16hE"
      }
    },
    {
      "cell_type": "code",
      "source": [
        "def get_content_value(row_data):\n",
        "  if row_data.find('li'):\n",
        "    return [li.get_text(' ', strip = True).replace('\\xa0', ' ') for li in row_data.find_all('li')]\n",
        "  else:\n",
        "    return row_data.get_text(' ', strip = True).replace('\\xa0', ' ')"
      ],
      "metadata": {
        "id": "gRecE8oA4vxu"
      },
      "execution_count": null,
      "outputs": []
    },
    {
      "cell_type": "code",
      "source": [
        "movie_info = {}\n",
        "\n",
        "for index, row in enumerate(infobox_rows):\n",
        "  if index == 0:\n",
        "    movie_info['title'] = row.find('th').get_text(' ', strip = True)\n",
        "  elif index == 1: #Obrazek\n",
        "    continue\n",
        "  # elif index == 2:\n",
        "  #   movie_info['director'] = row.find('td').get_text()\n",
        "  else:\n",
        "    content_key = row.find('th').get_text(' ', strip = True)\n",
        "    content_value = get_content_value(row.find('td'))\n",
        "    movie_info[content_key] = content_value\n",
        "\n",
        "movie_info"
      ],
      "metadata": {
        "colab": {
          "base_uri": "https://localhost:8080/"
        },
        "id": "gaxV3JFi16JT",
        "outputId": "442a7512-f944-4858-a2d1-207ed92f5aff"
      },
      "execution_count": null,
      "outputs": [
        {
          "output_type": "execute_result",
          "data": {
            "text/plain": [
              "{'title': 'Toy Story 3',\n",
              " 'Directed by': 'Lee Unkrich',\n",
              " 'Screenplay by': 'Michael Arndt',\n",
              " 'Story by': ['John Lasseter', 'Andrew Stanton', 'Lee Unkrich'],\n",
              " 'Produced by': 'Darla K. Anderson',\n",
              " 'Starring': ['Tom Hanks',\n",
              "  'Tim Allen',\n",
              "  'Joan Cusack',\n",
              "  'Don Rickles',\n",
              "  'Wallace Shawn',\n",
              "  'John Ratzenberger',\n",
              "  'Estelle Harris',\n",
              "  'Ned Beatty',\n",
              "  'Michael Keaton',\n",
              "  'Jodi Benson',\n",
              "  'John Morris'],\n",
              " 'Cinematography': ['Jeremy Lasky', 'Kim White'],\n",
              " 'Edited by': 'Ken Schretzmann',\n",
              " 'Music by': 'Randy Newman',\n",
              " 'Production companies': ['Walt Disney Pictures', 'Pixar Animation Studios'],\n",
              " 'Distributed by': 'Walt Disney Studios Motion Pictures',\n",
              " 'Release dates': ['June 12, 2010 ( 2010-06-12 ) ( Taormina Film Fest )',\n",
              "  'June 18, 2010 ( 2010-06-18 ) (United States)'],\n",
              " 'Running time': '103 minutes [1]',\n",
              " 'Country': 'United States',\n",
              " 'Language': 'English',\n",
              " 'Budget': '$200 million [1]',\n",
              " 'Box office': '$1.067 billion [1]'}"
            ]
          },
          "metadata": {},
          "execution_count": 8
        }
      ]
    },
    {
      "cell_type": "markdown",
      "source": [
        "##Scraping all of the infoboxes"
      ],
      "metadata": {
        "id": "gCH53pzSHqUQ"
      }
    },
    {
      "cell_type": "markdown",
      "source": [
        "####Loading the webpage"
      ],
      "metadata": {
        "id": "-vy8Vm32IBJi"
      }
    },
    {
      "cell_type": "code",
      "source": [
        "r = requests.get('https://en.wikipedia.org/wiki/List_of_Walt_Disney_Pictures_films')"
      ],
      "metadata": {
        "id": "rZUcCbvlIGz-"
      },
      "execution_count": null,
      "outputs": []
    },
    {
      "cell_type": "markdown",
      "source": [
        "####Converting to a beautiful soup object"
      ],
      "metadata": {
        "id": "mAjmG1f9IDSk"
      }
    },
    {
      "cell_type": "code",
      "source": [
        "soup = bs(r.content)"
      ],
      "metadata": {
        "id": "QDHH9XZmILYt"
      },
      "execution_count": null,
      "outputs": []
    },
    {
      "cell_type": "markdown",
      "source": [
        "####Printing the HTML code"
      ],
      "metadata": {
        "id": "x_ejwipuIP-H"
      }
    },
    {
      "cell_type": "code",
      "source": [
        "contents = soup.prettify()\n",
        "# print(contents)"
      ],
      "metadata": {
        "id": "rueTYDl7IR42"
      },
      "execution_count": null,
      "outputs": []
    },
    {
      "cell_type": "markdown",
      "source": [
        "####Table with movies and the links"
      ],
      "metadata": {
        "id": "GTt5U61lJH08"
      }
    },
    {
      "cell_type": "markdown",
      "source": [
        "![image_2022-10-08_170921386.png](data:image/png;base64,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)"
      ],
      "metadata": {
        "id": "g1qAwbPzJLgO"
      }
    },
    {
      "cell_type": "code",
      "source": [
        "movies = soup.select('.wikitable.sortable i') #\"i\" pozwala na pobranie jedynie tekstu pochylonego <i></i>\n",
        "# movies = soup.find_all(class_ = 'wikitable sortable')\n",
        "movies[:10]"
      ],
      "metadata": {
        "colab": {
          "base_uri": "https://localhost:8080/"
        },
        "id": "puq-72YgJT0u",
        "outputId": "c98a3793-ad4a-4d89-d0d4-dde65e03b51e"
      },
      "execution_count": null,
      "outputs": [
        {
          "output_type": "execute_result",
          "data": {
            "text/plain": [
              "[<i><a href=\"/wiki/Snow_White_and_the_Seven_Dwarfs_(1937_film)\" title=\"Snow White and the Seven Dwarfs (1937 film)\">Snow White and the Seven Dwarfs</a></i>,\n",
              " <i><a href=\"/wiki/Pinocchio_(1940_film)\" title=\"Pinocchio (1940 film)\">Pinocchio</a></i>,\n",
              " <i><a href=\"/wiki/Fantasia_(1940_film)\" title=\"Fantasia (1940 film)\">Fantasia</a></i>,\n",
              " <i><a href=\"/wiki/The_Reluctant_Dragon_(1941_film)\" title=\"The Reluctant Dragon (1941 film)\">The Reluctant Dragon</a></i>,\n",
              " <i><a href=\"/wiki/Dumbo\" title=\"Dumbo\">Dumbo</a></i>,\n",
              " <i><a href=\"/wiki/Bambi\" title=\"Bambi\">Bambi</a></i>,\n",
              " <i><a href=\"/wiki/Saludos_Amigos\" title=\"Saludos Amigos\">Saludos Amigos</a></i>,\n",
              " <i><a href=\"/wiki/Victory_Through_Air_Power_(film)\" title=\"Victory Through Air Power (film)\">Victory Through Air Power</a></i>,\n",
              " <i><a href=\"/wiki/The_Three_Caballeros\" title=\"The Three Caballeros\">The Three Caballeros</a></i>,\n",
              " <i><a href=\"/wiki/Make_Mine_Music\" title=\"Make Mine Music\">Make Mine Music</a></i>]"
            ]
          },
          "metadata": {},
          "execution_count": 12
        }
      ]
    },
    {
      "cell_type": "markdown",
      "source": [
        "####Get a link for a single movie"
      ],
      "metadata": {
        "id": "T6bD-0IuLTGB"
      }
    },
    {
      "cell_type": "code",
      "source": [
        "movies[0].a['href']"
      ],
      "metadata": {
        "colab": {
          "base_uri": "https://localhost:8080/",
          "height": 35
        },
        "id": "Z7nzhBBlLSSw",
        "outputId": "7d16dcb6-f2f0-4840-855d-49ca6a46ad1f"
      },
      "execution_count": null,
      "outputs": [
        {
          "output_type": "execute_result",
          "data": {
            "text/plain": [
              "'/wiki/Snow_White_and_the_Seven_Dwarfs_(1937_film)'"
            ],
            "application/vnd.google.colaboratory.intrinsic+json": {
              "type": "string"
            }
          },
          "metadata": {},
          "execution_count": 13
        }
      ]
    },
    {
      "cell_type": "markdown",
      "source": [
        "####Get a title for a single movie"
      ],
      "metadata": {
        "id": "gk4A5p_sNLsf"
      }
    },
    {
      "cell_type": "code",
      "source": [
        "movies[0].a['title']"
      ],
      "metadata": {
        "colab": {
          "base_uri": "https://localhost:8080/",
          "height": 35
        },
        "id": "XIOxMAKJLign",
        "outputId": "2288a9b6-ac4f-40d6-9def-9de293088859"
      },
      "execution_count": null,
      "outputs": [
        {
          "output_type": "execute_result",
          "data": {
            "text/plain": [
              "'Snow White and the Seven Dwarfs (1937 film)'"
            ],
            "application/vnd.google.colaboratory.intrinsic+json": {
              "type": "string"
            }
          },
          "metadata": {},
          "execution_count": 14
        }
      ]
    },
    {
      "cell_type": "markdown",
      "source": [
        "#### get_infobox function"
      ],
      "metadata": {
        "id": "hJUbbZXfLrTR"
      }
    },
    {
      "cell_type": "code",
      "source": [
        "def get_content_value(row_data):\n",
        "  if row_data.find('li'):\n",
        "    return [li.get_text(' ', strip = True).replace('\\xa0', ' ') for li in row_data.find_all('li')]\n",
        "  elif row_data.find('br'):\n",
        "    return [text for text in row_data.stripped_strings]\n",
        "  else:\n",
        "    return row_data.get_text(' ', strip = True).replace('\\xa0', ' ')\n",
        "\n",
        "def clean_tags(soup): #Usunięcie referencji i dodatkowej daty ukrytej w elemencie <span>\n",
        "  for tag in soup.find_all(['span','sup']):\n",
        "    tag.decompose()\n",
        "\n",
        "def get_infobox(url):\n",
        "  r = requests.get(url)\n",
        "  soup = bs(r.content)\n",
        "  \n",
        "  infobox = soup.find(class_ = 'infobox vevent')\n",
        "  infobox_rows = infobox.find_all('tr')\n",
        "\n",
        "  clean_tags(soup)\n",
        "\n",
        "  movie_info = {}\n",
        "  for index, row in enumerate(infobox_rows):\n",
        "    if index == 0:\n",
        "      movie_info['title'] = row.find('th').get_text(' ', strip = True)\n",
        "    else:\n",
        "      header = row.find('th')\n",
        "      if header:\n",
        "        content_key = row.find('th').get_text(' ', strip = True)\n",
        "        content_value = get_content_value(row.find('td'))\n",
        "        movie_info[content_key] = content_value\n",
        "\n",
        "  return movie_info"
      ],
      "metadata": {
        "id": "SQUhV1p2LuVi"
      },
      "execution_count": null,
      "outputs": []
    },
    {
      "cell_type": "code",
      "source": [
        "get_infobox('https://en.wikipedia.org/wiki/Howl%27s_Moving_Castle_(film)')"
      ],
      "metadata": {
        "colab": {
          "base_uri": "https://localhost:8080/"
        },
        "id": "eLtjLi7qSiVs",
        "outputId": "969b7197-b776-46a9-9e7b-8a577cd8d9f1"
      },
      "execution_count": null,
      "outputs": [
        {
          "output_type": "execute_result",
          "data": {
            "text/plain": [
              "{'title': \"Howl's Moving Castle\",\n",
              " 'Japanese': '',\n",
              " 'Hepburn': 'Hauru no Ugoku Shiro',\n",
              " 'Directed by': 'Hayao Miyazaki',\n",
              " 'Screenplay by': 'Hayao Miyazaki',\n",
              " 'Based on': [\"Howl's Moving Castle\", 'by', 'Diana Wynne Jones'],\n",
              " 'Produced by': 'Toshio Suzuki',\n",
              " 'Starring': ['Chieko Baisho', 'Takuya Kimura', 'Akihiro Miwa'],\n",
              " 'Cinematography': 'Atsushi Okui',\n",
              " 'Edited by': 'Takeshi Seyama',\n",
              " 'Music by': 'Joe Hisaishi',\n",
              " 'Production company': 'Studio Ghibli',\n",
              " 'Distributed by': 'Toho',\n",
              " 'Release dates': ['5 September 2004 ( Venice )', '20 November 2004 (Japan)'],\n",
              " 'Running time': '119 minutes',\n",
              " 'Country': 'Japan',\n",
              " 'Language': 'Japanese',\n",
              " 'Budget': ['¥', '2.4 billion', 'US$24 million'],\n",
              " 'Box office': ['¥', '23.2 billion', 'US$236 million (worldwide)']}"
            ]
          },
          "metadata": {},
          "execution_count": 16
        }
      ]
    },
    {
      "cell_type": "markdown",
      "source": [
        "####Creating a list of dictionaries of infoboxes"
      ],
      "metadata": {
        "id": "HRw8RiHBHw0k"
      }
    },
    {
      "cell_type": "code",
      "source": [
        "r = requests.get('https://en.wikipedia.org/wiki/List_of_Walt_Disney_Pictures_films')\n",
        "soup = bs(r.content)\n",
        "movies = soup.select('.wikitable.sortable i a') #Wybór elementu <a> wewnątrz <i>, aby nie pobierać danych z innej kolumny\n",
        "len(movies)"
      ],
      "metadata": {
        "colab": {
          "base_uri": "https://localhost:8080/"
        },
        "id": "kOxnPXNdHsyD",
        "outputId": "ea2484e5-f8c1-48e1-f610-4d12e0645f21"
      },
      "execution_count": null,
      "outputs": [
        {
          "output_type": "execute_result",
          "data": {
            "text/plain": [
              "540"
            ]
          },
          "metadata": {},
          "execution_count": 17
        }
      ]
    },
    {
      "cell_type": "code",
      "source": [
        "movie_info_list = []\n",
        "base = 'https://en.wikipedia.org/'"
      ],
      "metadata": {
        "id": "gIzvlSsoPe3k"
      },
      "execution_count": null,
      "outputs": []
    },
    {
      "cell_type": "code",
      "source": [
        "# for index, movie in enumerate(movies):\n",
        "#   # if index == 10: #Do debugowania - pobranie wypisanie pierwszych 10 elementów\n",
        "#   #   break\n",
        "#   if index % 10 == 0: #Do wyświetlania numeru aktualnie przetwarzanego filmu\n",
        "#     print(index)\n",
        "#   try:\n",
        "#     relative_link = movie['href']\n",
        "#     title = movie['title']\n",
        "#     full_link = base + relative_link\n",
        "#     movie_info_list.append(get_infobox(full_link))\n",
        "#   except Exception as e:\n",
        "#     print(movie.get_text())\n",
        "#     print(e)"
      ],
      "metadata": {
        "id": "Pg7NOvjTNSiU"
      },
      "execution_count": null,
      "outputs": []
    },
    {
      "cell_type": "code",
      "source": [
        "movie_info_list[0]"
      ],
      "metadata": {
        "colab": {
          "base_uri": "https://localhost:8080/"
        },
        "id": "2LFKQWs5QPiq",
        "outputId": "7a1a2345-de3b-4ee0-b608-961dc920e288"
      },
      "execution_count": null,
      "outputs": [
        {
          "output_type": "execute_result",
          "data": {
            "text/plain": [
              "{'title': 'Snow White and the Seven Dwarfs',\n",
              " 'Directed by': ['David Hand',\n",
              "  'William Cottrell',\n",
              "  'Wilfred Jackson',\n",
              "  'Larry Morey',\n",
              "  'Perce Pearce',\n",
              "  'Ben Sharpsteen'],\n",
              " 'Written by': ['Ted Sears',\n",
              "  'Richard Creedon',\n",
              "  'Otto Englander',\n",
              "  'Dick Rickard',\n",
              "  'Earl Hurd',\n",
              "  'Merrill De Maris',\n",
              "  'Dorothy Ann Blank',\n",
              "  'Webb Smith'],\n",
              " 'Based on': ['Snow White', 'by The', 'Brothers Grimm'],\n",
              " 'Produced by': 'Walt Disney',\n",
              " 'Starring': ['Adriana Caselotti',\n",
              "  'Lucille La Verne',\n",
              "  'Harry Stockwell',\n",
              "  'Roy Atwell',\n",
              "  'Pinto Colvig',\n",
              "  'Otis Harlan',\n",
              "  'Scotty Mattraw',\n",
              "  'Billy Gilbert',\n",
              "  'Eddie Collins',\n",
              "  'Moroni Olsen',\n",
              "  'Stuart Buchanan'],\n",
              " 'Music by': ['Frank Churchill', 'Paul Smith', 'Leigh Harline'],\n",
              " 'Production company': 'Walt Disney Productions',\n",
              " 'Distributed by': 'RKO Radio Pictures',\n",
              " 'Release dates': ['December 21, 1937 ( Carthay Circle Theatre )',\n",
              "  'February 4, 1938 (United States)'],\n",
              " 'Running time': '83 minutes',\n",
              " 'Country': 'United States',\n",
              " 'Language': 'English',\n",
              " 'Budget': '$1.49 million',\n",
              " 'Box office': '$418 million',\n",
              " 'Running time [min]': 83,\n",
              " 'Budget [$]': 1490000.0,\n",
              " 'Box office [$]': None}"
            ]
          },
          "metadata": {},
          "execution_count": 44
        }
      ]
    },
    {
      "cell_type": "code",
      "source": [
        "len(movie_info_list)"
      ],
      "metadata": {
        "colab": {
          "base_uri": "https://localhost:8080/"
        },
        "id": "pTfJJkEqVDCm",
        "outputId": "1aaae1a8-e88b-40a7-b790-a0e500887ffe"
      },
      "execution_count": null,
      "outputs": [
        {
          "output_type": "execute_result",
          "data": {
            "text/plain": [
              "522"
            ]
          },
          "metadata": {},
          "execution_count": 45
        }
      ]
    },
    {
      "cell_type": "markdown",
      "source": [
        "##Saving data (json)"
      ],
      "metadata": {
        "id": "8X1n6eufVIjx"
      }
    },
    {
      "cell_type": "code",
      "source": [
        "import json\n",
        "\n",
        "def save_data(title, data):\n",
        "  with open(title, 'w', encoding = 'utf-8') as f:\n",
        "    json.dump(data, f, ensure_ascii = False, indent = 2)"
      ],
      "metadata": {
        "id": "mvY6M_wtVJ33"
      },
      "execution_count": null,
      "outputs": []
    },
    {
      "cell_type": "code",
      "source": [
        "# save_data('WaltDisneyMovies_cleaned.json', movie_info_list)"
      ],
      "metadata": {
        "id": "p4kS-8bqVpVu"
      },
      "execution_count": null,
      "outputs": []
    },
    {
      "cell_type": "markdown",
      "source": [
        "##Loading data (json)"
      ],
      "metadata": {
        "id": "N5rrkfN2RU2C"
      }
    },
    {
      "cell_type": "code",
      "source": [
        "def load_data(title):\n",
        "  with open(title, encoding = 'utf-8') as f:\n",
        "    return json.load(f)"
      ],
      "metadata": {
        "id": "zjX_4op_VbJx"
      },
      "execution_count": null,
      "outputs": []
    },
    {
      "cell_type": "code",
      "source": [
        "movie_info_list = load_data('/content/drive/MyDrive/Projekty/Walt Disney Movies/WaltDisneyMovies_cleaned.json')"
      ],
      "metadata": {
        "id": "uegUHzKTRbeT"
      },
      "execution_count": null,
      "outputs": []
    },
    {
      "cell_type": "markdown",
      "source": [
        "##Cleaning the data"
      ],
      "metadata": {
        "id": "qEyRL4KpXMv9"
      }
    },
    {
      "cell_type": "markdown",
      "source": [
        "####Removing the references [1]"
      ],
      "metadata": {
        "id": "by1Q2Tm3YlhR"
      }
    },
    {
      "cell_type": "code",
      "source": [
        "# def clean_tags(soup): #Usunięcie referencji i dodatkowej daty ukrytej w elemencie <span>\n",
        "#   for tag in soup.find_all(['span','sup']):\n",
        "#     tag.decompose()"
      ],
      "metadata": {
        "id": "64kpyE11XPs3"
      },
      "execution_count": null,
      "outputs": []
    },
    {
      "cell_type": "markdown",
      "source": [
        "####Splitting up the long strings (separated with <br> tags in Wiki)"
      ],
      "metadata": {
        "id": "tHCnYhiAdE8n"
      }
    },
    {
      "cell_type": "code",
      "source": [
        "# def get_content_value(row_data):\n",
        "#   if row_data.find('li'):\n",
        "#     return [li.get_text(' ', strip = True).replace('\\xa0', ' ') for li in row_data.find_all('li')]\n",
        "\n",
        "  # elif row_data.find('br'):\n",
        "  #   return [text for text in row_data.stripped_strings] # <------------------------ \n",
        "\n",
        "#   else:\n",
        "#     return row_data.get_text(' ', strip = True).replace('\\xa0', ' ')"
      ],
      "metadata": {
        "id": "Gg6flNLedKGY"
      },
      "execution_count": null,
      "outputs": []
    },
    {
      "cell_type": "markdown",
      "source": [
        "####Converting 'Running time' to integer"
      ],
      "metadata": {
        "id": "XgoEsf6Sssce"
      }
    },
    {
      "cell_type": "code",
      "source": [
        "#Examples\n",
        "print([movie.get('Running time', 'NaN') for movie in movie_info_list][:10])"
      ],
      "metadata": {
        "colab": {
          "base_uri": "https://localhost:8080/"
        },
        "id": "g1BNFKJSsxQq",
        "outputId": "82b0e7e4-c61c-43b8-c6d1-3dbf840b68ce"
      },
      "execution_count": null,
      "outputs": [
        {
          "output_type": "stream",
          "name": "stdout",
          "text": [
            "['83 minutes', '88 minutes', '126 minutes', '74 minutes', '64 minutes', '70 minutes', '42 minutes', '65 min', '71 minutes', '75 minutes']\n"
          ]
        }
      ]
    },
    {
      "cell_type": "code",
      "source": [
        "def time_to_int(running_time):\n",
        "  if running_time == \"NaN\":\n",
        "    return None #Return pod ifem, aby nie wykonywać reszty kodu\n",
        "  # if isinstance(running_time, list) #Sprawdzenie, czy Running time jest listą\n",
        "  if type(running_time) is list:\n",
        "    return int(running_time[0].split(' ',1)[0])\n",
        "  else:\n",
        "    return int(running_time.split(' ',1)[0])\n",
        "\n",
        "# time_to_int('NaN')\n",
        "# time_to_int(['85 minutes', '95 min'])"
      ],
      "metadata": {
        "id": "itmGtW7Ptmlc"
      },
      "execution_count": null,
      "outputs": []
    },
    {
      "cell_type": "code",
      "source": [
        "for movie in movie_info_list:\n",
        "  movie['Running time [min]'] = time_to_int(movie.get('Running time', 'NaN'))"
      ],
      "metadata": {
        "id": "k45mkip2xUj5"
      },
      "execution_count": null,
      "outputs": []
    },
    {
      "cell_type": "code",
      "source": [
        "movie_info_list[:10]"
      ],
      "metadata": {
        "id": "lg1dR4Q5xhmV",
        "colab": {
          "base_uri": "https://localhost:8080/"
        },
        "outputId": "f3192c74-b398-4464-dabb-5d1908e9e664"
      },
      "execution_count": null,
      "outputs": [
        {
          "output_type": "execute_result",
          "data": {
            "text/plain": [
              "[{'title': 'Snow White and the Seven Dwarfs',\n",
              "  'Directed by': ['David Hand',\n",
              "   'William Cottrell',\n",
              "   'Wilfred Jackson',\n",
              "   'Larry Morey',\n",
              "   'Perce Pearce',\n",
              "   'Ben Sharpsteen'],\n",
              "  'Written by': ['Ted Sears',\n",
              "   'Richard Creedon',\n",
              "   'Otto Englander',\n",
              "   'Dick Rickard',\n",
              "   'Earl Hurd',\n",
              "   'Merrill De Maris',\n",
              "   'Dorothy Ann Blank',\n",
              "   'Webb Smith'],\n",
              "  'Based on': ['Snow White', 'by The', 'Brothers Grimm'],\n",
              "  'Produced by': 'Walt Disney',\n",
              "  'Starring': ['Adriana Caselotti',\n",
              "   'Lucille La Verne',\n",
              "   'Harry Stockwell',\n",
              "   'Roy Atwell',\n",
              "   'Pinto Colvig',\n",
              "   'Otis Harlan',\n",
              "   'Scotty Mattraw',\n",
              "   'Billy Gilbert',\n",
              "   'Eddie Collins',\n",
              "   'Moroni Olsen',\n",
              "   'Stuart Buchanan'],\n",
              "  'Music by': ['Frank Churchill', 'Paul Smith', 'Leigh Harline'],\n",
              "  'Production company': 'Walt Disney Productions',\n",
              "  'Distributed by': 'RKO Radio Pictures',\n",
              "  'Release dates': ['December 21, 1937 ( Carthay Circle Theatre )',\n",
              "   'February 4, 1938 (United States)'],\n",
              "  'Running time': '83 minutes',\n",
              "  'Country': 'United States',\n",
              "  'Language': 'English',\n",
              "  'Budget': '$1.49 million',\n",
              "  'Box office': '$418 million',\n",
              "  'Running time [min]': 83},\n",
              " {'title': 'Pinocchio',\n",
              "  'Directed by': ['Ben Sharpsteen',\n",
              "   'Hamilton Luske',\n",
              "   'Bill Roberts',\n",
              "   'Norman Ferguson',\n",
              "   'Jack Kinney',\n",
              "   'Wilfred Jackson',\n",
              "   'T. Hee'],\n",
              "  'Story by': ['Ted Sears',\n",
              "   'Otto Englander',\n",
              "   'Webb Smith',\n",
              "   'William Cottrell',\n",
              "   'Joseph Sabo',\n",
              "   'Erdman Penner',\n",
              "   'Aurelius Battaglia'],\n",
              "  'Based on': ['The Adventures of Pinocchio', 'by', 'Carlo Collodi'],\n",
              "  'Produced by': 'Walt Disney',\n",
              "  'Starring': ['Cliff Edwards',\n",
              "   'Dickie Jones',\n",
              "   'Christian Rub',\n",
              "   'Walter Catlett',\n",
              "   'Charles Judels',\n",
              "   'Evelyn Venable',\n",
              "   'Frankie Darro'],\n",
              "  'Music by': ['Leigh Harline', 'Paul J. Smith'],\n",
              "  'Production company': 'Walt Disney Productions',\n",
              "  'Distributed by': 'RKO Radio Pictures',\n",
              "  'Release dates': ['February 7, 1940 ( Center Theatre )',\n",
              "   'February 23, 1940 (United States)'],\n",
              "  'Running time': '88 minutes',\n",
              "  'Country': 'United States',\n",
              "  'Language': 'English',\n",
              "  'Budget': '$2.6 million',\n",
              "  'Box office': '$164 million',\n",
              "  'Running time [min]': 88},\n",
              " {'title': 'Fantasia',\n",
              "  'Directed by': ['Samuel Armstrong',\n",
              "   'James Algar',\n",
              "   'Bill Roberts',\n",
              "   'Paul Satterfield',\n",
              "   'Ben Sharpsteen',\n",
              "   'David D. Hand',\n",
              "   'Hamilton Luske',\n",
              "   'Jim Handley',\n",
              "   'Ford Beebe',\n",
              "   'T. Hee',\n",
              "   'Norman Ferguson',\n",
              "   'Wilfred Jackson'],\n",
              "  'Story by': ['Joe Grant', 'Dick Huemer'],\n",
              "  'Produced by': ['Walt Disney', 'Ben Sharpsteen'],\n",
              "  'Starring': ['Leopold Stokowski', 'Deems Taylor'],\n",
              "  'Narrated by': 'Deems Taylor',\n",
              "  'Cinematography': 'James Wong Howe',\n",
              "  'Music by': 'See program',\n",
              "  'Production company': 'Walt Disney Productions',\n",
              "  'Distributed by': 'RKO Radio Pictures',\n",
              "  'Release date': ['November 13, 1940'],\n",
              "  'Running time': '126 minutes',\n",
              "  'Country': 'United States',\n",
              "  'Language': 'English',\n",
              "  'Budget': '$2.28 million',\n",
              "  'Box office': '$76.4–$83.3 million (United States and Canada)',\n",
              "  'Running time [min]': 126},\n",
              " {'title': 'The Reluctant Dragon',\n",
              "  'Directed by': ['Alfred Werker',\n",
              "   '(live action)',\n",
              "   'Hamilton Luske',\n",
              "   '(animation)',\n",
              "   'Jack Cutting',\n",
              "   ',',\n",
              "   'Ub Iwerks',\n",
              "   ',',\n",
              "   'Jack Kinney',\n",
              "   '(sequence directors)'],\n",
              "  'Written by': ['Live-action:',\n",
              "   'Ted Sears',\n",
              "   'Al Perkins',\n",
              "   'Larry Clemmons',\n",
              "   'Bill Cottrell',\n",
              "   'Harry Clork',\n",
              "   'Robert Benchley',\n",
              "   'The Reluctant Dragon',\n",
              "   'segment:',\n",
              "   'Kenneth Grahame',\n",
              "   '(original book)',\n",
              "   'Erdman Penner',\n",
              "   'T. Hee',\n",
              "   'Baby Weems',\n",
              "   'segment:',\n",
              "   'Joe Grant',\n",
              "   'Dick Huemer',\n",
              "   'John Miller'],\n",
              "  'Produced by': 'Walt Disney',\n",
              "  'Starring': ['Robert Benchley',\n",
              "   'Frances Gifford',\n",
              "   'Buddy Pepper',\n",
              "   'Nana Bryant'],\n",
              "  'Cinematography': 'Bert Glennon',\n",
              "  'Edited by': 'Paul Weatherwax',\n",
              "  'Music by': ['Frank Churchill', 'Larry Morey'],\n",
              "  'Production company': 'Walt Disney Productions',\n",
              "  'Distributed by': 'RKO Radio Pictures',\n",
              "  'Release date': ['June 27, 1941'],\n",
              "  'Running time': '74 minutes',\n",
              "  'Country': 'United States',\n",
              "  'Language': 'English',\n",
              "  'Budget': '$600,000',\n",
              "  'Box office': '$960,000 (worldwide rentals)',\n",
              "  'Running time [min]': 74},\n",
              " {'title': 'Dumbo',\n",
              "  'Directed by': ['Ben Sharpsteen',\n",
              "   'Norman Ferguson',\n",
              "   'Wilfred Jackson',\n",
              "   'Bill Roberts',\n",
              "   'Jack Kinney',\n",
              "   'Samuel Armstrong'],\n",
              "  'Story by': ['Joe Grant', 'Dick Huemer'],\n",
              "  'Based on': ['Dumbo, the Flying Elephant',\n",
              "   'by',\n",
              "   'Helen Aberson',\n",
              "   'Harold Pearl'],\n",
              "  'Produced by': 'Walt Disney',\n",
              "  'Starring': ['Edward Brophy',\n",
              "   'Verna Felton',\n",
              "   'Cliff Edwards',\n",
              "   'Herman Bing',\n",
              "   'Sterling Holloway',\n",
              "   'Margaret Wright',\n",
              "   'Hall Johnson Choir'],\n",
              "  'Narrated by': 'John McLeish',\n",
              "  'Music by': ['Frank Churchill', 'Oliver Wallace'],\n",
              "  'Production company': 'Walt Disney Productions',\n",
              "  'Distributed by': 'RKO Radio Pictures',\n",
              "  'Release dates': ['October 23, 1941 (New York City)',\n",
              "   'October 31, 1941 (U.S.)'],\n",
              "  'Running time': '64 minutes',\n",
              "  'Country': 'United States',\n",
              "  'Language': 'English',\n",
              "  'Budget': '$950,000',\n",
              "  'Box office': '>$1.3 million (est. United States/Canada rentals, 1941)',\n",
              "  'Running time [min]': 64},\n",
              " {'title': 'Bambi',\n",
              "  'Directed by': ['Supervising director',\n",
              "   'David Hand',\n",
              "   'Sequence directors',\n",
              "   'James Algar',\n",
              "   'Samuel Armstrong',\n",
              "   'Graham Heid',\n",
              "   'Bill Roberts',\n",
              "   'Paul Satterfield',\n",
              "   'Norman Wright'],\n",
              "  'Story by': ['Story direction',\n",
              "   'Perce Pearce',\n",
              "   'Story adaptation',\n",
              "   'Larry Morey',\n",
              "   'Story development',\n",
              "   'Vernon Stallings',\n",
              "   'Melvin Shaw',\n",
              "   'Carl Fallberg',\n",
              "   'Chuck Couch',\n",
              "   'Ralph Wright'],\n",
              "  'Based on': ['Bambi, a Life in the Woods', 'by', 'Felix Salten'],\n",
              "  'Produced by': 'Walt Disney',\n",
              "  'Starring': 'see below',\n",
              "  'Music by': ['Frank Churchill', 'Edward H. Plumb'],\n",
              "  'Production company': 'Walt Disney Productions',\n",
              "  'Distributed by': 'RKO Radio Pictures',\n",
              "  'Release dates': ['August 9, 1942 ( London )',\n",
              "   'August 21, 1942 (United States)'],\n",
              "  'Running time': '70 minutes',\n",
              "  'Country': 'United States',\n",
              "  'Language': 'English',\n",
              "  'Budget': '$858,000',\n",
              "  'Box office': '$267.4 million',\n",
              "  'Running time [min]': 70},\n",
              " {'title': 'Saludos Amigos',\n",
              "  'Directed by': ['Norman Ferguson',\n",
              "   'Wilfred Jackson',\n",
              "   'Jack Kinney',\n",
              "   'Hamilton Luske',\n",
              "   'Bill Roberts'],\n",
              "  'Story by': ['Homer Brightman',\n",
              "   'William Cottrell',\n",
              "   'Richard Huemer',\n",
              "   'Joe Grant',\n",
              "   'Harold Reeves',\n",
              "   'Ted Sears',\n",
              "   'Webb Smith',\n",
              "   'Roy Williams',\n",
              "   'Ralph Wright'],\n",
              "  'Produced by': 'Walt Disney',\n",
              "  'Starring': ['Lee Blair',\n",
              "   'Mary Blair',\n",
              "   'Pinto Colvig',\n",
              "   'Walt Disney',\n",
              "   'Norman Ferguson',\n",
              "   'Frank Graham',\n",
              "   'Clarence Nash',\n",
              "   'José Oliveira',\n",
              "   'Frank Thomas'],\n",
              "  'Narrated by': 'Fred Shields',\n",
              "  'Music by': ['Paul Smith', 'Edward H. Plumb'],\n",
              "  'Production company': 'Walt Disney Productions',\n",
              "  'Distributed by': 'RKO Radio Pictures',\n",
              "  'Release dates': ['August 24, 1942 (World Premiere – Rio de Janeiro)',\n",
              "   'February 6, 1943 (U.S. Premiere – Boston)',\n",
              "   'February 19, 1943 (U.S.)'],\n",
              "  'Running time': '42 minutes',\n",
              "  'Country': 'United States',\n",
              "  'Languages': ['English', 'Portuguese', 'Spanish'],\n",
              "  'Box office': '$1.135 million (worldwide rentals)',\n",
              "  'Running time [min]': 42},\n",
              " {'title': 'Victory Through Air Power',\n",
              "  'Directed by': ['Animated sequences:',\n",
              "   'James Algar',\n",
              "   'Clyde Geronimi',\n",
              "   'Jack Kinney',\n",
              "   'de Seversky scenes:',\n",
              "   'H.C. Potter'],\n",
              "  'Written by': ['Story direction:',\n",
              "   'Perce Pearce',\n",
              "   'Story adaptation:',\n",
              "   'T. Hee',\n",
              "   'Erdman Penner',\n",
              "   'Bill Cottrell',\n",
              "   'James Brodero',\n",
              "   'George Stallings',\n",
              "   'Jose Rodriguez'],\n",
              "  'Based on': 'Victory Through Air Power by Maj. Alexander P. Seversky',\n",
              "  'Produced by': 'Walt Disney',\n",
              "  'Starring': 'Alexander de Seversky',\n",
              "  'Narrated by': 'Art Baker',\n",
              "  'Cinematography': 'Ray Rennahan',\n",
              "  'Edited by': 'Jack Dennis',\n",
              "  'Music by': ['Edward H. Plumb', 'Paul J. Smith', 'Oliver Wallace'],\n",
              "  'Production company': 'Walt Disney Productions',\n",
              "  'Distributed by': 'United Artists',\n",
              "  'Release date': ['July 17, 1943'],\n",
              "  'Running time': '65 min',\n",
              "  'Country': 'United States',\n",
              "  'Language': 'English',\n",
              "  'Budget': '$788,000',\n",
              "  'Box office': '$799,000',\n",
              "  'Running time [min]': 65},\n",
              " {'title': 'The Three Caballeros',\n",
              "  'Directed by': ['Norman Ferguson',\n",
              "   'Clyde Geronimi',\n",
              "   'Jack Kinney',\n",
              "   'Bill Roberts',\n",
              "   'Harold Young'],\n",
              "  'Story by': ['Homer Brightmen',\n",
              "   'Ernest Terrazas',\n",
              "   'Ted Sears',\n",
              "   'Bill Peet',\n",
              "   'Ralph Wright',\n",
              "   'Elmer Plummer',\n",
              "   'Roy Williams',\n",
              "   'William Cottrell',\n",
              "   'Del Connell',\n",
              "   'James Bodrero'],\n",
              "  'Produced by': 'Walt Disney',\n",
              "  'Starring': ['Clarence Nash', 'José Oliveira', 'Joaquin Garay'],\n",
              "  'Music by': ['Edward H. Plumb', 'Paul J. Smith', 'Charles Wolcott'],\n",
              "  'Production company': 'Walt Disney Productions',\n",
              "  'Distributed by': 'RKO Radio Pictures',\n",
              "  'Release dates': ['December 21, 1944 (Mexico City)',\n",
              "   'February 3, 1945 (US)'],\n",
              "  'Running time': '71 minutes',\n",
              "  'Country': 'United States',\n",
              "  'Languages': ['English', 'Spanish', 'Portuguese'],\n",
              "  'Box office': '$3.355 million (worldwide rentals)',\n",
              "  'Running time [min]': 71},\n",
              " {'title': 'Make Mine Music',\n",
              "  'Directed by': ['Jack Kinney',\n",
              "   'Clyde Geronimi',\n",
              "   'Hamilton Luske',\n",
              "   'Joshua Meador',\n",
              "   'Robert Cormack'],\n",
              "  'Story by': ['James Bodrero',\n",
              "   'Homer Brightman',\n",
              "   'Erwin Graham',\n",
              "   'Eric Gurney',\n",
              "   'T. Hee',\n",
              "   'Sylvia Holland',\n",
              "   'Dick Huemer',\n",
              "   'Dick Kelsey',\n",
              "   'Dick Kinney',\n",
              "   'Jesse Marsh',\n",
              "   'Tom Oreb',\n",
              "   'Cap Palmer',\n",
              "   'Erdman Penner',\n",
              "   'Dick Shaw',\n",
              "   'Harry Reeves',\n",
              "   'John Walbridge',\n",
              "   'Roy Williams'],\n",
              "  'Based on': ['\"',\n",
              "   'Casey at the Bat',\n",
              "   '\"',\n",
              "   'by',\n",
              "   'Ernest Thayer',\n",
              "   'Peter and the Wolf',\n",
              "   'by',\n",
              "   'Sergei Prokofiev'],\n",
              "  'Produced by': 'Walt Disney',\n",
              "  'Starring': 'Nelson Eddy',\n",
              "  'Music by': ['Eliot Daniel',\n",
              "   'Ken Darby',\n",
              "   'Charles Wolcott',\n",
              "   'Oliver Wallace',\n",
              "   'Edward Plumb'],\n",
              "  'Production company': 'Walt Disney Productions',\n",
              "  'Distributed by': 'RKO Radio Pictures, Inc.',\n",
              "  'Release dates': ['April 20, 1946 (New York City premiere)',\n",
              "   'August 15, 1946 (U.S.)'],\n",
              "  'Running time': '75 minutes',\n",
              "  'Country': 'United States',\n",
              "  'Language': 'English',\n",
              "  'Budget': '$1.35 million',\n",
              "  'Box office': '$3.275 million (worldwide rentals)',\n",
              "  'Running time [min]': 75}]"
            ]
          },
          "metadata": {},
          "execution_count": 33
        }
      ]
    },
    {
      "cell_type": "code",
      "source": [
        "print([movie.get('Running time [min]', 'NaN') for movie in movie_info_list][:10])"
      ],
      "metadata": {
        "colab": {
          "base_uri": "https://localhost:8080/"
        },
        "id": "NpPfNtfsyLoD",
        "outputId": "722330e3-5bd5-4db5-b0b1-5d2d74ec9978"
      },
      "execution_count": null,
      "outputs": [
        {
          "output_type": "stream",
          "name": "stdout",
          "text": [
            "[83, 88, 126, 74, 64, 70, 42, 65, 71, 75]\n"
          ]
        }
      ]
    },
    {
      "cell_type": "markdown",
      "source": [
        "####Money conversion"
      ],
      "metadata": {
        "id": "SLgqdLURznpz"
      }
    },
    {
      "cell_type": "code",
      "source": [
        "#Examples\n",
        "print([movie.get('Budget', 'NaN') for movie in movie_info_list][:10])"
      ],
      "metadata": {
        "colab": {
          "base_uri": "https://localhost:8080/"
        },
        "id": "aCuM9GXezrFX",
        "outputId": "3b03b5fb-5adf-4ab6-8ee6-9bd908715674"
      },
      "execution_count": null,
      "outputs": [
        {
          "output_type": "stream",
          "name": "stdout",
          "text": [
            "['$1.49 million', '$2.6 million', '$2.28 million', '$600,000', '$950,000', '$858,000', 'NaN', '$788,000', 'NaN', '$1.35 million']\n"
          ]
        }
      ]
    },
    {
      "cell_type": "code",
      "source": [
        "#Examples\n",
        "print([movie.get('Box office', 'NaN') for movie in movie_info_list][:10])"
      ],
      "metadata": {
        "colab": {
          "base_uri": "https://localhost:8080/"
        },
        "id": "I3CggOtEFGfJ",
        "outputId": "e7ba6088-367b-4747-d9b9-79e0c27e315a"
      },
      "execution_count": null,
      "outputs": [
        {
          "output_type": "stream",
          "name": "stdout",
          "text": [
            "['$418 million', '$164 million', '$76.4–$83.3 million (United States and Canada)', '$960,000 (worldwide rentals)', '>$1.3 million (est. United States/Canada rentals, 1941)', '$267.4 million', '$1.135 million (worldwide rentals)', '$799,000', '$3.355 million (worldwide rentals)', '$3.275 million (worldwide rentals)']\n"
          ]
        }
      ]
    },
    {
      "cell_type": "code",
      "source": [
        "None in [movie.get('Budget', 'NaN') for movie in movie_info_list]"
      ],
      "metadata": {
        "colab": {
          "base_uri": "https://localhost:8080/"
        },
        "id": "FDulGz2kGNTh",
        "outputId": "0d005d3c-9938-470f-b2d7-2a1454a3c910"
      },
      "execution_count": null,
      "outputs": [
        {
          "output_type": "execute_result",
          "data": {
            "text/plain": [
              "False"
            ]
          },
          "metadata": {},
          "execution_count": 37
        }
      ]
    },
    {
      "cell_type": "markdown",
      "source": [
        "#####money_conversion function"
      ],
      "metadata": {
        "id": "ET9LZd-321jR"
      }
    },
    {
      "cell_type": "code",
      "source": [
        "import re\n",
        "\n",
        "#* - zero lub więcej wystąpień\n",
        "#? - występuje lub nie\n",
        "#| - lub\n",
        "#\\s - spacja, \\d - cyfra, {3} - liczba cyfr\n",
        "\n",
        "number = r'\\d+(,\\d{3})*\\.*\\d*' #Jedna lub więcej cyfr (\\d+), grupa trzech cyfr po przecinku (,\\d{3}) lub nic(*), kropka (\\.) lub nic, zero lub więcej cyfr (\\d) lub \n",
        "amounts = r\"thousand|million|billion\"\n",
        "\n",
        "word_re = rf\"\\${number}(-|–|\\sto\\s)?({number})?\\s({amounts})\"\n",
        "value_re = rf\"\\${number}\"\n",
        "\n",
        "def word_to_value(word):\n",
        "  values_dict = {\"thousand\": 1000,\n",
        "                 \"million\": 1000000,\n",
        "                 \"billion\": 1000000000}\n",
        "  return values_dict[word]\n",
        "\n",
        "def parse_word_syntax(string):\n",
        "  value_string = re.search(number, string).group()\n",
        "  value = float(value_string.replace(',', '')) #Usunięcie przecinka ze stringa w celu konwersji na float\n",
        "  word = re.search(amounts, string, flags = re.I).group().lower() #flags = re.I -> Ignorowanie wielkich liter w tysiącach, milionach itd.\n",
        "  word_value = word_to_value(word)\n",
        "  return value*word_value\n",
        "\n",
        "def parse_value_syntax(string):\n",
        "  value_string = re.search(number, string).group()\n",
        "  value = float(value_string.replace(',',''))\n",
        "  return value\n",
        "\n",
        "def money_conversion(money):\n",
        "  if money == 'NaN':\n",
        "    return None\n",
        "\n",
        "  if isinstance(money, list): #Sprawdzenie czy jest listą\n",
        "    money = money[0]\n",
        "\n",
        "  value_syntax = re.search(value_re, money) #f-string ze wzorcem (number)\n",
        "  words_syntax = re.search(word_re, money, flags = re.I)\n",
        "\n",
        "  if words_syntax:\n",
        "    return parse_word_syntax(words_syntax.group())\n",
        "\n",
        "  elif value_syntax:\n",
        "    return parse_value_syntax(value_syntax.group())\n",
        "  \n",
        "  else:\n",
        "    return None"
      ],
      "metadata": {
        "id": "kwwRDH4U26AS"
      },
      "execution_count": null,
      "outputs": []
    },
    {
      "cell_type": "code",
      "source": [
        "mon = 'None'\n",
        "print(money_conversion(mon))"
      ],
      "metadata": {
        "colab": {
          "base_uri": "https://localhost:8080/"
        },
        "id": "FRlLdv888l7j",
        "outputId": "42810577-a262-4a13-981c-c0a018cbaf8b"
      },
      "execution_count": null,
      "outputs": [
        {
          "output_type": "stream",
          "name": "stdout",
          "text": [
            "None\n"
          ]
        }
      ]
    },
    {
      "cell_type": "markdown",
      "source": [
        "#####Implementation"
      ],
      "metadata": {
        "id": "0grw4WFbJS6_"
      }
    },
    {
      "cell_type": "code",
      "source": [
        "for movie in movie_info_list:\n",
        "  movie['Budget [$]'] = money_conversion(movie.get('Budget', 'NaN'))\n",
        "  movie['Box office [$]'] = money_conversion(movie.get('Box office', 'NaN'))"
      ],
      "metadata": {
        "id": "BcNR_6cADs0s"
      },
      "execution_count": null,
      "outputs": []
    },
    {
      "cell_type": "markdown",
      "source": [
        "#####Tests"
      ],
      "metadata": {
        "id": "DO0XFXxjJOG6"
      }
    },
    {
      "cell_type": "code",
      "source": [
        "print([movie.get('Budget [$]', 'NaN') for movie in movie_info_list][:10])"
      ],
      "metadata": {
        "colab": {
          "base_uri": "https://localhost:8080/"
        },
        "id": "MLbUvzHOI3Un",
        "outputId": "3f72f7d9-9496-4eac-f01b-d1781ef02f97"
      },
      "execution_count": null,
      "outputs": [
        {
          "output_type": "stream",
          "name": "stdout",
          "text": [
            "[1490000.0, 2600000.0, 2280000.0, 600000.0, 950000.0, 858000.0, None, 788000.0, None, 1350000.0]\n"
          ]
        }
      ]
    },
    {
      "cell_type": "code",
      "source": [
        "print([movie.get('Box office [$]', 'NaN') for movie in movie_info_list][:10])"
      ],
      "metadata": {
        "colab": {
          "base_uri": "https://localhost:8080/"
        },
        "id": "-UEiWgKVtb45",
        "outputId": "cdaca979-cbd1-46eb-ac72-66f68ec619c8"
      },
      "execution_count": null,
      "outputs": [
        {
          "output_type": "stream",
          "name": "stdout",
          "text": [
            "[418000000.0, 164000000.0, 83300000.0, 960000.0, 1300000.0, 267399999.99999997, 1135000.0, 799000.0, 3355000.0, 3275000.0]\n"
          ]
        }
      ]
    },
    {
      "cell_type": "code",
      "source": [
        "money_conversion(movie_info_list[350]['Box office'])"
      ],
      "metadata": {
        "colab": {
          "base_uri": "https://localhost:8080/"
        },
        "id": "MjEKza74JUxc",
        "outputId": "6750de64-9152-44a9-935f-d43865b13639"
      },
      "execution_count": null,
      "outputs": [
        {
          "output_type": "execute_result",
          "data": {
            "text/plain": [
              "109000000.0"
            ]
          },
          "metadata": {},
          "execution_count": 160
        }
      ]
    },
    {
      "cell_type": "code",
      "source": [
        "import pytest\n",
        "\n",
        "def tests():\n",
        "\tassert money_conversion(\"$3 million\") == 3000000\n",
        "\tassert money_conversion(\"$99 million\") == 99000000\n",
        "\tassert money_conversion(\"$3.5 million\") == 3500000\n",
        "\tassert money_conversion(\"$1.234 million\") == 1234000\n",
        "\tassert money_conversion(\"$1.25 billion\") == 1250000000\n",
        "\tassert money_conversion(\"$900.9 thousand\") == 900900\n",
        "\tassert money_conversion(\"$3.5-4 million\") == 3500000\n",
        "\tassert money_conversion(\"$3.5 to 4 million\") == 3500000\n",
        "\tassert money_conversion(\"$950000\") == 950000\n",
        "\tassert money_conversion(\"$127,850,000\") == 127850000\n",
        "\tassert money_conversion(\"$10,000,000.50\") == 10000000.5\n",
        "\tassert money_conversion(\"estimated $5,000,000 (USD)\") == 5000000\n",
        "\tassert money_conversion(\"60 million Norwegian Kroner (around $8.7 million in 1989)\") == 8700000\n",
        "\tassert money_conversion(['$410.6 million (gross)', '$378.5 million (net)']) == 410600000\n",
        "\tassert money_conversion(\"70 crore\") is None\n",
        "\n",
        "tests()"
      ],
      "metadata": {
        "id": "QEOXuARtKj0v"
      },
      "execution_count": null,
      "outputs": []
    },
    {
      "cell_type": "markdown",
      "source": [
        "####Converting dates into datetime objects"
      ],
      "metadata": {
        "id": "E_Ruj5PvR24w"
      }
    },
    {
      "cell_type": "code",
      "source": [
        "#Examples\n",
        "print([movie.get('Release date', 'NaN') for movie in movie_info_list][100:120])"
      ],
      "metadata": {
        "colab": {
          "base_uri": "https://localhost:8080/"
        },
        "id": "MczooiRgR5bb",
        "outputId": "f1030644-3770-423c-9d2c-3f66f84980d2"
      },
      "execution_count": null,
      "outputs": [
        {
          "output_type": "stream",
          "name": "stdout",
          "text": [
            "[['June 30, 1971'], ['October 7, 1971'], ['March 22, 1972 (US)'], 'July 12, 1972', ['July 5, 1972'], ['October 18, 1972'], ['December 22, 1972'], 'February 1, 1973', ['March 23, 1973'], ['June 20, 1973'], ['November 8, 1973'], ['December 14, 1973'], ['June 6, 1974'], ['July 31, 1974'], ['August 1, 1974'], 'December 20, 1974 (with Winnie the Pooh and Tigger Too )', ['February 6, 1975'], ['March 21, 1975 (United States)'], ['July 1, 1975'], ['July 9, 1975']]\n"
          ]
        }
      ]
    },
    {
      "cell_type": "code",
      "source": [
        "from datetime import datetime\n",
        "\n",
        "dates = [movie.get('Release date', 'NaN') for movie in movie_info_list][100:120]"
      ],
      "metadata": {
        "id": "wEWsChTeSXUY"
      },
      "execution_count": null,
      "outputs": []
    },
    {
      "cell_type": "markdown",
      "source": [
        "#####Date conversion function"
      ],
      "metadata": {
        "id": "Hdkol4bHSvTZ"
      }
    },
    {
      "cell_type": "code",
      "source": [
        "def clean_date(date):\n",
        "  return date.split('(')[0].strip() #Podział stringa na pierwszym nawiasie i usunięcie spacji\n",
        "\n",
        "def date_conversion(date):\n",
        "  if isinstance(date, list):\n",
        "    date = date[0]\n",
        "\n",
        "  if date == 'NaN':\n",
        "    return None\n",
        "\n",
        "  date_str = clean_date(date)\n",
        "\n",
        "  formats = ['%B %d, %Y', '%d %B %Y']\n",
        "  for format in formats:\n",
        "    try:\n",
        "      return datetime.strptime(date_str, format).date()\n",
        "    except:\n",
        "      pass\n",
        "  return None\n",
        "\n",
        "for date in dates:\n",
        "  print(date_conversion(date))"
      ],
      "metadata": {
        "colab": {
          "base_uri": "https://localhost:8080/"
        },
        "id": "vvXhc_fJSw6v",
        "outputId": "561392bd-c123-475b-be53-e56f504af8d6"
      },
      "execution_count": null,
      "outputs": [
        {
          "output_type": "stream",
          "name": "stdout",
          "text": [
            "1971-06-30\n",
            "1971-10-07\n",
            "1972-03-22\n",
            "1972-07-12\n",
            "1972-07-05\n",
            "1972-10-18\n",
            "1972-12-22\n",
            "1973-02-01\n",
            "1973-03-23\n",
            "1973-06-20\n",
            "1973-11-08\n",
            "1973-12-14\n",
            "1974-06-06\n",
            "1974-07-31\n",
            "1974-08-01\n",
            "1974-12-20\n",
            "1975-02-06\n",
            "1975-03-21\n",
            "1975-07-01\n",
            "1975-07-09\n"
          ]
        }
      ]
    },
    {
      "cell_type": "markdown",
      "source": [
        "#####Implementation"
      ],
      "metadata": {
        "id": "hu8t5c5qXnnU"
      }
    },
    {
      "cell_type": "code",
      "source": [
        "for movie in movie_info_list:\n",
        "  movie['Release date (formatted)'] = date_conversion(movie.get('Release date', 'NaN'))"
      ],
      "metadata": {
        "id": "AbEEWT9bXpKE"
      },
      "execution_count": null,
      "outputs": []
    },
    {
      "cell_type": "code",
      "source": [
        "movie_info_list[150]"
      ],
      "metadata": {
        "colab": {
          "base_uri": "https://localhost:8080/"
        },
        "id": "2UTGXpSsYOME",
        "outputId": "b769b530-8061-4081-a940-94ef1f0e970a"
      },
      "execution_count": null,
      "outputs": [
        {
          "output_type": "execute_result",
          "data": {
            "text/plain": [
              "{'title': 'The Fox and the Hound',\n",
              " 'Directed by': ['Ted Berman', 'Richard Rich', 'Art Stevens'],\n",
              " 'Story by': ['Larry Clemmons',\n",
              "  'Ted Berman',\n",
              "  'David Michener',\n",
              "  'Peter Young',\n",
              "  'Burny Mattinson',\n",
              "  'Steve Hulett',\n",
              "  'Earl Kress',\n",
              "  'Vance Gerry'],\n",
              " 'Based on': ['The Fox and the Hound', 'by', 'Daniel P. Mannix'],\n",
              " 'Produced by': ['Ron Miller', 'Wolfgang Reitherman', 'Art Stevens'],\n",
              " 'Starring': ['Mickey Rooney',\n",
              "  'Kurt Russell',\n",
              "  'Pearl Bailey',\n",
              "  'Jack Albertson',\n",
              "  'Sandy Duncan',\n",
              "  'Jeanette Nolan',\n",
              "  'Pat Buttram',\n",
              "  'John Fiedler',\n",
              "  'John McIntire',\n",
              "  'Dick Bakalyan',\n",
              "  'Paul Winchell',\n",
              "  'Keith Mitchell',\n",
              "  'Corey Feldman'],\n",
              " 'Edited by': ['James Melton', 'Jim Koford'],\n",
              " 'Music by': 'Buddy Baker',\n",
              " 'Production company': 'Walt Disney Productions',\n",
              " 'Distributed by': 'Buena Vista Distribution',\n",
              " 'Release date': ['July 10, 1981'],\n",
              " 'Running time': '83 minutes',\n",
              " 'Country': 'United States',\n",
              " 'Language': 'English',\n",
              " 'Budget': '$12 million',\n",
              " 'Box office': '$63.5 million',\n",
              " 'Running time [min]': 83,\n",
              " 'Budget [$]': 12000000.0,\n",
              " 'Box office [$]': 63500000.0,\n",
              " 'Release date (formatted)': datetime.date(1981, 7, 10),\n",
              " 'IMDb': '7.2',\n",
              " 'Metascore': '65',\n",
              " 'RottenTomatoes': '70%'}"
            ]
          },
          "metadata": {},
          "execution_count": 166
        }
      ]
    },
    {
      "cell_type": "markdown",
      "source": [
        "##Saving the cleaned data"
      ],
      "metadata": {
        "id": "aYoHZchKYg-j"
      }
    },
    {
      "cell_type": "markdown",
      "source": [
        "####Json doesn't work for datatime objects - using pickle instead"
      ],
      "metadata": {
        "id": "0QqW21LdY4tl"
      }
    },
    {
      "cell_type": "code",
      "source": [
        "# save_data('WaltDisneyMovies_cleanedformatted.json', movie_info_list) #Nie działa na datatime object"
      ],
      "metadata": {
        "id": "KI5KB31UYiQ-"
      },
      "execution_count": null,
      "outputs": []
    },
    {
      "cell_type": "markdown",
      "source": [
        "####Saving data (Pickle)"
      ],
      "metadata": {
        "id": "ehvKVtOfZDIg"
      }
    },
    {
      "cell_type": "code",
      "source": [
        "import pickle\n",
        "\n",
        "def save_data_pickle(title, data):\n",
        "  with open(title, 'wb') as f:\n",
        "    pickle.dump(data, f)"
      ],
      "metadata": {
        "id": "kaVRA8aCZBNJ"
      },
      "execution_count": null,
      "outputs": []
    },
    {
      "cell_type": "code",
      "source": [
        "save_data_pickle('WaltDisneyMovies_cleaned.pickle', movie_info_list)"
      ],
      "metadata": {
        "id": "EU-Ng2xjafLL"
      },
      "execution_count": null,
      "outputs": []
    },
    {
      "cell_type": "markdown",
      "source": [
        "####Loading data (Pickle)"
      ],
      "metadata": {
        "id": "1xhh8za1aAwz"
      }
    },
    {
      "cell_type": "code",
      "source": [
        "def load_data_pickle(title):\n",
        "  with open(title, 'rb') as f:\n",
        "    return pickle.load(f)"
      ],
      "metadata": {
        "id": "_fwCPnXvaCr-"
      },
      "execution_count": null,
      "outputs": []
    },
    {
      "cell_type": "code",
      "source": [
        "movie_info_list = load_data_pickle('WaltDisneyMovies_cleaned.pickle')"
      ],
      "metadata": {
        "id": "-Ln6JOfobeAQ"
      },
      "execution_count": null,
      "outputs": []
    },
    {
      "cell_type": "markdown",
      "source": [
        "##Attaching movie scores from IMDb, etc."
      ],
      "metadata": {
        "id": "KxnzwCvNdfAQ"
      }
    },
    {
      "cell_type": "markdown",
      "source": [
        "####Functions"
      ],
      "metadata": {
        "id": "PeZh6HjWkPnK"
      }
    },
    {
      "cell_type": "code",
      "source": [
        "import requests\n",
        "import os #Do dostępu do zmiennych systemowych, gdzie zapisany będzie apikey\n",
        "import urllib #Do \"upakowania\" parametrów do linku\n",
        "\n",
        "def get_omdb_info(title):\n",
        "  url = 'http://www.omdbapi.com/?'\n",
        "  apikey = '556eef74'\n",
        "  parameters = {'apikey': apikey, 't': title}\n",
        "  # parameters = {'apikey': os.environ['OMDB_apikey'], 't': title}\n",
        "  params_encoded = urllib.parse.urlencode(parameters)\n",
        "  full_url = url + params_encoded\n",
        "  return requests.get(full_url).json()\n",
        "\n",
        "def get_rotten_tomatoes(omdb_info):\n",
        "  ratings = omdb_info.get('Ratings', [])\n",
        "  for rating in ratings:\n",
        "    if rating['Source'] == 'Rotten Tomatoes':\n",
        "      return rating['Value']"
      ],
      "metadata": {
        "id": "bl89WvPihZUN"
      },
      "execution_count": null,
      "outputs": []
    },
    {
      "cell_type": "code",
      "source": [
        "info = get_omdb_info('Into the Woods')\n",
        "get_rotten_tomatoes(info)"
      ],
      "metadata": {
        "colab": {
          "base_uri": "https://localhost:8080/",
          "height": 35
        },
        "id": "R8AJv-0djACe",
        "outputId": "2ea30a3a-139f-4c47-eddf-7537e38dfb2b"
      },
      "execution_count": null,
      "outputs": [
        {
          "output_type": "execute_result",
          "data": {
            "text/plain": [
              "'71%'"
            ],
            "application/vnd.google.colaboratory.intrinsic+json": {
              "type": "string"
            }
          },
          "metadata": {},
          "execution_count": 203
        }
      ]
    },
    {
      "cell_type": "markdown",
      "source": [
        "####Implementation"
      ],
      "metadata": {
        "id": "i1eLcMvwkR-2"
      }
    },
    {
      "cell_type": "code",
      "source": [
        "for movie in movie_info_list:\n",
        "  title = movie['title']\n",
        "  omdb_info = get_omdb_info(title)\n",
        "  movie['IMDb'] = omdb_info.get('imdbRating', 'NaN')\n",
        "  movie['Metascore'] = omdb_info.get('Metascore', 'NaN')\n",
        "  movie['RottenTomatoes'] = get_rotten_tomatoes(omdb_info)"
      ],
      "metadata": {
        "id": "FNgCw93UkRgt"
      },
      "execution_count": null,
      "outputs": []
    },
    {
      "cell_type": "markdown",
      "source": [
        "####itemgetter lib to get multiple keys"
      ],
      "metadata": {
        "id": "3u5cTnEIoaGR"
      }
    },
    {
      "cell_type": "code",
      "source": [
        "from operator import itemgetter\n",
        "\n",
        "itemgetter('title', 'IMDb')(movie_info_list[1])"
      ],
      "metadata": {
        "colab": {
          "base_uri": "https://localhost:8080/"
        },
        "id": "OiYa1OIBlrEf",
        "outputId": "22fd6e92-9425-4638-c6ae-01fdc0052edd"
      },
      "execution_count": null,
      "outputs": [
        {
          "output_type": "execute_result",
          "data": {
            "text/plain": [
              "('Pinocchio', '7.5')"
            ]
          },
          "metadata": {},
          "execution_count": 175
        }
      ]
    },
    {
      "cell_type": "code",
      "source": [
        "save_data_pickle('/content/drive/MyDrive/Projekty/Walt Disney Movies/WaltDisneyMovies_final.pickle', movie_info_list)"
      ],
      "metadata": {
        "id": "LlxDHH2PmHYa"
      },
      "execution_count": null,
      "outputs": []
    },
    {
      "cell_type": "markdown",
      "source": [
        "##Creating a copy of the dataset (json and CSV)"
      ],
      "metadata": {
        "id": "4gied4fVm8WR"
      }
    },
    {
      "cell_type": "code",
      "source": [
        "#Kopiowanie słownika\n",
        "movie_info_copy = [movie.copy() for movie in movie_info_list]"
      ],
      "metadata": {
        "id": "1KrMC3Crm-I7"
      },
      "execution_count": null,
      "outputs": []
    },
    {
      "cell_type": "markdown",
      "source": [
        "####Reversing the datatime object to string"
      ],
      "metadata": {
        "id": "AyR6t_mFo-F_"
      }
    },
    {
      "cell_type": "code",
      "source": [
        "for movie in movie_info_copy:\n",
        "  current_date = movie['Release date (formatted)']\n",
        "  if current_date: #nie jest None\n",
        "    movie['Release date (formatted)'] = current_date.strftime(\"%B %d, %Y\")\n",
        "  else:\n",
        "    movie['Release date (formatted)'] = None"
      ],
      "metadata": {
        "id": "-RiHawwgpA8E"
      },
      "execution_count": null,
      "outputs": []
    },
    {
      "cell_type": "code",
      "source": [
        "movie_info_copy[166]['Release date (formatted)']"
      ],
      "metadata": {
        "colab": {
          "base_uri": "https://localhost:8080/",
          "height": 35
        },
        "id": "DAdVlEQ6paZK",
        "outputId": "9d8c22c5-8c8e-4ea8-ad22-ea23dafff879"
      },
      "execution_count": null,
      "outputs": [
        {
          "output_type": "execute_result",
          "data": {
            "text/plain": [
              "'November 18, 1988'"
            ],
            "application/vnd.google.colaboratory.intrinsic+json": {
              "type": "string"
            }
          },
          "metadata": {},
          "execution_count": 179
        }
      ]
    },
    {
      "cell_type": "code",
      "source": [
        "save_data('/content/drive/MyDrive/Projekty/Walt Disney Movies/WaltDisneyMovies_final.json', movie_info_copy)"
      ],
      "metadata": {
        "id": "FMJ_80jEpj_E"
      },
      "execution_count": null,
      "outputs": []
    },
    {
      "cell_type": "markdown",
      "source": [
        "####Saving data (pandas, CSV)"
      ],
      "metadata": {
        "id": "10uDNeP8rC_8"
      }
    },
    {
      "cell_type": "code",
      "source": [
        "import pandas as pd\n",
        "df = pd.DataFrame(movie_info_copy)\n",
        "df.head()"
      ],
      "metadata": {
        "colab": {
          "base_uri": "https://localhost:8080/",
          "height": 768
        },
        "id": "Ffv8r3-IrFTM",
        "outputId": "7ecaed6e-c6a1-4c7b-8df7-0ad7b19e236c"
      },
      "execution_count": null,
      "outputs": [
        {
          "output_type": "execute_result",
          "data": {
            "text/plain": [
              "                             title  \\\n",
              "0  Snow White and the Seven Dwarfs   \n",
              "1                        Pinocchio   \n",
              "2                         Fantasia   \n",
              "3             The Reluctant Dragon   \n",
              "4                            Dumbo   \n",
              "\n",
              "                                         Directed by  \\\n",
              "0  [David Hand, William Cottrell, Wilfred Jackson...   \n",
              "1  [Ben Sharpsteen, Hamilton Luske, Bill Roberts,...   \n",
              "2  [Samuel Armstrong, James Algar, Bill Roberts, ...   \n",
              "3  [Alfred Werker, (live action), Hamilton Luske,...   \n",
              "4  [Ben Sharpsteen, Norman Ferguson, Wilfred Jack...   \n",
              "\n",
              "                                          Written by  \\\n",
              "0  [Ted Sears, Richard Creedon, Otto Englander, D...   \n",
              "1                                                NaN   \n",
              "2                                                NaN   \n",
              "3  [Live-action:, Ted Sears, Al Perkins, Larry Cl...   \n",
              "4                                                NaN   \n",
              "\n",
              "                                            Based on  \\\n",
              "0               [Snow White, by The, Brothers Grimm]   \n",
              "1   [The Adventures of Pinocchio, by, Carlo Collodi]   \n",
              "2                                                NaN   \n",
              "3                                                NaN   \n",
              "4  [Dumbo, the Flying Elephant, by, Helen Aberson...   \n",
              "\n",
              "                     Produced by  \\\n",
              "0                    Walt Disney   \n",
              "1                    Walt Disney   \n",
              "2  [Walt Disney, Ben Sharpsteen]   \n",
              "3                    Walt Disney   \n",
              "4                    Walt Disney   \n",
              "\n",
              "                                            Starring  \\\n",
              "0  [Adriana Caselotti, Lucille La Verne, Harry St...   \n",
              "1  [Cliff Edwards, Dickie Jones, Christian Rub, W...   \n",
              "2                  [Leopold Stokowski, Deems Taylor]   \n",
              "3  [Robert Benchley, Frances Gifford, Buddy Peppe...   \n",
              "4  [Edward Brophy, Verna Felton, Cliff Edwards, H...   \n",
              "\n",
              "                                       Music by       Production company  \\\n",
              "0  [Frank Churchill, Paul Smith, Leigh Harline]  Walt Disney Productions   \n",
              "1                [Leigh Harline, Paul J. Smith]  Walt Disney Productions   \n",
              "2                                   See program  Walt Disney Productions   \n",
              "3                [Frank Churchill, Larry Morey]  Walt Disney Productions   \n",
              "4             [Frank Churchill, Oliver Wallace]  Walt Disney Productions   \n",
              "\n",
              "       Distributed by                                      Release dates  ...  \\\n",
              "0  RKO Radio Pictures  [December 21, 1937 ( Carthay Circle Theatre ),...  ...   \n",
              "1  RKO Radio Pictures  [February 7, 1940 ( Center Theatre ), February...  ...   \n",
              "2  RKO Radio Pictures                                                NaN  ...   \n",
              "3  RKO Radio Pictures                                                NaN  ...   \n",
              "4  RKO Radio Pictures  [October 23, 1941 (New York City), October 31,...  ...   \n",
              "\n",
              "  Traditional Simplified Original title Layouts by Music  Lyrics  Book  Basis  \\\n",
              "0         NaN        NaN            NaN        NaN   NaN     NaN   NaN    NaN   \n",
              "1         NaN        NaN            NaN        NaN   NaN     NaN   NaN    NaN   \n",
              "2         NaN        NaN            NaN        NaN   NaN     NaN   NaN    NaN   \n",
              "3         NaN        NaN            NaN        NaN   NaN     NaN   NaN    NaN   \n",
              "4         NaN        NaN            NaN        NaN   NaN     NaN   NaN    NaN   \n",
              "\n",
              "  Productions Awards  \n",
              "0         NaN    NaN  \n",
              "1         NaN    NaN  \n",
              "2         NaN    NaN  \n",
              "3         NaN    NaN  \n",
              "4         NaN    NaN  \n",
              "\n",
              "[5 rows x 46 columns]"
            ],
            "text/html": [
              "\n",
              "  <div id=\"df-147f0be7-8731-4eb0-9bf4-f3aa5b4cf34e\">\n",
              "    <div class=\"colab-df-container\">\n",
              "      <div>\n",
              "<style scoped>\n",
              "    .dataframe tbody tr th:only-of-type {\n",
              "        vertical-align: middle;\n",
              "    }\n",
              "\n",
              "    .dataframe tbody tr th {\n",
              "        vertical-align: top;\n",
              "    }\n",
              "\n",
              "    .dataframe thead th {\n",
              "        text-align: right;\n",
              "    }\n",
              "</style>\n",
              "<table border=\"1\" class=\"dataframe\">\n",
              "  <thead>\n",
              "    <tr style=\"text-align: right;\">\n",
              "      <th></th>\n",
              "      <th>title</th>\n",
              "      <th>Directed by</th>\n",
              "      <th>Written by</th>\n",
              "      <th>Based on</th>\n",
              "      <th>Produced by</th>\n",
              "      <th>Starring</th>\n",
              "      <th>Music by</th>\n",
              "      <th>Production company</th>\n",
              "      <th>Distributed by</th>\n",
              "      <th>Release dates</th>\n",
              "      <th>...</th>\n",
              "      <th>Traditional</th>\n",
              "      <th>Simplified</th>\n",
              "      <th>Original title</th>\n",
              "      <th>Layouts by</th>\n",
              "      <th>Music</th>\n",
              "      <th>Lyrics</th>\n",
              "      <th>Book</th>\n",
              "      <th>Basis</th>\n",
              "      <th>Productions</th>\n",
              "      <th>Awards</th>\n",
              "    </tr>\n",
              "  </thead>\n",
              "  <tbody>\n",
              "    <tr>\n",
              "      <th>0</th>\n",
              "      <td>Snow White and the Seven Dwarfs</td>\n",
              "      <td>[David Hand, William Cottrell, Wilfred Jackson...</td>\n",
              "      <td>[Ted Sears, Richard Creedon, Otto Englander, D...</td>\n",
              "      <td>[Snow White, by The, Brothers Grimm]</td>\n",
              "      <td>Walt Disney</td>\n",
              "      <td>[Adriana Caselotti, Lucille La Verne, Harry St...</td>\n",
              "      <td>[Frank Churchill, Paul Smith, Leigh Harline]</td>\n",
              "      <td>Walt Disney Productions</td>\n",
              "      <td>RKO Radio Pictures</td>\n",
              "      <td>[December 21, 1937 ( Carthay Circle Theatre ),...</td>\n",
              "      <td>...</td>\n",
              "      <td>NaN</td>\n",
              "      <td>NaN</td>\n",
              "      <td>NaN</td>\n",
              "      <td>NaN</td>\n",
              "      <td>NaN</td>\n",
              "      <td>NaN</td>\n",
              "      <td>NaN</td>\n",
              "      <td>NaN</td>\n",
              "      <td>NaN</td>\n",
              "      <td>NaN</td>\n",
              "    </tr>\n",
              "    <tr>\n",
              "      <th>1</th>\n",
              "      <td>Pinocchio</td>\n",
              "      <td>[Ben Sharpsteen, Hamilton Luske, Bill Roberts,...</td>\n",
              "      <td>NaN</td>\n",
              "      <td>[The Adventures of Pinocchio, by, Carlo Collodi]</td>\n",
              "      <td>Walt Disney</td>\n",
              "      <td>[Cliff Edwards, Dickie Jones, Christian Rub, W...</td>\n",
              "      <td>[Leigh Harline, Paul J. Smith]</td>\n",
              "      <td>Walt Disney Productions</td>\n",
              "      <td>RKO Radio Pictures</td>\n",
              "      <td>[February 7, 1940 ( Center Theatre ), February...</td>\n",
              "      <td>...</td>\n",
              "      <td>NaN</td>\n",
              "      <td>NaN</td>\n",
              "      <td>NaN</td>\n",
              "      <td>NaN</td>\n",
              "      <td>NaN</td>\n",
              "      <td>NaN</td>\n",
              "      <td>NaN</td>\n",
              "      <td>NaN</td>\n",
              "      <td>NaN</td>\n",
              "      <td>NaN</td>\n",
              "    </tr>\n",
              "    <tr>\n",
              "      <th>2</th>\n",
              "      <td>Fantasia</td>\n",
              "      <td>[Samuel Armstrong, James Algar, Bill Roberts, ...</td>\n",
              "      <td>NaN</td>\n",
              "      <td>NaN</td>\n",
              "      <td>[Walt Disney, Ben Sharpsteen]</td>\n",
              "      <td>[Leopold Stokowski, Deems Taylor]</td>\n",
              "      <td>See program</td>\n",
              "      <td>Walt Disney Productions</td>\n",
              "      <td>RKO Radio Pictures</td>\n",
              "      <td>NaN</td>\n",
              "      <td>...</td>\n",
              "      <td>NaN</td>\n",
              "      <td>NaN</td>\n",
              "      <td>NaN</td>\n",
              "      <td>NaN</td>\n",
              "      <td>NaN</td>\n",
              "      <td>NaN</td>\n",
              "      <td>NaN</td>\n",
              "      <td>NaN</td>\n",
              "      <td>NaN</td>\n",
              "      <td>NaN</td>\n",
              "    </tr>\n",
              "    <tr>\n",
              "      <th>3</th>\n",
              "      <td>The Reluctant Dragon</td>\n",
              "      <td>[Alfred Werker, (live action), Hamilton Luske,...</td>\n",
              "      <td>[Live-action:, Ted Sears, Al Perkins, Larry Cl...</td>\n",
              "      <td>NaN</td>\n",
              "      <td>Walt Disney</td>\n",
              "      <td>[Robert Benchley, Frances Gifford, Buddy Peppe...</td>\n",
              "      <td>[Frank Churchill, Larry Morey]</td>\n",
              "      <td>Walt Disney Productions</td>\n",
              "      <td>RKO Radio Pictures</td>\n",
              "      <td>NaN</td>\n",
              "      <td>...</td>\n",
              "      <td>NaN</td>\n",
              "      <td>NaN</td>\n",
              "      <td>NaN</td>\n",
              "      <td>NaN</td>\n",
              "      <td>NaN</td>\n",
              "      <td>NaN</td>\n",
              "      <td>NaN</td>\n",
              "      <td>NaN</td>\n",
              "      <td>NaN</td>\n",
              "      <td>NaN</td>\n",
              "    </tr>\n",
              "    <tr>\n",
              "      <th>4</th>\n",
              "      <td>Dumbo</td>\n",
              "      <td>[Ben Sharpsteen, Norman Ferguson, Wilfred Jack...</td>\n",
              "      <td>NaN</td>\n",
              "      <td>[Dumbo, the Flying Elephant, by, Helen Aberson...</td>\n",
              "      <td>Walt Disney</td>\n",
              "      <td>[Edward Brophy, Verna Felton, Cliff Edwards, H...</td>\n",
              "      <td>[Frank Churchill, Oliver Wallace]</td>\n",
              "      <td>Walt Disney Productions</td>\n",
              "      <td>RKO Radio Pictures</td>\n",
              "      <td>[October 23, 1941 (New York City), October 31,...</td>\n",
              "      <td>...</td>\n",
              "      <td>NaN</td>\n",
              "      <td>NaN</td>\n",
              "      <td>NaN</td>\n",
              "      <td>NaN</td>\n",
              "      <td>NaN</td>\n",
              "      <td>NaN</td>\n",
              "      <td>NaN</td>\n",
              "      <td>NaN</td>\n",
              "      <td>NaN</td>\n",
              "      <td>NaN</td>\n",
              "    </tr>\n",
              "  </tbody>\n",
              "</table>\n",
              "<p>5 rows × 46 columns</p>\n",
              "</div>\n",
              "      <button class=\"colab-df-convert\" onclick=\"convertToInteractive('df-147f0be7-8731-4eb0-9bf4-f3aa5b4cf34e')\"\n",
              "              title=\"Convert this dataframe to an interactive table.\"\n",
              "              style=\"display:none;\">\n",
              "        \n",
              "  <svg xmlns=\"http://www.w3.org/2000/svg\" height=\"24px\"viewBox=\"0 0 24 24\"\n",
              "       width=\"24px\">\n",
              "    <path d=\"M0 0h24v24H0V0z\" fill=\"none\"/>\n",
              "    <path d=\"M18.56 5.44l.94 2.06.94-2.06 2.06-.94-2.06-.94-.94-2.06-.94 2.06-2.06.94zm-11 1L8.5 8.5l.94-2.06 2.06-.94-2.06-.94L8.5 2.5l-.94 2.06-2.06.94zm10 10l.94 2.06.94-2.06 2.06-.94-2.06-.94-.94-2.06-.94 2.06-2.06.94z\"/><path d=\"M17.41 7.96l-1.37-1.37c-.4-.4-.92-.59-1.43-.59-.52 0-1.04.2-1.43.59L10.3 9.45l-7.72 7.72c-.78.78-.78 2.05 0 2.83L4 21.41c.39.39.9.59 1.41.59.51 0 1.02-.2 1.41-.59l7.78-7.78 2.81-2.81c.8-.78.8-2.07 0-2.86zM5.41 20L4 18.59l7.72-7.72 1.47 1.35L5.41 20z\"/>\n",
              "  </svg>\n",
              "      </button>\n",
              "      \n",
              "  <style>\n",
              "    .colab-df-container {\n",
              "      display:flex;\n",
              "      flex-wrap:wrap;\n",
              "      gap: 12px;\n",
              "    }\n",
              "\n",
              "    .colab-df-convert {\n",
              "      background-color: #E8F0FE;\n",
              "      border: none;\n",
              "      border-radius: 50%;\n",
              "      cursor: pointer;\n",
              "      display: none;\n",
              "      fill: #1967D2;\n",
              "      height: 32px;\n",
              "      padding: 0 0 0 0;\n",
              "      width: 32px;\n",
              "    }\n",
              "\n",
              "    .colab-df-convert:hover {\n",
              "      background-color: #E2EBFA;\n",
              "      box-shadow: 0px 1px 2px rgba(60, 64, 67, 0.3), 0px 1px 3px 1px rgba(60, 64, 67, 0.15);\n",
              "      fill: #174EA6;\n",
              "    }\n",
              "\n",
              "    [theme=dark] .colab-df-convert {\n",
              "      background-color: #3B4455;\n",
              "      fill: #D2E3FC;\n",
              "    }\n",
              "\n",
              "    [theme=dark] .colab-df-convert:hover {\n",
              "      background-color: #434B5C;\n",
              "      box-shadow: 0px 1px 3px 1px rgba(0, 0, 0, 0.15);\n",
              "      filter: drop-shadow(0px 1px 2px rgba(0, 0, 0, 0.3));\n",
              "      fill: #FFFFFF;\n",
              "    }\n",
              "  </style>\n",
              "\n",
              "      <script>\n",
              "        const buttonEl =\n",
              "          document.querySelector('#df-147f0be7-8731-4eb0-9bf4-f3aa5b4cf34e button.colab-df-convert');\n",
              "        buttonEl.style.display =\n",
              "          google.colab.kernel.accessAllowed ? 'block' : 'none';\n",
              "\n",
              "        async function convertToInteractive(key) {\n",
              "          const element = document.querySelector('#df-147f0be7-8731-4eb0-9bf4-f3aa5b4cf34e');\n",
              "          const dataTable =\n",
              "            await google.colab.kernel.invokeFunction('convertToInteractive',\n",
              "                                                     [key], {});\n",
              "          if (!dataTable) return;\n",
              "\n",
              "          const docLinkHtml = 'Like what you see? Visit the ' +\n",
              "            '<a target=\"_blank\" href=https://colab.research.google.com/notebooks/data_table.ipynb>data table notebook</a>'\n",
              "            + ' to learn more about interactive tables.';\n",
              "          element.innerHTML = '';\n",
              "          dataTable['output_type'] = 'display_data';\n",
              "          await google.colab.output.renderOutput(dataTable, element);\n",
              "          const docLink = document.createElement('div');\n",
              "          docLink.innerHTML = docLinkHtml;\n",
              "          element.appendChild(docLink);\n",
              "        }\n",
              "      </script>\n",
              "    </div>\n",
              "  </div>\n",
              "  "
            ]
          },
          "metadata": {},
          "execution_count": 181
        }
      ]
    },
    {
      "cell_type": "markdown",
      "source": [
        "####Remove columns with NaNs"
      ],
      "metadata": {
        "id": "lJSNgKm1ulDs"
      }
    },
    {
      "cell_type": "code",
      "source": [
        "df2 = df.iloc[:,0:32]"
      ],
      "metadata": {
        "id": "cCPZT1xiuo2g"
      },
      "execution_count": null,
      "outputs": []
    },
    {
      "cell_type": "code",
      "source": [
        "df2.to_csv('/content/drive/MyDrive/Projekty/Walt Disney Movies/WaltDisneyMovies_final.csv')"
      ],
      "metadata": {
        "id": "yn3l0zqurrk0"
      },
      "execution_count": null,
      "outputs": []
    },
    {
      "cell_type": "code",
      "source": [
        "df2.info()"
      ],
      "metadata": {
        "colab": {
          "base_uri": "https://localhost:8080/"
        },
        "id": "w2bnjtTRr9nv",
        "outputId": "6c370104-5e1a-4f61-9e36-76a4cfb3cfa3"
      },
      "execution_count": null,
      "outputs": [
        {
          "output_type": "stream",
          "name": "stdout",
          "text": [
            "<class 'pandas.core.frame.DataFrame'>\n",
            "RangeIndex: 522 entries, 0 to 521\n",
            "Data columns (total 32 columns):\n",
            " #   Column                    Non-Null Count  Dtype  \n",
            "---  ------                    --------------  -----  \n",
            " 0   title                     522 non-null    object \n",
            " 1   Directed by               518 non-null    object \n",
            " 2   Written by                212 non-null    object \n",
            " 3   Based on                  286 non-null    object \n",
            " 4   Produced by               509 non-null    object \n",
            " 5   Starring                  483 non-null    object \n",
            " 6   Music by                  513 non-null    object \n",
            " 7   Production company        210 non-null    object \n",
            " 8   Distributed by            520 non-null    object \n",
            " 9   Release dates             186 non-null    object \n",
            " 10  Running time              506 non-null    object \n",
            " 11  Country                   462 non-null    object \n",
            " 12  Language                  498 non-null    object \n",
            " 13  Budget                    323 non-null    object \n",
            " 14  Box office                403 non-null    object \n",
            " 15  Running time [min]        506 non-null    float64\n",
            " 16  Budget [$]                314 non-null    float64\n",
            " 17  Box office [$]            392 non-null    float64\n",
            " 18  Release date (formatted)  326 non-null    object \n",
            " 19  IMDb                      522 non-null    object \n",
            " 20  Metascore                 522 non-null    object \n",
            " 21  RottenTomatoes            378 non-null    object \n",
            " 22  Story by                  177 non-null    object \n",
            " 23  Narrated by               63 non-null     object \n",
            " 24  Cinematography            396 non-null    object \n",
            " 25  Release date              331 non-null    object \n",
            " 26  Edited by                 475 non-null    object \n",
            " 27  Languages                 22 non-null     object \n",
            " 28  Screenplay by             262 non-null    object \n",
            " 29  Countries                 54 non-null     object \n",
            " 30  Color process             7 non-null      object \n",
            " 31  Production companies      309 non-null    object \n",
            "dtypes: float64(3), object(29)\n",
            "memory usage: 130.6+ KB\n"
          ]
        }
      ]
    }
  ]
}